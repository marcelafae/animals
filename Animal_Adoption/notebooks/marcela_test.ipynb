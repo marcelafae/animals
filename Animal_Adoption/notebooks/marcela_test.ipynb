{
 "cells": [
  {
   "cell_type": "code",
   "execution_count": 11,
   "id": "5f188a04",
   "metadata": {
    "ExecuteTime": {
     "end_time": "2023-03-09T11:51:16.738260Z",
     "start_time": "2023-03-09T11:51:16.102255Z"
    },
    "tags": []
   },
   "outputs": [
    {
     "name": "stdout",
     "output_type": "stream",
     "text": [
      "The autoreload extension is already loaded. To reload it, use:\n",
      "  %reload_ext autoreload\n"
     ]
    }
   ],
   "source": [
    "%load_ext autoreload\n",
    "%autoreload 2\n",
    "\n",
    "\n",
    "import sys\n",
    "import urllib.parse\n",
    "from Animal_Adoption.preproc import data_dog, data\n",
    "import pandas as pd\n",
    "import requests\n",
    "import matplotlib as plt\n",
    "import seaborn as sns\n",
    "pd.set_option('display.max_rows', None)"
   ]
  },
  {
   "cell_type": "code",
   "execution_count": null,
   "id": "203a798a-7d28-45d1-be6f-695d12bf3cf5",
   "metadata": {
    "tags": []
   },
   "outputs": [],
   "source": []
  },
  {
   "cell_type": "code",
   "execution_count": 12,
   "id": "be46b611-32c8-4899-b982-f6069ecffd02",
   "metadata": {
    "tags": []
   },
   "outputs": [],
   "source": [
    "df = data_dog.get_data_dogs()\n"
   ]
  },
  {
   "cell_type": "code",
   "execution_count": 13,
   "id": "0b81dd80-72d9-40fe-9123-c20812d5adbf",
   "metadata": {
    "tags": []
   },
   "outputs": [
    {
     "data": {
      "text/plain": [
       "0"
      ]
     },
     "execution_count": 13,
     "metadata": {},
     "output_type": "execute_result"
    }
   ],
   "source": [
    "df['breed'].isnull().sum()"
   ]
  },
  {
   "cell_type": "code",
   "execution_count": 14,
   "id": "2c5b06f0-e522-4525-a691-ffed0a385b93",
   "metadata": {
    "tags": []
   },
   "outputs": [
    {
     "data": {
      "text/plain": [
       "(45366, 18)"
      ]
     },
     "execution_count": 14,
     "metadata": {},
     "output_type": "execute_result"
    }
   ],
   "source": [
    "df.shape\n"
   ]
  },
  {
   "cell_type": "code",
   "execution_count": null,
   "id": "92035bde-c066-4c8e-87a7-4bdcea4aec3b",
   "metadata": {
    "tags": []
   },
   "outputs": [],
   "source": []
  },
  {
   "cell_type": "markdown",
   "id": "87889176-a7d4-4b29-b433-7d859ba80825",
   "metadata": {
    "tags": []
   },
   "source": [
    "# About the API for dogs"
   ]
  },
  {
   "cell_type": "code",
   "execution_count": 5,
   "id": "959c58fa-213f-4e69-ab93-835cc692bb94",
   "metadata": {
    "jupyter": {
     "source_hidden": true
    },
    "tags": []
   },
   "outputs": [
    {
     "name": "stdout",
     "output_type": "stream",
     "text": [
      "[{\"image_link\": \"https://api-ninjas.com/images/dogs/golden_retriever.jpg\", \"good_with_children\": 5, \"good_with_other_dogs\": 5, \"shedding\": 4, \"grooming\": 2, \"drooling\": 2, \"coat_length\": 1, \"good_with_strangers\": 5, \"playfulness\": 4, \"protectiveness\": 3, \"trainability\": 5, \"energy\": 3, \"barking\": 1, \"min_life_expectancy\": 10.0, \"max_life_expectancy\": 12.0, \"max_height_male\": 24.0, \"max_height_female\": 24.0, \"max_weight_male\": 75.0, \"max_weight_female\": 65.0, \"min_height_male\": 23.0, \"min_height_female\": 23.0, \"min_weight_male\": 65.0, \"min_weight_female\": 55.0, \"name\": \"Golden Retriever\"}]\n"
     ]
    }
   ],
   "source": [
    "import requests\n",
    "name = 'golden retriever'\n",
    "api_url = 'https://api.api-ninjas.com/v1/dogs?name={}'.format(name)\n",
    "response = requests.get(api_url, headers={'X-Api-Key': 'T1uOOYf5geCLwn8dpS8SMQ==HaH3Ky5bHqTqh3IS'})\n",
    "if response.status_code == requests.codes.ok:\n",
    "    print(response.text)\n",
    "else:\n",
    "    print(\"Error:\", response.status_code, response.text)"
   ]
  },
  {
   "cell_type": "code",
   "execution_count": 6,
   "id": "c5774ddd",
   "metadata": {
    "tags": []
   },
   "outputs": [],
   "source": [
    "\n",
    "def get_breeds_info(name:str):\n",
    "    # Make a request to the API to get information about dog breeds\n",
    "    api_url = 'https://api.api-ninjas.com/v1/dogs?name={}'.format(name)\n",
    "    response = requests.get(api_url, headers={'X-Api-Key': 'T1uOOYf5geCLwn8dpS8SMQ==HaH3Ky5bHqTqh3IS'})\n",
    "    breeds_list = response.json()\n",
    "    dog_breed_dict = breeds_list\n",
    "    \n",
    "    df = pd.DataFrame.from_dict(dog_breed_dict)\n",
    "    \n",
    "    return df\n"
   ]
  },
  {
   "cell_type": "code",
   "execution_count": 7,
   "id": "b8df818a-4288-4138-b67f-2f112fb1e0ef",
   "metadata": {
    "tags": []
   },
   "outputs": [
    {
     "data": {
      "text/html": [
       "<div>\n",
       "<style scoped>\n",
       "    .dataframe tbody tr th:only-of-type {\n",
       "        vertical-align: middle;\n",
       "    }\n",
       "\n",
       "    .dataframe tbody tr th {\n",
       "        vertical-align: top;\n",
       "    }\n",
       "\n",
       "    .dataframe thead th {\n",
       "        text-align: right;\n",
       "    }\n",
       "</style>\n",
       "<table border=\"1\" class=\"dataframe\">\n",
       "  <thead>\n",
       "    <tr style=\"text-align: right;\">\n",
       "      <th></th>\n",
       "      <th>image_link</th>\n",
       "      <th>good_with_children</th>\n",
       "      <th>good_with_other_dogs</th>\n",
       "      <th>shedding</th>\n",
       "      <th>grooming</th>\n",
       "      <th>drooling</th>\n",
       "      <th>coat_length</th>\n",
       "      <th>good_with_strangers</th>\n",
       "      <th>playfulness</th>\n",
       "      <th>protectiveness</th>\n",
       "      <th>...</th>\n",
       "      <th>max_life_expectancy</th>\n",
       "      <th>max_height_male</th>\n",
       "      <th>max_height_female</th>\n",
       "      <th>max_weight_male</th>\n",
       "      <th>max_weight_female</th>\n",
       "      <th>min_height_male</th>\n",
       "      <th>min_height_female</th>\n",
       "      <th>min_weight_male</th>\n",
       "      <th>min_weight_female</th>\n",
       "      <th>name</th>\n",
       "    </tr>\n",
       "  </thead>\n",
       "  <tbody>\n",
       "    <tr>\n",
       "      <th>0</th>\n",
       "      <td>https://api-ninjas.com/images/dogs/labrador_re...</td>\n",
       "      <td>5</td>\n",
       "      <td>5</td>\n",
       "      <td>4</td>\n",
       "      <td>2</td>\n",
       "      <td>2</td>\n",
       "      <td>1</td>\n",
       "      <td>5</td>\n",
       "      <td>5</td>\n",
       "      <td>3</td>\n",
       "      <td>...</td>\n",
       "      <td>12.0</td>\n",
       "      <td>24.5</td>\n",
       "      <td>24.5</td>\n",
       "      <td>80.0</td>\n",
       "      <td>70.0</td>\n",
       "      <td>22.5</td>\n",
       "      <td>22.5</td>\n",
       "      <td>65.0</td>\n",
       "      <td>55.0</td>\n",
       "      <td>Labrador Retriever</td>\n",
       "    </tr>\n",
       "  </tbody>\n",
       "</table>\n",
       "<p>1 rows × 24 columns</p>\n",
       "</div>"
      ],
      "text/plain": [
       "                                          image_link  good_with_children  \\\n",
       "0  https://api-ninjas.com/images/dogs/labrador_re...                   5   \n",
       "\n",
       "   good_with_other_dogs  shedding  grooming  drooling  coat_length  \\\n",
       "0                     5         4         2         2            1   \n",
       "\n",
       "   good_with_strangers  playfulness  protectiveness  ...  max_life_expectancy  \\\n",
       "0                    5            5               3  ...                 12.0   \n",
       "\n",
       "   max_height_male  max_height_female  max_weight_male  max_weight_female  \\\n",
       "0             24.5               24.5             80.0               70.0   \n",
       "\n",
       "   min_height_male  min_height_female  min_weight_male  min_weight_female  \\\n",
       "0             22.5               22.5             65.0               55.0   \n",
       "\n",
       "                 name  \n",
       "0  Labrador Retriever  \n",
       "\n",
       "[1 rows x 24 columns]"
      ]
     },
     "execution_count": 7,
     "metadata": {},
     "output_type": "execute_result"
    }
   ],
   "source": [
    "get_breeds_info('labrador')"
   ]
  },
  {
   "cell_type": "code",
   "execution_count": 15,
   "id": "b76750db-650f-4096-b2c4-77cf14f188d2",
   "metadata": {
    "tags": []
   },
   "outputs": [],
   "source": [
    "test_breed = data_dog.get_breed_dogs(df['breed'])\n",
    "df['breed'] = data_dog.get_breed_dogs(df['breed'])"
   ]
  },
  {
   "cell_type": "code",
   "execution_count": 17,
   "id": "3c5f1025-006e-458d-949d-39aa7805adb0",
   "metadata": {
    "tags": []
   },
   "outputs": [],
   "source": [
    "\n",
    "df['breed'] = df['breed'].map(data_dog.breeds_separated_dogs)"
   ]
  },
  {
   "cell_type": "code",
   "execution_count": null,
   "id": "0abb171d-c2a9-4ccd-8350-26eb1ce4a964",
   "metadata": {},
   "outputs": [],
   "source": []
  },
  {
   "cell_type": "code",
   "execution_count": null,
   "id": "10c1cf05-5555-450a-8922-77e5a5fc63f2",
   "metadata": {
    "tags": []
   },
   "outputs": [],
   "source": [
    "test_breed_sep.head()"
   ]
  },
  {
   "cell_type": "code",
   "execution_count": null,
   "id": "1e769c41-2487-4d50-89ab-21fcb43eaa01",
   "metadata": {
    "tags": []
   },
   "outputs": [],
   "source": [
    "test_breed.shape"
   ]
  },
  {
   "cell_type": "code",
   "execution_count": 18,
   "id": "3a2f939d-49d8-499b-af0f-1938901b4346",
   "metadata": {
    "tags": []
   },
   "outputs": [
    {
     "data": {
      "text/plain": [
       "0"
      ]
     },
     "execution_count": 18,
     "metadata": {},
     "output_type": "execute_result"
    }
   ],
   "source": [
    "df['breed'].isnull().sum()"
   ]
  },
  {
   "cell_type": "code",
   "execution_count": 19,
   "id": "1ed47a4d-40cf-46c8-be81-baa2af9a4e7b",
   "metadata": {},
   "outputs": [],
   "source": [
    "def get_breeds_info_from_dataframe(df):\n",
    "    dic_breed_dic ={}\n",
    "    fail_breed_list = []\n",
    "    for breed_name in df['breed'].unique():\n",
    "        api_url = 'https://api.api-ninjas.com/v1/dogs?name={}'.format(breed_name)\n",
    "        response = requests.get(api_url, headers={'X-Api-Key': 'T1uOOYf5geCLwn8dpS8SMQ==HaH3Ky5bHqTqh3IS'})\n",
    "        response_json = response.json()\n",
    "        # print(response_json\n",
    "        # if response_json:\n",
    "        #     dic_breed_list.append(response_json[0])\n",
    "        if response_json and type(response_json) == list:\n",
    "            dic_breed_dic[breed_name] = response_json[0]\n",
    "        else:\n",
    "            #fail_breed_list.append()\n",
    "            print(fail_breed_list)\n",
    "            print(response_json)\n",
    "            print(type(response_json))\n",
    "            \n",
    "    breed_info = pd.DataFrame(dic_breed_dic.values(), index=dic_breed_dic.keys())\n",
    "    return breed_info\n",
    "\n",
    "      #  breed_info.append(response_df)\n",
    "   # print(breed_info)\n",
    "    #return breed_info"
   ]
  },
  {
   "cell_type": "code",
   "execution_count": null,
   "id": "76cd1447-5704-4efe-8343-3d7cbb8ded57",
   "metadata": {},
   "outputs": [],
   "source": []
  },
  {
   "cell_type": "code",
   "execution_count": 20,
   "id": "cc857f95-917a-404b-a4fa-766b8e4bf83b",
   "metadata": {
    "tags": []
   },
   "outputs": [
    {
     "name": "stdout",
     "output_type": "stream",
     "text": [
      "[]\n",
      "[]\n",
      "<class 'list'>\n",
      "[]\n",
      "[]\n",
      "<class 'list'>\n",
      "[]\n",
      "[]\n",
      "<class 'list'>\n",
      "[]\n",
      "[]\n",
      "<class 'list'>\n",
      "[]\n",
      "[]\n",
      "<class 'list'>\n",
      "[]\n",
      "[]\n",
      "<class 'list'>\n",
      "[]\n",
      "[]\n",
      "<class 'list'>\n",
      "[]\n",
      "[]\n",
      "<class 'list'>\n",
      "[]\n",
      "[]\n",
      "<class 'list'>\n",
      "[]\n",
      "[]\n",
      "<class 'list'>\n",
      "[]\n",
      "[]\n",
      "<class 'list'>\n",
      "[]\n",
      "[]\n",
      "<class 'list'>\n",
      "[]\n",
      "[]\n",
      "<class 'list'>\n",
      "[]\n",
      "[]\n",
      "<class 'list'>\n",
      "[]\n",
      "[]\n",
      "<class 'list'>\n",
      "[]\n",
      "[]\n",
      "<class 'list'>\n",
      "[]\n",
      "[]\n",
      "<class 'list'>\n",
      "[]\n",
      "[]\n",
      "<class 'list'>\n",
      "[]\n",
      "[]\n",
      "<class 'list'>\n",
      "[]\n",
      "[]\n",
      "<class 'list'>\n",
      "[]\n",
      "[]\n",
      "<class 'list'>\n",
      "[]\n",
      "[]\n",
      "<class 'list'>\n",
      "[]\n",
      "[]\n",
      "<class 'list'>\n",
      "[]\n",
      "[]\n",
      "<class 'list'>\n",
      "[]\n",
      "[]\n",
      "<class 'list'>\n",
      "[]\n",
      "[]\n",
      "<class 'list'>\n",
      "[]\n",
      "[]\n",
      "<class 'list'>\n",
      "[]\n",
      "[]\n",
      "<class 'list'>\n",
      "[]\n",
      "[]\n",
      "<class 'list'>\n",
      "[]\n",
      "[]\n",
      "<class 'list'>\n"
     ]
    }
   ],
   "source": [
    "info_about_breed = get_breeds_info_from_dataframe(df)\n",
    "#takes too long to do so it is commented"
   ]
  },
  {
   "cell_type": "code",
   "execution_count": null,
   "id": "cf5cc5f7-0746-4056-8a17-6fc14ea30fa1",
   "metadata": {
    "jupyter": {
     "source_hidden": true
    },
    "tags": []
   },
   "outputs": [],
   "source": [
    "info_about_breed.head()"
   ]
  },
  {
   "cell_type": "markdown",
   "id": "5f1bfd8a-2879-4629-b195-bf557616a00b",
   "metadata": {},
   "source": [
    "## to save the results into a csv"
   ]
  },
  {
   "cell_type": "code",
   "execution_count": 29,
   "id": "5a782e40-a523-4cba-af8d-8637f901f5c1",
   "metadata": {
    "tags": []
   },
   "outputs": [],
   "source": [
    "# try_test.to_csv('120_doggos_breed.csv', index=False)\n",
    "#test_merge.to_csv('final_info_breeds_api.csv')\n"
   ]
  },
  {
   "cell_type": "code",
   "execution_count": null,
   "id": "5b4f10e4-0719-4e49-9a23-386429493f38",
   "metadata": {
    "tags": []
   },
   "outputs": [],
   "source": [
    "# info_about_breed.to_csv('info_about_breed.csv', index=False)"
   ]
  },
  {
   "cell_type": "code",
   "execution_count": null,
   "id": "ac427dd0-9454-44ae-87ee-d8e869fddc5c",
   "metadata": {
    "tags": []
   },
   "outputs": [],
   "source": [
    "# breed_info_doggos"
   ]
  },
  {
   "cell_type": "markdown",
   "id": "197984c1-67ce-4cec-888b-c6309db7af66",
   "metadata": {},
   "source": [
    "## merging 2 dataframes"
   ]
  },
  {
   "cell_type": "code",
   "execution_count": null,
   "id": "b5c3e17c-77c2-400b-a4d7-e853e1a9f843",
   "metadata": {
    "tags": []
   },
   "outputs": [],
   "source": [
    "df.shape"
   ]
  },
  {
   "cell_type": "code",
   "execution_count": 22,
   "id": "4f58851a-7424-4bdc-ade9-191d3414a8bd",
   "metadata": {
    "tags": []
   },
   "outputs": [
    {
     "data": {
      "text/plain": [
       "(160, 24)"
      ]
     },
     "execution_count": 22,
     "metadata": {},
     "output_type": "execute_result"
    }
   ],
   "source": [
    "info_about_breed.shape"
   ]
  },
  {
   "cell_type": "code",
   "execution_count": 23,
   "id": "96a3c8ee-418e-4414-a7fb-fa89f0cd8438",
   "metadata": {
    "tags": []
   },
   "outputs": [],
   "source": [
    "#merged_df = pd.merge(df, info_about_breed, left_on='breed', right_index=True)\n",
    "test_merge = df.merge(info_about_breed.reset_index(names='breed'), on='breed', how='outer')"
   ]
  },
  {
   "cell_type": "code",
   "execution_count": 24,
   "id": "51388210-e544-4bbb-9fd4-ae07d838a86a",
   "metadata": {
    "tags": []
   },
   "outputs": [
    {
     "data": {
      "text/plain": [
       "(45366, 42)"
      ]
     },
     "execution_count": 24,
     "metadata": {},
     "output_type": "execute_result"
    }
   ],
   "source": [
    "test_merge.shape"
   ]
  },
  {
   "cell_type": "code",
   "execution_count": 28,
   "id": "297a1131-6075-44bc-9221-6c96f552e7c3",
   "metadata": {
    "tags": []
   },
   "outputs": [
    {
     "data": {
      "text/plain": [
       "8859"
      ]
     },
     "execution_count": 28,
     "metadata": {},
     "output_type": "execute_result"
    }
   ],
   "source": [
    "test_merge['max_weight_female'].isnull().sum()"
   ]
  },
  {
   "cell_type": "code",
   "execution_count": null,
   "id": "d3006392-8eaf-45bc-bdd0-b360b9f16e9a",
   "metadata": {
    "tags": []
   },
   "outputs": [],
   "source": []
  },
  {
   "cell_type": "code",
   "execution_count": null,
   "id": "3b566dee-d6c2-4150-9407-4a6b112393fc",
   "metadata": {},
   "outputs": [],
   "source": []
  },
  {
   "cell_type": "code",
   "execution_count": null,
   "id": "1b7bbfa0-5bd6-414b-9e34-5d006637c628",
   "metadata": {
    "jupyter": {
     "source_hidden": true
    },
    "tags": []
   },
   "outputs": [],
   "source": []
  }
 ],
 "metadata": {
  "kernelspec": {
   "display_name": "Python 3 (ipykernel)",
   "language": "python",
   "name": "python3"
  },
  "language_info": {
   "codemirror_mode": {
    "name": "ipython",
    "version": 3
   },
   "file_extension": ".py",
   "mimetype": "text/x-python",
   "name": "python",
   "nbconvert_exporter": "python",
   "pygments_lexer": "ipython3",
   "version": "3.10.6"
  },
  "toc": {
   "base_numbering": 1,
   "nav_menu": {},
   "number_sections": true,
   "sideBar": true,
   "skip_h1_title": false,
   "title_cell": "Table of Contents",
   "title_sidebar": "Contents",
   "toc_cell": false,
   "toc_position": {},
   "toc_section_display": true,
   "toc_window_display": false
  }
 },
 "nbformat": 4,
 "nbformat_minor": 5
}
