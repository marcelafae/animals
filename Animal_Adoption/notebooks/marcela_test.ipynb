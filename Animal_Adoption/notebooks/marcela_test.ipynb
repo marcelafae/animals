{
 "cells": [
  {
   "cell_type": "code",
   "execution_count": 1,
   "id": "2ce486ea",
   "metadata": {
    "ExecuteTime": {
     "end_time": "2023-03-09T11:02:34.402505Z",
     "start_time": "2023-03-09T11:02:34.399465Z"
    }
   },
   "outputs": [],
   "source": [
    "from Animal_Adoption.preproc.data import get_data\n"
   ]
  },
  {
   "cell_type": "code",
   "execution_count": 3,
   "id": "b41bf56b",
   "metadata": {
    "ExecuteTime": {
     "end_time": "2023-03-09T11:04:02.206494Z",
     "start_time": "2023-03-09T11:03:57.375204Z"
    }
   },
   "outputs": [],
   "source": [
    "df = get_data()"
   ]
  },
  {
   "cell_type": "code",
   "execution_count": 4,
   "id": "f12029b9",
   "metadata": {
    "ExecuteTime": {
     "end_time": "2023-03-09T11:04:02.272558Z",
     "start_time": "2023-03-09T11:04:02.209792Z"
    }
   },
   "outputs": [
    {
     "data": {
      "text/html": [
       "<div>\n",
       "<style scoped>\n",
       "    .dataframe tbody tr th:only-of-type {\n",
       "        vertical-align: middle;\n",
       "    }\n",
       "\n",
       "    .dataframe tbody tr th {\n",
       "        vertical-align: top;\n",
       "    }\n",
       "\n",
       "    .dataframe thead th {\n",
       "        text-align: right;\n",
       "    }\n",
       "</style>\n",
       "<table border=\"1\" class=\"dataframe\">\n",
       "  <thead>\n",
       "    <tr style=\"text-align: right;\">\n",
       "      <th></th>\n",
       "      <th>age_upon_outcome</th>\n",
       "      <th>animal_id_outcome</th>\n",
       "      <th>date_of_birth</th>\n",
       "      <th>outcome_type</th>\n",
       "      <th>sex_upon_outcome</th>\n",
       "      <th>age_upon_outcome_(days)</th>\n",
       "      <th>age_upon_outcome_(years)</th>\n",
       "      <th>outcome_datetime</th>\n",
       "      <th>outcome_month</th>\n",
       "      <th>outcome_year</th>\n",
       "      <th>outcome_monthyear</th>\n",
       "      <th>outcome_weekday</th>\n",
       "      <th>outcome_hour</th>\n",
       "      <th>age_upon_intake</th>\n",
       "      <th>animal_id_intake</th>\n",
       "      <th>animal_type</th>\n",
       "      <th>breed</th>\n",
       "      <th>color</th>\n",
       "      <th>intake_condition</th>\n",
       "      <th>sex_upon_intake</th>\n",
       "      <th>count</th>\n",
       "      <th>age_upon_intake_(days)</th>\n",
       "      <th>age_upon_intake_(years)</th>\n",
       "      <th>intake_datetime</th>\n",
       "      <th>intake_month</th>\n",
       "      <th>intake_year</th>\n",
       "      <th>intake_monthyear</th>\n",
       "      <th>intake_weekday</th>\n",
       "      <th>intake_hour</th>\n",
       "      <th>intake_number</th>\n",
       "      <th>sex_type</th>\n",
       "      <th>sex</th>\n",
       "    </tr>\n",
       "  </thead>\n",
       "  <tbody>\n",
       "    <tr>\n",
       "      <th>0</th>\n",
       "      <td>10 years</td>\n",
       "      <td>A006100</td>\n",
       "      <td>2007-07-09</td>\n",
       "      <td>Return to Owner</td>\n",
       "      <td>Neutered Male</td>\n",
       "      <td>3650</td>\n",
       "      <td>10.0</td>\n",
       "      <td>2017-12-07 14:07:00</td>\n",
       "      <td>12</td>\n",
       "      <td>2017</td>\n",
       "      <td>2017-12</td>\n",
       "      <td>Thursday</td>\n",
       "      <td>0</td>\n",
       "      <td>10 years</td>\n",
       "      <td>A006100</td>\n",
       "      <td>Dog</td>\n",
       "      <td>uncommon</td>\n",
       "      <td>Beige/White</td>\n",
       "      <td>Normal</td>\n",
       "      <td>Neutered Male</td>\n",
       "      <td>1</td>\n",
       "      <td>3650</td>\n",
       "      <td>10.0</td>\n",
       "      <td>2017-12-07 00:00:00</td>\n",
       "      <td>12</td>\n",
       "      <td>2017</td>\n",
       "      <td>2017-12</td>\n",
       "      <td>Thursday</td>\n",
       "      <td>14</td>\n",
       "      <td>1.0</td>\n",
       "      <td>Neutered</td>\n",
       "      <td>Male</td>\n",
       "    </tr>\n",
       "    <tr>\n",
       "      <th>3</th>\n",
       "      <td>10 years</td>\n",
       "      <td>A047759</td>\n",
       "      <td>2004-04-02</td>\n",
       "      <td>Transfer</td>\n",
       "      <td>Neutered Male</td>\n",
       "      <td>3650</td>\n",
       "      <td>10.0</td>\n",
       "      <td>2014-04-07 15:12:00</td>\n",
       "      <td>4</td>\n",
       "      <td>2014</td>\n",
       "      <td>2014-04</td>\n",
       "      <td>Monday</td>\n",
       "      <td>15</td>\n",
       "      <td>10 years</td>\n",
       "      <td>A047759</td>\n",
       "      <td>Dog</td>\n",
       "      <td>small</td>\n",
       "      <td>Tricolor</td>\n",
       "      <td>Normal</td>\n",
       "      <td>Neutered Male</td>\n",
       "      <td>1</td>\n",
       "      <td>3650</td>\n",
       "      <td>10.0</td>\n",
       "      <td>2014-04-02 15:55:00</td>\n",
       "      <td>4</td>\n",
       "      <td>2014</td>\n",
       "      <td>2014-04</td>\n",
       "      <td>Wednesday</td>\n",
       "      <td>15</td>\n",
       "      <td>1.0</td>\n",
       "      <td>Neutered</td>\n",
       "      <td>Male</td>\n",
       "    </tr>\n",
       "    <tr>\n",
       "      <th>4</th>\n",
       "      <td>16 years</td>\n",
       "      <td>A134067</td>\n",
       "      <td>1997-10-16</td>\n",
       "      <td>Return to Owner</td>\n",
       "      <td>Neutered Male</td>\n",
       "      <td>5840</td>\n",
       "      <td>16.0</td>\n",
       "      <td>2013-11-16 11:54:00</td>\n",
       "      <td>11</td>\n",
       "      <td>2013</td>\n",
       "      <td>2013-11</td>\n",
       "      <td>Saturday</td>\n",
       "      <td>11</td>\n",
       "      <td>16 years</td>\n",
       "      <td>A134067</td>\n",
       "      <td>Dog</td>\n",
       "      <td>uncommon</td>\n",
       "      <td>Brown/White</td>\n",
       "      <td>Injured</td>\n",
       "      <td>Neutered Male</td>\n",
       "      <td>1</td>\n",
       "      <td>5840</td>\n",
       "      <td>16.0</td>\n",
       "      <td>2013-11-16 09:02:00</td>\n",
       "      <td>11</td>\n",
       "      <td>2013</td>\n",
       "      <td>2013-11</td>\n",
       "      <td>Saturday</td>\n",
       "      <td>9</td>\n",
       "      <td>1.0</td>\n",
       "      <td>Neutered</td>\n",
       "      <td>Male</td>\n",
       "    </tr>\n",
       "    <tr>\n",
       "      <th>5</th>\n",
       "      <td>15 years</td>\n",
       "      <td>A141142</td>\n",
       "      <td>1998-06-01</td>\n",
       "      <td>Return to Owner</td>\n",
       "      <td>Spayed Female</td>\n",
       "      <td>5475</td>\n",
       "      <td>15.0</td>\n",
       "      <td>2013-11-17 11:40:00</td>\n",
       "      <td>11</td>\n",
       "      <td>2013</td>\n",
       "      <td>2013-11</td>\n",
       "      <td>Sunday</td>\n",
       "      <td>11</td>\n",
       "      <td>15 years</td>\n",
       "      <td>A141142</td>\n",
       "      <td>Dog</td>\n",
       "      <td>small</td>\n",
       "      <td>Black/White</td>\n",
       "      <td>Aged</td>\n",
       "      <td>Spayed Female</td>\n",
       "      <td>1</td>\n",
       "      <td>5475</td>\n",
       "      <td>15.0</td>\n",
       "      <td>2013-11-16 14:46:00</td>\n",
       "      <td>11</td>\n",
       "      <td>2013</td>\n",
       "      <td>2013-11</td>\n",
       "      <td>Saturday</td>\n",
       "      <td>14</td>\n",
       "      <td>1.0</td>\n",
       "      <td>Neutered</td>\n",
       "      <td>Female</td>\n",
       "    </tr>\n",
       "    <tr>\n",
       "      <th>6</th>\n",
       "      <td>15 years</td>\n",
       "      <td>A163459</td>\n",
       "      <td>1999-10-19</td>\n",
       "      <td>Return to Owner</td>\n",
       "      <td>Intact Female</td>\n",
       "      <td>5475</td>\n",
       "      <td>15.0</td>\n",
       "      <td>2014-11-14 19:28:00</td>\n",
       "      <td>11</td>\n",
       "      <td>2014</td>\n",
       "      <td>2014-11</td>\n",
       "      <td>Friday</td>\n",
       "      <td>19</td>\n",
       "      <td>15 years</td>\n",
       "      <td>A163459</td>\n",
       "      <td>Dog</td>\n",
       "      <td>small</td>\n",
       "      <td>Black/Gray</td>\n",
       "      <td>Normal</td>\n",
       "      <td>Intact Female</td>\n",
       "      <td>1</td>\n",
       "      <td>5475</td>\n",
       "      <td>15.0</td>\n",
       "      <td>2014-11-14 15:11:00</td>\n",
       "      <td>11</td>\n",
       "      <td>2014</td>\n",
       "      <td>2014-11</td>\n",
       "      <td>Friday</td>\n",
       "      <td>15</td>\n",
       "      <td>1.0</td>\n",
       "      <td>Intact</td>\n",
       "      <td>Female</td>\n",
       "    </tr>\n",
       "  </tbody>\n",
       "</table>\n",
       "</div>"
      ],
      "text/plain": [
       "  age_upon_outcome animal_id_outcome  ...  sex_type     sex\n",
       "0         10 years           A006100  ...  Neutered    Male\n",
       "3         10 years           A047759  ...  Neutered    Male\n",
       "4         16 years           A134067  ...  Neutered    Male\n",
       "5         15 years           A141142  ...  Neutered  Female\n",
       "6         15 years           A163459  ...    Intact  Female\n",
       "\n",
       "[5 rows x 32 columns]"
      ]
     },
     "execution_count": 4,
     "metadata": {},
     "output_type": "execute_result"
    }
   ],
   "source": [
    "df.head()"
   ]
  },
  {
   "cell_type": "code",
   "execution_count": 9,
   "id": "0b7032a5",
   "metadata": {
    "ExecuteTime": {
     "end_time": "2023-03-09T11:08:19.202024Z",
     "start_time": "2023-03-09T11:08:19.199325Z"
    }
   },
   "outputs": [],
   "source": [
    "import numpy as np"
   ]
  },
  {
   "cell_type": "code",
   "execution_count": 20,
   "id": "6e262d99",
   "metadata": {
    "ExecuteTime": {
     "end_time": "2023-03-09T11:13:02.956232Z",
     "start_time": "2023-03-09T11:13:02.921453Z"
    }
   },
   "outputs": [],
   "source": [
    "colors = df['color'].map(lambda x: \" \".join(x.split(\"/\")))"
   ]
  },
  {
   "cell_type": "code",
   "execution_count": 21,
   "id": "68eb1833",
   "metadata": {
    "ExecuteTime": {
     "end_time": "2023-03-09T11:13:09.164911Z",
     "start_time": "2023-03-09T11:13:09.158468Z"
    }
   },
   "outputs": [
    {
     "data": {
      "text/plain": [
       "0        Beige White\n",
       "3           Tricolor\n",
       "4        Brown White\n",
       "5        Black White\n",
       "6         Black Gray\n",
       "            ...     \n",
       "79665           Gray\n",
       "79666           Gray\n",
       "79667        Striped\n",
       "79670    Black White\n",
       "79671        Striped\n",
       "Name: color, Length: 67211, dtype: object"
      ]
     },
     "execution_count": 21,
     "metadata": {},
     "output_type": "execute_result"
    }
   ],
   "source": [
    "colors"
   ]
  },
  {
   "cell_type": "code",
   "execution_count": 24,
   "id": "a587c088",
   "metadata": {
    "ExecuteTime": {
     "end_time": "2023-03-09T11:14:02.862695Z",
     "start_time": "2023-03-09T11:14:02.635604Z"
    }
   },
   "outputs": [],
   "source": [
    "from sklearn.feature_extraction.text import CountVectorizer\n",
    "vectorizer = CountVectorizer()\n",
    "X = vectorizer.fit_transform(colors)\n",
    "arr = X.toarray()\n"
   ]
  },
  {
   "cell_type": "code",
   "execution_count": 25,
   "id": "aa755713",
   "metadata": {
    "ExecuteTime": {
     "end_time": "2023-03-09T11:14:06.962308Z",
     "start_time": "2023-03-09T11:14:06.957855Z"
    }
   },
   "outputs": [
    {
     "data": {
      "text/plain": [
       "(67211, 11)"
      ]
     },
     "execution_count": 25,
     "metadata": {},
     "output_type": "execute_result"
    }
   ],
   "source": [
    "arr.shape"
   ]
  },
  {
   "cell_type": "code",
   "execution_count": 26,
   "id": "2959aa34",
   "metadata": {
    "ExecuteTime": {
     "end_time": "2023-03-09T11:14:20.069214Z",
     "start_time": "2023-03-09T11:14:20.064370Z"
    }
   },
   "outputs": [
    {
     "data": {
      "text/plain": [
       "array(['beige', 'black', 'brown', 'gray', 'orange', 'point', 'smoke',\n",
       "       'spotted', 'striped', 'tricolor', 'white'], dtype=object)"
      ]
     },
     "execution_count": 26,
     "metadata": {},
     "output_type": "execute_result"
    }
   ],
   "source": [
    "vectorizer.get_feature_names_out()"
   ]
  },
  {
   "cell_type": "code",
   "execution_count": null,
   "id": "749767e0",
   "metadata": {},
   "outputs": [],
   "source": []
  }
 ],
 "metadata": {
  "kernelspec": {
   "display_name": "Python 3 (ipykernel)",
   "language": "python",
   "name": "python3"
  },
  "language_info": {
   "codemirror_mode": {
    "name": "ipython",
    "version": 3
   },
   "file_extension": ".py",
   "mimetype": "text/x-python",
   "name": "python",
   "nbconvert_exporter": "python",
   "pygments_lexer": "ipython3",
   "version": "3.10.6"
  },
  "toc": {
   "base_numbering": 1,
   "nav_menu": {},
   "number_sections": true,
   "sideBar": true,
   "skip_h1_title": false,
   "title_cell": "Table of Contents",
   "title_sidebar": "Contents",
   "toc_cell": false,
   "toc_position": {},
   "toc_section_display": true,
   "toc_window_display": false
  }
 },
 "nbformat": 4,
 "nbformat_minor": 5
}
