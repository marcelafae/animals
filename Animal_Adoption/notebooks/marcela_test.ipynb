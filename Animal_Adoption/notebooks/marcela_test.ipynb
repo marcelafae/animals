{
 "cells": [
  {
   "cell_type": "code",
   "execution_count": 2,
   "id": "5f188a04",
   "metadata": {
    "ExecuteTime": {
     "end_time": "2023-03-09T11:51:16.738260Z",
     "start_time": "2023-03-09T11:51:16.102255Z"
    },
    "tags": []
   },
   "outputs": [
    {
     "name": "stdout",
     "output_type": "stream",
     "text": [
      "The autoreload extension is already loaded. To reload it, use:\n",
      "  %reload_ext autoreload\n"
     ]
    }
   ],
   "source": [
    "%load_ext autoreload\n",
    "%autoreload 2\n",
    "\n",
    "\n",
    "import sys\n",
    "import urllib.parse\n",
    "\n",
    "\n",
    "from Animal_Adoption.preproc import data, data_cats, data_dog\n",
    "import pandas as pd\n",
    "import requests\n",
    "pd.set_option('display.max_rows', None)"
   ]
  },
  {
   "cell_type": "code",
   "execution_count": null,
   "id": "8a396123",
   "metadata": {
    "ExecuteTime": {
     "end_time": "2023-03-09T11:51:21.470155Z",
     "start_time": "2023-03-09T11:51:16.740915Z"
    },
    "tags": []
   },
   "outputs": [],
   "source": []
  },
  {
   "cell_type": "code",
   "execution_count": null,
   "id": "7c7e988a-6e6f-4dfd-a8e6-590bfaa1fd63",
   "metadata": {
    "tags": []
   },
   "outputs": [],
   "source": []
  },
  {
   "cell_type": "code",
   "execution_count": 5,
   "id": "203a798a-7d28-45d1-be6f-695d12bf3cf5",
   "metadata": {
    "tags": []
   },
   "outputs": [],
   "source": [
    "df = pd.read_csv('/Users/marcela/code/marcelafae/animals/raw_data/aac_intakes_outcomes.csv')"
   ]
  },
  {
   "cell_type": "code",
   "execution_count": 6,
   "id": "be46b611-32c8-4899-b982-f6069ecffd02",
   "metadata": {
    "tags": []
   },
   "outputs": [],
   "source": [
    "df1 = data_dog.get_data()"
   ]
  },
  {
   "cell_type": "code",
   "execution_count": 7,
   "id": "a7cf7315-1c55-4a1b-8194-8b761c7cc74e",
   "metadata": {
    "tags": []
   },
   "outputs": [
    {
     "ename": "TypeError",
     "evalue": "get_breed() missing 1 required positional argument: 'series'",
     "output_type": "error",
     "traceback": [
      "\u001b[0;31m---------------------------------------------------------------------------\u001b[0m",
      "\u001b[0;31mTypeError\u001b[0m                                 Traceback (most recent call last)",
      "Cell \u001b[0;32mIn[7], line 1\u001b[0m\n\u001b[0;32m----> 1\u001b[0m df2 \u001b[38;5;241m=\u001b[39m \u001b[43mdata_dog\u001b[49m\u001b[38;5;241;43m.\u001b[39;49m\u001b[43mget_breed\u001b[49m\u001b[43m(\u001b[49m\u001b[43m)\u001b[49m\n",
      "\u001b[0;31mTypeError\u001b[0m: get_breed() missing 1 required positional argument: 'series'"
     ]
    }
   ],
   "source": []
  },
  {
   "cell_type": "code",
   "execution_count": null,
   "id": "0b81dd80-72d9-40fe-9123-c20812d5adbf",
   "metadata": {},
   "outputs": [],
   "source": []
  },
  {
   "cell_type": "code",
   "execution_count": null,
   "id": "92035bde-c066-4c8e-87a7-4bdcea4aec3b",
   "metadata": {},
   "outputs": [],
   "source": []
  },
  {
   "cell_type": "markdown",
   "id": "87889176-a7d4-4b29-b433-7d859ba80825",
   "metadata": {
    "tags": []
   },
   "source": [
    "# About the API for dogs"
   ]
  },
  {
   "cell_type": "code",
   "execution_count": null,
   "id": "2ba5eca7",
   "metadata": {},
   "outputs": [],
   "source": [
    "name = 'golden retriever'\n",
    "api_url = 'https://api.api-ninjas.com/v1/dogs?name={}'.format(name)\n",
    "response = requests.get(api_url, headers={'X-Api-Key': 'T1uOOYf5geCLwn8dpS8SMQ==HaH3Ky5bHqTqh3IS'})\n",
    "if response.status_code == requests.codes.ok:\n",
    "    print(response.text)\n",
    "else:\n",
    "    print(\"Error:\", response.status_code, response.text)"
   ]
  },
  {
   "cell_type": "code",
   "execution_count": null,
   "id": "c5774ddd",
   "metadata": {},
   "outputs": [],
   "source": [
    "\n",
    "def get_breeds_info(name:str):\n",
    "    # Make a request to the API to get information about dog breeds\n",
    "    api_url = 'https://api.api-ninjas.com/v1/dogs?name={}'.format(name)\n",
    "    response = requests.get(api_url, headers={'X-Api-Key': 'T1uOOYf5geCLwn8dpS8SMQ==HaH3Ky5bHqTqh3IS'})\n",
    "    breeds_list = response.json()\n",
    "    dog_breed_dict = breeds_list\n",
    "    \n",
    "    df = pd.DataFrame.from_dict(dog_breed_dict)\n",
    "    \n",
    "    return df\n"
   ]
  },
  {
   "cell_type": "code",
   "execution_count": null,
   "id": "b8df818a-4288-4138-b67f-2f112fb1e0ef",
   "metadata": {
    "tags": []
   },
   "outputs": [],
   "source": [
    "get_breeds_info('labrador')"
   ]
  },
  {
   "cell_type": "code",
   "execution_count": null,
   "id": "1ed47a4d-40cf-46c8-be81-baa2af9a4e7b",
   "metadata": {},
   "outputs": [],
   "source": []
  },
  {
   "cell_type": "code",
   "execution_count": null,
   "id": "5a782e40-a523-4cba-af8d-8637f901f5c1",
   "metadata": {
    "tags": []
   },
   "outputs": [],
   "source": [
    "dog_breeds_df.head()\n"
   ]
  },
  {
   "cell_type": "code",
   "execution_count": null,
   "id": "ac427dd0-9454-44ae-87ee-d8e869fddc5c",
   "metadata": {
    "tags": []
   },
   "outputs": [],
   "source": [
    "if __name__ == '__main__':\n",
    "    try:\n",
    "        while True:\n",
    "            main()\n",
    "    except KeyboardInterrupt:\n",
    "        print('\\nGoodbye!')\n",
    "        sys.exit(0)\n"
   ]
  },
  {
   "cell_type": "code",
   "execution_count": null,
   "id": "b5c3e17c-77c2-400b-a4d7-e853e1a9f843",
   "metadata": {
    "tags": []
   },
   "outputs": [],
   "source": []
  },
  {
   "cell_type": "code",
   "execution_count": null,
   "id": "1b7bbfa0-5bd6-414b-9e34-5d006637c628",
   "metadata": {},
   "outputs": [],
   "source": []
  }
 ],
 "metadata": {
  "kernelspec": {
   "display_name": "Python 3 (ipykernel)",
   "language": "python",
   "name": "python3"
  },
  "language_info": {
   "codemirror_mode": {
    "name": "ipython",
    "version": 3
   },
   "file_extension": ".py",
   "mimetype": "text/x-python",
   "name": "python",
   "nbconvert_exporter": "python",
   "pygments_lexer": "ipython3",
   "version": "3.9.7"
  },
  "toc": {
   "base_numbering": 1,
   "nav_menu": {},
   "number_sections": true,
   "sideBar": true,
   "skip_h1_title": false,
   "title_cell": "Table of Contents",
   "title_sidebar": "Contents",
   "toc_cell": false,
   "toc_position": {},
   "toc_section_display": true,
   "toc_window_display": false
  }
 },
 "nbformat": 4,
 "nbformat_minor": 5
}
