{
 "cells": [
  {
   "cell_type": "code",
   "execution_count": 5,
   "id": "5f188a04",
   "metadata": {
    "ExecuteTime": {
     "end_time": "2023-03-09T11:51:16.738260Z",
     "start_time": "2023-03-09T11:51:16.102255Z"
    },
    "tags": []
   },
   "outputs": [
    {
     "name": "stdout",
     "output_type": "stream",
     "text": [
      "The autoreload extension is already loaded. To reload it, use:\n",
      "  %reload_ext autoreload\n"
     ]
    }
   ],
   "source": [
    "%load_ext autoreload\n",
    "%autoreload 2\n",
    "\n",
    "\n",
    "import sys\n",
    "import urllib.parse\n",
    "\n",
    "\n",
    "from Animal_Adoption.preproc import data, data_cats\n",
    "import pandas as pd\n",
    "import requests\n",
    "pd.set_option('display.max_rows', None)"
   ]
  },
  {
   "cell_type": "code",
   "execution_count": 15,
   "id": "8a396123",
   "metadata": {
    "ExecuteTime": {
     "end_time": "2023-03-09T11:51:21.470155Z",
     "start_time": "2023-03-09T11:51:16.740915Z"
    },
    "tags": []
   },
   "outputs": [],
   "source": [
    "df = data.get_data()"
   ]
  },
  {
   "cell_type": "code",
   "execution_count": 16,
   "id": "7c7e988a-6e6f-4dfd-a8e6-590bfaa1fd63",
   "metadata": {
    "tags": []
   },
   "outputs": [
    {
     "data": {
      "text/html": [
       "<div>\n",
       "<style scoped>\n",
       "    .dataframe tbody tr th:only-of-type {\n",
       "        vertical-align: middle;\n",
       "    }\n",
       "\n",
       "    .dataframe tbody tr th {\n",
       "        vertical-align: top;\n",
       "    }\n",
       "\n",
       "    .dataframe thead th {\n",
       "        text-align: right;\n",
       "    }\n",
       "</style>\n",
       "<table border=\"1\" class=\"dataframe\">\n",
       "  <thead>\n",
       "    <tr style=\"text-align: right;\">\n",
       "      <th></th>\n",
       "      <th>animal_id_outcome</th>\n",
       "      <th>date_of_birth</th>\n",
       "      <th>sex_upon_outcome</th>\n",
       "      <th>age_upon_intake</th>\n",
       "      <th>animal_id_intake</th>\n",
       "      <th>animal_type</th>\n",
       "      <th>breed</th>\n",
       "      <th>color</th>\n",
       "      <th>intake_condition</th>\n",
       "      <th>intake_type</th>\n",
       "      <th>...</th>\n",
       "      <th>age_upon_intake_(years)</th>\n",
       "      <th>intake_datetime</th>\n",
       "      <th>intake_month</th>\n",
       "      <th>intake_year</th>\n",
       "      <th>intake_weekday</th>\n",
       "      <th>intake_hour</th>\n",
       "      <th>intake_number</th>\n",
       "      <th>time_in_shelter_days</th>\n",
       "      <th>sex_type</th>\n",
       "      <th>sex</th>\n",
       "    </tr>\n",
       "  </thead>\n",
       "  <tbody>\n",
       "    <tr>\n",
       "      <th>0</th>\n",
       "      <td>A006100</td>\n",
       "      <td>2007-07-09</td>\n",
       "      <td>Neutered Male</td>\n",
       "      <td>10 years</td>\n",
       "      <td>A006100</td>\n",
       "      <td>Dog</td>\n",
       "      <td>uncommon</td>\n",
       "      <td>Beige/White</td>\n",
       "      <td>Normal</td>\n",
       "      <td>Stray</td>\n",
       "      <td>...</td>\n",
       "      <td>10.0</td>\n",
       "      <td>2017-12-07 00:00:00</td>\n",
       "      <td>12</td>\n",
       "      <td>2017</td>\n",
       "      <td>Thursday</td>\n",
       "      <td>14</td>\n",
       "      <td>1.0</td>\n",
       "      <td>0.588194</td>\n",
       "      <td>Neutered</td>\n",
       "      <td>Male</td>\n",
       "    </tr>\n",
       "    <tr>\n",
       "      <th>1</th>\n",
       "      <td>A006100</td>\n",
       "      <td>2007-07-09</td>\n",
       "      <td>Neutered Male</td>\n",
       "      <td>7 years</td>\n",
       "      <td>A006100</td>\n",
       "      <td>Dog</td>\n",
       "      <td>uncommon</td>\n",
       "      <td>Beige/White</td>\n",
       "      <td>Normal</td>\n",
       "      <td>Public Assist</td>\n",
       "      <td>...</td>\n",
       "      <td>7.0</td>\n",
       "      <td>2014-12-19 10:21:00</td>\n",
       "      <td>12</td>\n",
       "      <td>2014</td>\n",
       "      <td>Friday</td>\n",
       "      <td>10</td>\n",
       "      <td>2.0</td>\n",
       "      <td>1.259722</td>\n",
       "      <td>Neutered</td>\n",
       "      <td>Male</td>\n",
       "    </tr>\n",
       "    <tr>\n",
       "      <th>2</th>\n",
       "      <td>A006100</td>\n",
       "      <td>2007-07-09</td>\n",
       "      <td>Neutered Male</td>\n",
       "      <td>6 years</td>\n",
       "      <td>A006100</td>\n",
       "      <td>Dog</td>\n",
       "      <td>uncommon</td>\n",
       "      <td>Beige/White</td>\n",
       "      <td>Normal</td>\n",
       "      <td>Public Assist</td>\n",
       "      <td>...</td>\n",
       "      <td>6.0</td>\n",
       "      <td>2014-03-07 14:26:00</td>\n",
       "      <td>3</td>\n",
       "      <td>2014</td>\n",
       "      <td>Friday</td>\n",
       "      <td>14</td>\n",
       "      <td>3.0</td>\n",
       "      <td>1.113889</td>\n",
       "      <td>Neutered</td>\n",
       "      <td>Male</td>\n",
       "    </tr>\n",
       "    <tr>\n",
       "      <th>3</th>\n",
       "      <td>A047759</td>\n",
       "      <td>2004-04-02</td>\n",
       "      <td>Neutered Male</td>\n",
       "      <td>10 years</td>\n",
       "      <td>A047759</td>\n",
       "      <td>Dog</td>\n",
       "      <td>small</td>\n",
       "      <td>Tricolor</td>\n",
       "      <td>Normal</td>\n",
       "      <td>Owner Surrender</td>\n",
       "      <td>...</td>\n",
       "      <td>10.0</td>\n",
       "      <td>2014-04-02 15:55:00</td>\n",
       "      <td>4</td>\n",
       "      <td>2014</td>\n",
       "      <td>Wednesday</td>\n",
       "      <td>15</td>\n",
       "      <td>1.0</td>\n",
       "      <td>4.970139</td>\n",
       "      <td>Neutered</td>\n",
       "      <td>Male</td>\n",
       "    </tr>\n",
       "    <tr>\n",
       "      <th>4</th>\n",
       "      <td>A134067</td>\n",
       "      <td>1997-10-16</td>\n",
       "      <td>Neutered Male</td>\n",
       "      <td>16 years</td>\n",
       "      <td>A134067</td>\n",
       "      <td>Dog</td>\n",
       "      <td>uncommon</td>\n",
       "      <td>Beige/White</td>\n",
       "      <td>Injured</td>\n",
       "      <td>Public Assist</td>\n",
       "      <td>...</td>\n",
       "      <td>16.0</td>\n",
       "      <td>2013-11-16 09:02:00</td>\n",
       "      <td>11</td>\n",
       "      <td>2013</td>\n",
       "      <td>Saturday</td>\n",
       "      <td>9</td>\n",
       "      <td>1.0</td>\n",
       "      <td>0.119444</td>\n",
       "      <td>Neutered</td>\n",
       "      <td>Male</td>\n",
       "    </tr>\n",
       "  </tbody>\n",
       "</table>\n",
       "<p>5 rows × 21 columns</p>\n",
       "</div>"
      ],
      "text/plain": [
       "  animal_id_outcome date_of_birth sex_upon_outcome age_upon_intake  \\\n",
       "0           A006100    2007-07-09    Neutered Male        10 years   \n",
       "1           A006100    2007-07-09    Neutered Male         7 years   \n",
       "2           A006100    2007-07-09    Neutered Male         6 years   \n",
       "3           A047759    2004-04-02    Neutered Male        10 years   \n",
       "4           A134067    1997-10-16    Neutered Male        16 years   \n",
       "\n",
       "  animal_id_intake animal_type     breed        color intake_condition  \\\n",
       "0          A006100         Dog  uncommon  Beige/White           Normal   \n",
       "1          A006100         Dog  uncommon  Beige/White           Normal   \n",
       "2          A006100         Dog  uncommon  Beige/White           Normal   \n",
       "3          A047759         Dog     small     Tricolor           Normal   \n",
       "4          A134067         Dog  uncommon  Beige/White          Injured   \n",
       "\n",
       "       intake_type  ... age_upon_intake_(years)     intake_datetime  \\\n",
       "0            Stray  ...                    10.0 2017-12-07 00:00:00   \n",
       "1    Public Assist  ...                     7.0 2014-12-19 10:21:00   \n",
       "2    Public Assist  ...                     6.0 2014-03-07 14:26:00   \n",
       "3  Owner Surrender  ...                    10.0 2014-04-02 15:55:00   \n",
       "4    Public Assist  ...                    16.0 2013-11-16 09:02:00   \n",
       "\n",
       "  intake_month  intake_year  intake_weekday intake_hour  intake_number  \\\n",
       "0           12         2017        Thursday          14            1.0   \n",
       "1           12         2014          Friday          10            2.0   \n",
       "2            3         2014          Friday          14            3.0   \n",
       "3            4         2014       Wednesday          15            1.0   \n",
       "4           11         2013        Saturday           9            1.0   \n",
       "\n",
       "   time_in_shelter_days  sex_type   sex  \n",
       "0              0.588194  Neutered  Male  \n",
       "1              1.259722  Neutered  Male  \n",
       "2              1.113889  Neutered  Male  \n",
       "3              4.970139  Neutered  Male  \n",
       "4              0.119444  Neutered  Male  \n",
       "\n",
       "[5 rows x 21 columns]"
      ]
     },
     "execution_count": 16,
     "metadata": {},
     "output_type": "execute_result"
    }
   ],
   "source": [
    "df['.head()"
   ]
  },
  {
   "cell_type": "code",
   "execution_count": null,
   "id": "203a798a-7d28-45d1-be6f-695d12bf3cf5",
   "metadata": {},
   "outputs": [],
   "source": []
  },
  {
   "cell_type": "code",
   "execution_count": null,
   "id": "be46b611-32c8-4899-b982-f6069ecffd02",
   "metadata": {},
   "outputs": [],
   "source": []
  },
  {
   "cell_type": "markdown",
   "id": "87889176-a7d4-4b29-b433-7d859ba80825",
   "metadata": {
    "tags": []
   },
   "source": [
    "# About the API for dogs"
   ]
  },
  {
   "cell_type": "code",
   "execution_count": 14,
   "id": "2ba5eca7",
   "metadata": {},
   "outputs": [
    {
     "name": "stdout",
     "output_type": "stream",
     "text": [
      "[{\"image_link\": \"https://api-ninjas.com/images/dogs/golden_retriever.jpg\", \"good_with_children\": 5, \"good_with_other_dogs\": 5, \"shedding\": 4, \"grooming\": 2, \"drooling\": 2, \"coat_length\": 1, \"good_with_strangers\": 5, \"playfulness\": 4, \"protectiveness\": 3, \"trainability\": 5, \"energy\": 3, \"barking\": 1, \"min_life_expectancy\": 10.0, \"max_life_expectancy\": 12.0, \"max_height_male\": 24.0, \"max_height_female\": 24.0, \"max_weight_male\": 75.0, \"max_weight_female\": 65.0, \"min_height_male\": 23.0, \"min_height_female\": 23.0, \"min_weight_male\": 65.0, \"min_weight_female\": 55.0, \"name\": \"Golden Retriever\"}]\n"
     ]
    }
   ],
   "source": [
    "name = 'golden retriever'\n",
    "api_url = 'https://api.api-ninjas.com/v1/dogs?name={}'.format(name)\n",
    "response = requests.get(api_url, headers={'X-Api-Key': 'T1uOOYf5geCLwn8dpS8SMQ==HaH3Ky5bHqTqh3IS'})\n",
    "if response.status_code == requests.codes.ok:\n",
    "    print(response.text)\n",
    "else:\n",
    "    print(\"Error:\", response.status_code, response.text)"
   ]
  },
  {
   "cell_type": "code",
   "execution_count": 8,
   "id": "c5774ddd",
   "metadata": {},
   "outputs": [],
   "source": []
  },
  {
   "cell_type": "code",
   "execution_count": 9,
   "id": "b8df818a-4288-4138-b67f-2f112fb1e0ef",
   "metadata": {
    "tags": []
   },
   "outputs": [],
   "source": []
  },
  {
   "cell_type": "code",
   "execution_count": 10,
   "id": "5a782e40-a523-4cba-af8d-8637f901f5c1",
   "metadata": {
    "tags": []
   },
   "outputs": [],
   "source": [
    "\n"
   ]
  },
  {
   "cell_type": "code",
   "execution_count": 11,
   "id": "ac427dd0-9454-44ae-87ee-d8e869fddc5c",
   "metadata": {
    "tags": []
   },
   "outputs": [
    {
     "name": "stdin",
     "output_type": "stream",
     "text": [
      "City?\n",
      ">  Berlin\n"
     ]
    },
    {
     "name": "stdout",
     "output_type": "stream",
     "text": [
      "1. Berlin, DE\n",
      "2. Berlin, US\n",
      "3. Berlin, US\n",
      "4. Berlin, US\n",
      "5. Berlin, US\n"
     ]
    },
    {
     "name": "stdin",
     "output_type": "stream",
     "text": [
      "Multiple matches found, which city did you mean?\n",
      ">  Berlin, DE\n"
     ]
    },
    {
     "ename": "ValueError",
     "evalue": "invalid literal for int() with base 10: 'Berlin, DE'",
     "output_type": "error",
     "traceback": [
      "\u001b[0;31m---------------------------------------------------------------------------\u001b[0m",
      "\u001b[0;31mValueError\u001b[0m                                Traceback (most recent call last)",
      "Cell \u001b[0;32mIn[11], line 4\u001b[0m\n\u001b[1;32m      2\u001b[0m \u001b[38;5;28;01mtry\u001b[39;00m:\n\u001b[1;32m      3\u001b[0m     \u001b[38;5;28;01mwhile\u001b[39;00m \u001b[38;5;28;01mTrue\u001b[39;00m:\n\u001b[0;32m----> 4\u001b[0m         \u001b[43mmain\u001b[49m\u001b[43m(\u001b[49m\u001b[43m)\u001b[49m\n\u001b[1;32m      5\u001b[0m \u001b[38;5;28;01mexcept\u001b[39;00m \u001b[38;5;167;01mKeyboardInterrupt\u001b[39;00m:\n\u001b[1;32m      6\u001b[0m     \u001b[38;5;28mprint\u001b[39m(\u001b[38;5;124m'\u001b[39m\u001b[38;5;130;01m\\n\u001b[39;00m\u001b[38;5;124mGoodbye!\u001b[39m\u001b[38;5;124m'\u001b[39m)\n",
      "Cell \u001b[0;32mIn[10], line 4\u001b[0m, in \u001b[0;36mmain\u001b[0;34m()\u001b[0m\n\u001b[1;32m      2\u001b[0m \u001b[38;5;250m\u001b[39m\u001b[38;5;124;03m'''Ask user for a city and display weather forecast'''\u001b[39;00m\n\u001b[1;32m      3\u001b[0m query \u001b[38;5;241m=\u001b[39m \u001b[38;5;28minput\u001b[39m(\u001b[38;5;124m\"\u001b[39m\u001b[38;5;124mCity?\u001b[39m\u001b[38;5;130;01m\\n\u001b[39;00m\u001b[38;5;124m> \u001b[39m\u001b[38;5;124m\"\u001b[39m)\n\u001b[0;32m----> 4\u001b[0m city \u001b[38;5;241m=\u001b[39m \u001b[43msearch_city\u001b[49m\u001b[43m(\u001b[49m\u001b[43mquery\u001b[49m\u001b[43m)\u001b[49m\n\u001b[1;32m      6\u001b[0m \u001b[38;5;66;03m# TODO: Display weather forecast for a given city\u001b[39;00m\n\u001b[1;32m      7\u001b[0m \u001b[38;5;66;03m# $CHALLENGIFY_BEGIN\u001b[39;00m\n\u001b[1;32m      8\u001b[0m \u001b[38;5;28;01mif\u001b[39;00m city:\n",
      "Cell \u001b[0;32mIn[8], line 20\u001b[0m, in \u001b[0;36msearch_city\u001b[0;34m(query)\u001b[0m\n\u001b[1;32m     17\u001b[0m \u001b[38;5;28;01mfor\u001b[39;00m i, city \u001b[38;5;129;01min\u001b[39;00m \u001b[38;5;28menumerate\u001b[39m(cities):\n\u001b[1;32m     18\u001b[0m     \u001b[38;5;28mprint\u001b[39m(\u001b[38;5;124mf\u001b[39m\u001b[38;5;124m\"\u001b[39m\u001b[38;5;132;01m{\u001b[39;00mi\u001b[38;5;250m \u001b[39m\u001b[38;5;241m+\u001b[39m\u001b[38;5;250m \u001b[39m\u001b[38;5;241m1\u001b[39m\u001b[38;5;132;01m}\u001b[39;00m\u001b[38;5;124m. \u001b[39m\u001b[38;5;132;01m{\u001b[39;00mcity[\u001b[38;5;124m'\u001b[39m\u001b[38;5;124mname\u001b[39m\u001b[38;5;124m'\u001b[39m]\u001b[38;5;132;01m}\u001b[39;00m\u001b[38;5;124m, \u001b[39m\u001b[38;5;132;01m{\u001b[39;00mcity[\u001b[38;5;124m'\u001b[39m\u001b[38;5;124mcountry\u001b[39m\u001b[38;5;124m'\u001b[39m]\u001b[38;5;132;01m}\u001b[39;00m\u001b[38;5;124m\"\u001b[39m)\n\u001b[0;32m---> 20\u001b[0m index \u001b[38;5;241m=\u001b[39m \u001b[38;5;28;43mint\u001b[39;49m\u001b[43m(\u001b[49m\u001b[38;5;28;43minput\u001b[39;49m\u001b[43m(\u001b[49m\u001b[38;5;124;43m\"\u001b[39;49m\u001b[38;5;124;43mMultiple matches found, which city did you mean?\u001b[39;49m\u001b[38;5;130;43;01m\\n\u001b[39;49;00m\u001b[38;5;124;43m> \u001b[39;49m\u001b[38;5;124;43m\"\u001b[39;49m\u001b[43m)\u001b[49m\u001b[43m)\u001b[49m \u001b[38;5;241m-\u001b[39m \u001b[38;5;241m1\u001b[39m\n\u001b[1;32m     22\u001b[0m \u001b[38;5;28;01mreturn\u001b[39;00m cities[index]\n",
      "\u001b[0;31mValueError\u001b[0m: invalid literal for int() with base 10: 'Berlin, DE'"
     ]
    }
   ],
   "source": [
    "if __name__ == '__main__':\n",
    "    try:\n",
    "        while True:\n",
    "            main()\n",
    "    except KeyboardInterrupt:\n",
    "        print('\\nGoodbye!')\n",
    "        sys.exit(0)\n"
   ]
  },
  {
   "cell_type": "code",
   "execution_count": 12,
   "id": "b5c3e17c-77c2-400b-a4d7-e853e1a9f843",
   "metadata": {
    "tags": []
   },
   "outputs": [
    {
     "name": "stdout",
     "output_type": "stream",
     "text": [
      "Error: 400 {\"error\": \"Invalid API Key.\"}\n"
     ]
    }
   ],
   "source": []
  },
  {
   "cell_type": "code",
   "execution_count": null,
   "id": "1b7bbfa0-5bd6-414b-9e34-5d006637c628",
   "metadata": {},
   "outputs": [],
   "source": []
  }
 ],
 "metadata": {
  "kernelspec": {
   "display_name": "Python 3 (ipykernel)",
   "language": "python",
   "name": "python3"
  },
  "language_info": {
   "codemirror_mode": {
    "name": "ipython",
    "version": 3
   },
   "file_extension": ".py",
   "mimetype": "text/x-python",
   "name": "python",
   "nbconvert_exporter": "python",
   "pygments_lexer": "ipython3",
   "version": "3.10.6"
  },
  "toc": {
   "base_numbering": 1,
   "nav_menu": {},
   "number_sections": true,
   "sideBar": true,
   "skip_h1_title": false,
   "title_cell": "Table of Contents",
   "title_sidebar": "Contents",
   "toc_cell": false,
   "toc_position": {},
   "toc_section_display": true,
   "toc_window_display": false
  }
 },
 "nbformat": 4,
 "nbformat_minor": 5
}
