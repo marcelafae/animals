{
 "cells": [
  {
   "cell_type": "code",
   "execution_count": 1,
   "id": "5f188a04",
   "metadata": {
    "ExecuteTime": {
     "end_time": "2023-03-09T11:51:16.738260Z",
     "start_time": "2023-03-09T11:51:16.102255Z"
    },
    "tags": []
   },
   "outputs": [],
   "source": [
    "%load_ext autoreload\n",
    "%autoreload 2\n",
    "from Animal_Adoption.preproc.data import get_data\n"
   ]
  },
  {
   "cell_type": "code",
   "execution_count": 6,
   "id": "8a396123",
   "metadata": {
    "ExecuteTime": {
     "end_time": "2023-03-09T11:51:21.470155Z",
     "start_time": "2023-03-09T11:51:16.740915Z"
    },
    "tags": []
   },
   "outputs": [],
   "source": [
    "df = get_data()"
   ]
  },
  {
   "cell_type": "code",
   "execution_count": 7,
   "id": "e6d52248-e736-4ebf-b546-61c865e871b0",
   "metadata": {
    "tags": []
   },
   "outputs": [
    {
     "data": {
      "text/plain": [
       "array(['Beige/White', 'Tricolor', 'Black/White', 'Black/Gray',\n",
       "       'White/Black', 'Striped', 'Black/Beige', 'Beige/Black', 'Black',\n",
       "       'Beige', 'Spotted', 'Gray/White', 'Orange', 'White', 'White/Beige',\n",
       "       'Orange/White', 'Orange/Black', 'Gray', 'Orange/Beige',\n",
       "       'Black/Orange', 'Gray/Beige', 'White/Gray', 'Beige/Gray',\n",
       "       'White/Orange', 'Gray/Black', 'Beige/Orange', 'Orange/Gray',\n",
       "       'Gray/Orange'], dtype=object)"
      ]
     },
     "execution_count": 7,
     "metadata": {},
     "output_type": "execute_result"
    }
   ],
   "source": [
    "df[\"color\"].unique()"
   ]
  },
  {
   "cell_type": "code",
   "execution_count": 6,
   "id": "1f92af7b",
   "metadata": {
    "ExecuteTime": {
     "end_time": "2023-03-09T11:52:21.951325Z",
     "start_time": "2023-03-09T11:52:21.946124Z"
    }
   },
   "outputs": [
    {
     "data": {
      "text/plain": [
       "Index(['animal_id_outcome', 'date_of_birth', 'outcome_type',\n",
       "       'sex_upon_outcome', 'age_upon_intake', 'animal_type', 'breed', 'color',\n",
       "       'intake_condition', 'intake_type', 'sex_upon_intake',\n",
       "       'age_upon_intake_(years)', 'intake_datetime', 'intake_month',\n",
       "       'intake_year', 'intake_weekday', 'intake_hour', 'intake_number',\n",
       "       'time_in_shelter_days', 'sex_type', 'sex'],\n",
       "      dtype='object')"
      ]
     },
     "execution_count": 6,
     "metadata": {},
     "output_type": "execute_result"
    }
   ],
   "source": [
    "df.columns\n"
   ]
  },
  {
   "cell_type": "code",
   "execution_count": 9,
   "id": "96451884",
   "metadata": {
    "ExecuteTime": {
     "end_time": "2023-03-09T11:53:41.243061Z",
     "start_time": "2023-03-09T11:53:41.232012Z"
    }
   },
   "outputs": [
    {
     "data": {
      "text/plain": [
       "Adoption           29003\n",
       "Transfer           22588\n",
       "Return to Owner    11891\n",
       "Euthanasia          2971\n",
       "Died                 544\n",
       "Rto-Adopt            151\n",
       "Missing               40\n",
       "Disposal              23\n",
       "Name: outcome_type, dtype: int64"
      ]
     },
     "execution_count": 9,
     "metadata": {},
     "output_type": "execute_result"
    }
   ],
   "source": [
    "df['outcome_type'].value_counts()"
   ]
  },
  {
   "cell_type": "code",
   "execution_count": null,
   "id": "2ba5eca7",
   "metadata": {},
   "outputs": [],
   "source": []
  },
  {
   "cell_type": "code",
   "execution_count": null,
   "id": "0b2e1386",
   "metadata": {
    "ExecuteTime": {
     "end_time": "2023-03-09T11:51:22.559994Z",
     "start_time": "2023-03-09T11:51:22.559977Z"
    }
   },
   "outputs": [],
   "source": [
    "import numpy as np"
   ]
  },
  {
   "cell_type": "code",
   "execution_count": null,
   "id": "c7c469ba",
   "metadata": {
    "ExecuteTime": {
     "end_time": "2023-03-09T11:51:22.561172Z",
     "start_time": "2023-03-09T11:51:22.561158Z"
    }
   },
   "outputs": [],
   "source": [
    "colors = df['color'].map(lambda x: \" \".join(x.split(\"/\")))"
   ]
  },
  {
   "cell_type": "code",
   "execution_count": null,
   "id": "1df6e007",
   "metadata": {
    "ExecuteTime": {
     "end_time": "2023-03-09T11:51:22.562592Z",
     "start_time": "2023-03-09T11:51:22.562579Z"
    }
   },
   "outputs": [],
   "source": [
    "colors"
   ]
  },
  {
   "cell_type": "code",
   "execution_count": null,
   "id": "c1652d0f",
   "metadata": {
    "ExecuteTime": {
     "end_time": "2023-03-09T11:51:22.564337Z",
     "start_time": "2023-03-09T11:51:22.564318Z"
    }
   },
   "outputs": [],
   "source": [
    "from sklearn.feature_extraction.text import CountVectorizer\n",
    "vectorizer = CountVectorizer()\n",
    "X = vectorizer.fit_transform(colors)\n",
    "arr = X.toarray()\n"
   ]
  },
  {
   "cell_type": "code",
   "execution_count": null,
   "id": "39a46767",
   "metadata": {
    "ExecuteTime": {
     "end_time": "2023-03-09T11:51:22.566043Z",
     "start_time": "2023-03-09T11:51:22.566029Z"
    }
   },
   "outputs": [],
   "source": [
    "arr.shape"
   ]
  },
  {
   "cell_type": "code",
   "execution_count": null,
   "id": "4ccc0f2d",
   "metadata": {
    "ExecuteTime": {
     "end_time": "2023-03-09T11:51:22.567375Z",
     "start_time": "2023-03-09T11:51:22.567360Z"
    }
   },
   "outputs": [],
   "source": [
    "vectorizer.get_feature_names_out()"
   ]
  },
  {
   "cell_type": "code",
   "execution_count": null,
   "id": "c5774ddd",
   "metadata": {},
   "outputs": [],
   "source": []
  }
 ],
 "metadata": {
  "kernelspec": {
   "display_name": "Python 3 (ipykernel)",
   "language": "python",
   "name": "python3"
  },
  "language_info": {
   "codemirror_mode": {
    "name": "ipython",
    "version": 3
   },
   "file_extension": ".py",
   "mimetype": "text/x-python",
   "name": "python",
   "nbconvert_exporter": "python",
   "pygments_lexer": "ipython3",
   "version": "3.9.7"
  },
  "toc": {
   "base_numbering": 1,
   "nav_menu": {},
   "number_sections": true,
   "sideBar": true,
   "skip_h1_title": false,
   "title_cell": "Table of Contents",
   "title_sidebar": "Contents",
   "toc_cell": false,
   "toc_position": {},
   "toc_section_display": true,
   "toc_window_display": false
  }
 },
 "nbformat": 4,
 "nbformat_minor": 5
}
