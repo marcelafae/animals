{
 "cells": [
  {
   "cell_type": "code",
   "execution_count": 1,
   "id": "447b6702",
   "metadata": {
    "ExecuteTime": {
     "end_time": "2023-03-09T11:02:34.402505Z",
     "start_time": "2023-03-09T11:02:34.399465Z"
    }
   },
   "outputs": [],
   "source": [
    "from Animal_Adoption.preproc.data import get_data\n"
   ]
  },
  {
   "cell_type": "code",
   "execution_count": 3,
   "id": "767325c1",
   "metadata": {
    "ExecuteTime": {
     "end_time": "2023-03-09T11:04:02.206494Z",
     "start_time": "2023-03-09T11:03:57.375204Z"
    }
   },
   "outputs": [],
   "source": [
    "df = get_data()"
   ]
  },
  {
   "cell_type": "code",
   "execution_count": 30,
   "id": "6c84edd5",
   "metadata": {
    "ExecuteTime": {
     "end_time": "2023-03-09T11:35:32.687307Z",
     "start_time": "2023-03-09T11:35:32.681741Z"
    }
   },
   "outputs": [
    {
     "data": {
      "text/plain": [
       "array([1])"
      ]
     },
     "execution_count": 30,
     "metadata": {},
     "output_type": "execute_result"
    }
   ],
   "source": [
    "df['count'].unique()"
   ]
  },
  {
   "cell_type": "code",
   "execution_count": 31,
   "id": "6d76611e",
   "metadata": {
    "ExecuteTime": {
     "end_time": "2023-03-09T11:35:42.786710Z",
     "start_time": "2023-03-09T11:35:42.781496Z"
    }
   },
   "outputs": [
    {
     "data": {
      "text/plain": [
       "Index(['age_upon_outcome', 'animal_id_outcome', 'date_of_birth',\n",
       "       'outcome_type', 'sex_upon_outcome', 'age_upon_outcome_(days)',\n",
       "       'age_upon_outcome_(years)', 'outcome_datetime', 'outcome_month',\n",
       "       'outcome_year', 'outcome_monthyear', 'outcome_weekday', 'outcome_hour',\n",
       "       'age_upon_intake', 'animal_id_intake', 'animal_type', 'breed', 'color',\n",
       "       'intake_condition', 'sex_upon_intake', 'count',\n",
       "       'age_upon_intake_(days)', 'age_upon_intake_(years)', 'intake_datetime',\n",
       "       'intake_month', 'intake_year', 'intake_monthyear', 'intake_weekday',\n",
       "       'intake_hour', 'intake_number', 'sex_type', 'sex'],\n",
       "      dtype='object')"
      ]
     },
     "execution_count": 31,
     "metadata": {},
     "output_type": "execute_result"
    }
   ],
   "source": [
    "df.columns"
   ]
  },
  {
   "cell_type": "code",
   "execution_count": null,
   "id": "84d10e06",
   "metadata": {},
   "outputs": [],
   "source": [
    "['count', 'age_upon_outcome_(days)', 'age_upon_outcome_(years)', 'outcome_month',\n",
    "'outcome_year', 'outcome_monthyear', 'outcome_weekday', 'outcome_hour', 'animal_id_intake', 'age_upon_intake_(days)',\n",
    " ]"
   ]
  },
  {
   "cell_type": "code",
   "execution_count": 9,
   "id": "cf1a9c99",
   "metadata": {
    "ExecuteTime": {
     "end_time": "2023-03-09T11:08:19.202024Z",
     "start_time": "2023-03-09T11:08:19.199325Z"
    }
   },
   "outputs": [],
   "source": [
    "import numpy as np"
   ]
  },
  {
   "cell_type": "code",
   "execution_count": 20,
   "id": "275348f0",
   "metadata": {
    "ExecuteTime": {
     "end_time": "2023-03-09T11:13:02.956232Z",
     "start_time": "2023-03-09T11:13:02.921453Z"
    }
   },
   "outputs": [],
   "source": [
    "colors = df['color'].map(lambda x: \" \".join(x.split(\"/\")))"
   ]
  },
  {
   "cell_type": "code",
   "execution_count": 21,
   "id": "c9322d51",
   "metadata": {
    "ExecuteTime": {
     "end_time": "2023-03-09T11:13:09.164911Z",
     "start_time": "2023-03-09T11:13:09.158468Z"
    }
   },
   "outputs": [
    {
     "data": {
      "text/plain": [
       "0        Beige White\n",
       "3           Tricolor\n",
       "4        Brown White\n",
       "5        Black White\n",
       "6         Black Gray\n",
       "            ...     \n",
       "79665           Gray\n",
       "79666           Gray\n",
       "79667        Striped\n",
       "79670    Black White\n",
       "79671        Striped\n",
       "Name: color, Length: 67211, dtype: object"
      ]
     },
     "execution_count": 21,
     "metadata": {},
     "output_type": "execute_result"
    }
   ],
   "source": [
    "colors"
   ]
  },
  {
   "cell_type": "code",
   "execution_count": 24,
   "id": "b13e2ab6",
   "metadata": {
    "ExecuteTime": {
     "end_time": "2023-03-09T11:14:02.862695Z",
     "start_time": "2023-03-09T11:14:02.635604Z"
    }
   },
   "outputs": [],
   "source": [
    "from sklearn.feature_extraction.text import CountVectorizer\n",
    "vectorizer = CountVectorizer()\n",
    "X = vectorizer.fit_transform(colors)\n",
    "arr = X.toarray()\n"
   ]
  },
  {
   "cell_type": "code",
   "execution_count": 25,
   "id": "d8303912",
   "metadata": {
    "ExecuteTime": {
     "end_time": "2023-03-09T11:14:06.962308Z",
     "start_time": "2023-03-09T11:14:06.957855Z"
    }
   },
   "outputs": [
    {
     "data": {
      "text/plain": [
       "(67211, 11)"
      ]
     },
     "execution_count": 25,
     "metadata": {},
     "output_type": "execute_result"
    }
   ],
   "source": [
    "arr.shape"
   ]
  },
  {
   "cell_type": "code",
   "execution_count": 26,
   "id": "abc18df1",
   "metadata": {
    "ExecuteTime": {
     "end_time": "2023-03-09T11:14:20.069214Z",
     "start_time": "2023-03-09T11:14:20.064370Z"
    }
   },
   "outputs": [
    {
     "data": {
      "text/plain": [
       "array(['beige', 'black', 'brown', 'gray', 'orange', 'point', 'smoke',\n",
       "       'spotted', 'striped', 'tricolor', 'white'], dtype=object)"
      ]
     },
     "execution_count": 26,
     "metadata": {},
     "output_type": "execute_result"
    }
   ],
   "source": [
    "vectorizer.get_feature_names_out()"
   ]
  },
  {
   "cell_type": "code",
   "execution_count": null,
   "id": "6810e8b8",
   "metadata": {},
   "outputs": [],
   "source": []
  }
 ],
 "metadata": {
  "kernelspec": {
   "display_name": "Python 3 (ipykernel)",
   "language": "python",
   "name": "python3"
  },
  "language_info": {
   "codemirror_mode": {
    "name": "ipython",
    "version": 3
   },
   "file_extension": ".py",
   "mimetype": "text/x-python",
   "name": "python",
   "nbconvert_exporter": "python",
   "pygments_lexer": "ipython3",
   "version": "3.10.6"
  },
  "toc": {
   "base_numbering": 1,
   "nav_menu": {},
   "number_sections": true,
   "sideBar": true,
   "skip_h1_title": false,
   "title_cell": "Table of Contents",
   "title_sidebar": "Contents",
   "toc_cell": false,
   "toc_position": {},
   "toc_section_display": true,
   "toc_window_display": false
  }
 },
 "nbformat": 4,
 "nbformat_minor": 5
}
