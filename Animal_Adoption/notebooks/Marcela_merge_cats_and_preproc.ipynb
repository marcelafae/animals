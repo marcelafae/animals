{
 "cells": [
  {
   "cell_type": "markdown",
   "id": "15f83198-e658-40f8-8094-bbc5f6de641e",
   "metadata": {},
   "source": [
    "## data preprocessing \n"
   ]
  },
  {
   "cell_type": "code",
   "execution_count": 8,
   "id": "400e075f-4968-405d-974f-1b322dd99720",
   "metadata": {
    "ExecuteTime": {
     "end_time": "2023-03-09T11:41:22.824529Z",
     "start_time": "2023-03-09T11:41:22.209380Z"
    },
    "tags": []
   },
   "outputs": [
    {
     "name": "stdout",
     "output_type": "stream",
     "text": [
      "The autoreload extension is already loaded. To reload it, use:\n",
      "  %reload_ext autoreload\n"
     ]
    }
   ],
   "source": [
    "%load_ext autoreload\n",
    "%autoreload 2\n",
    "from Animal_Adoption.preproc import data, data_cats\n",
    "import pandas as pd\n",
    "import sqlite3\n",
    "pd.set_option('display.max_rows', None)"
   ]
  },
  {
   "cell_type": "markdown",
   "id": "ec7df9e9-8cbd-49f4-aff7-7a550eb29e50",
   "metadata": {},
   "source": [
    "## Import the data"
   ]
  },
  {
   "cell_type": "code",
   "execution_count": 9,
   "id": "8699b1e0-0484-4933-93b7-62ac5cabde38",
   "metadata": {
    "ExecuteTime": {
     "end_time": "2023-03-09T11:41:24.435221Z",
     "start_time": "2023-03-09T11:41:24.051107Z"
    },
    "tags": []
   },
   "outputs": [],
   "source": [
    "#data_cats = pd.read_csv('/Users/marcela/code/marcelafae/animals/raw_data/data/animal_data_8_53/aac_shelter_cat_outcome_eng.csv')\n",
    "#data = pd.read_csv('/Users/marcela/code/marcelafae/animals/raw_data/data/animal_data_8_24/aac_intakes_outcomes.csv')\n",
    "df = data.get_data()\n",
    "df_cats = data_cats.get_data_cats()\n",
    "\n",
    "\n"
   ]
  },
  {
   "cell_type": "code",
   "execution_count": 10,
   "id": "eee21173-0642-4b77-99c1-3fc3e0ac7ce2",
   "metadata": {
    "tags": []
   },
   "outputs": [
    {
     "data": {
      "text/plain": [
       "Index(['animal_id_outcome', 'date_of_birth', 'sex_upon_outcome',\n",
       "       'age_upon_intake', 'animal_id_intake', 'animal_type', 'breed', 'color',\n",
       "       'intake_condition', 'intake_type', 'sex_upon_intake',\n",
       "       'age_upon_intake_(years)', 'intake_datetime', 'intake_month',\n",
       "       'intake_year', 'intake_weekday', 'intake_hour', 'intake_number',\n",
       "       'time_in_shelter_days', 'sex_type', 'sex'],\n",
       "      dtype='object')"
      ]
     },
     "execution_count": 10,
     "metadata": {},
     "output_type": "execute_result"
    }
   ],
   "source": [
    "df.columns"
   ]
  },
  {
   "cell_type": "code",
   "execution_count": 11,
   "id": "8b080176-d6f3-4c4c-a34a-81528c7db077",
   "metadata": {
    "tags": []
   },
   "outputs": [
    {
     "data": {
      "text/plain": [
       "Index(['animal_id', 'animal_type', 'breed', 'color', 'date_of_birth',\n",
       "       'datetime', 'monthyear', 'outcome_subtype', 'outcome_type',\n",
       "       'sex_upon_outcome', 'sex', 'Spay/Neuter', 'outcome_age_(days)',\n",
       "       'outcome_age_(years)', 'Cat/Kitten (outcome)', 'sex_age_outcome',\n",
       "       'age_group', 'dob_year', 'dob_month', 'dob_monthyear', 'outcome_month',\n",
       "       'outcome_year', 'outcome_weekday', 'outcome_hour', 'breed1', 'breed2',\n",
       "       'cfa_breed', 'domestic_breed', 'coat_pattern', 'color1', 'color2',\n",
       "       'coat'],\n",
       "      dtype='object')"
      ]
     },
     "execution_count": 11,
     "metadata": {},
     "output_type": "execute_result"
    }
   ],
   "source": [
    "df_cats.columns"
   ]
  },
  {
   "cell_type": "code",
   "execution_count": 12,
   "id": "382bbe70-5808-4e61-a931-de6d683fc4e9",
   "metadata": {
    "tags": []
   },
   "outputs": [],
   "source": [
    "df_merged = df_cats.merge(df, left_on='animal_id', right_on='animal_id_outcome')"
   ]
  },
  {
   "cell_type": "code",
   "execution_count": 13,
   "id": "60fd98cd-9daa-498f-a3c5-3600313ce09f",
   "metadata": {
    "tags": []
   },
   "outputs": [
    {
     "data": {
      "text/plain": [
       "28977"
      ]
     },
     "execution_count": 13,
     "metadata": {},
     "output_type": "execute_result"
    }
   ],
   "source": [
    "df_cats['animal_id'].isin(df['animal_id_outcome']).sum()"
   ]
  },
  {
   "cell_type": "code",
   "execution_count": 7,
   "id": "84853905-04a7-4e3f-bd4a-860460e77ecb",
   "metadata": {},
   "outputs": [
    {
     "ename": "IndentationError",
     "evalue": "unexpected indent (1791827427.py, line 20)",
     "output_type": "error",
     "traceback": [
      "\u001b[0;36m  Cell \u001b[0;32mIn[7], line 20\u001b[0;36m\u001b[0m\n\u001b[0;31m    'datetime', 'monthyear', 'outcome_subtype', 'outcome_type',\u001b[0m\n\u001b[0m    ^\u001b[0m\n\u001b[0;31mIndentationError\u001b[0m\u001b[0;31m:\u001b[0m unexpected indent\n"
     ]
    }
   ],
   "source": [
    "'animal_type_x'\n",
    "'breed_x'\n",
    "'color_y'\n",
    "'intake_condition'\n",
    "'intake_type'\n",
    "'sex_upon_intake'\n",
    "'age_upon_intake_(years)'\n",
    "'intake_datetime'\n",
    "'time_in_shelter_days',\n",
    "'Cat/Kitten (outcome)'\n",
    "'cfa_breed'\n",
    "'domestic_breed'\n",
    "'sex_y'\n",
    "'Spay/Neuter'\n",
    "'breed_y'\n",
    "\n",
    "\n",
    "\n",
    "'color_x', 'date_of_birth_x',\n",
    "       'datetime', 'monthyear', 'outcome_subtype', 'outcome_type',\n",
    "       'sex_upon_outcome_x', 'sex_x', 'Spay/Neuter', 'outcome_age_(days)',\n",
    "       'outcome_age_(years)', , 'sex_age_outcome',\n",
    "       'age_group', 'dob_year', 'dob_month', 'dob_monthyear', 'outcome_month',\n",
    "       'outcome_year', 'outcome_weekday', 'outcome_hour', 'breed1', 'breed2',\n",
    "       'cfa_breed', 'domestic_breed', 'coat_pattern', 'color1', 'color2',\n",
    "       'coat', 'animal_id_outcome', 'date_of_birth_y', 'sex_upon_outcome_y',\n",
    "       'age_upon_intake', 'animal_id_intake', 'animal_type_y', 'breed_y',\n",
    "       , 'intake_condition', 'intake_type', 'sex_upon_intake',\n",
    "       'age_upon_intake_(years)', 'intake_datetime', 'intake_month',\n",
    "       'intake_year', 'intake_weekday', 'intake_hour', 'intake_number',\n",
    "       'time_in_shelter_days', 'sex_type', 'sex_y']"
   ]
  },
  {
   "cell_type": "code",
   "execution_count": 14,
   "id": "6607fe71-57eb-4e27-b5f0-fc8c9d8f2ac4",
   "metadata": {
    "tags": []
   },
   "outputs": [
    {
     "data": {
      "text/plain": [
       "Index(['animal_id', 'animal_type_x', 'breed_x', 'color_x', 'date_of_birth_x',\n",
       "       'datetime', 'monthyear', 'outcome_subtype', 'outcome_type',\n",
       "       'sex_upon_outcome_x', 'sex_x', 'Spay/Neuter', 'outcome_age_(days)',\n",
       "       'outcome_age_(years)', 'Cat/Kitten (outcome)', 'sex_age_outcome',\n",
       "       'age_group', 'dob_year', 'dob_month', 'dob_monthyear', 'outcome_month',\n",
       "       'outcome_year', 'outcome_weekday', 'outcome_hour', 'breed1', 'breed2',\n",
       "       'cfa_breed', 'domestic_breed', 'coat_pattern', 'color1', 'color2',\n",
       "       'coat', 'animal_id_outcome', 'date_of_birth_y', 'sex_upon_outcome_y',\n",
       "       'age_upon_intake', 'animal_id_intake', 'animal_type_y', 'breed_y',\n",
       "       'color_y', 'intake_condition', 'intake_type', 'sex_upon_intake',\n",
       "       'age_upon_intake_(years)', 'intake_datetime', 'intake_month',\n",
       "       'intake_year', 'intake_weekday', 'intake_hour', 'intake_number',\n",
       "       'time_in_shelter_days', 'sex_type', 'sex_y'],\n",
       "      dtype='object')"
      ]
     },
     "execution_count": 14,
     "metadata": {},
     "output_type": "execute_result"
    }
   ],
   "source": [
    "df_merged.columns"
   ]
  },
  {
   "cell_type": "code",
   "execution_count": null,
   "id": "f7f232b0-fbf2-4c8f-83ae-0f2aef790773",
   "metadata": {},
   "outputs": [],
   "source": []
  },
  {
   "cell_type": "code",
   "execution_count": null,
   "id": "e2ae9921-6300-4d88-a0e0-fa03b78e7207",
   "metadata": {},
   "outputs": [],
   "source": []
  },
  {
   "cell_type": "code",
   "execution_count": 21,
   "id": "91334cb7",
   "metadata": {
    "tags": []
   },
   "outputs": [],
   "source": [
    "\n",
    "def select_and_rename_columns(df):\n",
    "    # list of columns to keep\n",
    "    columns_to_keep = ['animal_type_x', 'breed_x', 'color_y', 'intake_condition', 'intake_type',\n",
    "                       'sex_upon_intake', 'age_upon_intake_(years)', 'intake_datetime',\n",
    "                       'time_in_shelter_days', 'Cat/Kitten (outcome)', 'cfa_breed', 'domestic_breed',\n",
    "                       'sex_y', 'Spay/Neuter', 'breed_y']\n",
    "    \n",
    "    # select columns and rename them\n",
    "    df_selected = df[columns_to_keep].rename(columns={'animal_type_x': 'animal_type', \n",
    "                                                      'color_y': 'color',\n",
    "                                                     'breed_x': 'breed', \n",
    "                                                      'color_y': 'color',\n",
    "                                                     'sex_y': 'sex', \n",
    "                                                      'Cat/Kitten (outcome)': 'Cat/Kitten',\n",
    "                                                      'breed_y': 'hair length'})\n",
    "    \n",
    "    # return new dataframe with selected and renamed columns\n",
    "    return df_selected"
   ]
  },
  {
   "cell_type": "code",
   "execution_count": 22,
   "id": "75fd83bb-c4fc-4882-9291-0db70249781c",
   "metadata": {},
   "outputs": [],
   "source": [
    "test_df = select_and_rename_columns(df_merged)"
   ]
  },
  {
   "cell_type": "code",
   "execution_count": 23,
   "id": "71c81534-4565-4ce4-8081-13db6f6d0680",
   "metadata": {
    "tags": []
   },
   "outputs": [
    {
     "data": {
      "text/html": [
       "<div>\n",
       "<style scoped>\n",
       "    .dataframe tbody tr th:only-of-type {\n",
       "        vertical-align: middle;\n",
       "    }\n",
       "\n",
       "    .dataframe tbody tr th {\n",
       "        vertical-align: top;\n",
       "    }\n",
       "\n",
       "    .dataframe thead th {\n",
       "        text-align: right;\n",
       "    }\n",
       "</style>\n",
       "<table border=\"1\" class=\"dataframe\">\n",
       "  <thead>\n",
       "    <tr style=\"text-align: right;\">\n",
       "      <th></th>\n",
       "      <th>animal_type</th>\n",
       "      <th>breed</th>\n",
       "      <th>color</th>\n",
       "      <th>intake_condition</th>\n",
       "      <th>intake_type</th>\n",
       "      <th>sex_upon_intake</th>\n",
       "      <th>age_upon_intake_(years)</th>\n",
       "      <th>intake_datetime</th>\n",
       "      <th>time_in_shelter_days</th>\n",
       "      <th>Cat/Kitten</th>\n",
       "      <th>cfa_breed</th>\n",
       "      <th>domestic_breed</th>\n",
       "      <th>sex</th>\n",
       "      <th>Spay/Neuter</th>\n",
       "      <th>hair length</th>\n",
       "    </tr>\n",
       "  </thead>\n",
       "  <tbody>\n",
       "    <tr>\n",
       "      <th>0</th>\n",
       "      <td>Cat</td>\n",
       "      <td>domestic shorthair</td>\n",
       "      <td>Orange</td>\n",
       "      <td>Nursing</td>\n",
       "      <td>Stray</td>\n",
       "      <td>Intact Male</td>\n",
       "      <td>0.038356</td>\n",
       "      <td>2014-07-22 12:00:00</td>\n",
       "      <td>0.169444</td>\n",
       "      <td>Kitten</td>\n",
       "      <td>False</td>\n",
       "      <td>True</td>\n",
       "      <td>Male</td>\n",
       "      <td>No</td>\n",
       "      <td>short_hair</td>\n",
       "    </tr>\n",
       "    <tr>\n",
       "      <th>1</th>\n",
       "      <td>Cat</td>\n",
       "      <td>domestic shorthair</td>\n",
       "      <td>Striped</td>\n",
       "      <td>Normal</td>\n",
       "      <td>Stray</td>\n",
       "      <td>Intact Female</td>\n",
       "      <td>0.082192</td>\n",
       "      <td>2014-08-01 16:52:00</td>\n",
       "      <td>13.078472</td>\n",
       "      <td>Kitten</td>\n",
       "      <td>False</td>\n",
       "      <td>True</td>\n",
       "      <td>Female</td>\n",
       "      <td>No</td>\n",
       "      <td>short_hair</td>\n",
       "    </tr>\n",
       "    <tr>\n",
       "      <th>2</th>\n",
       "      <td>Cat</td>\n",
       "      <td>domestic shorthair</td>\n",
       "      <td>White/Black</td>\n",
       "      <td>Normal</td>\n",
       "      <td>Stray</td>\n",
       "      <td>Intact Female</td>\n",
       "      <td>0.082192</td>\n",
       "      <td>2014-05-10 13:54:00</td>\n",
       "      <td>50.160417</td>\n",
       "      <td>Kitten</td>\n",
       "      <td>False</td>\n",
       "      <td>True</td>\n",
       "      <td>Female</td>\n",
       "      <td>Yes</td>\n",
       "      <td>short_hair</td>\n",
       "    </tr>\n",
       "    <tr>\n",
       "      <th>3</th>\n",
       "      <td>Cat</td>\n",
       "      <td>domestic mediumhair</td>\n",
       "      <td>Black/White</td>\n",
       "      <td>Normal</td>\n",
       "      <td>Stray</td>\n",
       "      <td>Spayed Female</td>\n",
       "      <td>1.000000</td>\n",
       "      <td>2014-03-27 11:06:00</td>\n",
       "      <td>1.159028</td>\n",
       "      <td>Cat</td>\n",
       "      <td>False</td>\n",
       "      <td>True</td>\n",
       "      <td>Female</td>\n",
       "      <td>Yes</td>\n",
       "      <td>medium_hair</td>\n",
       "    </tr>\n",
       "    <tr>\n",
       "      <th>4</th>\n",
       "      <td>Cat</td>\n",
       "      <td>domestic shorthair</td>\n",
       "      <td>Black/White</td>\n",
       "      <td>Normal</td>\n",
       "      <td>Stray</td>\n",
       "      <td>Intact Male</td>\n",
       "      <td>0.057534</td>\n",
       "      <td>2014-01-07 18:27:00</td>\n",
       "      <td>2.043056</td>\n",
       "      <td>Kitten</td>\n",
       "      <td>False</td>\n",
       "      <td>True</td>\n",
       "      <td>Male</td>\n",
       "      <td>No</td>\n",
       "      <td>short_hair</td>\n",
       "    </tr>\n",
       "  </tbody>\n",
       "</table>\n",
       "</div>"
      ],
      "text/plain": [
       "  animal_type                breed        color intake_condition intake_type  \\\n",
       "0         Cat   domestic shorthair       Orange          Nursing       Stray   \n",
       "1         Cat   domestic shorthair      Striped           Normal       Stray   \n",
       "2         Cat   domestic shorthair  White/Black           Normal       Stray   \n",
       "3         Cat  domestic mediumhair  Black/White           Normal       Stray   \n",
       "4         Cat   domestic shorthair  Black/White           Normal       Stray   \n",
       "\n",
       "  sex_upon_intake  age_upon_intake_(years)     intake_datetime  \\\n",
       "0     Intact Male                 0.038356 2014-07-22 12:00:00   \n",
       "1   Intact Female                 0.082192 2014-08-01 16:52:00   \n",
       "2   Intact Female                 0.082192 2014-05-10 13:54:00   \n",
       "3   Spayed Female                 1.000000 2014-03-27 11:06:00   \n",
       "4     Intact Male                 0.057534 2014-01-07 18:27:00   \n",
       "\n",
       "   time_in_shelter_days Cat/Kitten  cfa_breed  domestic_breed     sex  \\\n",
       "0              0.169444     Kitten      False            True    Male   \n",
       "1             13.078472     Kitten      False            True  Female   \n",
       "2             50.160417     Kitten      False            True  Female   \n",
       "3              1.159028        Cat      False            True  Female   \n",
       "4              2.043056     Kitten      False            True    Male   \n",
       "\n",
       "  Spay/Neuter  hair length  \n",
       "0          No   short_hair  \n",
       "1          No   short_hair  \n",
       "2         Yes   short_hair  \n",
       "3         Yes  medium_hair  \n",
       "4          No   short_hair  "
      ]
     },
     "execution_count": 23,
     "metadata": {},
     "output_type": "execute_result"
    }
   ],
   "source": [
    "test_df.head()\n",
    "        \n",
    "    "
   ]
  },
  {
   "cell_type": "code",
   "execution_count": null,
   "id": "99b821ee-03a1-4e9f-8793-8af4ad5f213f",
   "metadata": {
    "tags": []
   },
   "outputs": [],
   "source": [
    "a"
   ]
  },
  {
   "cell_type": "code",
   "execution_count": null,
   "id": "d03b0d3b-715e-40ea-9448-8aad26f9c8ac",
   "metadata": {
    "tags": []
   },
   "outputs": [],
   "source": [
    "all_color = data_acc_intakes['color']\n",
    "all_color = pd.DataFrame(all_color)"
   ]
  },
  {
   "cell_type": "markdown",
   "id": "ef3ca931-6f0a-4bac-b71a-e291ae1d4191",
   "metadata": {},
   "source": [
    "## Define preprocessing functions"
   ]
  },
  {
   "cell_type": "code",
   "execution_count": null,
   "id": "08a64c47-f864-4f4a-b80d-b508326b412c",
   "metadata": {
    "tags": []
   },
   "outputs": [],
   "source": [
    "#color name substitution \n",
    "def replace_colors(color_list, new_color, series):\n",
    "    series = series.copy()\n",
    "    for color in color_list:\n",
    "        series = series.str.replace(color, new_color)\n",
    "    return series"
   ]
  },
  {
   "cell_type": "code",
   "execution_count": null,
   "id": "6da8fa12-df15-4db3-8ed7-619330014156",
   "metadata": {
    "tags": []
   },
   "outputs": [],
   "source": [
    "#check for duplicate values separated by \"/\"\n",
    "\n",
    "def is_duplicate_value(color):\n",
    "    color_list = color.split(\"/\")\n",
    "    if len(color_list) != 2:\n",
    "        return color\n",
    "    if color_list[0] == color_list[1]:\n",
    "        return color_list[0]\n",
    "    else:\n",
    "        return color"
   ]
  },
  {
   "cell_type": "code",
   "execution_count": null,
   "id": "10f429b9-3633-4aa2-9545-adb287413678",
   "metadata": {
    "tags": []
   },
   "outputs": [],
   "source": [
    "#defining all tricolor animals in tricolor\n",
    "def is_tricolor(in_color):\n",
    "    colors = [\"Calico\", \"Tricolor\"]\n",
    "    color_list = \" \".join(in_color.split(\"/\")).split(\" \")\n",
    "    for color in colors:\n",
    "        if color in color_list:\n",
    "            return \"Tricolor\"\n",
    "    return in_color"
   ]
  },
  {
   "cell_type": "code",
   "execution_count": null,
   "id": "5c131bf8-67f6-47a7-b7dd-ad5ffa7fde10",
   "metadata": {
    "tags": []
   },
   "outputs": [],
   "source": [
    "#defining all animals in striped\n",
    "def has_stripes(in_color):\n",
    "    colors = [\"Torbie\", \"Striped\", \"Tabby\", \"Tortie\", \"Tiger\", \"Brindle\", \"Sable\"]\n",
    "    color_list = \" \".join(in_color.split(\"/\")).split(\" \")\n",
    "    for color in colors:\n",
    "        if color in color_list:\n",
    "            return \"Striped\"\n",
    "    return in_color"
   ]
  },
  {
   "cell_type": "code",
   "execution_count": null,
   "id": "99e11507-0778-4068-acd4-b1adb738fbc7",
   "metadata": {
    "tags": []
   },
   "outputs": [],
   "source": [
    "#defining all animals with spots\n",
    "def has_spots(in_color):\n",
    "    colors = [\"Merle\", \"Spotted\"]\n",
    "    color_list = \" \".join(in_color.split(\"/\")).split(\" \")\n",
    "    for color in colors:\n",
    "        if color in color_list:\n",
    "            return \"Spotted\"\n",
    "    return in_color"
   ]
  },
  {
   "cell_type": "markdown",
   "id": "969477b6-514c-4d68-9230-525edae58c8b",
   "metadata": {},
   "source": [
    "## Call cleaning functions"
   ]
  },
  {
   "cell_type": "code",
   "execution_count": null,
   "id": "3fadc259",
   "metadata": {
    "tags": []
   },
   "outputs": [],
   "source": []
  },
  {
   "cell_type": "code",
   "execution_count": null,
   "id": "ba29bddc-1e7b-46b2-bd68-54404a73e49b",
   "metadata": {
    "tags": []
   },
   "outputs": [],
   "source": [
    "#function for performing all of the above operations at once!\n",
    "def perform_all_color_cleaning(series):\n",
    "    color_map = {\n",
    "        \"\": [\" Tick\"],\n",
    "        \"Brown\": [\"Chocolate\", \"Liver\", \"Ruddy\"], \n",
    "        \"White\": [\"Flame Point\", \"Lilac Point\"], \n",
    "        \"Beige\": [\"Buff\", \"Tan\", \"Fawn\", \"Yellow\", \"Gold\", \"Cream\", \"Seal Point\", \"Lynx Point\", \"Brown Point\", \"Apricot\", \"Pink\"],\n",
    "        \"Orange\": [\"Orange Tabby\", \"Red\"], \n",
    "        \"Tricolor\": [\"Tricolor\", \"Calico\"], \n",
    "        \"Spotted\": [\"Black Merle\", \"Brown Merle\", \"Gray Merle\", \"Orange Merle\" ], \n",
    "        \"Striped\": [\"Tiger\", \"Tabby\"],\n",
    "        \"Gray\": [\"Black Smoke\", \"Gray Smoke\", \"Gray Point\", \"Silver Lynx Point\", \"Silver\", \"Agouti\", \"Grey\", \"Blue\", \"Gray Beige\"],\n",
    "    }\n",
    "    for key, val in color_map.items():\n",
    "        series = replace_colors(val, key, series)\n",
    "    series = series.map(is_duplicate_value)\n",
    "    series = series.map(has_spots)\n",
    "    series = series.map(has_stripes)\n",
    "    series = series.map(is_tricolor)\n",
    "    return series"
   ]
  },
  {
   "cell_type": "code",
   "execution_count": null,
   "id": "c3b44f89-a444-4ccb-862b-280683331cca",
   "metadata": {
    "tags": []
   },
   "outputs": [],
   "source": [
    "type(all_color[\"color\"])"
   ]
  },
  {
   "cell_type": "code",
   "execution_count": null,
   "id": "faf30ac3-c41c-413b-8c63-7d3e958bdee0",
   "metadata": {
    "tags": []
   },
   "outputs": [],
   "source": [
    "final = []\n",
    "for el in [color.split(\"/\") for color in colors]:\n",
    "    final += el\n",
    "list(set(final))"
   ]
  },
  {
   "cell_type": "code",
   "execution_count": null,
   "id": "91bb8092-76bb-47a1-86d7-161059670030",
   "metadata": {
    "tags": []
   },
   "outputs": [],
   "source": [
    "len(colors)"
   ]
  },
  {
   "cell_type": "code",
   "execution_count": null,
   "id": "ca023464-74b3-42cf-b692-90fb25f16230",
   "metadata": {
    "tags": []
   },
   "outputs": [],
   "source": [
    "colors[-1].replace(\"Gray Tick\", \"Gray\")"
   ]
  },
  {
   "cell_type": "markdown",
   "id": "6f999c7d-d132-4f5c-a220-508f24d39c52",
   "metadata": {},
   "source": [
    "## Old unused code"
   ]
  },
  {
   "cell_type": "code",
   "execution_count": null,
   "id": "4831587f-7057-4784-a734-6e454193dede",
   "metadata": {},
   "outputs": [],
   "source": [
    "#complex colors\n",
    "# all_color = replace_colors([\"Torbie\", \"Tabby\", \"Tortie\", \"Blue Striped\", \"Brown Striped\", \"Brindle\", \"Black Striped\" ], \"Striped\", all_color[\"color\"]) #preliminary striped\n",
    "\n",
    "# def is_striped(color):\n",
    "#     colors = [\"Striped\"]\n",
    "#     color_list = \" \".join(color.split(\"/\")).split(\" \")\n",
    "#     for color in colors:\n",
    "#         if color in color_list:\n",
    "#             return True\n",
    "#     return False\n",
    "\n",
    "\n",
    "# all_color = all_color.replace(to_replace=['Black/Black Tabby','White/Black Tabby','Black Tabby/White','Black Tabby/Black', 'Brown/Black Tabby',\n",
    "#                                          'Black Tabby/Orange', 'Black Tabby/Gray Tabby', 'Black Tabby/Gray', 'Black Tabby', \n",
    "#                                          'Black Brindle/White', 'Black Brindle', 'White/Black Brindle', 'Black Brindle/Brown', 'Black/Black Brindle',\n",
    "#                                           'Black Brindle/Black', 'Brown/Black Brindle', 'Brown Tabby/Black Brindle', 'Black Brindle/Blue',\n",
    "#                                           'Black Brindle/Blue Tick', 'Black Brindle/Brown Brindle', 'Brown Brindle/White',\n",
    "#                                           'Brown Brindle', 'White/Brown Brindle', 'Black/Brown Brindle', 'Brown Brindle/Black', 'Tricolor/Brown Brindle',\n",
    "#                                           'Brown Brindle/Tan', 'Brown Brindle/Brown', 'Blue/Brown Brindle', 'Brown/Brown Brindle',\n",
    "#                                           'Brown Brindle/Red Tick', 'Fawn/Brown Brindle', 'Brown Brindle/Blue Tick',\n",
    "#                                           'Chocolate/Brown Brindle', 'Tan/Brown Brindle', 'Blue Tick/Brown Brindle', 'Brown Striped', 'Brown Brindle/Blue',\n",
    "#                                           'Brown Brindle/Blue Cream', 'Brown Brindle/Brown Brindle', 'Brown Brindle/Brown Merle',\n",
    "#                                           'Brown Brindle/Gray', 'Black Brindle/Brown Brindle', 'Blue Merle/Brown Brindle',\n",
    "#                                           'Yellow Brindle/White', 'Yellow Brindle', 'White/Yellow Brindle', 'Sable/Brown',\n",
    "#                                           'Black/Yellow Brindle', 'Blue/Yellow Brindle', 'Tan/Yellow Brindle', 'Yellow Brindle/Blue', 'Torbie', 'Tabby'], value= 'Striped')"
   ]
  }
 ],
 "metadata": {
  "kernelspec": {
   "display_name": "Python 3 (ipykernel)",
   "language": "python",
   "name": "python3"
  },
  "language_info": {
   "codemirror_mode": {
    "name": "ipython",
    "version": 3
   },
   "file_extension": ".py",
   "mimetype": "text/x-python",
   "name": "python",
   "nbconvert_exporter": "python",
   "pygments_lexer": "ipython3",
   "version": "3.10.6"
  },
  "toc": {
   "base_numbering": 1,
   "nav_menu": {},
   "number_sections": true,
   "sideBar": true,
   "skip_h1_title": false,
   "title_cell": "Table of Contents",
   "title_sidebar": "Contents",
   "toc_cell": false,
   "toc_position": {},
   "toc_section_display": true,
   "toc_window_display": false
  },
  "vscode": {
   "interpreter": {
    "hash": "dd56538736ad7b003df3ecc66df3a2c8ca81e3b624717e6dfe5a53e68fae20f7"
   }
  }
 },
 "nbformat": 4,
 "nbformat_minor": 5
}
