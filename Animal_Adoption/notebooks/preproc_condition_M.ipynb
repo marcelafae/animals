{
 "cells": [
  {
   "cell_type": "markdown",
   "id": "c0ec8777-3fc2-483e-9ead-a03c44e95fa7",
   "metadata": {},
   "source": [
    "# Work on data analysis of intake_condition"
   ]
  },
  {
   "cell_type": "code",
   "execution_count": 1,
   "id": "7a0bebb0-7481-4935-aa38-28ec248e2c0f",
   "metadata": {
    "tags": []
   },
   "outputs": [],
   "source": [
    "import pandas as pd\n",
    "import seaborn as sns\n",
    "import matplotlib as plt\n",
    "\n",
    "pd.set_option('display.max_rows', None)\n"
   ]
  },
  {
   "cell_type": "code",
   "execution_count": 2,
   "id": "28921910-e85d-440a-9106-c40b460975d4",
   "metadata": {
    "tags": []
   },
   "outputs": [],
   "source": [
    "data_acc_intakes = pd.read_csv('/Users/marcela/code/marcelafae/animals/raw_data/data/animal_data_8_24/aac_intakes.csv')"
   ]
  },
  {
   "cell_type": "markdown",
   "id": "091574df-8ba0-458e-bc7f-1f3e8cc08107",
   "metadata": {
    "tags": []
   },
   "source": [
    "## Eliminate everything but cats and dogs\n"
   ]
  },
  {
   "cell_type": "code",
   "execution_count": 5,
   "id": "b4e23447-6ecc-4022-910d-9798cfb8a69c",
   "metadata": {
    "tags": []
   },
   "outputs": [],
   "source": [
    "data_acc_intakes = data_acc_intakes[data_acc_intakes['animal_type'].str.contains('Bird') == False]\n",
    "data_acc_intakes = data_acc_intakes[data_acc_intakes['animal_type'].str.contains('Other') == False]\n",
    "data_acc_intakes = data_acc_intakes[data_acc_intakes['animal_type'].str.contains('Livestock') == False]\n"
   ]
  },
  {
   "cell_type": "markdown",
   "id": "80985bb5-3ad7-41c4-8fd1-b04df90a204b",
   "metadata": {},
   "source": [
    "## Work on the dtypes and drop useless columns "
   ]
  },
  {
   "cell_type": "code",
   "execution_count": 6,
   "id": "c724bdca-b494-472d-a689-b6b0245b6ea8",
   "metadata": {
    "tags": []
   },
   "outputs": [],
   "source": [
    "data_acc_intakes = data_acc_intakes.convert_dtypes()\n",
    "data_acc_intakes = data_acc_intakes.drop(['breed', 'color', 'datetime', 'datetime2', 'found_location', 'name', 'sex_upon_intake'], axis=1)"
   ]
  },
  {
   "cell_type": "code",
   "execution_count": 7,
   "id": "b251d27a-6399-4caf-a978-ce3f0da593cd",
   "metadata": {
    "tags": []
   },
   "outputs": [
    {
     "data": {
      "text/plain": [
       "Normal      67439\n",
       "Injured      3327\n",
       "Sick         2166\n",
       "Nursing      1867\n",
       "Aged          319\n",
       "Other         144\n",
       "Feral          91\n",
       "Pregnant       49\n",
       "Name: intake_condition, dtype: Int64"
      ]
     },
     "execution_count": 7,
     "metadata": {},
     "output_type": "execute_result"
    }
   ],
   "source": [
    "data_acc_intakes['intake_condition'].value_counts()"
   ]
  },
  {
   "cell_type": "code",
   "execution_count": 8,
   "id": "ba571596-8787-4ef2-987c-f2c570b65c71",
   "metadata": {},
   "outputs": [],
   "source": []
  },
  {
   "cell_type": "markdown",
   "id": "739d443b-13f4-4960-917b-905be7a018e9",
   "metadata": {},
   "source": [
    "## Python functions"
   ]
  },
  {
   "cell_type": "code",
   "execution_count": 9,
   "id": "3e686130-0877-4e69-a401-ecdd4e1be90d",
   "metadata": {
    "tags": []
   },
   "outputs": [],
   "source": [
    "#functions to fix the age dtype from srt to int\n",
    "def fix_age(x):\n",
    "    \n",
    "    x1=x.split(' ')\n",
    "    if 'year' in x1[1]:\n",
    "        return float(x1[0])\n",
    "    \n",
    "    elif 'month' in x1[1]:\n",
    "        x1[0] = int(x1[0])/12\n",
    "        return float(x1[0])\n",
    "    \n",
    "    elif 'week' in x1[1]:\n",
    "        x1[0] = int(x1[0])/52\n",
    "        return float(x1[0])\n",
    "    \n",
    "    else: \n",
    "        x1[0] = int(x1[0])/365\n",
    "        return float(x1[0])\n",
    "\n"
   ]
  },
  {
   "cell_type": "code",
   "execution_count": 10,
   "id": "10ef9885-4045-47d9-b1ae-bca4c2fe1aa6",
   "metadata": {
    "tags": []
   },
   "outputs": [],
   "source": [
    "#drop all animals under 8 considered AGED on the normal df \n",
    "\n",
    "def drop_under_8_aged(df):\n",
    "    condition_1 = df['age_upon_intake'] > 8\n",
    "    condition_2 = df['intake_condition'] != 'Aged'\n",
    "    new_df = df[(condition_1) & (condition_2)]\n",
    "    return new_df"
   ]
  },
  {
   "cell_type": "code",
   "execution_count": null,
   "id": "b9e332a2-1d39-4a9f-b479-3be960478c5b",
   "metadata": {},
   "outputs": [],
   "source": []
  },
  {
   "cell_type": "code",
   "execution_count": 11,
   "id": "cfbe9add-2a05-48bc-b7ac-fc4e92ab48ff",
   "metadata": {
    "jupyter": {
     "source_hidden": true
    },
    "tags": []
   },
   "outputs": [],
   "source": [
    "#intakes_aged['age_upon_intake'] = intakes_aged['age_upon_intake'].apply(lambda x: fix_age(x))"
   ]
  },
  {
   "cell_type": "code",
   "execution_count": null,
   "id": "ee2a167d-a3b7-4105-84e3-7c9cc837f799",
   "metadata": {
    "tags": []
   },
   "outputs": [],
   "source": []
  },
  {
   "cell_type": "code",
   "execution_count": null,
   "id": "2d696c60-c0ae-4cb3-8d5a-f521e201c23e",
   "metadata": {
    "tags": []
   },
   "outputs": [],
   "source": []
  },
  {
   "cell_type": "code",
   "execution_count": null,
   "id": "2b29569c-4af9-4a7d-9680-8cddcc9be73f",
   "metadata": {},
   "outputs": [],
   "source": []
  }
 ],
 "metadata": {
  "kernelspec": {
   "display_name": "Python 3 (ipykernel)",
   "language": "python",
   "name": "python3"
  },
  "language_info": {
   "codemirror_mode": {
    "name": "ipython",
    "version": 3
   },
   "file_extension": ".py",
   "mimetype": "text/x-python",
   "name": "python",
   "nbconvert_exporter": "python",
   "pygments_lexer": "ipython3",
   "version": "3.10.6"
  }
 },
 "nbformat": 4,
 "nbformat_minor": 5
}
