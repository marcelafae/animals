{
 "cells": [
  {
   "cell_type": "code",
   "execution_count": null,
   "id": "940dfade",
   "metadata": {},
   "outputs": [],
   "source": [
    "#  Import the necessary libraries\n",
    "import pandas as pd\n",
    "import tensorflow as tf\n",
    "from sklearn.model_selection import train_test_split"
   ]
  },
  {
   "cell_type": "code",
   "execution_count": null,
   "id": "3a0be3df",
   "metadata": {},
   "outputs": [],
   "source": [
    "# Load the dataset\n",
    "df = pd.read_csv('dog_shelter_data.csv')"
   ]
  },
  {
   "cell_type": "code",
   "execution_count": null,
   "id": "283bbcd5",
   "metadata": {},
   "outputs": [],
   "source": [
    "# Prepare the data\n",
    "# Select relevant features\n",
    "features = ['age_upon_outcome_(days)', 'sex_upon_outcome', 'breed', 'color', 'intake_condition', 'sex_upon_intake']\n",
    "\n",
    "# Convert categorical features to numerical values\n",
    "df['sex_upon_outcome'] = pd.factorize(df['sex_upon_outcome'])[0]\n",
    "df['breed'] = pd.factorize(df['breed'])[0]\n",
    "df['color'] = pd.factorize(df['color'])[0]\n",
    "df['intake_condition'] = pd.factorize(df['intake_condition'])[0]\n",
    "df['sex_upon_intake'] = pd.factorize(df['sex_upon_intake'])[0]\n",
    "\n",
    "# Split into features and target variable\n",
    "X = df[features]\n",
    "y = df['time_in_shelter_days']\n",
    "\n",
    "# Split into training and testing sets\n",
    "X_train, X_test, y_train, y_test = train_test_split(X, y, test_size=0.2, random_state=42)"
   ]
  },
  {
   "cell_type": "code",
   "execution_count": null,
   "id": "4635fb57",
   "metadata": {},
   "outputs": [],
   "source": [
    "# Build the model\n",
    "model = tf.keras.Sequential([\n",
    "    tf.keras.layers.Dense(128, activation='relu', input_shape=[len(features)]),\n",
    "    tf.keras.layers.Dense(64, activation='relu'),\n",
    "    tf.keras.layers.Dense(1)\n",
    "])\n",
    "\n",
    "model.compile(optimizer='adam', loss='mean_squared_error', metrics=['mean_absolute_error'])\n"
   ]
  },
  {
   "cell_type": "code",
   "execution_count": null,
   "id": "ad576423",
   "metadata": {},
   "outputs": [],
   "source": [
    "# Train the model\n",
    "model.fit(X_train, y_train, epochs=100)"
   ]
  },
  {
   "cell_type": "code",
   "execution_count": null,
   "id": "b4104d01",
   "metadata": {},
   "outputs": [],
   "source": [
    "# Evaluate the model\n",
    "loss, mae = model.evaluate(X_test, y_test, verbose=0)\n",
    "print(\"Mean absolute error:\", mae)"
   ]
  },
  {
   "cell_type": "code",
   "execution_count": null,
   "id": "9d12975f",
   "metadata": {},
   "outputs": [],
   "source": [
    "Make predictions\n",
    "predictions = model.predict(X_test)\n"
   ]
  },
  {
   "cell_type": "code",
   "execution_count": null,
   "id": "e9387c82",
   "metadata": {},
   "outputs": [],
   "source": []
  },
  {
   "cell_type": "code",
   "execution_count": null,
   "id": "bc9cf052",
   "metadata": {},
   "outputs": [],
   "source": []
  },
  {
   "cell_type": "code",
   "execution_count": null,
   "id": "0bdffdaf",
   "metadata": {},
   "outputs": [],
   "source": []
  }
 ],
 "metadata": {
  "kernelspec": {
   "display_name": "Python 3 (ipykernel)",
   "language": "python",
   "name": "python3"
  },
  "language_info": {
   "codemirror_mode": {
    "name": "ipython",
    "version": 3
   },
   "file_extension": ".py",
   "mimetype": "text/x-python",
   "name": "python",
   "nbconvert_exporter": "python",
   "pygments_lexer": "ipython3",
   "version": "3.9.7"
  },
  "toc": {
   "base_numbering": 1,
   "nav_menu": {},
   "number_sections": true,
   "sideBar": true,
   "skip_h1_title": false,
   "title_cell": "Table of Contents",
   "title_sidebar": "Contents",
   "toc_cell": false,
   "toc_position": {},
   "toc_section_display": true,
   "toc_window_display": false
  }
 },
 "nbformat": 4,
 "nbformat_minor": 5
}
