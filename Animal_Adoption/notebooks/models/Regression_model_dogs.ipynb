{
 "cells": [
  {
   "cell_type": "markdown",
   "id": "57be2312",
   "metadata": {},
   "source": [
    "Animals project"
   ]
  },
  {
   "cell_type": "code",
   "execution_count": 1,
   "id": "13c47b85",
   "metadata": {
    "tags": []
   },
   "outputs": [],
   "source": [
    "import numpy as np\n",
    "import pandas as pd\n",
    "import matplotlib"
   ]
  },
  {
   "cell_type": "code",
   "execution_count": 2,
   "id": "20f33cb1",
   "metadata": {
    "tags": []
   },
   "outputs": [],
   "source": [
    "from Animal_Adoption.preproc.data_dog import get_data_dogs"
   ]
  },
  {
   "cell_type": "code",
   "execution_count": 3,
   "id": "e969b77c",
   "metadata": {
    "tags": []
   },
   "outputs": [],
   "source": [
    "df = get_data_dogs()"
   ]
  },
  {
   "cell_type": "code",
   "execution_count": 4,
   "id": "bd9d2a89",
   "metadata": {
    "tags": []
   },
   "outputs": [],
   "source": [
    "# Import dataframe from final_df_dogs_and_dogbreeds - final_df_dogs_and_dogbreeds.csv\n",
    "#csv_file_path = \"/home/john/code/joagap/animals/final_df_dogs_and_dogbreeds - final_df_dogs_and_dogbreeds.csv\"\n",
    "#df = pd.read_csv(csv_file_path)\n",
    "#print(df.head())"
   ]
  },
  {
   "cell_type": "code",
   "execution_count": 5,
   "id": "12d3198c",
   "metadata": {
    "tags": []
   },
   "outputs": [
    {
     "data": {
      "text/html": [
       "<div>\n",
       "<style scoped>\n",
       "    .dataframe tbody tr th:only-of-type {\n",
       "        vertical-align: middle;\n",
       "    }\n",
       "\n",
       "    .dataframe tbody tr th {\n",
       "        vertical-align: top;\n",
       "    }\n",
       "\n",
       "    .dataframe thead th {\n",
       "        text-align: right;\n",
       "    }\n",
       "</style>\n",
       "<table border=\"1\" class=\"dataframe\">\n",
       "  <thead>\n",
       "    <tr style=\"text-align: right;\">\n",
       "      <th></th>\n",
       "      <th>date_of_birth</th>\n",
       "      <th>sex_upon_outcome</th>\n",
       "      <th>age_upon_intake</th>\n",
       "      <th>animal_type</th>\n",
       "      <th>breed</th>\n",
       "      <th>color</th>\n",
       "      <th>intake_condition</th>\n",
       "      <th>intake_type</th>\n",
       "      <th>sex_upon_intake</th>\n",
       "      <th>age_upon_intake_(years)</th>\n",
       "      <th>...</th>\n",
       "      <th>max_life_expectancy</th>\n",
       "      <th>max_height_male</th>\n",
       "      <th>max_height_female</th>\n",
       "      <th>max_weight_male</th>\n",
       "      <th>max_weight_female</th>\n",
       "      <th>min_height_male</th>\n",
       "      <th>min_height_female</th>\n",
       "      <th>min_weight_male</th>\n",
       "      <th>min_weight_female</th>\n",
       "      <th>name</th>\n",
       "    </tr>\n",
       "  </thead>\n",
       "  <tbody>\n",
       "    <tr>\n",
       "      <th>0</th>\n",
       "      <td>2007-07-09</td>\n",
       "      <td>Neutered Male</td>\n",
       "      <td>10 years</td>\n",
       "      <td>Dog</td>\n",
       "      <td>spinone italiano</td>\n",
       "      <td>Yellow/White</td>\n",
       "      <td>Normal</td>\n",
       "      <td>Stray</td>\n",
       "      <td>Neutered Male</td>\n",
       "      <td>10.0</td>\n",
       "      <td>...</td>\n",
       "      <td>12.0</td>\n",
       "      <td>27.0</td>\n",
       "      <td>27.0</td>\n",
       "      <td>86.0</td>\n",
       "      <td>75.0</td>\n",
       "      <td>23.0</td>\n",
       "      <td>23.0</td>\n",
       "      <td>75.0</td>\n",
       "      <td>64.0</td>\n",
       "      <td>Spinone Italiano</td>\n",
       "    </tr>\n",
       "    <tr>\n",
       "      <th>1</th>\n",
       "      <td>2007-07-09</td>\n",
       "      <td>Neutered Male</td>\n",
       "      <td>7 years</td>\n",
       "      <td>Dog</td>\n",
       "      <td>spinone italiano</td>\n",
       "      <td>Yellow/White</td>\n",
       "      <td>Normal</td>\n",
       "      <td>Public Assist</td>\n",
       "      <td>Neutered Male</td>\n",
       "      <td>7.0</td>\n",
       "      <td>...</td>\n",
       "      <td>12.0</td>\n",
       "      <td>27.0</td>\n",
       "      <td>27.0</td>\n",
       "      <td>86.0</td>\n",
       "      <td>75.0</td>\n",
       "      <td>23.0</td>\n",
       "      <td>23.0</td>\n",
       "      <td>75.0</td>\n",
       "      <td>64.0</td>\n",
       "      <td>Spinone Italiano</td>\n",
       "    </tr>\n",
       "    <tr>\n",
       "      <th>2</th>\n",
       "      <td>2007-07-09</td>\n",
       "      <td>Neutered Male</td>\n",
       "      <td>6 years</td>\n",
       "      <td>Dog</td>\n",
       "      <td>spinone italiano</td>\n",
       "      <td>Yellow/White</td>\n",
       "      <td>Normal</td>\n",
       "      <td>Public Assist</td>\n",
       "      <td>Neutered Male</td>\n",
       "      <td>6.0</td>\n",
       "      <td>...</td>\n",
       "      <td>12.0</td>\n",
       "      <td>27.0</td>\n",
       "      <td>27.0</td>\n",
       "      <td>86.0</td>\n",
       "      <td>75.0</td>\n",
       "      <td>23.0</td>\n",
       "      <td>23.0</td>\n",
       "      <td>75.0</td>\n",
       "      <td>64.0</td>\n",
       "      <td>Spinone Italiano</td>\n",
       "    </tr>\n",
       "    <tr>\n",
       "      <th>3</th>\n",
       "      <td>2004-04-02</td>\n",
       "      <td>Neutered Male</td>\n",
       "      <td>10 years</td>\n",
       "      <td>Dog</td>\n",
       "      <td>dachshund</td>\n",
       "      <td>Tricolor</td>\n",
       "      <td>Normal</td>\n",
       "      <td>Owner Surrender</td>\n",
       "      <td>Neutered Male</td>\n",
       "      <td>10.0</td>\n",
       "      <td>...</td>\n",
       "      <td>16.0</td>\n",
       "      <td>9.0</td>\n",
       "      <td>9.0</td>\n",
       "      <td>32.0</td>\n",
       "      <td>32.0</td>\n",
       "      <td>8.0</td>\n",
       "      <td>8.0</td>\n",
       "      <td>16.0</td>\n",
       "      <td>16.0</td>\n",
       "      <td>Dachshund</td>\n",
       "    </tr>\n",
       "    <tr>\n",
       "      <th>4</th>\n",
       "      <td>1997-10-03</td>\n",
       "      <td>Neutered Male</td>\n",
       "      <td>16 years</td>\n",
       "      <td>Dog</td>\n",
       "      <td>dachshund</td>\n",
       "      <td>Black/Tan</td>\n",
       "      <td>Normal</td>\n",
       "      <td>Owner Surrender</td>\n",
       "      <td>Neutered Male</td>\n",
       "      <td>16.0</td>\n",
       "      <td>...</td>\n",
       "      <td>16.0</td>\n",
       "      <td>9.0</td>\n",
       "      <td>9.0</td>\n",
       "      <td>32.0</td>\n",
       "      <td>32.0</td>\n",
       "      <td>8.0</td>\n",
       "      <td>8.0</td>\n",
       "      <td>16.0</td>\n",
       "      <td>16.0</td>\n",
       "      <td>Dachshund</td>\n",
       "    </tr>\n",
       "  </tbody>\n",
       "</table>\n",
       "<p>5 rows × 45 columns</p>\n",
       "</div>"
      ],
      "text/plain": [
       "  date_of_birth sex_upon_outcome age_upon_intake animal_type  \\\n",
       "0    2007-07-09    Neutered Male        10 years         Dog   \n",
       "1    2007-07-09    Neutered Male         7 years         Dog   \n",
       "2    2007-07-09    Neutered Male         6 years         Dog   \n",
       "3    2004-04-02    Neutered Male        10 years         Dog   \n",
       "4    1997-10-03    Neutered Male        16 years         Dog   \n",
       "\n",
       "              breed         color intake_condition      intake_type  \\\n",
       "0  spinone italiano  Yellow/White           Normal            Stray   \n",
       "1  spinone italiano  Yellow/White           Normal    Public Assist   \n",
       "2  spinone italiano  Yellow/White           Normal    Public Assist   \n",
       "3         dachshund      Tricolor           Normal  Owner Surrender   \n",
       "4         dachshund     Black/Tan           Normal  Owner Surrender   \n",
       "\n",
       "  sex_upon_intake  age_upon_intake_(years)  ... max_life_expectancy  \\\n",
       "0   Neutered Male                     10.0  ...                12.0   \n",
       "1   Neutered Male                      7.0  ...                12.0   \n",
       "2   Neutered Male                      6.0  ...                12.0   \n",
       "3   Neutered Male                     10.0  ...                16.0   \n",
       "4   Neutered Male                     16.0  ...                16.0   \n",
       "\n",
       "   max_height_male  max_height_female max_weight_male  max_weight_female  \\\n",
       "0             27.0               27.0            86.0               75.0   \n",
       "1             27.0               27.0            86.0               75.0   \n",
       "2             27.0               27.0            86.0               75.0   \n",
       "3              9.0                9.0            32.0               32.0   \n",
       "4              9.0                9.0            32.0               32.0   \n",
       "\n",
       "   min_height_male min_height_female  min_weight_male min_weight_female  \\\n",
       "0             23.0              23.0             75.0              64.0   \n",
       "1             23.0              23.0             75.0              64.0   \n",
       "2             23.0              23.0             75.0              64.0   \n",
       "3              8.0               8.0             16.0              16.0   \n",
       "4              8.0               8.0             16.0              16.0   \n",
       "\n",
       "               name  \n",
       "0  Spinone Italiano  \n",
       "1  Spinone Italiano  \n",
       "2  Spinone Italiano  \n",
       "3         Dachshund  \n",
       "4         Dachshund  \n",
       "\n",
       "[5 rows x 45 columns]"
      ]
     },
     "execution_count": 5,
     "metadata": {},
     "output_type": "execute_result"
    }
   ],
   "source": [
    "df.head()"
   ]
  },
  {
   "cell_type": "code",
   "execution_count": 6,
   "id": "46a89fb3",
   "metadata": {
    "tags": []
   },
   "outputs": [
    {
     "name": "stdout",
     "output_type": "stream",
     "text": [
      "Index(['date_of_birth', 'sex_upon_outcome', 'age_upon_intake', 'animal_type',\n",
      "       'breed', 'color', 'intake_condition', 'intake_type', 'sex_upon_intake',\n",
      "       'age_upon_intake_(years)', 'intake_datetime', 'intake_month',\n",
      "       'intake_year', 'intake_weekday', 'intake_hour', 'intake_number',\n",
      "       'time_in_shelter', 'time_in_shelter_days', 'breed_type', 'sex_type',\n",
      "       'sex', 'image_link', 'good_with_children', 'good_with_other_dogs',\n",
      "       'shedding', 'grooming', 'drooling', 'coat_length',\n",
      "       'good_with_strangers', 'playfulness', 'protectiveness', 'trainability',\n",
      "       'energy', 'barking', 'min_life_expectancy', 'max_life_expectancy',\n",
      "       'max_height_male', 'max_height_female', 'max_weight_male',\n",
      "       'max_weight_female', 'min_height_male', 'min_height_female',\n",
      "       'min_weight_male', 'min_weight_female', 'name'],\n",
      "      dtype='object')\n"
     ]
    }
   ],
   "source": [
    "print(df.columns)"
   ]
  },
  {
   "cell_type": "code",
   "execution_count": 7,
   "id": "abe847ef",
   "metadata": {
    "tags": []
   },
   "outputs": [
    {
     "name": "stdout",
     "output_type": "stream",
     "text": [
      "<class 'pandas.core.frame.DataFrame'>\n",
      "Int64Index: 45366 entries, 0 to 45365\n",
      "Data columns (total 45 columns):\n",
      " #   Column                   Non-Null Count  Dtype         \n",
      "---  ------                   --------------  -----         \n",
      " 0   date_of_birth            45365 non-null  datetime64[ns]\n",
      " 1   sex_upon_outcome         45365 non-null  object        \n",
      " 2   age_upon_intake          45365 non-null  object        \n",
      " 3   animal_type              45365 non-null  object        \n",
      " 4   breed                    45366 non-null  object        \n",
      " 5   color                    45365 non-null  object        \n",
      " 6   intake_condition         45365 non-null  object        \n",
      " 7   intake_type              45365 non-null  object        \n",
      " 8   sex_upon_intake          45365 non-null  object        \n",
      " 9   age_upon_intake_(years)  45365 non-null  float64       \n",
      " 10  intake_datetime          45365 non-null  datetime64[ns]\n",
      " 11  intake_month             45365 non-null  float64       \n",
      " 12  intake_year              45365 non-null  float64       \n",
      " 13  intake_weekday           45365 non-null  object        \n",
      " 14  intake_hour              45365 non-null  float64       \n",
      " 15  intake_number            45365 non-null  float64       \n",
      " 16  time_in_shelter          45365 non-null  object        \n",
      " 17  time_in_shelter_days     45365 non-null  float64       \n",
      " 18  breed_type               45365 non-null  object        \n",
      " 19  sex_type                 45365 non-null  object        \n",
      " 20  sex                      45365 non-null  object        \n",
      " 21  image_link               30676 non-null  object        \n",
      " 22  good_with_children       30676 non-null  float64       \n",
      " 23  good_with_other_dogs     30676 non-null  float64       \n",
      " 24  shedding                 30676 non-null  float64       \n",
      " 25  grooming                 30676 non-null  float64       \n",
      " 26  drooling                 30676 non-null  float64       \n",
      " 27  coat_length              30676 non-null  float64       \n",
      " 28  good_with_strangers      30676 non-null  float64       \n",
      " 29  playfulness              30676 non-null  float64       \n",
      " 30  protectiveness           30676 non-null  float64       \n",
      " 31  trainability             30676 non-null  float64       \n",
      " 32  energy                   30676 non-null  float64       \n",
      " 33  barking                  30676 non-null  float64       \n",
      " 34  min_life_expectancy      30676 non-null  float64       \n",
      " 35  max_life_expectancy      30676 non-null  float64       \n",
      " 36  max_height_male          30676 non-null  float64       \n",
      " 37  max_height_female        30676 non-null  float64       \n",
      " 38  max_weight_male          30676 non-null  float64       \n",
      " 39  max_weight_female        30676 non-null  float64       \n",
      " 40  min_height_male          30676 non-null  float64       \n",
      " 41  min_height_female        30676 non-null  float64       \n",
      " 42  min_weight_male          30676 non-null  float64       \n",
      " 43  min_weight_female        30676 non-null  float64       \n",
      " 44  name                     30676 non-null  object        \n",
      "dtypes: datetime64[ns](2), float64(28), object(15)\n",
      "memory usage: 15.9+ MB\n"
     ]
    }
   ],
   "source": [
    "df.info()"
   ]
  },
  {
   "cell_type": "code",
   "execution_count": 8,
   "id": "f106a4ce",
   "metadata": {
    "tags": []
   },
   "outputs": [
    {
     "data": {
      "text/plain": [
       "array(['Yellow/White', 'Tricolor', 'Black/Tan', 'Brown', 'Red',\n",
       "       'Black/Brown Brindle', 'Tan/White', 'Black/Brown',\n",
       "       'Blue Merle/White', 'Brown/Black', 'Black/White', 'Red Tick/Red',\n",
       "       'White/Brown', 'Blue Tick/Black', 'Black', 'Brown/White',\n",
       "       'Red/Brown', 'Blue Merle/Brown', 'Tricolor/Black', 'White/Tan',\n",
       "       'Black/Black Brindle', 'Blue Merle', 'Tan', 'Chocolate/Tricolor',\n",
       "       'Red/Buff', 'Brown Brindle/White', 'Tan/Buff', 'White/Red Merle',\n",
       "       'Red/White', 'Cream/White', 'White/Red', 'White/Blue Merle',\n",
       "       'White/Black', 'Black/Silver', 'Red/Black', 'Blue/Tan',\n",
       "       'Red Merle/White', 'Blue/White', 'Red/Red Merle', 'Sable',\n",
       "       'Brown Brindle', 'Cream', 'Brown/Tan', 'Black/Tricolor',\n",
       "       'Tricolor/Chocolate', 'Red Tick/White', 'White', 'Sable/Tan',\n",
       "       'Tan/Black', 'Gray/White', 'Chocolate/Tan', 'Tricolor/Tan',\n",
       "       'Tricolor/White', 'Buff/White', 'Sable/White', 'Buff',\n",
       "       'Blue Merle/Black', 'Brown/Chocolate', 'Chocolate/White',\n",
       "       'Brown/Tricolor', 'Red/Tan', 'Chocolate', 'Red/Gray', 'Gray',\n",
       "       'White/Orange', 'Blue Merle/Tan', 'Brown Merle/White',\n",
       "       'White/Brown Brindle', 'Brown/Red', 'Black Brindle/White',\n",
       "       'Brown Tiger', 'Black Brindle', 'Black/Red', 'Blue/Gray',\n",
       "       'Brown Merle', 'Black/Blue Merle', 'White/Blue Tick', 'Blue Tick',\n",
       "       'Sable/Black', 'Fawn', 'White/Gray', 'Red Tick',\n",
       "       'Brown Tiger/Brown', 'Black/Black', 'White/Tricolor',\n",
       "       'Blue Tick/Tricolor', 'Black Smoke/White', 'Yellow',\n",
       "       'Black Brindle/Brown Brindle', 'Chocolate/Black',\n",
       "       'White/Chocolate', 'Black/Gray', 'Silver/White', 'Silver/Brown',\n",
       "       'Silver', 'Gray/Black', 'Silver/Tan', 'Silver/Black', 'Gray/Brown',\n",
       "       'White/Buff', 'Black/Blue', 'Gray/Tan', 'Black/Buff',\n",
       "       'Gray/Silver', 'Buff/Gray', 'Gray/Cream', 'Tan/Gray',\n",
       "       'Silver/Cream', 'Cream/Brown', 'Fawn/Gray', 'Blue', 'White/Cream',\n",
       "       'Gray/Gray', 'Brown/Gray', 'Black/Cream', 'White/White',\n",
       "       'Cream/Tan', 'Buff/Black', 'Cream/Black', 'Tan/Cream',\n",
       "       'Gold/White', 'White/Black Brindle', 'Liver/White',\n",
       "       'Chocolate/Cream', 'Sable/Cream', 'Blue/Black', 'Sable/Brown',\n",
       "       'Red/Yellow', 'Tan/Blue', 'Buff/Tan', 'Tan/Tan', 'Tan/Brown',\n",
       "       'Blue/Cream', 'White/Yellow', 'Gold', 'Red/Cream', 'Fawn/White',\n",
       "       'Tan/Red', 'Fawn/Blue', 'White/Liver', 'Liver/Tan',\n",
       "       'Tricolor/Blue', 'Black Brindle/Brown', 'Tricolor/Brown',\n",
       "       'Fawn/Brown', 'Chocolate/Brown Brindle', 'Brown/Cream',\n",
       "       'Yellow Brindle/White', 'Orange/Tan', 'Brown Brindle/Black',\n",
       "       'Chocolate/Brown', 'Liver', 'Yellow Brindle',\n",
       "       'Black/Yellow Brindle', 'Sable/Buff', 'Brown/Brown',\n",
       "       'Black/Yellow', 'White/Silver', 'Sable/Gray', 'White/Blue',\n",
       "       'Fawn/Tan', 'Brown/Yellow', 'Blue/Blue', 'Blue/Tricolor',\n",
       "       'Fawn/Black', 'Gold/Gold', 'Blue Tiger/White', 'Blue/Brown',\n",
       "       'Chocolate/Chocolate', 'Tan/Yellow', 'Black Smoke/Black',\n",
       "       'Yellow/Brown', 'Brown/Red Tick', 'Brown Brindle/Tan',\n",
       "       'Tan/Red Tick', 'Black/Blue Tick', 'Tan/Gold', 'Brown Merle/Tan',\n",
       "       'Tan/Tricolor', 'Yellow/Cream', 'Brown/Brown Brindle',\n",
       "       'White/Fawn', 'Buff/Yellow', 'Yellow/Tan',\n",
       "       'Red Tick/Brown Brindle', 'Cream/Yellow', 'Red Tick/Blue Tick',\n",
       "       'Red/Red Tick', 'Red Merle', 'Blue Merle/Blue Merle',\n",
       "       'Brown Brindle/Red Tick', 'Blue Tick/Tan', 'Blue Tick/Brown',\n",
       "       'Blue Tick/Red Tick', 'Tricolor/Brown Brindle',\n",
       "       'White/Brown Merle', 'Brown/Buff', 'Tan/Silver', 'Sable/Red',\n",
       "       'Cream/Silver', 'Gray/Tricolor', 'Tricolor/Brown Merle',\n",
       "       'Black/Orange', 'Chocolate/Red', 'Liver/Buff', 'White/Gold',\n",
       "       'Black Tiger/White', 'White/Blue Cream', 'Blue Cream/White',\n",
       "       'White/Yellow Brindle', 'Orange', 'Blue/Brown Brindle',\n",
       "       'Blue Smoke/Brown', 'Brown/Black Brindle', 'Brown Brindle/Brown',\n",
       "       'Apricot/White', 'White/Pink', 'White/Gray Tiger',\n",
       "       'Brown Brindle/Blue', 'Yellow Brindle/Blue',\n",
       "       'Blue Cream/Blue Tiger', 'Brown Tiger/White', 'Tan/Brown Brindle',\n",
       "       'Black Brindle/Black', 'Brown/Blue', 'Blue Cream', 'Blue Tiger',\n",
       "       'Apricot/Brown', 'Red/Red', 'Fawn/Tricolor', 'White/Tortie',\n",
       "       'Blue Smoke/White', 'White/Apricot', 'Black Tiger',\n",
       "       'Brown/Apricot', 'Black/Brown Merle', 'Yellow/Gray',\n",
       "       'Red/Tricolor', 'Blue Merle/Tricolor', 'Tricolor/Blue Merle',\n",
       "       'Liver/Chocolate', 'Brown/Blue Merle', 'Blue Tick/White',\n",
       "       'White/Liver Tick', 'Tricolor/Tricolor', 'Blue Merle/Cream',\n",
       "       'Red Tick/Tan', 'Red Tick/Brown Merle', 'Red Merle/Black',\n",
       "       'Sable/Red Merle', 'Brown Merle/Black', 'Brown/Red Merle',\n",
       "       'White/Red Tick', 'Blue Merle/Red', 'Tricolor/Blue Tick',\n",
       "       'Red Tick/Brown', 'Red Merle/Tan', 'Blue Merle/Brown Brindle',\n",
       "       'Tricolor/Red Tick', 'Liver Tick', 'Cream/Brown Merle',\n",
       "       'Red Merle/Brown Merle', 'Gray/Buff', 'Gold/Gray', 'Cream/Red',\n",
       "       'Agouti', 'Brown/Silver', 'White/Black Smoke', 'Gold/Black',\n",
       "       'Orange/White', 'Blue Merle/Red Merle', 'Brown Brindle/Blue Cream',\n",
       "       'Gold/Brown', 'Gold/Buff', 'Gold/Yellow', 'Ruddy/Cream',\n",
       "       'Chocolate/Gray', 'Tan/Brown Merle', 'Tan/Yellow Brindle',\n",
       "       'Blue Merle/Gray', 'Brown Merle/Blue Merle',\n",
       "       'Black Smoke/Blue Tick', 'Brown Merle/Brown', 'Liver Tick/White',\n",
       "       'Brown Brindle/Blue Tick', 'Gray/Blue', 'Silver/Blue', 'Gray/Fawn',\n",
       "       'Buff/Red', 'Apricot/Tricolor', 'Apricot', 'Gold/Cream',\n",
       "       'Gray/Gold', 'Chocolate/Red Tick', 'Blue Tick/Red',\n",
       "       'Silver/Chocolate', 'Buff/Cream', 'Chocolate/Yellow',\n",
       "       'Black Smoke/Gray', 'White/Brown Tiger', 'Yellow/Yellow',\n",
       "       'Red/Silver', 'Tricolor/Silver', 'Black Smoke', 'Silver/Red',\n",
       "       'Gold/Tan', 'Black/Chocolate', 'Fawn/Chocolate',\n",
       "       'White/Black Tiger', 'Brown/Brown Merle', 'Silver/Gray',\n",
       "       'Black/Gold', 'Cream/Gray', 'Tan/Apricot', 'Cream/Cream',\n",
       "       'Buff/Brown', 'Black Smoke/Brown', 'Fawn/Brown Brindle',\n",
       "       'Blue/Yellow Brindle', 'Blue Smoke', 'Blue/Silver',\n",
       "       'Brown Brindle/Gray', 'Chocolate/Liver Tick',\n",
       "       'Brown Brindle/Brown Merle', 'Blue Tick/Brown Brindle',\n",
       "       'Black Brindle/Blue Tick', 'Red Tick/Black',\n",
       "       'Chocolate/Brown Merle', 'Cream/Red Tick', 'Red/Blue',\n",
       "       'Brown Brindle/Brown Brindle', 'Chocolate/Gold', 'Gray/Red',\n",
       "       'Red/Gold', 'White/Brown Tabby', 'Red Merle/Red Merle',\n",
       "       'Black Brindle/Blue', nan], dtype=object)"
      ]
     },
     "execution_count": 8,
     "metadata": {},
     "output_type": "execute_result"
    }
   ],
   "source": [
    "df.color.unique()"
   ]
  },
  {
   "cell_type": "markdown",
   "id": "70eedb01",
   "metadata": {},
   "source": [
    "PIPELINE TO PREPARE THE DATA FOR LR"
   ]
  },
  {
   "cell_type": "code",
   "execution_count": 9,
   "id": "924fdefd",
   "metadata": {
    "tags": []
   },
   "outputs": [],
   "source": [
    "from sklearn.pipeline import make_pipeline, Pipeline\n",
    "from sklearn.impute import SimpleImputer\n",
    "from sklearn.compose import ColumnTransformer\n",
    "from sklearn.preprocessing import OneHotEncoder, StandardScaler\n",
    "from sklearn.linear_model import LinearRegression\n",
    "from sklearn.model_selection import train_test_split"
   ]
  },
  {
   "cell_type": "code",
   "execution_count": 10,
   "id": "11e60c9b",
   "metadata": {
    "tags": []
   },
   "outputs": [
    {
     "name": "stdout",
     "output_type": "stream",
     "text": [
      "age_upon_intake_(years)    0.034027\n",
      "intake_month              -0.003886\n",
      "intake_year               -0.014667\n",
      "intake_hour               -0.004710\n",
      "intake_number              0.006092\n",
      "time_in_shelter_days       1.000000\n",
      "good_with_children        -0.004993\n",
      "good_with_other_dogs       0.004064\n",
      "shedding                   0.029504\n",
      "grooming                  -0.074597\n",
      "drooling                   0.012830\n",
      "coat_length               -0.036839\n",
      "good_with_strangers       -0.010305\n",
      "playfulness               -0.049893\n",
      "protectiveness            -0.027332\n",
      "trainability               0.010851\n",
      "energy                    -0.007877\n",
      "barking                   -0.072353\n",
      "min_life_expectancy       -0.028018\n",
      "max_life_expectancy       -0.044875\n",
      "max_height_male            0.071045\n",
      "max_height_female          0.067518\n",
      "max_weight_male            0.074806\n",
      "max_weight_female          0.078299\n",
      "min_height_male            0.065044\n",
      "min_height_female          0.065193\n",
      "min_weight_male            0.073010\n",
      "min_weight_female          0.077719\n",
      "Name: time_in_shelter_days, dtype: float64\n"
     ]
    },
    {
     "name": "stderr",
     "output_type": "stream",
     "text": [
      "/tmp/ipykernel_12205/1906059457.py:5: FutureWarning: The default value of numeric_only in DataFrame.corr is deprecated. In a future version, it will default to False. Select only valid columns or specify the value of numeric_only to silence this warning.\n",
      "  corr_matrix = df.corr()\n"
     ]
    }
   ],
   "source": [
    "import seaborn as sns\n",
    "import matplotlib.pyplot as plt\n",
    "\n",
    "# Compute the correlation matrix\n",
    "corr_matrix = df.corr()\n",
    "\n",
    "# Print the correlation matrix\n",
    "print(corr_matrix['time_in_shelter_days'])"
   ]
  },
  {
   "cell_type": "code",
   "execution_count": 11,
   "id": "4e983b32",
   "metadata": {
    "tags": []
   },
   "outputs": [
    {
     "data": {
      "image/png": "[encoded data removed]",
      "text/plain": [
       "<Figure size 432x288 with 2 Axes>"
      ]
     },
     "metadata": {
      "needs_background": "light"
     },
     "output_type": "display_data"
    }
   ],
   "source": [
    "# Create a heatmap\n",
    "sns.heatmap(corr_matrix, cmap=\"coolwarm\")\n",
    "\n",
    "# Show the plot\n",
    "plt.show()"
   ]
  },
  {
   "cell_type": "code",
   "execution_count": 12,
   "id": "ed319939",
   "metadata": {
    "tags": []
   },
   "outputs": [],
   "source": [
    "from sklearn.base import TransformerMixin, BaseEstimator\n",
    "\n",
    "class ColorTransformer(TransformerMixin, BaseEstimator):\n",
    "    \n",
    "    def __init__(self):\n",
    "        super()\n",
    "        self.vectorizer = CountVectorizer()\n",
    "        \n",
    "    def fit(self, X, y=None):\n",
    "        X = X['color'].map(lambda x: \" \".join(x.split(\"/\")))\n",
    "        self.vectorizer.fit(X)\n",
    "        return self\n",
    "    \n",
    "    def transform(self, X, y=None):\n",
    "        X = X['color'].map(lambda x: \" \".join(x.split(\"/\")))\n",
    "        transformed = self.vectorizer.transform(X)\n",
    "        columns = self.vectorizer.get_feature_names_out()\n",
    "        return pd.DataFrame(transformed.toarray(), columns=columns)"
   ]
  },
  {
   "cell_type": "code",
   "execution_count": 13,
   "id": "f800afcb",
   "metadata": {
    "tags": []
   },
   "outputs": [],
   "source": [
    "from sklearn.feature_extraction.text import CountVectorizer"
   ]
  },
  {
   "cell_type": "code",
   "execution_count": 14,
   "id": "f1c9debe",
   "metadata": {
    "tags": []
   },
   "outputs": [],
   "source": [
    "color_transformer = ColorTransformer()"
   ]
  },
  {
   "cell_type": "code",
   "execution_count": 15,
   "id": "8b9c992c",
   "metadata": {
    "tags": []
   },
   "outputs": [
    {
     "data": {
      "text/plain": [
       "Index(['date_of_birth', 'sex_upon_outcome', 'age_upon_intake', 'animal_type',\n",
       "       'breed', 'color', 'intake_condition', 'intake_type', 'sex_upon_intake',\n",
       "       'age_upon_intake_(years)', 'intake_datetime', 'intake_month',\n",
       "       'intake_year', 'intake_weekday', 'intake_hour', 'intake_number',\n",
       "       'time_in_shelter', 'time_in_shelter_days', 'breed_type', 'sex_type',\n",
       "       'sex', 'image_link', 'good_with_children', 'good_with_other_dogs',\n",
       "       'shedding', 'grooming', 'drooling', 'coat_length',\n",
       "       'good_with_strangers', 'playfulness', 'protectiveness', 'trainability',\n",
       "       'energy', 'barking', 'min_life_expectancy', 'max_life_expectancy',\n",
       "       'max_height_male', 'max_height_female', 'max_weight_male',\n",
       "       'max_weight_female', 'min_height_male', 'min_height_female',\n",
       "       'min_weight_male', 'min_weight_female', 'name'],\n",
       "      dtype='object')"
      ]
     },
     "execution_count": 15,
     "metadata": {},
     "output_type": "execute_result"
    }
   ],
   "source": [
    "df.columns"
   ]
  },
  {
   "cell_type": "code",
   "execution_count": 16,
   "id": "5ab940e1",
   "metadata": {
    "tags": []
   },
   "outputs": [],
   "source": [
    "#color_transformer.fit_transform(df[['color']])"
   ]
  },
  {
   "cell_type": "code",
   "execution_count": 17,
   "id": "eb7c430c",
   "metadata": {
    "tags": []
   },
   "outputs": [],
   "source": [
    "# Define the features and target variable\n",
    "features = ['age_upon_intake_(years)', 'breed_type', 'intake_condition', 'sex', 'sex_type', 'good_with_children',\n",
    "            'good_with_other_dogs','shedding', 'grooming', 'drooling', 'coat_length','good_with_strangers', \n",
    "            'playfulness', 'protectiveness', 'trainability','energy', 'barking', 'min_life_expectancy', \n",
    "            'max_life_expectancy','max_height_male', 'max_height_female', 'max_weight_male','max_weight_female', \n",
    "            'min_height_male', 'min_height_female','min_weight_male', 'min_weight_female']\n",
    "\n",
    "target = 'time_in_shelter_days'\n",
    "\n",
    "# Split the data into training and test sets\n",
    "X_train, X_test, y_train, y_test = train_test_split(df[features], df[target], test_size=0.2, random_state=42)"
   ]
  },
  {
   "cell_type": "code",
   "execution_count": 18,
   "id": "6b3a0b90",
   "metadata": {
    "tags": []
   },
   "outputs": [],
   "source": [
    "# Define the features and target variable\n",
    "#df_ = df.copy()\n",
    "#df_.dropna(inplace=True)\n",
    "\n",
    "# Split the data into training and test sets\n",
    "#X_train_, X_test_, y_train_, y_test_ = train_test_split(df_[features], df_[target], test_size=0.2, random_state=42)"
   ]
  },
  {
   "cell_type": "code",
   "execution_count": 19,
   "id": "2dc6051b",
   "metadata": {
    "tags": []
   },
   "outputs": [
    {
     "name": "stdout",
     "output_type": "stream",
     "text": [
      "Shape of X_train: (36292, 27)\n",
      "Shape of y_train: (36292,)\n",
      "Shape of X_test: (9074, 27)\n",
      "Shape of y_test: (9074,)\n"
     ]
    }
   ],
   "source": [
    "# Ensure that the shapes are correct\n",
    "print(\"Shape of X_train:\", X_train.shape)\n",
    "print(\"Shape of y_train:\", y_train.shape)\n",
    "print(\"Shape of X_test:\", X_test.shape)\n",
    "print(\"Shape of y_test:\", y_test.shape)"
   ]
  },
  {
   "cell_type": "code",
   "execution_count": 20,
   "id": "85f6c41f",
   "metadata": {
    "tags": []
   },
   "outputs": [],
   "source": [
    "# create a list of numerical columns and categorical columns\n",
    "numeric_features = ['age_upon_intake_(years)', 'good_with_children','good_with_other_dogs',\n",
    "                    'shedding', 'grooming', 'drooling', 'coat_length','good_with_strangers', \n",
    "                    'playfulness', 'protectiveness', 'trainability','energy', 'barking', \n",
    "                    'min_life_expectancy', 'max_life_expectancy','max_height_male', 'max_height_female', \n",
    "                    'max_weight_male','max_weight_female', 'min_height_male', 'min_height_female',\n",
    "                    'min_weight_male', 'min_weight_female']\n",
    "\n",
    "\n",
    "categorical_features = ['breed_type','intake_condition', 'sex', 'sex_type']\n",
    "\n",
    "\n",
    "# create the transformer for numerical columns\n",
    "numeric_transformer = make_pipeline(StandardScaler())\n",
    "\n",
    "# create the transformer for categorical columns\n",
    "categorical_transformer = make_pipeline(OneHotEncoder(sparse=False, handle_unknown='ignore'))\n",
    "\n",
    "\n",
    "# use ColumnTransformer to specify which columns need to be preprocessed in what way\n",
    "preprocessor = ColumnTransformer(\n",
    "    transformers=[\n",
    "        ('num', numeric_transformer, numeric_features),\n",
    "        ('cat', categorical_transformer, categorical_features),\n",
    "        #('color', ColorTransformer(), ['color'])\n",
    "    ])"
   ]
  },
  {
   "cell_type": "code",
   "execution_count": 21,
   "id": "fea96aa3",
   "metadata": {
    "tags": []
   },
   "outputs": [],
   "source": [
    "# create the pipeline for linear regression with preprocessor\n",
    "pipeline = make_pipeline(preprocessor)"
   ]
  },
  {
   "cell_type": "code",
   "execution_count": 22,
   "id": "dadaa667",
   "metadata": {
    "tags": []
   },
   "outputs": [
    {
     "data": {
      "text/html": [
       "<style>#sk-container-id-1 {color: black;background-color: white;}#sk-container-id-1 pre{padding: 0;}#sk-container-id-1 div.sk-toggleable {background-color: white;}#sk-container-id-1 label.sk-toggleable__label {cursor: pointer;display: block;width: 100%;margin-bottom: 0;padding: 0.3em;box-sizing: border-box;text-align: center;}#sk-container-id-1 label.sk-toggleable__label-arrow:before {content: \"▸\";float: left;margin-right: 0.25em;color: #696969;}#sk-container-id-1 label.sk-toggleable__label-arrow:hover:before {color: black;}#sk-container-id-1 div.sk-estimator:hover label.sk-toggleable__label-arrow:before {color: black;}#sk-container-id-1 div.sk-toggleable__content {max-height: 0;max-width: 0;overflow: hidden;text-align: left;background-color: #f0f8ff;}#sk-container-id-1 div.sk-toggleable__content pre {margin: 0.2em;color: black;border-radius: 0.25em;background-color: #f0f8ff;}#sk-container-id-1 input.sk-toggleable__control:checked~div.sk-toggleable__content {max-height: 200px;max-width: 100%;overflow: auto;}#sk-container-id-1 input.sk-toggleable__control:checked~label.sk-toggleable__label-arrow:before {content: \"▾\";}#sk-container-id-1 div.sk-estimator input.sk-toggleable__control:checked~label.sk-toggleable__label {background-color: #d4ebff;}#sk-container-id-1 div.sk-label input.sk-toggleable__control:checked~label.sk-toggleable__label {background-color: #d4ebff;}#sk-container-id-1 input.sk-hidden--visually {border: 0;clip: rect(1px 1px 1px 1px);clip: rect(1px, 1px, 1px, 1px);height: 1px;margin: -1px;overflow: hidden;padding: 0;position: absolute;width: 1px;}#sk-container-id-1 div.sk-estimator {font-family: monospace;background-color: #f0f8ff;border: 1px dotted black;border-radius: 0.25em;box-sizing: border-box;margin-bottom: 0.5em;}#sk-container-id-1 div.sk-estimator:hover {background-color: #d4ebff;}#sk-container-id-1 div.sk-parallel-item::after {content: \"\";width: 100%;border-bottom: 1px solid gray;flex-grow: 1;}#sk-container-id-1 div.sk-label:hover label.sk-toggleable__label {background-color: #d4ebff;}#sk-container-id-1 div.sk-serial::before {content: \"\";position: absolute;border-left: 1px solid gray;box-sizing: border-box;top: 0;bottom: 0;left: 50%;z-index: 0;}#sk-container-id-1 div.sk-serial {display: flex;flex-direction: column;align-items: center;background-color: white;padding-right: 0.2em;padding-left: 0.2em;position: relative;}#sk-container-id-1 div.sk-item {position: relative;z-index: 1;}#sk-container-id-1 div.sk-parallel {display: flex;align-items: stretch;justify-content: center;background-color: white;position: relative;}#sk-container-id-1 div.sk-item::before, #sk-container-id-1 div.sk-parallel-item::before {content: \"\";position: absolute;border-left: 1px solid gray;box-sizing: border-box;top: 0;bottom: 0;left: 50%;z-index: -1;}#sk-container-id-1 div.sk-parallel-item {display: flex;flex-direction: column;z-index: 1;position: relative;background-color: white;}#sk-container-id-1 div.sk-parallel-item:first-child::after {align-self: flex-end;width: 50%;}#sk-container-id-1 div.sk-parallel-item:last-child::after {align-self: flex-start;width: 50%;}#sk-container-id-1 div.sk-parallel-item:only-child::after {width: 0;}#sk-container-id-1 div.sk-dashed-wrapped {border: 1px dashed gray;margin: 0 0.4em 0.5em 0.4em;box-sizing: border-box;padding-bottom: 0.4em;background-color: white;}#sk-container-id-1 div.sk-label label {font-family: monospace;font-weight: bold;display: inline-block;line-height: 1.2em;}#sk-container-id-1 div.sk-label-container {text-align: center;}#sk-container-id-1 div.sk-container {/* jupyter's `normalize.less` sets `[hidden] { display: none; }` but bootstrap.min.css set `[hidden] { display: none !important; }` so we also need the `!important` here to be able to override the default hidden behavior on the sphinx rendered scikit-learn.org. See: https://github.com/scikit-learn/scikit-learn/issues/21755 */display: inline-block !important;position: relative;}#sk-container-id-1 div.sk-text-repr-fallback {display: none;}</style><div id=\"sk-container-id-1\" class=\"sk-top-container\"><div class=\"sk-text-repr-fallback\"><pre>Pipeline(steps=[(&#x27;columntransformer&#x27;,\n",
       "                 ColumnTransformer(transformers=[(&#x27;num&#x27;,\n",
       "                                                  Pipeline(steps=[(&#x27;standardscaler&#x27;,\n",
       "                                                                   StandardScaler())]),\n",
       "                                                  [&#x27;age_upon_intake_(years)&#x27;,\n",
       "                                                   &#x27;good_with_children&#x27;,\n",
       "                                                   &#x27;good_with_other_dogs&#x27;,\n",
       "                                                   &#x27;shedding&#x27;, &#x27;grooming&#x27;,\n",
       "                                                   &#x27;drooling&#x27;, &#x27;coat_length&#x27;,\n",
       "                                                   &#x27;good_with_strangers&#x27;,\n",
       "                                                   &#x27;playfulness&#x27;,\n",
       "                                                   &#x27;protectiveness&#x27;,\n",
       "                                                   &#x27;trainability&#x27;, &#x27;energy&#x27;,\n",
       "                                                   &#x27;barking&#x27;,\n",
       "                                                   &#x27;min_life_expectancy&#x27;,\n",
       "                                                   &#x27;max_life_expectancy&#x27;,\n",
       "                                                   &#x27;max_height_male&#x27;,\n",
       "                                                   &#x27;max_height_female&#x27;,\n",
       "                                                   &#x27;max_weight_male&#x27;,\n",
       "                                                   &#x27;max_weight_female&#x27;,\n",
       "                                                   &#x27;min_height_male&#x27;,\n",
       "                                                   &#x27;min_height_female&#x27;,\n",
       "                                                   &#x27;min_weight_male&#x27;,\n",
       "                                                   &#x27;min_weight_female&#x27;]),\n",
       "                                                 (&#x27;cat&#x27;,\n",
       "                                                  Pipeline(steps=[(&#x27;onehotencoder&#x27;,\n",
       "                                                                   OneHotEncoder(handle_unknown=&#x27;ignore&#x27;,\n",
       "                                                                                 sparse=False))]),\n",
       "                                                  [&#x27;breed_type&#x27;,\n",
       "                                                   &#x27;intake_condition&#x27;, &#x27;sex&#x27;,\n",
       "                                                   &#x27;sex_type&#x27;])]))])</pre><b>In a Jupyter environment, please rerun this cell to show the HTML representation or trust the notebook. <br />On GitHub, the HTML representation is unable to render, please try loading this page with nbviewer.org.</b></div><div class=\"sk-container\" hidden><div class=\"sk-item sk-dashed-wrapped\"><div class=\"sk-label-container\"><div class=\"sk-label sk-toggleable\"><input class=\"sk-toggleable__control sk-hidden--visually\" id=\"sk-estimator-id-1\" type=\"checkbox\" ><label for=\"sk-estimator-id-1\" class=\"sk-toggleable__label sk-toggleable__label-arrow\">Pipeline</label><div class=\"sk-toggleable__content\"><pre>Pipeline(steps=[(&#x27;columntransformer&#x27;,\n",
       "                 ColumnTransformer(transformers=[(&#x27;num&#x27;,\n",
       "                                                  Pipeline(steps=[(&#x27;standardscaler&#x27;,\n",
       "                                                                   StandardScaler())]),\n",
       "                                                  [&#x27;age_upon_intake_(years)&#x27;,\n",
       "                                                   &#x27;good_with_children&#x27;,\n",
       "                                                   &#x27;good_with_other_dogs&#x27;,\n",
       "                                                   &#x27;shedding&#x27;, &#x27;grooming&#x27;,\n",
       "                                                   &#x27;drooling&#x27;, &#x27;coat_length&#x27;,\n",
       "                                                   &#x27;good_with_strangers&#x27;,\n",
       "                                                   &#x27;playfulness&#x27;,\n",
       "                                                   &#x27;protectiveness&#x27;,\n",
       "                                                   &#x27;trainability&#x27;, &#x27;energy&#x27;,\n",
       "                                                   &#x27;barking&#x27;,\n",
       "                                                   &#x27;min_life_expectancy&#x27;,\n",
       "                                                   &#x27;max_life_expectancy&#x27;,\n",
       "                                                   &#x27;max_height_male&#x27;,\n",
       "                                                   &#x27;max_height_female&#x27;,\n",
       "                                                   &#x27;max_weight_male&#x27;,\n",
       "                                                   &#x27;max_weight_female&#x27;,\n",
       "                                                   &#x27;min_height_male&#x27;,\n",
       "                                                   &#x27;min_height_female&#x27;,\n",
       "                                                   &#x27;min_weight_male&#x27;,\n",
       "                                                   &#x27;min_weight_female&#x27;]),\n",
       "                                                 (&#x27;cat&#x27;,\n",
       "                                                  Pipeline(steps=[(&#x27;onehotencoder&#x27;,\n",
       "                                                                   OneHotEncoder(handle_unknown=&#x27;ignore&#x27;,\n",
       "                                                                                 sparse=False))]),\n",
       "                                                  [&#x27;breed_type&#x27;,\n",
       "                                                   &#x27;intake_condition&#x27;, &#x27;sex&#x27;,\n",
       "                                                   &#x27;sex_type&#x27;])]))])</pre></div></div></div><div class=\"sk-serial\"><div class=\"sk-item sk-dashed-wrapped\"><div class=\"sk-label-container\"><div class=\"sk-label sk-toggleable\"><input class=\"sk-toggleable__control sk-hidden--visually\" id=\"sk-estimator-id-2\" type=\"checkbox\" ><label for=\"sk-estimator-id-2\" class=\"sk-toggleable__label sk-toggleable__label-arrow\">columntransformer: ColumnTransformer</label><div class=\"sk-toggleable__content\"><pre>ColumnTransformer(transformers=[(&#x27;num&#x27;,\n",
       "                                 Pipeline(steps=[(&#x27;standardscaler&#x27;,\n",
       "                                                  StandardScaler())]),\n",
       "                                 [&#x27;age_upon_intake_(years)&#x27;,\n",
       "                                  &#x27;good_with_children&#x27;, &#x27;good_with_other_dogs&#x27;,\n",
       "                                  &#x27;shedding&#x27;, &#x27;grooming&#x27;, &#x27;drooling&#x27;,\n",
       "                                  &#x27;coat_length&#x27;, &#x27;good_with_strangers&#x27;,\n",
       "                                  &#x27;playfulness&#x27;, &#x27;protectiveness&#x27;,\n",
       "                                  &#x27;trainability&#x27;, &#x27;energy&#x27;, &#x27;barking&#x27;,\n",
       "                                  &#x27;min_life_expectancy&#x27;, &#x27;max_life_expectancy&#x27;,\n",
       "                                  &#x27;max_height_male&#x27;, &#x27;max_height_female&#x27;,\n",
       "                                  &#x27;max_weight_male&#x27;, &#x27;max_weight_female&#x27;,\n",
       "                                  &#x27;min_height_male&#x27;, &#x27;min_height_female&#x27;,\n",
       "                                  &#x27;min_weight_male&#x27;, &#x27;min_weight_female&#x27;]),\n",
       "                                (&#x27;cat&#x27;,\n",
       "                                 Pipeline(steps=[(&#x27;onehotencoder&#x27;,\n",
       "                                                  OneHotEncoder(handle_unknown=&#x27;ignore&#x27;,\n",
       "                                                                sparse=False))]),\n",
       "                                 [&#x27;breed_type&#x27;, &#x27;intake_condition&#x27;, &#x27;sex&#x27;,\n",
       "                                  &#x27;sex_type&#x27;])])</pre></div></div></div><div class=\"sk-parallel\"><div class=\"sk-parallel-item\"><div class=\"sk-item\"><div class=\"sk-label-container\"><div class=\"sk-label sk-toggleable\"><input class=\"sk-toggleable__control sk-hidden--visually\" id=\"sk-estimator-id-3\" type=\"checkbox\" ><label for=\"sk-estimator-id-3\" class=\"sk-toggleable__label sk-toggleable__label-arrow\">num</label><div class=\"sk-toggleable__content\"><pre>[&#x27;age_upon_intake_(years)&#x27;, &#x27;good_with_children&#x27;, &#x27;good_with_other_dogs&#x27;, &#x27;shedding&#x27;, &#x27;grooming&#x27;, &#x27;drooling&#x27;, &#x27;coat_length&#x27;, &#x27;good_with_strangers&#x27;, &#x27;playfulness&#x27;, &#x27;protectiveness&#x27;, &#x27;trainability&#x27;, &#x27;energy&#x27;, &#x27;barking&#x27;, &#x27;min_life_expectancy&#x27;, &#x27;max_life_expectancy&#x27;, &#x27;max_height_male&#x27;, &#x27;max_height_female&#x27;, &#x27;max_weight_male&#x27;, &#x27;max_weight_female&#x27;, &#x27;min_height_male&#x27;, &#x27;min_height_female&#x27;, &#x27;min_weight_male&#x27;, &#x27;min_weight_female&#x27;]</pre></div></div></div><div class=\"sk-serial\"><div class=\"sk-item\"><div class=\"sk-serial\"><div class=\"sk-item\"><div class=\"sk-estimator sk-toggleable\"><input class=\"sk-toggleable__control sk-hidden--visually\" id=\"sk-estimator-id-4\" type=\"checkbox\" ><label for=\"sk-estimator-id-4\" class=\"sk-toggleable__label sk-toggleable__label-arrow\">StandardScaler</label><div class=\"sk-toggleable__content\"><pre>StandardScaler()</pre></div></div></div></div></div></div></div></div><div class=\"sk-parallel-item\"><div class=\"sk-item\"><div class=\"sk-label-container\"><div class=\"sk-label sk-toggleable\"><input class=\"sk-toggleable__control sk-hidden--visually\" id=\"sk-estimator-id-5\" type=\"checkbox\" ><label for=\"sk-estimator-id-5\" class=\"sk-toggleable__label sk-toggleable__label-arrow\">cat</label><div class=\"sk-toggleable__content\"><pre>[&#x27;breed_type&#x27;, &#x27;intake_condition&#x27;, &#x27;sex&#x27;, &#x27;sex_type&#x27;]</pre></div></div></div><div class=\"sk-serial\"><div class=\"sk-item\"><div class=\"sk-serial\"><div class=\"sk-item\"><div class=\"sk-estimator sk-toggleable\"><input class=\"sk-toggleable__control sk-hidden--visually\" id=\"sk-estimator-id-6\" type=\"checkbox\" ><label for=\"sk-estimator-id-6\" class=\"sk-toggleable__label sk-toggleable__label-arrow\">OneHotEncoder</label><div class=\"sk-toggleable__content\"><pre>OneHotEncoder(handle_unknown=&#x27;ignore&#x27;, sparse=False)</pre></div></div></div></div></div></div></div></div></div></div></div></div></div></div>"
      ],
      "text/plain": [
       "Pipeline(steps=[('columntransformer',\n",
       "                 ColumnTransformer(transformers=[('num',\n",
       "                                                  Pipeline(steps=[('standardscaler',\n",
       "                                                                   StandardScaler())]),\n",
       "                                                  ['age_upon_intake_(years)',\n",
       "                                                   'good_with_children',\n",
       "                                                   'good_with_other_dogs',\n",
       "                                                   'shedding', 'grooming',\n",
       "                                                   'drooling', 'coat_length',\n",
       "                                                   'good_with_strangers',\n",
       "                                                   'playfulness',\n",
       "                                                   'protectiveness',\n",
       "                                                   'trainability', 'energy',\n",
       "                                                   'barking',\n",
       "                                                   'min_life_expectancy',\n",
       "                                                   'max_life_expectancy',\n",
       "                                                   'max_height_male',\n",
       "                                                   'max_height_female',\n",
       "                                                   'max_weight_male',\n",
       "                                                   'max_weight_female',\n",
       "                                                   'min_height_male',\n",
       "                                                   'min_height_female',\n",
       "                                                   'min_weight_male',\n",
       "                                                   'min_weight_female']),\n",
       "                                                 ('cat',\n",
       "                                                  Pipeline(steps=[('onehotencoder',\n",
       "                                                                   OneHotEncoder(handle_unknown='ignore',\n",
       "                                                                                 sparse=False))]),\n",
       "                                                  ['breed_type',\n",
       "                                                   'intake_condition', 'sex',\n",
       "                                                   'sex_type'])]))])"
      ]
     },
     "execution_count": 22,
     "metadata": {},
     "output_type": "execute_result"
    }
   ],
   "source": [
    "pipeline"
   ]
  },
  {
   "cell_type": "code",
   "execution_count": null,
   "id": "5fad3d63",
   "metadata": {
    "tags": []
   },
   "outputs": [],
   "source": [
    "# Fit the pipeline on the training data\n",
    "pipeline.fit(X_train, y_train)\n",
    "\n",
    "# Transform\n",
    "X_train_transformed = pd.DataFrame(pipeline.transform(X_train))\n"
   ]
  },
  {
   "cell_type": "code",
   "execution_count": 32,
   "id": "c76975ac-cc97-4468-8d11-96495bcfd20b",
   "metadata": {
    "tags": []
   },
   "outputs": [
    {
     "data": {
      "text/plain": [
       "(36292, 44)"
      ]
     },
     "execution_count": 32,
     "metadata": {},
     "output_type": "execute_result"
    }
   ],
   "source": [
    "X_train_transformed.shape"
   ]
  },
  {
   "cell_type": "code",
   "execution_count": 33,
   "id": "85b55c59-c5ad-4fd3-a0dd-9434e5ff7d0b",
   "metadata": {
    "tags": []
   },
   "outputs": [
    {
     "data": {
      "text/plain": [
       "Index(['age_upon_intake_(years)', 'breed_type', 'intake_condition', 'sex',\n",
       "       'sex_type', 'good_with_children', 'good_with_other_dogs', 'shedding',\n",
       "       'grooming', 'drooling', 'coat_length', 'good_with_strangers',\n",
       "       'playfulness', 'protectiveness', 'trainability', 'energy', 'barking',\n",
       "       'min_life_expectancy', 'max_life_expectancy', 'max_height_male',\n",
       "       'max_height_female', 'max_weight_male', 'max_weight_female',\n",
       "       'min_height_male', 'min_height_female', 'min_weight_male',\n",
       "       'min_weight_female'],\n",
       "      dtype='object')"
      ]
     },
     "execution_count": 33,
     "metadata": {},
     "output_type": "execute_result"
    }
   ],
   "source": [
    "X_train.columns"
   ]
  },
  {
   "cell_type": "code",
   "execution_count": 35,
   "id": "bb82f89d-97a2-4989-a9a0-2fb60aec1672",
   "metadata": {
    "tags": []
   },
   "outputs": [
    {
     "data": {
      "text/plain": [
       "date_of_birth                  1\n",
       "sex_upon_outcome               1\n",
       "age_upon_intake                1\n",
       "animal_type                    1\n",
       "breed                          0\n",
       "color                          1\n",
       "intake_condition               1\n",
       "intake_type                    1\n",
       "sex_upon_intake                1\n",
       "age_upon_intake_(years)        1\n",
       "intake_datetime                1\n",
       "intake_month                   1\n",
       "intake_year                    1\n",
       "intake_weekday                 1\n",
       "intake_hour                    1\n",
       "intake_number                  1\n",
       "time_in_shelter                1\n",
       "time_in_shelter_days           1\n",
       "breed_type                     1\n",
       "sex_type                       1\n",
       "sex                            1\n",
       "image_link                 14690\n",
       "good_with_children         14690\n",
       "good_with_other_dogs       14690\n",
       "shedding                   14690\n",
       "grooming                   14690\n",
       "drooling                   14690\n",
       "coat_length                14690\n",
       "good_with_strangers        14690\n",
       "playfulness                14690\n",
       "protectiveness             14690\n",
       "trainability               14690\n",
       "energy                     14690\n",
       "barking                    14690\n",
       "min_life_expectancy        14690\n",
       "max_life_expectancy        14690\n",
       "max_height_male            14690\n",
       "max_height_female          14690\n",
       "max_weight_male            14690\n",
       "max_weight_female          14690\n",
       "min_height_male            14690\n",
       "min_height_female          14690\n",
       "min_weight_male            14690\n",
       "min_weight_female          14690\n",
       "name                       14690\n",
       "dtype: int64"
      ]
     },
     "execution_count": 35,
     "metadata": {},
     "output_type": "execute_result"
    }
   ],
   "source": [
    "df.isnull().sum()"
   ]
  },
  {
   "cell_type": "code",
   "execution_count": 29,
   "id": "81a3d800-8c0e-40c5-92a4-2a482b91268c",
   "metadata": {
    "tags": []
   },
   "outputs": [
    {
     "data": {
      "text/plain": [
       "0         1\n",
       "1     11773\n",
       "2     11773\n",
       "3     11773\n",
       "4     11773\n",
       "5     11773\n",
       "6     11773\n",
       "7     11773\n",
       "8     11773\n",
       "9     11773\n",
       "10    11773\n",
       "11    11773\n",
       "12    11773\n",
       "13    11773\n",
       "14    11773\n",
       "15    11773\n",
       "16    11773\n",
       "17    11773\n",
       "18    11773\n",
       "19    11773\n",
       "20    11773\n",
       "21    11773\n",
       "22    11773\n",
       "23        0\n",
       "24        0\n",
       "25        0\n",
       "26        0\n",
       "27        0\n",
       "28        0\n",
       "29        0\n",
       "30        0\n",
       "31        0\n",
       "32        0\n",
       "33        0\n",
       "34        0\n",
       "35        0\n",
       "36        0\n",
       "37        0\n",
       "38        0\n",
       "39        0\n",
       "40        0\n",
       "41        0\n",
       "42        0\n",
       "43        0\n",
       "dtype: int64"
      ]
     },
     "execution_count": 29,
     "metadata": {},
     "output_type": "execute_result"
    }
   ],
   "source": [
    "X_train_transformed.isnull().sum()"
   ]
  },
  {
   "cell_type": "code",
   "execution_count": 25,
   "id": "0978f5b7",
   "metadata": {
    "tags": []
   },
   "outputs": [],
   "source": [
    "# Add LinearRegression() to the pipeline\n",
    "model_pipeline = Pipeline([\n",
    "    ('preprocessor', preprocessor),\n",
    "    ('regressor', LinearRegression())\n",
    "])"
   ]
  },
  {
   "cell_type": "code",
   "execution_count": 26,
   "id": "3ed06318",
   "metadata": {
    "tags": []
   },
   "outputs": [
    {
     "data": {
      "text/html": [
       "<style>#sk-container-id-2 {color: black;background-color: white;}#sk-container-id-2 pre{padding: 0;}#sk-container-id-2 div.sk-toggleable {background-color: white;}#sk-container-id-2 label.sk-toggleable__label {cursor: pointer;display: block;width: 100%;margin-bottom: 0;padding: 0.3em;box-sizing: border-box;text-align: center;}#sk-container-id-2 label.sk-toggleable__label-arrow:before {content: \"▸\";float: left;margin-right: 0.25em;color: #696969;}#sk-container-id-2 label.sk-toggleable__label-arrow:hover:before {color: black;}#sk-container-id-2 div.sk-estimator:hover label.sk-toggleable__label-arrow:before {color: black;}#sk-container-id-2 div.sk-toggleable__content {max-height: 0;max-width: 0;overflow: hidden;text-align: left;background-color: #f0f8ff;}#sk-container-id-2 div.sk-toggleable__content pre {margin: 0.2em;color: black;border-radius: 0.25em;background-color: #f0f8ff;}#sk-container-id-2 input.sk-toggleable__control:checked~div.sk-toggleable__content {max-height: 200px;max-width: 100%;overflow: auto;}#sk-container-id-2 input.sk-toggleable__control:checked~label.sk-toggleable__label-arrow:before {content: \"▾\";}#sk-container-id-2 div.sk-estimator input.sk-toggleable__control:checked~label.sk-toggleable__label {background-color: #d4ebff;}#sk-container-id-2 div.sk-label input.sk-toggleable__control:checked~label.sk-toggleable__label {background-color: #d4ebff;}#sk-container-id-2 input.sk-hidden--visually {border: 0;clip: rect(1px 1px 1px 1px);clip: rect(1px, 1px, 1px, 1px);height: 1px;margin: -1px;overflow: hidden;padding: 0;position: absolute;width: 1px;}#sk-container-id-2 div.sk-estimator {font-family: monospace;background-color: #f0f8ff;border: 1px dotted black;border-radius: 0.25em;box-sizing: border-box;margin-bottom: 0.5em;}#sk-container-id-2 div.sk-estimator:hover {background-color: #d4ebff;}#sk-container-id-2 div.sk-parallel-item::after {content: \"\";width: 100%;border-bottom: 1px solid gray;flex-grow: 1;}#sk-container-id-2 div.sk-label:hover label.sk-toggleable__label {background-color: #d4ebff;}#sk-container-id-2 div.sk-serial::before {content: \"\";position: absolute;border-left: 1px solid gray;box-sizing: border-box;top: 0;bottom: 0;left: 50%;z-index: 0;}#sk-container-id-2 div.sk-serial {display: flex;flex-direction: column;align-items: center;background-color: white;padding-right: 0.2em;padding-left: 0.2em;position: relative;}#sk-container-id-2 div.sk-item {position: relative;z-index: 1;}#sk-container-id-2 div.sk-parallel {display: flex;align-items: stretch;justify-content: center;background-color: white;position: relative;}#sk-container-id-2 div.sk-item::before, #sk-container-id-2 div.sk-parallel-item::before {content: \"\";position: absolute;border-left: 1px solid gray;box-sizing: border-box;top: 0;bottom: 0;left: 50%;z-index: -1;}#sk-container-id-2 div.sk-parallel-item {display: flex;flex-direction: column;z-index: 1;position: relative;background-color: white;}#sk-container-id-2 div.sk-parallel-item:first-child::after {align-self: flex-end;width: 50%;}#sk-container-id-2 div.sk-parallel-item:last-child::after {align-self: flex-start;width: 50%;}#sk-container-id-2 div.sk-parallel-item:only-child::after {width: 0;}#sk-container-id-2 div.sk-dashed-wrapped {border: 1px dashed gray;margin: 0 0.4em 0.5em 0.4em;box-sizing: border-box;padding-bottom: 0.4em;background-color: white;}#sk-container-id-2 div.sk-label label {font-family: monospace;font-weight: bold;display: inline-block;line-height: 1.2em;}#sk-container-id-2 div.sk-label-container {text-align: center;}#sk-container-id-2 div.sk-container {/* jupyter's `normalize.less` sets `[hidden] { display: none; }` but bootstrap.min.css set `[hidden] { display: none !important; }` so we also need the `!important` here to be able to override the default hidden behavior on the sphinx rendered scikit-learn.org. See: https://github.com/scikit-learn/scikit-learn/issues/21755 */display: inline-block !important;position: relative;}#sk-container-id-2 div.sk-text-repr-fallback {display: none;}</style><div id=\"sk-container-id-2\" class=\"sk-top-container\"><div class=\"sk-text-repr-fallback\"><pre>Pipeline(steps=[(&#x27;preprocessor&#x27;,\n",
       "                 ColumnTransformer(transformers=[(&#x27;num&#x27;,\n",
       "                                                  Pipeline(steps=[(&#x27;standardscaler&#x27;,\n",
       "                                                                   StandardScaler())]),\n",
       "                                                  [&#x27;age_upon_intake_(years)&#x27;,\n",
       "                                                   &#x27;good_with_children&#x27;,\n",
       "                                                   &#x27;good_with_other_dogs&#x27;,\n",
       "                                                   &#x27;shedding&#x27;, &#x27;grooming&#x27;,\n",
       "                                                   &#x27;drooling&#x27;, &#x27;coat_length&#x27;,\n",
       "                                                   &#x27;good_with_strangers&#x27;,\n",
       "                                                   &#x27;playfulness&#x27;,\n",
       "                                                   &#x27;protectiveness&#x27;,\n",
       "                                                   &#x27;trainability&#x27;, &#x27;energy&#x27;,\n",
       "                                                   &#x27;barking&#x27;,\n",
       "                                                   &#x27;min_life_expectancy&#x27;,\n",
       "                                                   &#x27;max_life_expectancy&#x27;,\n",
       "                                                   &#x27;max_height_male&#x27;,\n",
       "                                                   &#x27;max_height_female&#x27;,\n",
       "                                                   &#x27;max_weight_male&#x27;,\n",
       "                                                   &#x27;max_weight_female&#x27;,\n",
       "                                                   &#x27;min_height_male&#x27;,\n",
       "                                                   &#x27;min_height_female&#x27;,\n",
       "                                                   &#x27;min_weight_male&#x27;,\n",
       "                                                   &#x27;min_weight_female&#x27;]),\n",
       "                                                 (&#x27;cat&#x27;,\n",
       "                                                  Pipeline(steps=[(&#x27;onehotencoder&#x27;,\n",
       "                                                                   OneHotEncoder(handle_unknown=&#x27;ignore&#x27;,\n",
       "                                                                                 sparse=False))]),\n",
       "                                                  [&#x27;breed_type&#x27;,\n",
       "                                                   &#x27;intake_condition&#x27;, &#x27;sex&#x27;,\n",
       "                                                   &#x27;sex_type&#x27;])])),\n",
       "                (&#x27;regressor&#x27;, LinearRegression())])</pre><b>In a Jupyter environment, please rerun this cell to show the HTML representation or trust the notebook. <br />On GitHub, the HTML representation is unable to render, please try loading this page with nbviewer.org.</b></div><div class=\"sk-container\" hidden><div class=\"sk-item sk-dashed-wrapped\"><div class=\"sk-label-container\"><div class=\"sk-label sk-toggleable\"><input class=\"sk-toggleable__control sk-hidden--visually\" id=\"sk-estimator-id-7\" type=\"checkbox\" ><label for=\"sk-estimator-id-7\" class=\"sk-toggleable__label sk-toggleable__label-arrow\">Pipeline</label><div class=\"sk-toggleable__content\"><pre>Pipeline(steps=[(&#x27;preprocessor&#x27;,\n",
       "                 ColumnTransformer(transformers=[(&#x27;num&#x27;,\n",
       "                                                  Pipeline(steps=[(&#x27;standardscaler&#x27;,\n",
       "                                                                   StandardScaler())]),\n",
       "                                                  [&#x27;age_upon_intake_(years)&#x27;,\n",
       "                                                   &#x27;good_with_children&#x27;,\n",
       "                                                   &#x27;good_with_other_dogs&#x27;,\n",
       "                                                   &#x27;shedding&#x27;, &#x27;grooming&#x27;,\n",
       "                                                   &#x27;drooling&#x27;, &#x27;coat_length&#x27;,\n",
       "                                                   &#x27;good_with_strangers&#x27;,\n",
       "                                                   &#x27;playfulness&#x27;,\n",
       "                                                   &#x27;protectiveness&#x27;,\n",
       "                                                   &#x27;trainability&#x27;, &#x27;energy&#x27;,\n",
       "                                                   &#x27;barking&#x27;,\n",
       "                                                   &#x27;min_life_expectancy&#x27;,\n",
       "                                                   &#x27;max_life_expectancy&#x27;,\n",
       "                                                   &#x27;max_height_male&#x27;,\n",
       "                                                   &#x27;max_height_female&#x27;,\n",
       "                                                   &#x27;max_weight_male&#x27;,\n",
       "                                                   &#x27;max_weight_female&#x27;,\n",
       "                                                   &#x27;min_height_male&#x27;,\n",
       "                                                   &#x27;min_height_female&#x27;,\n",
       "                                                   &#x27;min_weight_male&#x27;,\n",
       "                                                   &#x27;min_weight_female&#x27;]),\n",
       "                                                 (&#x27;cat&#x27;,\n",
       "                                                  Pipeline(steps=[(&#x27;onehotencoder&#x27;,\n",
       "                                                                   OneHotEncoder(handle_unknown=&#x27;ignore&#x27;,\n",
       "                                                                                 sparse=False))]),\n",
       "                                                  [&#x27;breed_type&#x27;,\n",
       "                                                   &#x27;intake_condition&#x27;, &#x27;sex&#x27;,\n",
       "                                                   &#x27;sex_type&#x27;])])),\n",
       "                (&#x27;regressor&#x27;, LinearRegression())])</pre></div></div></div><div class=\"sk-serial\"><div class=\"sk-item sk-dashed-wrapped\"><div class=\"sk-label-container\"><div class=\"sk-label sk-toggleable\"><input class=\"sk-toggleable__control sk-hidden--visually\" id=\"sk-estimator-id-8\" type=\"checkbox\" ><label for=\"sk-estimator-id-8\" class=\"sk-toggleable__label sk-toggleable__label-arrow\">preprocessor: ColumnTransformer</label><div class=\"sk-toggleable__content\"><pre>ColumnTransformer(transformers=[(&#x27;num&#x27;,\n",
       "                                 Pipeline(steps=[(&#x27;standardscaler&#x27;,\n",
       "                                                  StandardScaler())]),\n",
       "                                 [&#x27;age_upon_intake_(years)&#x27;,\n",
       "                                  &#x27;good_with_children&#x27;, &#x27;good_with_other_dogs&#x27;,\n",
       "                                  &#x27;shedding&#x27;, &#x27;grooming&#x27;, &#x27;drooling&#x27;,\n",
       "                                  &#x27;coat_length&#x27;, &#x27;good_with_strangers&#x27;,\n",
       "                                  &#x27;playfulness&#x27;, &#x27;protectiveness&#x27;,\n",
       "                                  &#x27;trainability&#x27;, &#x27;energy&#x27;, &#x27;barking&#x27;,\n",
       "                                  &#x27;min_life_expectancy&#x27;, &#x27;max_life_expectancy&#x27;,\n",
       "                                  &#x27;max_height_male&#x27;, &#x27;max_height_female&#x27;,\n",
       "                                  &#x27;max_weight_male&#x27;, &#x27;max_weight_female&#x27;,\n",
       "                                  &#x27;min_height_male&#x27;, &#x27;min_height_female&#x27;,\n",
       "                                  &#x27;min_weight_male&#x27;, &#x27;min_weight_female&#x27;]),\n",
       "                                (&#x27;cat&#x27;,\n",
       "                                 Pipeline(steps=[(&#x27;onehotencoder&#x27;,\n",
       "                                                  OneHotEncoder(handle_unknown=&#x27;ignore&#x27;,\n",
       "                                                                sparse=False))]),\n",
       "                                 [&#x27;breed_type&#x27;, &#x27;intake_condition&#x27;, &#x27;sex&#x27;,\n",
       "                                  &#x27;sex_type&#x27;])])</pre></div></div></div><div class=\"sk-parallel\"><div class=\"sk-parallel-item\"><div class=\"sk-item\"><div class=\"sk-label-container\"><div class=\"sk-label sk-toggleable\"><input class=\"sk-toggleable__control sk-hidden--visually\" id=\"sk-estimator-id-9\" type=\"checkbox\" ><label for=\"sk-estimator-id-9\" class=\"sk-toggleable__label sk-toggleable__label-arrow\">num</label><div class=\"sk-toggleable__content\"><pre>[&#x27;age_upon_intake_(years)&#x27;, &#x27;good_with_children&#x27;, &#x27;good_with_other_dogs&#x27;, &#x27;shedding&#x27;, &#x27;grooming&#x27;, &#x27;drooling&#x27;, &#x27;coat_length&#x27;, &#x27;good_with_strangers&#x27;, &#x27;playfulness&#x27;, &#x27;protectiveness&#x27;, &#x27;trainability&#x27;, &#x27;energy&#x27;, &#x27;barking&#x27;, &#x27;min_life_expectancy&#x27;, &#x27;max_life_expectancy&#x27;, &#x27;max_height_male&#x27;, &#x27;max_height_female&#x27;, &#x27;max_weight_male&#x27;, &#x27;max_weight_female&#x27;, &#x27;min_height_male&#x27;, &#x27;min_height_female&#x27;, &#x27;min_weight_male&#x27;, &#x27;min_weight_female&#x27;]</pre></div></div></div><div class=\"sk-serial\"><div class=\"sk-item\"><div class=\"sk-serial\"><div class=\"sk-item\"><div class=\"sk-estimator sk-toggleable\"><input class=\"sk-toggleable__control sk-hidden--visually\" id=\"sk-estimator-id-10\" type=\"checkbox\" ><label for=\"sk-estimator-id-10\" class=\"sk-toggleable__label sk-toggleable__label-arrow\">StandardScaler</label><div class=\"sk-toggleable__content\"><pre>StandardScaler()</pre></div></div></div></div></div></div></div></div><div class=\"sk-parallel-item\"><div class=\"sk-item\"><div class=\"sk-label-container\"><div class=\"sk-label sk-toggleable\"><input class=\"sk-toggleable__control sk-hidden--visually\" id=\"sk-estimator-id-11\" type=\"checkbox\" ><label for=\"sk-estimator-id-11\" class=\"sk-toggleable__label sk-toggleable__label-arrow\">cat</label><div class=\"sk-toggleable__content\"><pre>[&#x27;breed_type&#x27;, &#x27;intake_condition&#x27;, &#x27;sex&#x27;, &#x27;sex_type&#x27;]</pre></div></div></div><div class=\"sk-serial\"><div class=\"sk-item\"><div class=\"sk-serial\"><div class=\"sk-item\"><div class=\"sk-estimator sk-toggleable\"><input class=\"sk-toggleable__control sk-hidden--visually\" id=\"sk-estimator-id-12\" type=\"checkbox\" ><label for=\"sk-estimator-id-12\" class=\"sk-toggleable__label sk-toggleable__label-arrow\">OneHotEncoder</label><div class=\"sk-toggleable__content\"><pre>OneHotEncoder(handle_unknown=&#x27;ignore&#x27;, sparse=False)</pre></div></div></div></div></div></div></div></div></div></div><div class=\"sk-item\"><div class=\"sk-estimator sk-toggleable\"><input class=\"sk-toggleable__control sk-hidden--visually\" id=\"sk-estimator-id-13\" type=\"checkbox\" ><label for=\"sk-estimator-id-13\" class=\"sk-toggleable__label sk-toggleable__label-arrow\">LinearRegression</label><div class=\"sk-toggleable__content\"><pre>LinearRegression()</pre></div></div></div></div></div></div></div>"
      ],
      "text/plain": [
       "Pipeline(steps=[('preprocessor',\n",
       "                 ColumnTransformer(transformers=[('num',\n",
       "                                                  Pipeline(steps=[('standardscaler',\n",
       "                                                                   StandardScaler())]),\n",
       "                                                  ['age_upon_intake_(years)',\n",
       "                                                   'good_with_children',\n",
       "                                                   'good_with_other_dogs',\n",
       "                                                   'shedding', 'grooming',\n",
       "                                                   'drooling', 'coat_length',\n",
       "                                                   'good_with_strangers',\n",
       "                                                   'playfulness',\n",
       "                                                   'protectiveness',\n",
       "                                                   'trainability', 'energy',\n",
       "                                                   'barking',\n",
       "                                                   'min_life_expectancy',\n",
       "                                                   'max_life_expectancy',\n",
       "                                                   'max_height_male',\n",
       "                                                   'max_height_female',\n",
       "                                                   'max_weight_male',\n",
       "                                                   'max_weight_female',\n",
       "                                                   'min_height_male',\n",
       "                                                   'min_height_female',\n",
       "                                                   'min_weight_male',\n",
       "                                                   'min_weight_female']),\n",
       "                                                 ('cat',\n",
       "                                                  Pipeline(steps=[('onehotencoder',\n",
       "                                                                   OneHotEncoder(handle_unknown='ignore',\n",
       "                                                                                 sparse=False))]),\n",
       "                                                  ['breed_type',\n",
       "                                                   'intake_condition', 'sex',\n",
       "                                                   'sex_type'])])),\n",
       "                ('regressor', LinearRegression())])"
      ]
     },
     "execution_count": 26,
     "metadata": {},
     "output_type": "execute_result"
    }
   ],
   "source": [
    "model_pipeline"
   ]
  },
  {
   "cell_type": "markdown",
   "id": "dac058ef",
   "metadata": {},
   "source": [
    "LINEAR REGRESION"
   ]
  },
  {
   "cell_type": "code",
   "execution_count": 27,
   "id": "91f2c17e",
   "metadata": {
    "tags": []
   },
   "outputs": [
    {
     "data": {
      "text/plain": [
       "{'memory': None,\n",
       " 'steps': [('preprocessor',\n",
       "   ColumnTransformer(transformers=[('num',\n",
       "                                    Pipeline(steps=[('standardscaler',\n",
       "                                                     StandardScaler())]),\n",
       "                                    ['age_upon_intake_(years)',\n",
       "                                     'good_with_children', 'good_with_other_dogs',\n",
       "                                     'shedding', 'grooming', 'drooling',\n",
       "                                     'coat_length', 'good_with_strangers',\n",
       "                                     'playfulness', 'protectiveness',\n",
       "                                     'trainability', 'energy', 'barking',\n",
       "                                     'min_life_expectancy', 'max_life_expectancy',\n",
       "                                     'max_height_male', 'max_height_female',\n",
       "                                     'max_weight_male', 'max_weight_female',\n",
       "                                     'min_height_male', 'min_height_female',\n",
       "                                     'min_weight_male', 'min_weight_female']),\n",
       "                                   ('cat',\n",
       "                                    Pipeline(steps=[('onehotencoder',\n",
       "                                                     OneHotEncoder(handle_unknown='ignore',\n",
       "                                                                   sparse=False))]),\n",
       "                                    ['breed_type', 'intake_condition', 'sex',\n",
       "                                     'sex_type'])])),\n",
       "  ('regressor', LinearRegression())],\n",
       " 'verbose': False,\n",
       " 'preprocessor': ColumnTransformer(transformers=[('num',\n",
       "                                  Pipeline(steps=[('standardscaler',\n",
       "                                                   StandardScaler())]),\n",
       "                                  ['age_upon_intake_(years)',\n",
       "                                   'good_with_children', 'good_with_other_dogs',\n",
       "                                   'shedding', 'grooming', 'drooling',\n",
       "                                   'coat_length', 'good_with_strangers',\n",
       "                                   'playfulness', 'protectiveness',\n",
       "                                   'trainability', 'energy', 'barking',\n",
       "                                   'min_life_expectancy', 'max_life_expectancy',\n",
       "                                   'max_height_male', 'max_height_female',\n",
       "                                   'max_weight_male', 'max_weight_female',\n",
       "                                   'min_height_male', 'min_height_female',\n",
       "                                   'min_weight_male', 'min_weight_female']),\n",
       "                                 ('cat',\n",
       "                                  Pipeline(steps=[('onehotencoder',\n",
       "                                                   OneHotEncoder(handle_unknown='ignore',\n",
       "                                                                 sparse=False))]),\n",
       "                                  ['breed_type', 'intake_condition', 'sex',\n",
       "                                   'sex_type'])]),\n",
       " 'regressor': LinearRegression(),\n",
       " 'preprocessor__n_jobs': None,\n",
       " 'preprocessor__remainder': 'drop',\n",
       " 'preprocessor__sparse_threshold': 0.3,\n",
       " 'preprocessor__transformer_weights': None,\n",
       " 'preprocessor__transformers': [('num',\n",
       "   Pipeline(steps=[('standardscaler', StandardScaler())]),\n",
       "   ['age_upon_intake_(years)',\n",
       "    'good_with_children',\n",
       "    'good_with_other_dogs',\n",
       "    'shedding',\n",
       "    'grooming',\n",
       "    'drooling',\n",
       "    'coat_length',\n",
       "    'good_with_strangers',\n",
       "    'playfulness',\n",
       "    'protectiveness',\n",
       "    'trainability',\n",
       "    'energy',\n",
       "    'barking',\n",
       "    'min_life_expectancy',\n",
       "    'max_life_expectancy',\n",
       "    'max_height_male',\n",
       "    'max_height_female',\n",
       "    'max_weight_male',\n",
       "    'max_weight_female',\n",
       "    'min_height_male',\n",
       "    'min_height_female',\n",
       "    'min_weight_male',\n",
       "    'min_weight_female']),\n",
       "  ('cat',\n",
       "   Pipeline(steps=[('onehotencoder',\n",
       "                    OneHotEncoder(handle_unknown='ignore', sparse=False))]),\n",
       "   ['breed_type', 'intake_condition', 'sex', 'sex_type'])],\n",
       " 'preprocessor__verbose': False,\n",
       " 'preprocessor__verbose_feature_names_out': True,\n",
       " 'preprocessor__num': Pipeline(steps=[('standardscaler', StandardScaler())]),\n",
       " 'preprocessor__cat': Pipeline(steps=[('onehotencoder',\n",
       "                  OneHotEncoder(handle_unknown='ignore', sparse=False))]),\n",
       " 'preprocessor__num__memory': None,\n",
       " 'preprocessor__num__steps': [('standardscaler', StandardScaler())],\n",
       " 'preprocessor__num__verbose': False,\n",
       " 'preprocessor__num__standardscaler': StandardScaler(),\n",
       " 'preprocessor__num__standardscaler__copy': True,\n",
       " 'preprocessor__num__standardscaler__with_mean': True,\n",
       " 'preprocessor__num__standardscaler__with_std': True,\n",
       " 'preprocessor__cat__memory': None,\n",
       " 'preprocessor__cat__steps': [('onehotencoder',\n",
       "   OneHotEncoder(handle_unknown='ignore', sparse=False))],\n",
       " 'preprocessor__cat__verbose': False,\n",
       " 'preprocessor__cat__onehotencoder': OneHotEncoder(handle_unknown='ignore', sparse=False),\n",
       " 'preprocessor__cat__onehotencoder__categories': 'auto',\n",
       " 'preprocessor__cat__onehotencoder__drop': None,\n",
       " 'preprocessor__cat__onehotencoder__dtype': numpy.float64,\n",
       " 'preprocessor__cat__onehotencoder__handle_unknown': 'ignore',\n",
       " 'preprocessor__cat__onehotencoder__max_categories': None,\n",
       " 'preprocessor__cat__onehotencoder__min_frequency': None,\n",
       " 'preprocessor__cat__onehotencoder__sparse': False,\n",
       " 'preprocessor__cat__onehotencoder__sparse_output': True,\n",
       " 'regressor__copy_X': True,\n",
       " 'regressor__fit_intercept': True,\n",
       " 'regressor__n_jobs': None,\n",
       " 'regressor__positive': False}"
      ]
     },
     "execution_count": 27,
     "metadata": {},
     "output_type": "execute_result"
    }
   ],
   "source": [
    "model_pipeline.get_params()"
   ]
  },
  {
   "cell_type": "code",
   "execution_count": 28,
   "id": "d34dd569",
   "metadata": {
    "tags": []
   },
   "outputs": [
    {
     "name": "stderr",
     "output_type": "stream",
     "text": [
      "/home/john/anaconda3/lib/python3.9/site-packages/sklearn/preprocessing/_encoders.py:828: FutureWarning: `sparse` was renamed to `sparse_output` in version 1.2 and will be removed in 1.4. `sparse_output` is ignored unless you leave `sparse` to its default value.\n",
      "  warnings.warn(\n"
     ]
    },
    {
     "ename": "ValueError",
     "evalue": "Input X contains NaN.\nLinearRegression does not accept missing values encoded as NaN natively. For supervised learning, you might want to consider sklearn.ensemble.HistGradientBoostingClassifier and Regressor which accept missing values encoded as NaNs natively. Alternatively, it is possible to preprocess the data, for instance by using an imputer transformer in a pipeline or drop samples with missing values. See https://scikit-learn.org/stable/modules/impute.html You can find a list of all estimators that handle NaN values at the following page: https://scikit-learn.org/stable/modules/impute.html#estimators-that-handle-nan-values",
     "output_type": "error",
     "traceback": [
      "\u001b[0;31m---------------------------------------------------------------------------\u001b[0m",
      "\u001b[0;31mValueError\u001b[0m                                Traceback (most recent call last)",
      "\u001b[0;32m/tmp/ipykernel_12205/2186005377.py\u001b[0m in \u001b[0;36m<cell line: 2>\u001b[0;34m()\u001b[0m\n\u001b[1;32m      1\u001b[0m \u001b[0;31m# Fit the pipeline on the training data\u001b[0m\u001b[0;34m\u001b[0m\u001b[0;34m\u001b[0m\u001b[0m\n\u001b[0;32m----> 2\u001b[0;31m \u001b[0mmodel_pipeline\u001b[0m\u001b[0;34m.\u001b[0m\u001b[0mfit\u001b[0m\u001b[0;34m(\u001b[0m\u001b[0mX_train\u001b[0m\u001b[0;34m,\u001b[0m \u001b[0my_train\u001b[0m\u001b[0;34m)\u001b[0m\u001b[0;34m\u001b[0m\u001b[0;34m\u001b[0m\u001b[0m\n\u001b[0m",
      "\u001b[0;32m~/anaconda3/lib/python3.9/site-packages/sklearn/pipeline.py\u001b[0m in \u001b[0;36mfit\u001b[0;34m(self, X, y, **fit_params)\u001b[0m\n\u001b[1;32m    403\u001b[0m             \u001b[0;32mif\u001b[0m \u001b[0mself\u001b[0m\u001b[0;34m.\u001b[0m\u001b[0m_final_estimator\u001b[0m \u001b[0;34m!=\u001b[0m \u001b[0;34m\"passthrough\"\u001b[0m\u001b[0;34m:\u001b[0m\u001b[0;34m\u001b[0m\u001b[0;34m\u001b[0m\u001b[0m\n\u001b[1;32m    404\u001b[0m                 \u001b[0mfit_params_last_step\u001b[0m \u001b[0;34m=\u001b[0m \u001b[0mfit_params_steps\u001b[0m\u001b[0;34m[\u001b[0m\u001b[0mself\u001b[0m\u001b[0;34m.\u001b[0m\u001b[0msteps\u001b[0m\u001b[0;34m[\u001b[0m\u001b[0;34m-\u001b[0m\u001b[0;36m1\u001b[0m\u001b[0;34m]\u001b[0m\u001b[0;34m[\u001b[0m\u001b[0;36m0\u001b[0m\u001b[0;34m]\u001b[0m\u001b[0;34m]\u001b[0m\u001b[0;34m\u001b[0m\u001b[0;34m\u001b[0m\u001b[0m\n\u001b[0;32m--> 405\u001b[0;31m                 \u001b[0mself\u001b[0m\u001b[0;34m.\u001b[0m\u001b[0m_final_estimator\u001b[0m\u001b[0;34m.\u001b[0m\u001b[0mfit\u001b[0m\u001b[0;34m(\u001b[0m\u001b[0mXt\u001b[0m\u001b[0;34m,\u001b[0m \u001b[0my\u001b[0m\u001b[0;34m,\u001b[0m \u001b[0;34m**\u001b[0m\u001b[0mfit_params_last_step\u001b[0m\u001b[0;34m)\u001b[0m\u001b[0;34m\u001b[0m\u001b[0;34m\u001b[0m\u001b[0m\n\u001b[0m\u001b[1;32m    406\u001b[0m \u001b[0;34m\u001b[0m\u001b[0m\n\u001b[1;32m    407\u001b[0m         \u001b[0;32mreturn\u001b[0m \u001b[0mself\u001b[0m\u001b[0;34m\u001b[0m\u001b[0;34m\u001b[0m\u001b[0m\n",
      "\u001b[0;32m~/anaconda3/lib/python3.9/site-packages/sklearn/linear_model/_base.py\u001b[0m in \u001b[0;36mfit\u001b[0;34m(self, X, y, sample_weight)\u001b[0m\n\u001b[1;32m    646\u001b[0m         \u001b[0maccept_sparse\u001b[0m \u001b[0;34m=\u001b[0m \u001b[0;32mFalse\u001b[0m \u001b[0;32mif\u001b[0m \u001b[0mself\u001b[0m\u001b[0;34m.\u001b[0m\u001b[0mpositive\u001b[0m \u001b[0;32melse\u001b[0m \u001b[0;34m[\u001b[0m\u001b[0;34m\"csr\"\u001b[0m\u001b[0;34m,\u001b[0m \u001b[0;34m\"csc\"\u001b[0m\u001b[0;34m,\u001b[0m \u001b[0;34m\"coo\"\u001b[0m\u001b[0;34m]\u001b[0m\u001b[0;34m\u001b[0m\u001b[0;34m\u001b[0m\u001b[0m\n\u001b[1;32m    647\u001b[0m \u001b[0;34m\u001b[0m\u001b[0m\n\u001b[0;32m--> 648\u001b[0;31m         X, y = self._validate_data(\n\u001b[0m\u001b[1;32m    649\u001b[0m             \u001b[0mX\u001b[0m\u001b[0;34m,\u001b[0m \u001b[0my\u001b[0m\u001b[0;34m,\u001b[0m \u001b[0maccept_sparse\u001b[0m\u001b[0;34m=\u001b[0m\u001b[0maccept_sparse\u001b[0m\u001b[0;34m,\u001b[0m \u001b[0my_numeric\u001b[0m\u001b[0;34m=\u001b[0m\u001b[0;32mTrue\u001b[0m\u001b[0;34m,\u001b[0m \u001b[0mmulti_output\u001b[0m\u001b[0;34m=\u001b[0m\u001b[0;32mTrue\u001b[0m\u001b[0;34m\u001b[0m\u001b[0;34m\u001b[0m\u001b[0m\n\u001b[1;32m    650\u001b[0m         )\n",
      "\u001b[0;32m~/anaconda3/lib/python3.9/site-packages/sklearn/base.py\u001b[0m in \u001b[0;36m_validate_data\u001b[0;34m(self, X, y, reset, validate_separately, **check_params)\u001b[0m\n\u001b[1;32m    563\u001b[0m                 \u001b[0my\u001b[0m \u001b[0;34m=\u001b[0m \u001b[0mcheck_array\u001b[0m\u001b[0;34m(\u001b[0m\u001b[0my\u001b[0m\u001b[0;34m,\u001b[0m \u001b[0minput_name\u001b[0m\u001b[0;34m=\u001b[0m\u001b[0;34m\"y\"\u001b[0m\u001b[0;34m,\u001b[0m \u001b[0;34m**\u001b[0m\u001b[0mcheck_y_params\u001b[0m\u001b[0;34m)\u001b[0m\u001b[0;34m\u001b[0m\u001b[0;34m\u001b[0m\u001b[0m\n\u001b[1;32m    564\u001b[0m             \u001b[0;32melse\u001b[0m\u001b[0;34m:\u001b[0m\u001b[0;34m\u001b[0m\u001b[0;34m\u001b[0m\u001b[0m\n\u001b[0;32m--> 565\u001b[0;31m                 \u001b[0mX\u001b[0m\u001b[0;34m,\u001b[0m \u001b[0my\u001b[0m \u001b[0;34m=\u001b[0m \u001b[0mcheck_X_y\u001b[0m\u001b[0;34m(\u001b[0m\u001b[0mX\u001b[0m\u001b[0;34m,\u001b[0m \u001b[0my\u001b[0m\u001b[0;34m,\u001b[0m \u001b[0;34m**\u001b[0m\u001b[0mcheck_params\u001b[0m\u001b[0;34m)\u001b[0m\u001b[0;34m\u001b[0m\u001b[0;34m\u001b[0m\u001b[0m\n\u001b[0m\u001b[1;32m    566\u001b[0m             \u001b[0mout\u001b[0m \u001b[0;34m=\u001b[0m \u001b[0mX\u001b[0m\u001b[0;34m,\u001b[0m \u001b[0my\u001b[0m\u001b[0;34m\u001b[0m\u001b[0;34m\u001b[0m\u001b[0m\n\u001b[1;32m    567\u001b[0m \u001b[0;34m\u001b[0m\u001b[0m\n",
      "\u001b[0;32m~/anaconda3/lib/python3.9/site-packages/sklearn/utils/validation.py\u001b[0m in \u001b[0;36mcheck_X_y\u001b[0;34m(X, y, accept_sparse, accept_large_sparse, dtype, order, copy, force_all_finite, ensure_2d, allow_nd, multi_output, ensure_min_samples, ensure_min_features, y_numeric, estimator)\u001b[0m\n\u001b[1;32m   1104\u001b[0m         )\n\u001b[1;32m   1105\u001b[0m \u001b[0;34m\u001b[0m\u001b[0m\n\u001b[0;32m-> 1106\u001b[0;31m     X = check_array(\n\u001b[0m\u001b[1;32m   1107\u001b[0m         \u001b[0mX\u001b[0m\u001b[0;34m,\u001b[0m\u001b[0;34m\u001b[0m\u001b[0;34m\u001b[0m\u001b[0m\n\u001b[1;32m   1108\u001b[0m         \u001b[0maccept_sparse\u001b[0m\u001b[0;34m=\u001b[0m\u001b[0maccept_sparse\u001b[0m\u001b[0;34m,\u001b[0m\u001b[0;34m\u001b[0m\u001b[0;34m\u001b[0m\u001b[0m\n",
      "\u001b[0;32m~/anaconda3/lib/python3.9/site-packages/sklearn/utils/validation.py\u001b[0m in \u001b[0;36mcheck_array\u001b[0;34m(array, accept_sparse, accept_large_sparse, dtype, order, copy, force_all_finite, ensure_2d, allow_nd, ensure_min_samples, ensure_min_features, estimator, input_name)\u001b[0m\n\u001b[1;32m    919\u001b[0m \u001b[0;34m\u001b[0m\u001b[0m\n\u001b[1;32m    920\u001b[0m         \u001b[0;32mif\u001b[0m \u001b[0mforce_all_finite\u001b[0m\u001b[0;34m:\u001b[0m\u001b[0;34m\u001b[0m\u001b[0;34m\u001b[0m\u001b[0m\n\u001b[0;32m--> 921\u001b[0;31m             _assert_all_finite(\n\u001b[0m\u001b[1;32m    922\u001b[0m                 \u001b[0marray\u001b[0m\u001b[0;34m,\u001b[0m\u001b[0;34m\u001b[0m\u001b[0;34m\u001b[0m\u001b[0m\n\u001b[1;32m    923\u001b[0m                 \u001b[0minput_name\u001b[0m\u001b[0;34m=\u001b[0m\u001b[0minput_name\u001b[0m\u001b[0;34m,\u001b[0m\u001b[0;34m\u001b[0m\u001b[0;34m\u001b[0m\u001b[0m\n",
      "\u001b[0;32m~/anaconda3/lib/python3.9/site-packages/sklearn/utils/validation.py\u001b[0m in \u001b[0;36m_assert_all_finite\u001b[0;34m(X, allow_nan, msg_dtype, estimator_name, input_name)\u001b[0m\n\u001b[1;32m    159\u001b[0m                 \u001b[0;34m\"#estimators-that-handle-nan-values\"\u001b[0m\u001b[0;34m\u001b[0m\u001b[0;34m\u001b[0m\u001b[0m\n\u001b[1;32m    160\u001b[0m             )\n\u001b[0;32m--> 161\u001b[0;31m         \u001b[0;32mraise\u001b[0m \u001b[0mValueError\u001b[0m\u001b[0;34m(\u001b[0m\u001b[0mmsg_err\u001b[0m\u001b[0;34m)\u001b[0m\u001b[0;34m\u001b[0m\u001b[0;34m\u001b[0m\u001b[0m\n\u001b[0m\u001b[1;32m    162\u001b[0m \u001b[0;34m\u001b[0m\u001b[0m\n\u001b[1;32m    163\u001b[0m \u001b[0;34m\u001b[0m\u001b[0m\n",
      "\u001b[0;31mValueError\u001b[0m: Input X contains NaN.\nLinearRegression does not accept missing values encoded as NaN natively. For supervised learning, you might want to consider sklearn.ensemble.HistGradientBoostingClassifier and Regressor which accept missing values encoded as NaNs natively. Alternatively, it is possible to preprocess the data, for instance by using an imputer transformer in a pipeline or drop samples with missing values. See https://scikit-learn.org/stable/modules/impute.html You can find a list of all estimators that handle NaN values at the following page: https://scikit-learn.org/stable/modules/impute.html#estimators-that-handle-nan-values"
     ]
    }
   ],
   "source": [
    "# Fit the pipeline on the training data\n",
    "model_pipeline.fit(X_train, y_train)"
   ]
  },
  {
   "cell_type": "code",
   "execution_count": 111,
   "id": "a2cc2630",
   "metadata": {},
   "outputs": [
    {
     "data": {
      "text/plain": [
       "array([-7.0027307e+13, -7.0027307e+13, -7.0027307e+13, ...,\n",
       "       -7.0027307e+13, -7.0027307e+13, -7.0027307e+13])"
      ]
     },
     "execution_count": 111,
     "metadata": {},
     "output_type": "execute_result"
    }
   ],
   "source": [
    "y_pred"
   ]
  },
  {
   "cell_type": "code",
   "execution_count": 116,
   "id": "30086ba9",
   "metadata": {},
   "outputs": [
    {
     "name": "stdout",
     "output_type": "stream",
     "text": [
      "Mean Squared Error: 4.9038237319008235e+27\n",
      "Mean Absolute Error: 70027307044472.47\n"
     ]
    }
   ],
   "source": [
    "# Evaluate the model using mean squared error\n",
    "from sklearn.metrics import mean_squared_error, mean_absolute_error\n",
    "mse = mean_squared_error(y_test_, y_pred)\n",
    "mae = mean_absolute_error(y_test_, y_pred)\n",
    "print(\"Mean Squared Error:\", mse)\n",
    "print('Mean Absolute Error:', mae)"
   ]
  },
  {
   "cell_type": "code",
   "execution_count": 115,
   "id": "07b3445b",
   "metadata": {},
   "outputs": [
    {
     "name": "stdout",
     "output_type": "stream",
     "text": [
      "R-squared: -3.6183465648151775e+24\n"
     ]
    }
   ],
   "source": [
    "# Calculate evaluation metrics r2\n",
    "from sklearn.metrics import r2_score\n",
    "r2 = r2_score(y_test_, y_pred)\n",
    "print('R-squared:', r2)"
   ]
  },
  {
   "cell_type": "code",
   "execution_count": 24,
   "id": "6d80eecb",
   "metadata": {},
   "outputs": [
    {
     "data": {
      "text/html": [
       "<style>#sk-container-id-4 {color: black;background-color: white;}#sk-container-id-4 pre{padding: 0;}#sk-container-id-4 div.sk-toggleable {background-color: white;}#sk-container-id-4 label.sk-toggleable__label {cursor: pointer;display: block;width: 100%;margin-bottom: 0;padding: 0.3em;box-sizing: border-box;text-align: center;}#sk-container-id-4 label.sk-toggleable__label-arrow:before {content: \"▸\";float: left;margin-right: 0.25em;color: #696969;}#sk-container-id-4 label.sk-toggleable__label-arrow:hover:before {color: black;}#sk-container-id-4 div.sk-estimator:hover label.sk-toggleable__label-arrow:before {color: black;}#sk-container-id-4 div.sk-toggleable__content {max-height: 0;max-width: 0;overflow: hidden;text-align: left;background-color: #f0f8ff;}#sk-container-id-4 div.sk-toggleable__content pre {margin: 0.2em;color: black;border-radius: 0.25em;background-color: #f0f8ff;}#sk-container-id-4 input.sk-toggleable__control:checked~div.sk-toggleable__content {max-height: 200px;max-width: 100%;overflow: auto;}#sk-container-id-4 input.sk-toggleable__control:checked~label.sk-toggleable__label-arrow:before {content: \"▾\";}#sk-container-id-4 div.sk-estimator input.sk-toggleable__control:checked~label.sk-toggleable__label {background-color: #d4ebff;}#sk-container-id-4 div.sk-label input.sk-toggleable__control:checked~label.sk-toggleable__label {background-color: #d4ebff;}#sk-container-id-4 input.sk-hidden--visually {border: 0;clip: rect(1px 1px 1px 1px);clip: rect(1px, 1px, 1px, 1px);height: 1px;margin: -1px;overflow: hidden;padding: 0;position: absolute;width: 1px;}#sk-container-id-4 div.sk-estimator {font-family: monospace;background-color: #f0f8ff;border: 1px dotted black;border-radius: 0.25em;box-sizing: border-box;margin-bottom: 0.5em;}#sk-container-id-4 div.sk-estimator:hover {background-color: #d4ebff;}#sk-container-id-4 div.sk-parallel-item::after {content: \"\";width: 100%;border-bottom: 1px solid gray;flex-grow: 1;}#sk-container-id-4 div.sk-label:hover label.sk-toggleable__label {background-color: #d4ebff;}#sk-container-id-4 div.sk-serial::before {content: \"\";position: absolute;border-left: 1px solid gray;box-sizing: border-box;top: 0;bottom: 0;left: 50%;z-index: 0;}#sk-container-id-4 div.sk-serial {display: flex;flex-direction: column;align-items: center;background-color: white;padding-right: 0.2em;padding-left: 0.2em;position: relative;}#sk-container-id-4 div.sk-item {position: relative;z-index: 1;}#sk-container-id-4 div.sk-parallel {display: flex;align-items: stretch;justify-content: center;background-color: white;position: relative;}#sk-container-id-4 div.sk-item::before, #sk-container-id-4 div.sk-parallel-item::before {content: \"\";position: absolute;border-left: 1px solid gray;box-sizing: border-box;top: 0;bottom: 0;left: 50%;z-index: -1;}#sk-container-id-4 div.sk-parallel-item {display: flex;flex-direction: column;z-index: 1;position: relative;background-color: white;}#sk-container-id-4 div.sk-parallel-item:first-child::after {align-self: flex-end;width: 50%;}#sk-container-id-4 div.sk-parallel-item:last-child::after {align-self: flex-start;width: 50%;}#sk-container-id-4 div.sk-parallel-item:only-child::after {width: 0;}#sk-container-id-4 div.sk-dashed-wrapped {border: 1px dashed gray;margin: 0 0.4em 0.5em 0.4em;box-sizing: border-box;padding-bottom: 0.4em;background-color: white;}#sk-container-id-4 div.sk-label label {font-family: monospace;font-weight: bold;display: inline-block;line-height: 1.2em;}#sk-container-id-4 div.sk-label-container {text-align: center;}#sk-container-id-4 div.sk-container {/* jupyter's `normalize.less` sets `[hidden] { display: none; }` but bootstrap.min.css set `[hidden] { display: none !important; }` so we also need the `!important` here to be able to override the default hidden behavior on the sphinx rendered scikit-learn.org. See: https://github.com/scikit-learn/scikit-learn/issues/21755 */display: inline-block !important;position: relative;}#sk-container-id-4 div.sk-text-repr-fallback {display: none;}</style><div id=\"sk-container-id-4\" class=\"sk-top-container\"><div class=\"sk-text-repr-fallback\"><pre>LinearRegression()</pre><b>In a Jupyter environment, please rerun this cell to show the HTML representation or trust the notebook. <br />On GitHub, the HTML representation is unable to render, please try loading this page with nbviewer.org.</b></div><div class=\"sk-container\" hidden><div class=\"sk-item\"><div class=\"sk-estimator sk-toggleable\"><input class=\"sk-toggleable__control sk-hidden--visually\" id=\"sk-estimator-id-21\" type=\"checkbox\" checked><label for=\"sk-estimator-id-21\" class=\"sk-toggleable__label sk-toggleable__label-arrow\">LinearRegression</label><div class=\"sk-toggleable__content\"><pre>LinearRegression()</pre></div></div></div></div></div>"
      ],
      "text/plain": [
       "LinearRegression()"
      ]
     },
     "execution_count": 24,
     "metadata": {},
     "output_type": "execute_result"
    }
   ],
   "source": [
    "model_pipeline.steps[1][1]"
   ]
  },
  {
   "cell_type": "code",
   "execution_count": 25,
   "id": "23998e7a",
   "metadata": {},
   "outputs": [
    {
     "name": "stdout",
     "output_type": "stream",
     "text": [
      "Coefficient values: [ 1.11586379e+00  1.30322586e+13  1.30322586e+13 -2.43165056e+13\n",
      " -2.43165056e+13 -2.43165056e+13 -2.43165056e+13 -2.43165056e+13\n",
      " -2.43165056e+13 -1.37551872e+12 -1.37551872e+12 -1.37551872e+12\n",
      " -1.37551872e+12 -1.37551872e+12 -1.37551872e+12 -1.37551872e+12\n",
      " -1.37551872e+12 -1.37551872e+12 -1.37551872e+12 -1.37551872e+12\n",
      " -1.37551872e+12 -1.37551872e+12 -1.37551872e+12 -1.37551872e+12\n",
      " -1.37551872e+12 -1.37551872e+12 -1.37551872e+12 -1.37551872e+12\n",
      " -1.37551872e+12 -1.37551872e+12 -1.37551872e+12 -1.37551872e+12\n",
      " -1.37551872e+12 -1.37551872e+12 -1.37551872e+12 -1.37551872e+12\n",
      " -1.37551872e+12 -1.37551872e+12 -1.37551872e+12 -1.37551872e+12\n",
      " -1.37551872e+12 -1.37551872e+12 -1.37551872e+12 -1.37551872e+12\n",
      " -1.37551872e+12 -1.37551872e+12 -1.37551872e+12 -1.37551872e+12\n",
      " -1.37551872e+12 -1.37551872e+12 -1.37551872e+12 -1.37551872e+12\n",
      " -1.37551872e+12 -1.37551872e+12 -1.37551872e+12 -1.37551872e+12\n",
      " -1.28378442e+13 -1.28378442e+13 -1.28378442e+13 -1.28378442e+13\n",
      " -1.28378442e+13 -1.28378442e+13 -1.28378442e+13 -1.28378442e+13\n",
      "  1.24140345e+14  1.24140345e+14 -4.67828161e+13 -1.88611896e+14\n",
      " -1.88611896e+14 -1.76887341e+13]\n",
      "Intercept value: 89969160081980.05\n"
     ]
    }
   ],
   "source": [
    "# Get the coefficient values\n",
    "coef = model_pipeline.named_steps['regressor'].coef_\n",
    "\n",
    "# Get the intercept value\n",
    "intercept = model_pipeline.named_steps['regressor'].intercept_\n",
    "\n",
    "# Print the summary\n",
    "print(\"Coefficient values:\", coef)\n",
    "print(\"Intercept value:\", intercept)"
   ]
  },
  {
   "cell_type": "code",
   "execution_count": 61,
   "id": "65781e09",
   "metadata": {},
   "outputs": [
    {
     "ename": "ValueError",
     "evalue": "Invalid parameter 'alpha' for estimator Pipeline(steps=[('preprocessor',\n                 ColumnTransformer(transformers=[('num',\n                                                  Pipeline(steps=[('standardscaler',\n                                                                   StandardScaler())]),\n                                                  ['age_upon_intake_(years)']),\n                                                 ('cat',\n                                                  Pipeline(steps=[('onehotencoder',\n                                                                   OneHotEncoder(handle_unknown='ignore',\n                                                                                 sparse=False))]),\n                                                  ['animal_type', 'breed',\n                                                   'intake_condition', 'sex',\n                                                   'sex_type'])])),\n                ('regressor', LinearRegression())]). Valid parameters are: ['memory', 'steps', 'verbose'].",
     "output_type": "error",
     "traceback": [
      "\u001b[0;31m---------------------------------------------------------------------------\u001b[0m",
      "\u001b[0;31m_RemoteTraceback\u001b[0m                          Traceback (most recent call last)",
      "\u001b[0;31m_RemoteTraceback\u001b[0m: \n\"\"\"\nTraceback (most recent call last):\n  File \"/home/john/anaconda3/lib/python3.9/site-packages/joblib/externals/loky/process_executor.py\", line 428, in _process_worker\n    r = call_item()\n  File \"/home/john/anaconda3/lib/python3.9/site-packages/joblib/externals/loky/process_executor.py\", line 275, in __call__\n    return self.fn(*self.args, **self.kwargs)\n  File \"/home/john/anaconda3/lib/python3.9/site-packages/joblib/_parallel_backends.py\", line 620, in __call__\n    return self.func(*args, **kwargs)\n  File \"/home/john/anaconda3/lib/python3.9/site-packages/joblib/parallel.py\", line 288, in __call__\n    return [func(*args, **kwargs)\n  File \"/home/john/anaconda3/lib/python3.9/site-packages/joblib/parallel.py\", line 288, in <listcomp>\n    return [func(*args, **kwargs)\n  File \"/home/john/anaconda3/lib/python3.9/site-packages/sklearn/utils/parallel.py\", line 123, in __call__\n    return self.function(*args, **kwargs)\n  File \"/home/john/anaconda3/lib/python3.9/site-packages/sklearn/model_selection/_validation.py\", line 674, in _fit_and_score\n    estimator = estimator.set_params(**cloned_parameters)\n  File \"/home/john/anaconda3/lib/python3.9/site-packages/sklearn/pipeline.py\", line 211, in set_params\n    self._set_params(\"steps\", **kwargs)\n  File \"/home/john/anaconda3/lib/python3.9/site-packages/sklearn/utils/metaestimators.py\", line 70, in _set_params\n    super().set_params(**params)\n  File \"/home/john/anaconda3/lib/python3.9/site-packages/sklearn/base.py\", line 205, in set_params\n    raise ValueError(\nValueError: Invalid parameter 'alpha' for estimator Pipeline(steps=[('preprocessor',\n                 ColumnTransformer(transformers=[('num',\n                                                  Pipeline(steps=[('standardscaler',\n                                                                   StandardScaler())]),\n                                                  ['age_upon_intake_(years)']),\n                                                 ('cat',\n                                                  Pipeline(steps=[('onehotencoder',\n                                                                   OneHotEncoder(handle_unknown='ignore',\n                                                                                 sparse=False))]),\n                                                  ['animal_type', 'breed',\n                                                   'intake_condition', 'sex',\n                                                   'sex_type'])])),\n                ('regressor', LinearRegression())]). Valid parameters are: ['memory', 'steps', 'verbose'].\n\"\"\"",
      "\nThe above exception was the direct cause of the following exception:\n",
      "\u001b[0;31mValueError\u001b[0m                                Traceback (most recent call last)",
      "\u001b[0;32m/tmp/ipykernel_352077/2865147776.py\u001b[0m in \u001b[0;36m<cell line: 19>\u001b[0;34m()\u001b[0m\n\u001b[1;32m     17\u001b[0m \u001b[0;34m\u001b[0m\u001b[0m\n\u001b[1;32m     18\u001b[0m \u001b[0;31m# Fit data to Grid Search\u001b[0m\u001b[0;34m\u001b[0m\u001b[0;34m\u001b[0m\u001b[0m\n\u001b[0;32m---> 19\u001b[0;31m \u001b[0msearch\u001b[0m\u001b[0;34m.\u001b[0m\u001b[0mfit\u001b[0m\u001b[0;34m(\u001b[0m\u001b[0mX_train\u001b[0m\u001b[0;34m,\u001b[0m \u001b[0my_train\u001b[0m\u001b[0;34m)\u001b[0m\u001b[0;34m\u001b[0m\u001b[0;34m\u001b[0m\u001b[0m\n\u001b[0m",
      "\u001b[0;32m~/anaconda3/lib/python3.9/site-packages/sklearn/model_selection/_search.py\u001b[0m in \u001b[0;36mfit\u001b[0;34m(self, X, y, groups, **fit_params)\u001b[0m\n\u001b[1;32m    872\u001b[0m                 \u001b[0;32mreturn\u001b[0m \u001b[0mresults\u001b[0m\u001b[0;34m\u001b[0m\u001b[0;34m\u001b[0m\u001b[0m\n\u001b[1;32m    873\u001b[0m \u001b[0;34m\u001b[0m\u001b[0m\n\u001b[0;32m--> 874\u001b[0;31m             \u001b[0mself\u001b[0m\u001b[0;34m.\u001b[0m\u001b[0m_run_search\u001b[0m\u001b[0;34m(\u001b[0m\u001b[0mevaluate_candidates\u001b[0m\u001b[0;34m)\u001b[0m\u001b[0;34m\u001b[0m\u001b[0;34m\u001b[0m\u001b[0m\n\u001b[0m\u001b[1;32m    875\u001b[0m \u001b[0;34m\u001b[0m\u001b[0m\n\u001b[1;32m    876\u001b[0m             \u001b[0;31m# multimetric is determined here because in the case of a callable\u001b[0m\u001b[0;34m\u001b[0m\u001b[0;34m\u001b[0m\u001b[0m\n",
      "\u001b[0;32m~/anaconda3/lib/python3.9/site-packages/sklearn/model_selection/_search.py\u001b[0m in \u001b[0;36m_run_search\u001b[0;34m(self, evaluate_candidates)\u001b[0m\n\u001b[1;32m   1386\u001b[0m     \u001b[0;32mdef\u001b[0m \u001b[0m_run_search\u001b[0m\u001b[0;34m(\u001b[0m\u001b[0mself\u001b[0m\u001b[0;34m,\u001b[0m \u001b[0mevaluate_candidates\u001b[0m\u001b[0;34m)\u001b[0m\u001b[0;34m:\u001b[0m\u001b[0;34m\u001b[0m\u001b[0;34m\u001b[0m\u001b[0m\n\u001b[1;32m   1387\u001b[0m         \u001b[0;34m\"\"\"Search all candidates in param_grid\"\"\"\u001b[0m\u001b[0;34m\u001b[0m\u001b[0;34m\u001b[0m\u001b[0m\n\u001b[0;32m-> 1388\u001b[0;31m         \u001b[0mevaluate_candidates\u001b[0m\u001b[0;34m(\u001b[0m\u001b[0mParameterGrid\u001b[0m\u001b[0;34m(\u001b[0m\u001b[0mself\u001b[0m\u001b[0;34m.\u001b[0m\u001b[0mparam_grid\u001b[0m\u001b[0;34m)\u001b[0m\u001b[0;34m)\u001b[0m\u001b[0;34m\u001b[0m\u001b[0;34m\u001b[0m\u001b[0m\n\u001b[0m\u001b[1;32m   1389\u001b[0m \u001b[0;34m\u001b[0m\u001b[0m\n\u001b[1;32m   1390\u001b[0m \u001b[0;34m\u001b[0m\u001b[0m\n",
      "\u001b[0;32m~/anaconda3/lib/python3.9/site-packages/sklearn/model_selection/_search.py\u001b[0m in \u001b[0;36mevaluate_candidates\u001b[0;34m(candidate_params, cv, more_results)\u001b[0m\n\u001b[1;32m    819\u001b[0m                     )\n\u001b[1;32m    820\u001b[0m \u001b[0;34m\u001b[0m\u001b[0m\n\u001b[0;32m--> 821\u001b[0;31m                 out = parallel(\n\u001b[0m\u001b[1;32m    822\u001b[0m                     delayed(_fit_and_score)(\n\u001b[1;32m    823\u001b[0m                         \u001b[0mclone\u001b[0m\u001b[0;34m(\u001b[0m\u001b[0mbase_estimator\u001b[0m\u001b[0;34m)\u001b[0m\u001b[0;34m,\u001b[0m\u001b[0;34m\u001b[0m\u001b[0;34m\u001b[0m\u001b[0m\n",
      "\u001b[0;32m~/anaconda3/lib/python3.9/site-packages/sklearn/utils/parallel.py\u001b[0m in \u001b[0;36m__call__\u001b[0;34m(self, iterable)\u001b[0m\n\u001b[1;32m     61\u001b[0m             \u001b[0;32mfor\u001b[0m \u001b[0mdelayed_func\u001b[0m\u001b[0;34m,\u001b[0m \u001b[0margs\u001b[0m\u001b[0;34m,\u001b[0m \u001b[0mkwargs\u001b[0m \u001b[0;32min\u001b[0m \u001b[0miterable\u001b[0m\u001b[0;34m\u001b[0m\u001b[0;34m\u001b[0m\u001b[0m\n\u001b[1;32m     62\u001b[0m         )\n\u001b[0;32m---> 63\u001b[0;31m         \u001b[0;32mreturn\u001b[0m \u001b[0msuper\u001b[0m\u001b[0;34m(\u001b[0m\u001b[0;34m)\u001b[0m\u001b[0;34m.\u001b[0m\u001b[0m__call__\u001b[0m\u001b[0;34m(\u001b[0m\u001b[0miterable_with_config\u001b[0m\u001b[0;34m)\u001b[0m\u001b[0;34m\u001b[0m\u001b[0;34m\u001b[0m\u001b[0m\n\u001b[0m\u001b[1;32m     64\u001b[0m \u001b[0;34m\u001b[0m\u001b[0m\n\u001b[1;32m     65\u001b[0m \u001b[0;34m\u001b[0m\u001b[0m\n",
      "\u001b[0;32m~/anaconda3/lib/python3.9/site-packages/joblib/parallel.py\u001b[0m in \u001b[0;36m__call__\u001b[0;34m(self, iterable)\u001b[0m\n\u001b[1;32m   1096\u001b[0m \u001b[0;34m\u001b[0m\u001b[0m\n\u001b[1;32m   1097\u001b[0m             \u001b[0;32mwith\u001b[0m \u001b[0mself\u001b[0m\u001b[0;34m.\u001b[0m\u001b[0m_backend\u001b[0m\u001b[0;34m.\u001b[0m\u001b[0mretrieval_context\u001b[0m\u001b[0;34m(\u001b[0m\u001b[0;34m)\u001b[0m\u001b[0;34m:\u001b[0m\u001b[0;34m\u001b[0m\u001b[0;34m\u001b[0m\u001b[0m\n\u001b[0;32m-> 1098\u001b[0;31m                 \u001b[0mself\u001b[0m\u001b[0;34m.\u001b[0m\u001b[0mretrieve\u001b[0m\u001b[0;34m(\u001b[0m\u001b[0;34m)\u001b[0m\u001b[0;34m\u001b[0m\u001b[0;34m\u001b[0m\u001b[0m\n\u001b[0m\u001b[1;32m   1099\u001b[0m             \u001b[0;31m# Make sure that we get a last message telling us we are done\u001b[0m\u001b[0;34m\u001b[0m\u001b[0;34m\u001b[0m\u001b[0m\n\u001b[1;32m   1100\u001b[0m             \u001b[0melapsed_time\u001b[0m \u001b[0;34m=\u001b[0m \u001b[0mtime\u001b[0m\u001b[0;34m.\u001b[0m\u001b[0mtime\u001b[0m\u001b[0;34m(\u001b[0m\u001b[0;34m)\u001b[0m \u001b[0;34m-\u001b[0m \u001b[0mself\u001b[0m\u001b[0;34m.\u001b[0m\u001b[0m_start_time\u001b[0m\u001b[0;34m\u001b[0m\u001b[0;34m\u001b[0m\u001b[0m\n",
      "\u001b[0;32m~/anaconda3/lib/python3.9/site-packages/joblib/parallel.py\u001b[0m in \u001b[0;36mretrieve\u001b[0;34m(self)\u001b[0m\n\u001b[1;32m    973\u001b[0m             \u001b[0;32mtry\u001b[0m\u001b[0;34m:\u001b[0m\u001b[0;34m\u001b[0m\u001b[0;34m\u001b[0m\u001b[0m\n\u001b[1;32m    974\u001b[0m                 \u001b[0;32mif\u001b[0m \u001b[0mgetattr\u001b[0m\u001b[0;34m(\u001b[0m\u001b[0mself\u001b[0m\u001b[0;34m.\u001b[0m\u001b[0m_backend\u001b[0m\u001b[0;34m,\u001b[0m \u001b[0;34m'supports_timeout'\u001b[0m\u001b[0;34m,\u001b[0m \u001b[0;32mFalse\u001b[0m\u001b[0;34m)\u001b[0m\u001b[0;34m:\u001b[0m\u001b[0;34m\u001b[0m\u001b[0;34m\u001b[0m\u001b[0m\n\u001b[0;32m--> 975\u001b[0;31m                     \u001b[0mself\u001b[0m\u001b[0;34m.\u001b[0m\u001b[0m_output\u001b[0m\u001b[0;34m.\u001b[0m\u001b[0mextend\u001b[0m\u001b[0;34m(\u001b[0m\u001b[0mjob\u001b[0m\u001b[0;34m.\u001b[0m\u001b[0mget\u001b[0m\u001b[0;34m(\u001b[0m\u001b[0mtimeout\u001b[0m\u001b[0;34m=\u001b[0m\u001b[0mself\u001b[0m\u001b[0;34m.\u001b[0m\u001b[0mtimeout\u001b[0m\u001b[0;34m)\u001b[0m\u001b[0;34m)\u001b[0m\u001b[0;34m\u001b[0m\u001b[0;34m\u001b[0m\u001b[0m\n\u001b[0m\u001b[1;32m    976\u001b[0m                 \u001b[0;32melse\u001b[0m\u001b[0;34m:\u001b[0m\u001b[0;34m\u001b[0m\u001b[0;34m\u001b[0m\u001b[0m\n\u001b[1;32m    977\u001b[0m                     \u001b[0mself\u001b[0m\u001b[0;34m.\u001b[0m\u001b[0m_output\u001b[0m\u001b[0;34m.\u001b[0m\u001b[0mextend\u001b[0m\u001b[0;34m(\u001b[0m\u001b[0mjob\u001b[0m\u001b[0;34m.\u001b[0m\u001b[0mget\u001b[0m\u001b[0;34m(\u001b[0m\u001b[0;34m)\u001b[0m\u001b[0;34m)\u001b[0m\u001b[0;34m\u001b[0m\u001b[0;34m\u001b[0m\u001b[0m\n",
      "\u001b[0;32m~/anaconda3/lib/python3.9/site-packages/joblib/_parallel_backends.py\u001b[0m in \u001b[0;36mwrap_future_result\u001b[0;34m(future, timeout)\u001b[0m\n\u001b[1;32m    565\u001b[0m         AsyncResults.get from multiprocessing.\"\"\"\n\u001b[1;32m    566\u001b[0m         \u001b[0;32mtry\u001b[0m\u001b[0;34m:\u001b[0m\u001b[0;34m\u001b[0m\u001b[0;34m\u001b[0m\u001b[0m\n\u001b[0;32m--> 567\u001b[0;31m             \u001b[0;32mreturn\u001b[0m \u001b[0mfuture\u001b[0m\u001b[0;34m.\u001b[0m\u001b[0mresult\u001b[0m\u001b[0;34m(\u001b[0m\u001b[0mtimeout\u001b[0m\u001b[0;34m=\u001b[0m\u001b[0mtimeout\u001b[0m\u001b[0;34m)\u001b[0m\u001b[0;34m\u001b[0m\u001b[0;34m\u001b[0m\u001b[0m\n\u001b[0m\u001b[1;32m    568\u001b[0m         \u001b[0;32mexcept\u001b[0m \u001b[0mCfTimeoutError\u001b[0m \u001b[0;32mas\u001b[0m \u001b[0me\u001b[0m\u001b[0;34m:\u001b[0m\u001b[0;34m\u001b[0m\u001b[0;34m\u001b[0m\u001b[0m\n\u001b[1;32m    569\u001b[0m             \u001b[0;32mraise\u001b[0m \u001b[0mTimeoutError\u001b[0m \u001b[0;32mfrom\u001b[0m \u001b[0me\u001b[0m\u001b[0;34m\u001b[0m\u001b[0;34m\u001b[0m\u001b[0m\n",
      "\u001b[0;32m~/anaconda3/lib/python3.9/concurrent/futures/_base.py\u001b[0m in \u001b[0;36mresult\u001b[0;34m(self, timeout)\u001b[0m\n\u001b[1;32m    443\u001b[0m                     \u001b[0;32mraise\u001b[0m \u001b[0mCancelledError\u001b[0m\u001b[0;34m(\u001b[0m\u001b[0;34m)\u001b[0m\u001b[0;34m\u001b[0m\u001b[0;34m\u001b[0m\u001b[0m\n\u001b[1;32m    444\u001b[0m                 \u001b[0;32melif\u001b[0m \u001b[0mself\u001b[0m\u001b[0;34m.\u001b[0m\u001b[0m_state\u001b[0m \u001b[0;34m==\u001b[0m \u001b[0mFINISHED\u001b[0m\u001b[0;34m:\u001b[0m\u001b[0;34m\u001b[0m\u001b[0;34m\u001b[0m\u001b[0m\n\u001b[0;32m--> 445\u001b[0;31m                     \u001b[0;32mreturn\u001b[0m \u001b[0mself\u001b[0m\u001b[0;34m.\u001b[0m\u001b[0m__get_result\u001b[0m\u001b[0;34m(\u001b[0m\u001b[0;34m)\u001b[0m\u001b[0;34m\u001b[0m\u001b[0;34m\u001b[0m\u001b[0m\n\u001b[0m\u001b[1;32m    446\u001b[0m                 \u001b[0;32melse\u001b[0m\u001b[0;34m:\u001b[0m\u001b[0;34m\u001b[0m\u001b[0;34m\u001b[0m\u001b[0m\n\u001b[1;32m    447\u001b[0m                     \u001b[0;32mraise\u001b[0m \u001b[0mTimeoutError\u001b[0m\u001b[0;34m(\u001b[0m\u001b[0;34m)\u001b[0m\u001b[0;34m\u001b[0m\u001b[0;34m\u001b[0m\u001b[0m\n",
      "\u001b[0;32m~/anaconda3/lib/python3.9/concurrent/futures/_base.py\u001b[0m in \u001b[0;36m__get_result\u001b[0;34m(self)\u001b[0m\n\u001b[1;32m    388\u001b[0m         \u001b[0;32mif\u001b[0m \u001b[0mself\u001b[0m\u001b[0;34m.\u001b[0m\u001b[0m_exception\u001b[0m\u001b[0;34m:\u001b[0m\u001b[0;34m\u001b[0m\u001b[0;34m\u001b[0m\u001b[0m\n\u001b[1;32m    389\u001b[0m             \u001b[0;32mtry\u001b[0m\u001b[0;34m:\u001b[0m\u001b[0;34m\u001b[0m\u001b[0;34m\u001b[0m\u001b[0m\n\u001b[0;32m--> 390\u001b[0;31m                 \u001b[0;32mraise\u001b[0m \u001b[0mself\u001b[0m\u001b[0;34m.\u001b[0m\u001b[0m_exception\u001b[0m\u001b[0;34m\u001b[0m\u001b[0;34m\u001b[0m\u001b[0m\n\u001b[0m\u001b[1;32m    391\u001b[0m             \u001b[0;32mfinally\u001b[0m\u001b[0;34m:\u001b[0m\u001b[0;34m\u001b[0m\u001b[0;34m\u001b[0m\u001b[0m\n\u001b[1;32m    392\u001b[0m                 \u001b[0;31m# Break a reference cycle with the exception in self._exception\u001b[0m\u001b[0;34m\u001b[0m\u001b[0;34m\u001b[0m\u001b[0m\n",
      "\u001b[0;31mValueError\u001b[0m: Invalid parameter 'alpha' for estimator Pipeline(steps=[('preprocessor',\n                 ColumnTransformer(transformers=[('num',\n                                                  Pipeline(steps=[('standardscaler',\n                                                                   StandardScaler())]),\n                                                  ['age_upon_intake_(years)']),\n                                                 ('cat',\n                                                  Pipeline(steps=[('onehotencoder',\n                                                                   OneHotEncoder(handle_unknown='ignore',\n                                                                                 sparse=False))]),\n                                                  ['animal_type', 'breed',\n                                                   'intake_condition', 'sex',\n                                                   'sex_type'])])),\n                ('regressor', LinearRegression())]). Valid parameters are: ['memory', 'steps', 'verbose']."
     ]
    }
   ],
   "source": [
    "from sklearn.model_selection import GridSearchCV\n",
    "\n",
    "#Hyperparameter Grid\n",
    "grid = {\n",
    "    'alpha': [0.01, 0.1, 1],\n",
    "    'l1_ratio': [0.2, 0.5, 0.8]\n",
    "}\n",
    "\n",
    "# Instantiate Grid Search\n",
    "search = GridSearchCV(\n",
    "    model_pipeline,\n",
    "    grid,\n",
    "    scoring = 'r2',\n",
    "    cv = 5,\n",
    "    n_jobs=-1 #parallelize computation\n",
    ")\n",
    "\n",
    "# Fit data to Grid Search\n",
    "search.fit(X_train, y_train)"
   ]
  },
  {
   "cell_type": "code",
   "execution_count": 64,
   "id": "46ca5016",
   "metadata": {},
   "outputs": [
    {
     "ename": "ValueError",
     "evalue": "Invalid parameter 'fit_intercept' for estimator Pipeline(steps=[('preprocessor',\n                 ColumnTransformer(transformers=[('num',\n                                                  Pipeline(steps=[('standardscaler',\n                                                                   StandardScaler())]),\n                                                  ['age_upon_intake_(years)']),\n                                                 ('cat',\n                                                  Pipeline(steps=[('onehotencoder',\n                                                                   OneHotEncoder(handle_unknown='ignore',\n                                                                                 sparse=False))]),\n                                                  ['animal_type', 'breed',\n                                                   'intake_condition', 'sex',\n                                                   'sex_type'])])),\n                ('regressor', LinearRegression())]). Valid parameters are: ['memory', 'steps', 'verbose'].",
     "output_type": "error",
     "traceback": [
      "\u001b[0;31m---------------------------------------------------------------------------\u001b[0m",
      "\u001b[0;31mValueError\u001b[0m                                Traceback (most recent call last)",
      "\u001b[0;32m/tmp/ipykernel_352077/573095530.py\u001b[0m in \u001b[0;36m<cell line: 10>\u001b[0;34m()\u001b[0m\n\u001b[1;32m      8\u001b[0m \u001b[0;34m\u001b[0m\u001b[0m\n\u001b[1;32m      9\u001b[0m \u001b[0;31m#Fit the GridSearchCV object on the training data:\u001b[0m\u001b[0;34m\u001b[0m\u001b[0;34m\u001b[0m\u001b[0m\n\u001b[0;32m---> 10\u001b[0;31m \u001b[0mgrid_search\u001b[0m\u001b[0;34m.\u001b[0m\u001b[0mfit\u001b[0m\u001b[0;34m(\u001b[0m\u001b[0mX_train\u001b[0m\u001b[0;34m,\u001b[0m \u001b[0my_train\u001b[0m\u001b[0;34m)\u001b[0m\u001b[0;34m\u001b[0m\u001b[0;34m\u001b[0m\u001b[0m\n\u001b[0m",
      "\u001b[0;32m~/anaconda3/lib/python3.9/site-packages/sklearn/model_selection/_search.py\u001b[0m in \u001b[0;36mfit\u001b[0;34m(self, X, y, groups, **fit_params)\u001b[0m\n\u001b[1;32m    872\u001b[0m                 \u001b[0;32mreturn\u001b[0m \u001b[0mresults\u001b[0m\u001b[0;34m\u001b[0m\u001b[0;34m\u001b[0m\u001b[0m\n\u001b[1;32m    873\u001b[0m \u001b[0;34m\u001b[0m\u001b[0m\n\u001b[0;32m--> 874\u001b[0;31m             \u001b[0mself\u001b[0m\u001b[0;34m.\u001b[0m\u001b[0m_run_search\u001b[0m\u001b[0;34m(\u001b[0m\u001b[0mevaluate_candidates\u001b[0m\u001b[0;34m)\u001b[0m\u001b[0;34m\u001b[0m\u001b[0;34m\u001b[0m\u001b[0m\n\u001b[0m\u001b[1;32m    875\u001b[0m \u001b[0;34m\u001b[0m\u001b[0m\n\u001b[1;32m    876\u001b[0m             \u001b[0;31m# multimetric is determined here because in the case of a callable\u001b[0m\u001b[0;34m\u001b[0m\u001b[0;34m\u001b[0m\u001b[0m\n",
      "\u001b[0;32m~/anaconda3/lib/python3.9/site-packages/sklearn/model_selection/_search.py\u001b[0m in \u001b[0;36m_run_search\u001b[0;34m(self, evaluate_candidates)\u001b[0m\n\u001b[1;32m   1386\u001b[0m     \u001b[0;32mdef\u001b[0m \u001b[0m_run_search\u001b[0m\u001b[0;34m(\u001b[0m\u001b[0mself\u001b[0m\u001b[0;34m,\u001b[0m \u001b[0mevaluate_candidates\u001b[0m\u001b[0;34m)\u001b[0m\u001b[0;34m:\u001b[0m\u001b[0;34m\u001b[0m\u001b[0;34m\u001b[0m\u001b[0m\n\u001b[1;32m   1387\u001b[0m         \u001b[0;34m\"\"\"Search all candidates in param_grid\"\"\"\u001b[0m\u001b[0;34m\u001b[0m\u001b[0;34m\u001b[0m\u001b[0m\n\u001b[0;32m-> 1388\u001b[0;31m         \u001b[0mevaluate_candidates\u001b[0m\u001b[0;34m(\u001b[0m\u001b[0mParameterGrid\u001b[0m\u001b[0;34m(\u001b[0m\u001b[0mself\u001b[0m\u001b[0;34m.\u001b[0m\u001b[0mparam_grid\u001b[0m\u001b[0;34m)\u001b[0m\u001b[0;34m)\u001b[0m\u001b[0;34m\u001b[0m\u001b[0;34m\u001b[0m\u001b[0m\n\u001b[0m\u001b[1;32m   1389\u001b[0m \u001b[0;34m\u001b[0m\u001b[0m\n\u001b[1;32m   1390\u001b[0m \u001b[0;34m\u001b[0m\u001b[0m\n",
      "\u001b[0;32m~/anaconda3/lib/python3.9/site-packages/sklearn/model_selection/_search.py\u001b[0m in \u001b[0;36mevaluate_candidates\u001b[0;34m(candidate_params, cv, more_results)\u001b[0m\n\u001b[1;32m    819\u001b[0m                     )\n\u001b[1;32m    820\u001b[0m \u001b[0;34m\u001b[0m\u001b[0m\n\u001b[0;32m--> 821\u001b[0;31m                 out = parallel(\n\u001b[0m\u001b[1;32m    822\u001b[0m                     delayed(_fit_and_score)(\n\u001b[1;32m    823\u001b[0m                         \u001b[0mclone\u001b[0m\u001b[0;34m(\u001b[0m\u001b[0mbase_estimator\u001b[0m\u001b[0;34m)\u001b[0m\u001b[0;34m,\u001b[0m\u001b[0;34m\u001b[0m\u001b[0;34m\u001b[0m\u001b[0m\n",
      "\u001b[0;32m~/anaconda3/lib/python3.9/site-packages/sklearn/utils/parallel.py\u001b[0m in \u001b[0;36m__call__\u001b[0;34m(self, iterable)\u001b[0m\n\u001b[1;32m     61\u001b[0m             \u001b[0;32mfor\u001b[0m \u001b[0mdelayed_func\u001b[0m\u001b[0;34m,\u001b[0m \u001b[0margs\u001b[0m\u001b[0;34m,\u001b[0m \u001b[0mkwargs\u001b[0m \u001b[0;32min\u001b[0m \u001b[0miterable\u001b[0m\u001b[0;34m\u001b[0m\u001b[0;34m\u001b[0m\u001b[0m\n\u001b[1;32m     62\u001b[0m         )\n\u001b[0;32m---> 63\u001b[0;31m         \u001b[0;32mreturn\u001b[0m \u001b[0msuper\u001b[0m\u001b[0;34m(\u001b[0m\u001b[0;34m)\u001b[0m\u001b[0;34m.\u001b[0m\u001b[0m__call__\u001b[0m\u001b[0;34m(\u001b[0m\u001b[0miterable_with_config\u001b[0m\u001b[0;34m)\u001b[0m\u001b[0;34m\u001b[0m\u001b[0;34m\u001b[0m\u001b[0m\n\u001b[0m\u001b[1;32m     64\u001b[0m \u001b[0;34m\u001b[0m\u001b[0m\n\u001b[1;32m     65\u001b[0m \u001b[0;34m\u001b[0m\u001b[0m\n",
      "\u001b[0;32m~/anaconda3/lib/python3.9/site-packages/joblib/parallel.py\u001b[0m in \u001b[0;36m__call__\u001b[0;34m(self, iterable)\u001b[0m\n\u001b[1;32m   1083\u001b[0m             \u001b[0;31m# remaining jobs.\u001b[0m\u001b[0;34m\u001b[0m\u001b[0;34m\u001b[0m\u001b[0m\n\u001b[1;32m   1084\u001b[0m             \u001b[0mself\u001b[0m\u001b[0;34m.\u001b[0m\u001b[0m_iterating\u001b[0m \u001b[0;34m=\u001b[0m \u001b[0;32mFalse\u001b[0m\u001b[0;34m\u001b[0m\u001b[0;34m\u001b[0m\u001b[0m\n\u001b[0;32m-> 1085\u001b[0;31m             \u001b[0;32mif\u001b[0m \u001b[0mself\u001b[0m\u001b[0;34m.\u001b[0m\u001b[0mdispatch_one_batch\u001b[0m\u001b[0;34m(\u001b[0m\u001b[0miterator\u001b[0m\u001b[0;34m)\u001b[0m\u001b[0;34m:\u001b[0m\u001b[0;34m\u001b[0m\u001b[0;34m\u001b[0m\u001b[0m\n\u001b[0m\u001b[1;32m   1086\u001b[0m                 \u001b[0mself\u001b[0m\u001b[0;34m.\u001b[0m\u001b[0m_iterating\u001b[0m \u001b[0;34m=\u001b[0m \u001b[0mself\u001b[0m\u001b[0;34m.\u001b[0m\u001b[0m_original_iterator\u001b[0m \u001b[0;32mis\u001b[0m \u001b[0;32mnot\u001b[0m \u001b[0;32mNone\u001b[0m\u001b[0;34m\u001b[0m\u001b[0;34m\u001b[0m\u001b[0m\n\u001b[1;32m   1087\u001b[0m \u001b[0;34m\u001b[0m\u001b[0m\n",
      "\u001b[0;32m~/anaconda3/lib/python3.9/site-packages/joblib/parallel.py\u001b[0m in \u001b[0;36mdispatch_one_batch\u001b[0;34m(self, iterator)\u001b[0m\n\u001b[1;32m    899\u001b[0m                 \u001b[0;32mreturn\u001b[0m \u001b[0;32mFalse\u001b[0m\u001b[0;34m\u001b[0m\u001b[0;34m\u001b[0m\u001b[0m\n\u001b[1;32m    900\u001b[0m             \u001b[0;32melse\u001b[0m\u001b[0;34m:\u001b[0m\u001b[0;34m\u001b[0m\u001b[0;34m\u001b[0m\u001b[0m\n\u001b[0;32m--> 901\u001b[0;31m                 \u001b[0mself\u001b[0m\u001b[0;34m.\u001b[0m\u001b[0m_dispatch\u001b[0m\u001b[0;34m(\u001b[0m\u001b[0mtasks\u001b[0m\u001b[0;34m)\u001b[0m\u001b[0;34m\u001b[0m\u001b[0;34m\u001b[0m\u001b[0m\n\u001b[0m\u001b[1;32m    902\u001b[0m                 \u001b[0;32mreturn\u001b[0m \u001b[0;32mTrue\u001b[0m\u001b[0;34m\u001b[0m\u001b[0;34m\u001b[0m\u001b[0m\n\u001b[1;32m    903\u001b[0m \u001b[0;34m\u001b[0m\u001b[0m\n",
      "\u001b[0;32m~/anaconda3/lib/python3.9/site-packages/joblib/parallel.py\u001b[0m in \u001b[0;36m_dispatch\u001b[0;34m(self, batch)\u001b[0m\n\u001b[1;32m    817\u001b[0m         \u001b[0;32mwith\u001b[0m \u001b[0mself\u001b[0m\u001b[0;34m.\u001b[0m\u001b[0m_lock\u001b[0m\u001b[0;34m:\u001b[0m\u001b[0;34m\u001b[0m\u001b[0;34m\u001b[0m\u001b[0m\n\u001b[1;32m    818\u001b[0m             \u001b[0mjob_idx\u001b[0m \u001b[0;34m=\u001b[0m \u001b[0mlen\u001b[0m\u001b[0;34m(\u001b[0m\u001b[0mself\u001b[0m\u001b[0;34m.\u001b[0m\u001b[0m_jobs\u001b[0m\u001b[0;34m)\u001b[0m\u001b[0;34m\u001b[0m\u001b[0;34m\u001b[0m\u001b[0m\n\u001b[0;32m--> 819\u001b[0;31m             \u001b[0mjob\u001b[0m \u001b[0;34m=\u001b[0m \u001b[0mself\u001b[0m\u001b[0;34m.\u001b[0m\u001b[0m_backend\u001b[0m\u001b[0;34m.\u001b[0m\u001b[0mapply_async\u001b[0m\u001b[0;34m(\u001b[0m\u001b[0mbatch\u001b[0m\u001b[0;34m,\u001b[0m \u001b[0mcallback\u001b[0m\u001b[0;34m=\u001b[0m\u001b[0mcb\u001b[0m\u001b[0;34m)\u001b[0m\u001b[0;34m\u001b[0m\u001b[0;34m\u001b[0m\u001b[0m\n\u001b[0m\u001b[1;32m    820\u001b[0m             \u001b[0;31m# A job can complete so quickly than its callback is\u001b[0m\u001b[0;34m\u001b[0m\u001b[0;34m\u001b[0m\u001b[0m\n\u001b[1;32m    821\u001b[0m             \u001b[0;31m# called before we get here, causing self._jobs to\u001b[0m\u001b[0;34m\u001b[0m\u001b[0;34m\u001b[0m\u001b[0m\n",
      "\u001b[0;32m~/anaconda3/lib/python3.9/site-packages/joblib/_parallel_backends.py\u001b[0m in \u001b[0;36mapply_async\u001b[0;34m(self, func, callback)\u001b[0m\n\u001b[1;32m    206\u001b[0m     \u001b[0;32mdef\u001b[0m \u001b[0mapply_async\u001b[0m\u001b[0;34m(\u001b[0m\u001b[0mself\u001b[0m\u001b[0;34m,\u001b[0m \u001b[0mfunc\u001b[0m\u001b[0;34m,\u001b[0m \u001b[0mcallback\u001b[0m\u001b[0;34m=\u001b[0m\u001b[0;32mNone\u001b[0m\u001b[0;34m)\u001b[0m\u001b[0;34m:\u001b[0m\u001b[0;34m\u001b[0m\u001b[0;34m\u001b[0m\u001b[0m\n\u001b[1;32m    207\u001b[0m         \u001b[0;34m\"\"\"Schedule a func to be run\"\"\"\u001b[0m\u001b[0;34m\u001b[0m\u001b[0;34m\u001b[0m\u001b[0m\n\u001b[0;32m--> 208\u001b[0;31m         \u001b[0mresult\u001b[0m \u001b[0;34m=\u001b[0m \u001b[0mImmediateResult\u001b[0m\u001b[0;34m(\u001b[0m\u001b[0mfunc\u001b[0m\u001b[0;34m)\u001b[0m\u001b[0;34m\u001b[0m\u001b[0;34m\u001b[0m\u001b[0m\n\u001b[0m\u001b[1;32m    209\u001b[0m         \u001b[0;32mif\u001b[0m \u001b[0mcallback\u001b[0m\u001b[0;34m:\u001b[0m\u001b[0;34m\u001b[0m\u001b[0;34m\u001b[0m\u001b[0m\n\u001b[1;32m    210\u001b[0m             \u001b[0mcallback\u001b[0m\u001b[0;34m(\u001b[0m\u001b[0mresult\u001b[0m\u001b[0;34m)\u001b[0m\u001b[0;34m\u001b[0m\u001b[0;34m\u001b[0m\u001b[0m\n",
      "\u001b[0;32m~/anaconda3/lib/python3.9/site-packages/joblib/_parallel_backends.py\u001b[0m in \u001b[0;36m__init__\u001b[0;34m(self, batch)\u001b[0m\n\u001b[1;32m    595\u001b[0m         \u001b[0;31m# Don't delay the application, to avoid keeping the input\u001b[0m\u001b[0;34m\u001b[0m\u001b[0;34m\u001b[0m\u001b[0m\n\u001b[1;32m    596\u001b[0m         \u001b[0;31m# arguments in memory\u001b[0m\u001b[0;34m\u001b[0m\u001b[0;34m\u001b[0m\u001b[0m\n\u001b[0;32m--> 597\u001b[0;31m         \u001b[0mself\u001b[0m\u001b[0;34m.\u001b[0m\u001b[0mresults\u001b[0m \u001b[0;34m=\u001b[0m \u001b[0mbatch\u001b[0m\u001b[0;34m(\u001b[0m\u001b[0;34m)\u001b[0m\u001b[0;34m\u001b[0m\u001b[0;34m\u001b[0m\u001b[0m\n\u001b[0m\u001b[1;32m    598\u001b[0m \u001b[0;34m\u001b[0m\u001b[0m\n\u001b[1;32m    599\u001b[0m     \u001b[0;32mdef\u001b[0m \u001b[0mget\u001b[0m\u001b[0;34m(\u001b[0m\u001b[0mself\u001b[0m\u001b[0;34m)\u001b[0m\u001b[0;34m:\u001b[0m\u001b[0;34m\u001b[0m\u001b[0;34m\u001b[0m\u001b[0m\n",
      "\u001b[0;32m~/anaconda3/lib/python3.9/site-packages/joblib/parallel.py\u001b[0m in \u001b[0;36m__call__\u001b[0;34m(self)\u001b[0m\n\u001b[1;32m    286\u001b[0m         \u001b[0;31m# change the default number of processes to -1\u001b[0m\u001b[0;34m\u001b[0m\u001b[0;34m\u001b[0m\u001b[0m\n\u001b[1;32m    287\u001b[0m         \u001b[0;32mwith\u001b[0m \u001b[0mparallel_backend\u001b[0m\u001b[0;34m(\u001b[0m\u001b[0mself\u001b[0m\u001b[0;34m.\u001b[0m\u001b[0m_backend\u001b[0m\u001b[0;34m,\u001b[0m \u001b[0mn_jobs\u001b[0m\u001b[0;34m=\u001b[0m\u001b[0mself\u001b[0m\u001b[0;34m.\u001b[0m\u001b[0m_n_jobs\u001b[0m\u001b[0;34m)\u001b[0m\u001b[0;34m:\u001b[0m\u001b[0;34m\u001b[0m\u001b[0;34m\u001b[0m\u001b[0m\n\u001b[0;32m--> 288\u001b[0;31m             return [func(*args, **kwargs)\n\u001b[0m\u001b[1;32m    289\u001b[0m                     for func, args, kwargs in self.items]\n\u001b[1;32m    290\u001b[0m \u001b[0;34m\u001b[0m\u001b[0m\n",
      "\u001b[0;32m~/anaconda3/lib/python3.9/site-packages/joblib/parallel.py\u001b[0m in \u001b[0;36m<listcomp>\u001b[0;34m(.0)\u001b[0m\n\u001b[1;32m    286\u001b[0m         \u001b[0;31m# change the default number of processes to -1\u001b[0m\u001b[0;34m\u001b[0m\u001b[0;34m\u001b[0m\u001b[0m\n\u001b[1;32m    287\u001b[0m         \u001b[0;32mwith\u001b[0m \u001b[0mparallel_backend\u001b[0m\u001b[0;34m(\u001b[0m\u001b[0mself\u001b[0m\u001b[0;34m.\u001b[0m\u001b[0m_backend\u001b[0m\u001b[0;34m,\u001b[0m \u001b[0mn_jobs\u001b[0m\u001b[0;34m=\u001b[0m\u001b[0mself\u001b[0m\u001b[0;34m.\u001b[0m\u001b[0m_n_jobs\u001b[0m\u001b[0;34m)\u001b[0m\u001b[0;34m:\u001b[0m\u001b[0;34m\u001b[0m\u001b[0;34m\u001b[0m\u001b[0m\n\u001b[0;32m--> 288\u001b[0;31m             return [func(*args, **kwargs)\n\u001b[0m\u001b[1;32m    289\u001b[0m                     for func, args, kwargs in self.items]\n\u001b[1;32m    290\u001b[0m \u001b[0;34m\u001b[0m\u001b[0m\n",
      "\u001b[0;32m~/anaconda3/lib/python3.9/site-packages/sklearn/utils/parallel.py\u001b[0m in \u001b[0;36m__call__\u001b[0;34m(self, *args, **kwargs)\u001b[0m\n\u001b[1;32m    121\u001b[0m             \u001b[0mconfig\u001b[0m \u001b[0;34m=\u001b[0m \u001b[0;34m{\u001b[0m\u001b[0;34m}\u001b[0m\u001b[0;34m\u001b[0m\u001b[0;34m\u001b[0m\u001b[0m\n\u001b[1;32m    122\u001b[0m         \u001b[0;32mwith\u001b[0m \u001b[0mconfig_context\u001b[0m\u001b[0;34m(\u001b[0m\u001b[0;34m**\u001b[0m\u001b[0mconfig\u001b[0m\u001b[0;34m)\u001b[0m\u001b[0;34m:\u001b[0m\u001b[0;34m\u001b[0m\u001b[0;34m\u001b[0m\u001b[0m\n\u001b[0;32m--> 123\u001b[0;31m             \u001b[0;32mreturn\u001b[0m \u001b[0mself\u001b[0m\u001b[0;34m.\u001b[0m\u001b[0mfunction\u001b[0m\u001b[0;34m(\u001b[0m\u001b[0;34m*\u001b[0m\u001b[0margs\u001b[0m\u001b[0;34m,\u001b[0m \u001b[0;34m**\u001b[0m\u001b[0mkwargs\u001b[0m\u001b[0;34m)\u001b[0m\u001b[0;34m\u001b[0m\u001b[0;34m\u001b[0m\u001b[0m\n\u001b[0m",
      "\u001b[0;32m~/anaconda3/lib/python3.9/site-packages/sklearn/model_selection/_validation.py\u001b[0m in \u001b[0;36m_fit_and_score\u001b[0;34m(estimator, X, y, scorer, train, test, verbose, parameters, fit_params, return_train_score, return_parameters, return_n_test_samples, return_times, return_estimator, split_progress, candidate_progress, error_score)\u001b[0m\n\u001b[1;32m    672\u001b[0m             \u001b[0mcloned_parameters\u001b[0m\u001b[0;34m[\u001b[0m\u001b[0mk\u001b[0m\u001b[0;34m]\u001b[0m \u001b[0;34m=\u001b[0m \u001b[0mclone\u001b[0m\u001b[0;34m(\u001b[0m\u001b[0mv\u001b[0m\u001b[0;34m,\u001b[0m \u001b[0msafe\u001b[0m\u001b[0;34m=\u001b[0m\u001b[0;32mFalse\u001b[0m\u001b[0;34m)\u001b[0m\u001b[0;34m\u001b[0m\u001b[0;34m\u001b[0m\u001b[0m\n\u001b[1;32m    673\u001b[0m \u001b[0;34m\u001b[0m\u001b[0m\n\u001b[0;32m--> 674\u001b[0;31m         \u001b[0mestimator\u001b[0m \u001b[0;34m=\u001b[0m \u001b[0mestimator\u001b[0m\u001b[0;34m.\u001b[0m\u001b[0mset_params\u001b[0m\u001b[0;34m(\u001b[0m\u001b[0;34m**\u001b[0m\u001b[0mcloned_parameters\u001b[0m\u001b[0;34m)\u001b[0m\u001b[0;34m\u001b[0m\u001b[0;34m\u001b[0m\u001b[0m\n\u001b[0m\u001b[1;32m    675\u001b[0m \u001b[0;34m\u001b[0m\u001b[0m\n\u001b[1;32m    676\u001b[0m     \u001b[0mstart_time\u001b[0m \u001b[0;34m=\u001b[0m \u001b[0mtime\u001b[0m\u001b[0;34m.\u001b[0m\u001b[0mtime\u001b[0m\u001b[0;34m(\u001b[0m\u001b[0;34m)\u001b[0m\u001b[0;34m\u001b[0m\u001b[0;34m\u001b[0m\u001b[0m\n",
      "\u001b[0;32m~/anaconda3/lib/python3.9/site-packages/sklearn/pipeline.py\u001b[0m in \u001b[0;36mset_params\u001b[0;34m(self, **kwargs)\u001b[0m\n\u001b[1;32m    209\u001b[0m             \u001b[0mPipeline\u001b[0m \u001b[0;32mclass\u001b[0m \u001b[0minstance\u001b[0m\u001b[0;34m.\u001b[0m\u001b[0;34m\u001b[0m\u001b[0;34m\u001b[0m\u001b[0m\n\u001b[1;32m    210\u001b[0m         \"\"\"\n\u001b[0;32m--> 211\u001b[0;31m         \u001b[0mself\u001b[0m\u001b[0;34m.\u001b[0m\u001b[0m_set_params\u001b[0m\u001b[0;34m(\u001b[0m\u001b[0;34m\"steps\"\u001b[0m\u001b[0;34m,\u001b[0m \u001b[0;34m**\u001b[0m\u001b[0mkwargs\u001b[0m\u001b[0;34m)\u001b[0m\u001b[0;34m\u001b[0m\u001b[0;34m\u001b[0m\u001b[0m\n\u001b[0m\u001b[1;32m    212\u001b[0m         \u001b[0;32mreturn\u001b[0m \u001b[0mself\u001b[0m\u001b[0;34m\u001b[0m\u001b[0;34m\u001b[0m\u001b[0m\n\u001b[1;32m    213\u001b[0m \u001b[0;34m\u001b[0m\u001b[0m\n",
      "\u001b[0;32m~/anaconda3/lib/python3.9/site-packages/sklearn/utils/metaestimators.py\u001b[0m in \u001b[0;36m_set_params\u001b[0;34m(self, attr, **params)\u001b[0m\n\u001b[1;32m     68\u001b[0m \u001b[0;34m\u001b[0m\u001b[0m\n\u001b[1;32m     69\u001b[0m         \u001b[0;31m# 3. Step parameters and other initialisation arguments\u001b[0m\u001b[0;34m\u001b[0m\u001b[0;34m\u001b[0m\u001b[0m\n\u001b[0;32m---> 70\u001b[0;31m         \u001b[0msuper\u001b[0m\u001b[0;34m(\u001b[0m\u001b[0;34m)\u001b[0m\u001b[0;34m.\u001b[0m\u001b[0mset_params\u001b[0m\u001b[0;34m(\u001b[0m\u001b[0;34m**\u001b[0m\u001b[0mparams\u001b[0m\u001b[0;34m)\u001b[0m\u001b[0;34m\u001b[0m\u001b[0;34m\u001b[0m\u001b[0m\n\u001b[0m\u001b[1;32m     71\u001b[0m         \u001b[0;32mreturn\u001b[0m \u001b[0mself\u001b[0m\u001b[0;34m\u001b[0m\u001b[0;34m\u001b[0m\u001b[0m\n\u001b[1;32m     72\u001b[0m \u001b[0;34m\u001b[0m\u001b[0m\n",
      "\u001b[0;32m~/anaconda3/lib/python3.9/site-packages/sklearn/base.py\u001b[0m in \u001b[0;36mset_params\u001b[0;34m(self, **params)\u001b[0m\n\u001b[1;32m    203\u001b[0m             \u001b[0;32mif\u001b[0m \u001b[0mkey\u001b[0m \u001b[0;32mnot\u001b[0m \u001b[0;32min\u001b[0m \u001b[0mvalid_params\u001b[0m\u001b[0;34m:\u001b[0m\u001b[0;34m\u001b[0m\u001b[0;34m\u001b[0m\u001b[0m\n\u001b[1;32m    204\u001b[0m                 \u001b[0mlocal_valid_params\u001b[0m \u001b[0;34m=\u001b[0m \u001b[0mself\u001b[0m\u001b[0;34m.\u001b[0m\u001b[0m_get_param_names\u001b[0m\u001b[0;34m(\u001b[0m\u001b[0;34m)\u001b[0m\u001b[0;34m\u001b[0m\u001b[0;34m\u001b[0m\u001b[0m\n\u001b[0;32m--> 205\u001b[0;31m                 raise ValueError(\n\u001b[0m\u001b[1;32m    206\u001b[0m                     \u001b[0;34mf\"Invalid parameter {key!r} for estimator {self}. \"\u001b[0m\u001b[0;34m\u001b[0m\u001b[0;34m\u001b[0m\u001b[0m\n\u001b[1;32m    207\u001b[0m                     \u001b[0;34mf\"Valid parameters are: {local_valid_params!r}.\"\u001b[0m\u001b[0;34m\u001b[0m\u001b[0;34m\u001b[0m\u001b[0m\n",
      "\u001b[0;31mValueError\u001b[0m: Invalid parameter 'fit_intercept' for estimator Pipeline(steps=[('preprocessor',\n                 ColumnTransformer(transformers=[('num',\n                                                  Pipeline(steps=[('standardscaler',\n                                                                   StandardScaler())]),\n                                                  ['age_upon_intake_(years)']),\n                                                 ('cat',\n                                                  Pipeline(steps=[('onehotencoder',\n                                                                   OneHotEncoder(handle_unknown='ignore',\n                                                                                 sparse=False))]),\n                                                  ['animal_type', 'breed',\n                                                   'intake_condition', 'sex',\n                                                   'sex_type'])])),\n                ('regressor', LinearRegression())]). Valid parameters are: ['memory', 'steps', 'verbose']."
     ]
    }
   ],
   "source": [
    "from sklearn.model_selection import GridSearchCV\n",
    "\n",
    "# Define the hyperparameters to be tuned using a dictionary:\n",
    "param_grid = {'fit_intercept': [True, False], 'normalize': [True, False]}\n",
    "\n",
    "#  Instantiate the GridSearchCV object:\n",
    "grid_search = GridSearchCV(model_pipeline, param_grid, cv=5)\n",
    "\n",
    "#Fit the GridSearchCV object on the training data:\n",
    "grid_search.fit(X_train, y_train)"
   ]
  },
  {
   "cell_type": "code",
   "execution_count": null,
   "id": "28212e0b",
   "metadata": {
    "scrolled": true
   },
   "outputs": [],
   "source": [
    "print(grid_search.best_score_)\n",
    "print(grid_search.best_params_)\n",
    "print(grid_search.best_estimator_)"
   ]
  },
  {
   "cell_type": "code",
   "execution_count": null,
   "id": "20b60e0d",
   "metadata": {},
   "outputs": [],
   "source": []
  },
  {
   "cell_type": "code",
   "execution_count": null,
   "id": "93ee66a0",
   "metadata": {},
   "outputs": [],
   "source": []
  },
  {
   "cell_type": "code",
   "execution_count": null,
   "id": "5bcfa948",
   "metadata": {},
   "outputs": [],
   "source": []
  },
  {
   "cell_type": "code",
   "execution_count": null,
   "id": "b20bc7ae",
   "metadata": {},
   "outputs": [],
   "source": []
  },
  {
   "cell_type": "code",
   "execution_count": null,
   "id": "e8892ce5",
   "metadata": {},
   "outputs": [],
   "source": []
  },
  {
   "cell_type": "code",
   "execution_count": null,
   "id": "747197bf",
   "metadata": {},
   "outputs": [],
   "source": []
  },
  {
   "cell_type": "code",
   "execution_count": null,
   "id": "9d0e0205",
   "metadata": {},
   "outputs": [],
   "source": []
  },
  {
   "cell_type": "code",
   "execution_count": null,
   "id": "045053f8",
   "metadata": {},
   "outputs": [],
   "source": []
  },
  {
   "cell_type": "code",
   "execution_count": null,
   "id": "e16e812c",
   "metadata": {},
   "outputs": [],
   "source": []
  },
  {
   "cell_type": "code",
   "execution_count": null,
   "id": "27b1fb43",
   "metadata": {},
   "outputs": [],
   "source": []
  }
 ],
 "metadata": {
  "kernelspec": {
   "display_name": "Python 3 (ipykernel)",
   "language": "python",
   "name": "python3"
  },
  "language_info": {
   "codemirror_mode": {
    "name": "ipython",
    "version": 3
   },
   "file_extension": ".py",
   "mimetype": "text/x-python",
   "name": "python",
   "nbconvert_exporter": "python",
   "pygments_lexer": "ipython3",
   "version": "3.9.7"
  },
  "toc": {
   "base_numbering": 1,
   "nav_menu": {},
   "number_sections": true,
   "sideBar": true,
   "skip_h1_title": false,
   "title_cell": "Table of Contents",
   "title_sidebar": "Contents",
   "toc_cell": false,
   "toc_position": {},
   "toc_section_display": true,
   "toc_window_display": false
  }
 },
 "nbformat": 4,
 "nbformat_minor": 5
}
