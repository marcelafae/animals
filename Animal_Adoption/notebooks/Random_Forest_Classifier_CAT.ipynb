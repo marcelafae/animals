{
 "cells": [
  {
   "attachments": {},
   "cell_type": "markdown",
   "metadata": {},
   "source": [
    "## Random_Forest_Classifier CAT"
   ]
  },
  {
   "cell_type": "code",
   "execution_count": 3,
   "metadata": {},
   "outputs": [],
   "source": [
    "%load_ext autoreload\n",
    "%autoreload 2"
   ]
  },
  {
   "cell_type": "code",
   "execution_count": 4,
   "metadata": {},
   "outputs": [],
   "source": [
    "# Data Processing\n",
    "import pandas as pd\n",
    "import numpy as np\n",
    "import seaborn as sns\n",
    "import matplotlib.pyplot as plt\n",
    "\n",
    "# Modelling\n",
    "from sklearn.ensemble import RandomForestClassifier\n",
    "from sklearn.metrics import accuracy_score, confusion_matrix, precision_score, recall_score, ConfusionMatrixDisplay\n",
    "from sklearn.model_selection import RandomizedSearchCV, train_test_split\n",
    "from scipy.stats import randint\n",
    "\n",
    "# Tree Visualisation\n",
    "from sklearn.tree import export_graphviz\n",
    "from IPython.display import Image\n",
    "import graphviz"
   ]
  },
  {
   "cell_type": "code",
   "execution_count": 11,
   "metadata": {},
   "outputs": [
    {
     "name": "stdout",
     "output_type": "stream",
     "text": [
      "      age_upon_outcome animal_id animal_type_x              breed_x  \\\n",
      "0              2 weeks   A684346           Cat   domestic shorthair   \n",
      "1              1 month   A685067           Cat   domestic shorthair   \n",
      "2             3 months   A678580           Cat   domestic shorthair   \n",
      "3               1 year   A675405           Cat  domestic mediumhair   \n",
      "4              3 weeks   A670420           Cat   domestic shorthair   \n",
      "...                ...       ...           ...                  ...   \n",
      "31577         2 months   A758112           Cat   american shorthair   \n",
      "31578          1 month   A758569           Cat   domestic shorthair   \n",
      "31579           1 year   A765938           Cat   domestic shorthair   \n",
      "31580         6 months   A765832           Cat   domestic shorthair   \n",
      "31581         6 months   A765831           Cat  domestic mediumhair   \n",
      "\n",
      "            color_x      date_of_birth_x             datetime  \\\n",
      "0            orange  2014-07-07 00:00:00  2014-07-22 16:04:00   \n",
      "1       blue /white  2014-06-16 00:00:00  2014-08-14 18:45:00   \n",
      "2       white/black  2014-03-26 00:00:00  2014-06-29 17:45:00   \n",
      "3       black/white  2013-03-27 00:00:00  2014-03-28 14:55:00   \n",
      "4       black/white  2013-12-16 00:00:00  2014-01-09 19:29:00   \n",
      "...             ...                  ...                  ...   \n",
      "31577   blue /white  2017-09-14 00:00:00  2017-12-10 17:44:00   \n",
      "31578  brown /white  2017-08-03 00:00:00  2017-09-24 11:57:00   \n",
      "31579         brown  2017-01-30 00:00:00  2018-02-01 17:51:00   \n",
      "31580           NaN  2017-07-28 00:00:00  2018-02-01 16:37:00   \n",
      "31581        orange  2017-07-28 00:00:00  2018-02-01 16:38:00   \n",
      "\n",
      "                 monthyear         name outcome_subtype  ...   sex_y  \\\n",
      "0      2014-07-22T16:04:00          NaN         Partner  ...    Male   \n",
      "1      2014-08-14T18:45:00         Lucy             NaN  ...  Female   \n",
      "2      2014-06-29T17:45:00       *Frida         Offsite  ...  Female   \n",
      "3      2014-03-28T14:55:00  Stella Luna             NaN  ...  Female   \n",
      "4      2014-01-09T19:29:00          NaN         Partner  ...    Male   \n",
      "...                    ...          ...             ...  ...     ...   \n",
      "31577  2017-12-10T17:44:00   Allee Chat             NaN  ...  Female   \n",
      "31578  2017-09-24T11:57:00          Mia             NaN  ...    Male   \n",
      "31579  2018-02-01T17:51:00          NaN         Partner  ...    Male   \n",
      "31580  2018-02-01T16:37:00         Luna             NaN  ...  Female   \n",
      "31581  2018-02-01T16:38:00          Mac             NaN  ...    Male   \n",
      "\n",
      "         breed_new  breed_2classes outcome_type_2classes  \\\n",
      "0       short_hair           mixed               adopted   \n",
      "1       short_hair           mixed               adopted   \n",
      "2       short_hair           mixed               adopted   \n",
      "3      medium_hair           mixed           not adopted   \n",
      "4       short_hair           mixed               adopted   \n",
      "...            ...             ...                   ...   \n",
      "31577   short_hair           mixed               adopted   \n",
      "31578   short_hair           mixed               adopted   \n",
      "31579   short_hair           mixed               adopted   \n",
      "31580   short_hair           mixed               adopted   \n",
      "31581  medium_hair           mixed               adopted   \n",
      "\n",
      "      time_in_shelter_days_round   time_in_shelter_class  \\\n",
      "0                              0     after several hours   \n",
      "1                             13  between 11 and 15 days   \n",
      "2                             50     higher than 30 days   \n",
      "3                              1    between 1 and 5 days   \n",
      "4                              2    between 1 and 5 days   \n",
      "...                          ...                     ...   \n",
      "31577                         91     higher than 30 days   \n",
      "31578                          6   between 6 and 10 days   \n",
      "31579                          2    between 1 and 5 days   \n",
      "31580                          4    between 1 and 5 days   \n",
      "31581                          4    between 1 and 5 days   \n",
      "\n",
      "       time_in_shelter_days_round_5classes  \\\n",
      "0                            several hours   \n",
      "1                   between 11 and 15 days   \n",
      "2                      higher than 30 days   \n",
      "3                     between 1 and 5 days   \n",
      "4                     between 1 and 5 days   \n",
      "...                                    ...   \n",
      "31577                  higher than 30 days   \n",
      "31578                between 6 and 10 days   \n",
      "31579                 between 1 and 5 days   \n",
      "31580                 between 1 and 5 days   \n",
      "31581                 between 1 and 5 days   \n",
      "\n",
      "       time_in_shelter_days_round_2classes  intake_condition_2classes  \\\n",
      "0                                 one week                 not normal   \n",
      "1                       more than one week                     normal   \n",
      "2                       more than one week                     normal   \n",
      "3                                 one week                     normal   \n",
      "4                                 one week                     normal   \n",
      "...                                    ...                        ...   \n",
      "31577                   more than one week                     normal   \n",
      "31578                             one week                     normal   \n",
      "31579                             one week                 not normal   \n",
      "31580                             one week                     normal   \n",
      "31581                             one week                     normal   \n",
      "\n",
      "      color_3classes  \n",
      "0          Monocolor  \n",
      "1          Monocolor  \n",
      "2            Bicolor  \n",
      "3            Bicolor  \n",
      "4            Bicolor  \n",
      "...              ...  \n",
      "31577      Monocolor  \n",
      "31578      Monocolor  \n",
      "31579      Monocolor  \n",
      "31580      Monocolor  \n",
      "31581      Monocolor  \n",
      "\n",
      "[31582 rows x 68 columns]\n"
     ]
    }
   ],
   "source": [
    "# load the datatset dog and cat\n",
    "from Animal_Adoption.preproc.data_all import get_data_all\n",
    "df= get_data()"
   ]
  },
  {
   "attachments": {},
   "cell_type": "markdown",
   "metadata": {},
   "source": [
    "## TRAIN_TEST_DATASET"
   ]
  },
  {
   "cell_type": "code",
   "execution_count": 12,
   "metadata": {},
   "outputs": [
    {
     "ename": "KeyError",
     "evalue": "\"['intake_condition_2classes', 'sex_type', 'breed_2classes', 'color_3classes', 'outcome_type_2classes'] not in index\"",
     "output_type": "error",
     "traceback": [
      "\u001b[0;31m---------------------------------------------------------------------------\u001b[0m",
      "\u001b[0;31mKeyError\u001b[0m                                  Traceback (most recent call last)",
      "Cell \u001b[0;32mIn[12], line 3\u001b[0m\n\u001b[1;32m      1\u001b[0m \u001b[39m# Split the data into features (X) and target (y)\u001b[39;00m\n\u001b[0;32m----> 3\u001b[0m X \u001b[39m=\u001b[39m df[[\u001b[39m'\u001b[39;49m\u001b[39mintake_condition_2classes\u001b[39;49m\u001b[39m'\u001b[39;49m, \u001b[39m'\u001b[39;49m\u001b[39msex\u001b[39;49m\u001b[39m'\u001b[39;49m, \u001b[39m'\u001b[39;49m\u001b[39msex_type\u001b[39;49m\u001b[39m'\u001b[39;49m,\\\n\u001b[1;32m      4\u001b[0m     \u001b[39m'\u001b[39;49m\u001b[39manimal_type\u001b[39;49m\u001b[39m'\u001b[39;49m, \u001b[39m'\u001b[39;49m\u001b[39mbreed_2classes\u001b[39;49m\u001b[39m'\u001b[39;49m, \u001b[39m'\u001b[39;49m\u001b[39mage_upon_intake_(years)\u001b[39;49m\u001b[39m'\u001b[39;49m, \u001b[39m'\u001b[39;49m\u001b[39mcolor_3classes\u001b[39;49m\u001b[39m'\u001b[39;49m,\\\n\u001b[1;32m      5\u001b[0m     \u001b[39m'\u001b[39;49m\u001b[39moutcome_type_2classes\u001b[39;49m\u001b[39m'\u001b[39;49m]]\n\u001b[1;32m      6\u001b[0m y \u001b[39m=\u001b[39m df[\u001b[39m'\u001b[39m\u001b[39mtime_in_shelter_days_round_5classes\u001b[39m\u001b[39m'\u001b[39m] \u001b[39m# next one with 'time_in_shelter_days_round_5classes', 'time_in_shelter_days_round_2classes'\u001b[39;00m\n\u001b[1;32m      9\u001b[0m \u001b[39m# Split the data into training and test sets\u001b[39;00m\n",
      "File \u001b[0;32m~/.pyenv/versions/3.10.6/envs/animals/lib/python3.10/site-packages/pandas/core/frame.py:3813\u001b[0m, in \u001b[0;36mDataFrame.__getitem__\u001b[0;34m(self, key)\u001b[0m\n\u001b[1;32m   3811\u001b[0m     \u001b[39mif\u001b[39;00m is_iterator(key):\n\u001b[1;32m   3812\u001b[0m         key \u001b[39m=\u001b[39m \u001b[39mlist\u001b[39m(key)\n\u001b[0;32m-> 3813\u001b[0m     indexer \u001b[39m=\u001b[39m \u001b[39mself\u001b[39;49m\u001b[39m.\u001b[39;49mcolumns\u001b[39m.\u001b[39;49m_get_indexer_strict(key, \u001b[39m\"\u001b[39;49m\u001b[39mcolumns\u001b[39;49m\u001b[39m\"\u001b[39;49m)[\u001b[39m1\u001b[39m]\n\u001b[1;32m   3815\u001b[0m \u001b[39m# take() does not accept boolean indexers\u001b[39;00m\n\u001b[1;32m   3816\u001b[0m \u001b[39mif\u001b[39;00m \u001b[39mgetattr\u001b[39m(indexer, \u001b[39m\"\u001b[39m\u001b[39mdtype\u001b[39m\u001b[39m\"\u001b[39m, \u001b[39mNone\u001b[39;00m) \u001b[39m==\u001b[39m \u001b[39mbool\u001b[39m:\n",
      "File \u001b[0;32m~/.pyenv/versions/3.10.6/envs/animals/lib/python3.10/site-packages/pandas/core/indexes/base.py:6070\u001b[0m, in \u001b[0;36mIndex._get_indexer_strict\u001b[0;34m(self, key, axis_name)\u001b[0m\n\u001b[1;32m   6067\u001b[0m \u001b[39melse\u001b[39;00m:\n\u001b[1;32m   6068\u001b[0m     keyarr, indexer, new_indexer \u001b[39m=\u001b[39m \u001b[39mself\u001b[39m\u001b[39m.\u001b[39m_reindex_non_unique(keyarr)\n\u001b[0;32m-> 6070\u001b[0m \u001b[39mself\u001b[39;49m\u001b[39m.\u001b[39;49m_raise_if_missing(keyarr, indexer, axis_name)\n\u001b[1;32m   6072\u001b[0m keyarr \u001b[39m=\u001b[39m \u001b[39mself\u001b[39m\u001b[39m.\u001b[39mtake(indexer)\n\u001b[1;32m   6073\u001b[0m \u001b[39mif\u001b[39;00m \u001b[39misinstance\u001b[39m(key, Index):\n\u001b[1;32m   6074\u001b[0m     \u001b[39m# GH 42790 - Preserve name from an Index\u001b[39;00m\n",
      "File \u001b[0;32m~/.pyenv/versions/3.10.6/envs/animals/lib/python3.10/site-packages/pandas/core/indexes/base.py:6133\u001b[0m, in \u001b[0;36mIndex._raise_if_missing\u001b[0;34m(self, key, indexer, axis_name)\u001b[0m\n\u001b[1;32m   6130\u001b[0m     \u001b[39mraise\u001b[39;00m \u001b[39mKeyError\u001b[39;00m(\u001b[39mf\u001b[39m\u001b[39m\"\u001b[39m\u001b[39mNone of [\u001b[39m\u001b[39m{\u001b[39;00mkey\u001b[39m}\u001b[39;00m\u001b[39m] are in the [\u001b[39m\u001b[39m{\u001b[39;00maxis_name\u001b[39m}\u001b[39;00m\u001b[39m]\u001b[39m\u001b[39m\"\u001b[39m)\n\u001b[1;32m   6132\u001b[0m not_found \u001b[39m=\u001b[39m \u001b[39mlist\u001b[39m(ensure_index(key)[missing_mask\u001b[39m.\u001b[39mnonzero()[\u001b[39m0\u001b[39m]]\u001b[39m.\u001b[39munique())\n\u001b[0;32m-> 6133\u001b[0m \u001b[39mraise\u001b[39;00m \u001b[39mKeyError\u001b[39;00m(\u001b[39mf\u001b[39m\u001b[39m\"\u001b[39m\u001b[39m{\u001b[39;00mnot_found\u001b[39m}\u001b[39;00m\u001b[39m not in index\u001b[39m\u001b[39m\"\u001b[39m)\n",
      "\u001b[0;31mKeyError\u001b[0m: \"['intake_condition_2classes', 'sex_type', 'breed_2classes', 'color_3classes', 'outcome_type_2classes'] not in index\""
     ]
    }
   ],
   "source": [
    "# Split the data into features (X) and target (y)\n",
    "\n",
    "X = df[['intake_condition_2classes', 'sex', 'sex_type',\\\n",
    "    'animal_type', 'breed_2classes', 'age_upon_intake_(years)', 'color_3classes',\\\n",
    "    'outcome_type_2classes']]\n",
    "y = df['time_in_shelter_days_round_5classes'] # next one with 'time_in_shelter_days_round_5classes', 'time_in_shelter_days_round_2classes'\n",
    "\n",
    "\n",
    "# Split the data into training and test sets\n",
    "X_train, X_test, y_train, y_test = train_test_split(X, y, test_size=0.2)"
   ]
  },
  {
   "attachments": {},
   "cell_type": "markdown",
   "metadata": {},
   "source": [
    "## Pipeline - preprocessor"
   ]
  },
  {
   "cell_type": "code",
   "execution_count": null,
   "metadata": {},
   "outputs": [],
   "source": [
    "# create a list of numerical columns and categorical columns\n",
    "from sklearn.pipeline import make_pipeline\n",
    "from sklearn.preprocessing import StandardScaler, OneHotEncoder\n",
    "from sklearn.compose import ColumnTransformer\n",
    "\n",
    "numeric_features = ['age_upon_intake_(years)']\n",
    "\n",
    "categorical_features = ['intake_condition_2classes', 'sex', 'sex_type',\\\n",
    "    'animal_type', 'breed_2classes', 'color_3classes',\\\n",
    "    'outcome_type_2classes']\n",
    "\n",
    "# create the transformer for numerical columns\n",
    "numeric_transformer = make_pipeline(StandardScaler())\n",
    "\n",
    "# create the transformer for categorical columns\n",
    "categorical_transformer = make_pipeline(OneHotEncoder(sparse=False, handle_unknown='ignore'))\n",
    "\n",
    "\n",
    "# use ColumnTransformer to specify which columns need to be preprocessed in what way\n",
    "preprocessor = ColumnTransformer([\n",
    "        ('num', numeric_transformer, numeric_features),\n",
    "        ('cat', categorical_transformer, categorical_features)])"
   ]
  },
  {
   "attachments": {},
   "cell_type": "markdown",
   "metadata": {},
   "source": [
    "## Pipeline"
   ]
  },
  {
   "cell_type": "code",
   "execution_count": null,
   "metadata": {},
   "outputs": [
    {
     "ename": "NameError",
     "evalue": "name 'make_pipeline' is not defined",
     "output_type": "error",
     "traceback": [
      "\u001b[0;31m---------------------------------------------------------------------------\u001b[0m",
      "\u001b[0;31mNameError\u001b[0m                                 Traceback (most recent call last)",
      "Cell \u001b[0;32mIn[2], line 1\u001b[0m\n\u001b[0;32m----> 1\u001b[0m pipeline \u001b[39m=\u001b[39m make_pipeline(preprocessor, RandomForestClassifier())\n\u001b[1;32m      2\u001b[0m pipeline\n",
      "\u001b[0;31mNameError\u001b[0m: name 'make_pipeline' is not defined"
     ]
    }
   ],
   "source": [
    "pipeline = make_pipeline(preprocessor, RandomForestClassifier())\n",
    "pipeline"
   ]
  },
  {
   "cell_type": "code",
   "execution_count": null,
   "metadata": {},
   "outputs": [],
   "source": [
    "pipeline.fit(X_train,y_train)"
   ]
  },
  {
   "cell_type": "code",
   "execution_count": null,
   "metadata": {},
   "outputs": [],
   "source": [
    "pipeline.predict(X_test)"
   ]
  },
  {
   "attachments": {},
   "cell_type": "markdown",
   "metadata": {},
   "source": [
    "## Accuracy"
   ]
  },
  {
   "cell_type": "code",
   "execution_count": null,
   "metadata": {},
   "outputs": [],
   "source": [
    "pipeline.predict(X_test)"
   ]
  }
 ],
 "metadata": {
  "kernelspec": {
   "display_name": "animals",
   "language": "python",
   "name": "python3"
  },
  "language_info": {
   "codemirror_mode": {
    "name": "ipython",
    "version": 3
   },
   "file_extension": ".py",
   "mimetype": "text/x-python",
   "name": "python",
   "nbconvert_exporter": "python",
   "pygments_lexer": "ipython3",
   "version": "3.10.6"
  },
  "orig_nbformat": 4
 },
 "nbformat": 4,
 "nbformat_minor": 2
}
