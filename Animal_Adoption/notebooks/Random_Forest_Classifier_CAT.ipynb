{
 "cells": [
  {
   "attachments": {},
   "cell_type": "markdown",
   "metadata": {},
   "source": [
    "## Random_Forest_Classifier CAT"
   ]
  },
  {
   "cell_type": "code",
   "execution_count": 1,
   "metadata": {},
   "outputs": [],
   "source": [
    "%load_ext autoreload\n",
    "%autoreload 2"
   ]
  },
  {
   "cell_type": "code",
   "execution_count": 2,
   "metadata": {},
   "outputs": [],
   "source": [
    "# Data Processing\n",
    "import pandas as pd\n",
    "import numpy as np\n",
    "import seaborn as sns\n",
    "import matplotlib.pyplot as plt\n",
    "\n",
    "# Modelling\n",
    "from sklearn.ensemble import RandomForestClassifier\n",
    "from sklearn.metrics import accuracy_score, confusion_matrix, precision_score, recall_score, ConfusionMatrixDisplay\n",
    "from sklearn.model_selection import RandomizedSearchCV, train_test_split\n",
    "from scipy.stats import randint\n",
    "\n",
    "# Tree Visualisation\n",
    "from sklearn.tree import export_graphviz\n",
    "from IPython.display import Image\n",
    "import graphviz"
   ]
  },
  {
   "cell_type": "code",
   "execution_count": 5,
   "metadata": {},
   "outputs": [],
   "source": [
    "# load the datatset cat to have the same features\n",
    "from Animal_Adoption.preproc.data_all import get_data_all\n",
    "df_cat= get_data_all()"
   ]
  },
  {
   "cell_type": "code",
   "execution_count": 6,
   "metadata": {},
   "outputs": [],
   "source": [
    "df_cat.drop(df_cat[df_cat['animal_type'] == 'Dog'].index, inplace = True)"
   ]
  },
  {
   "cell_type": "code",
   "execution_count": 7,
   "metadata": {},
   "outputs": [
    {
     "name": "stdout",
     "output_type": "stream",
     "text": [
      "<class 'pandas.core.frame.DataFrame'>\n",
      "Int64Index: 29520 entries, 10 to 79667\n",
      "Data columns (total 31 columns):\n",
      " #   Column                               Non-Null Count  Dtype         \n",
      "---  ------                               --------------  -----         \n",
      " 0   animal_id_outcome                    29520 non-null  object        \n",
      " 1   date_of_birth                        29520 non-null  datetime64[ns]\n",
      " 2   outcome_type                         29520 non-null  object        \n",
      " 3   sex_upon_outcome                     29520 non-null  object        \n",
      " 4   age_upon_intake                      29520 non-null  object        \n",
      " 5   animal_id_intake                     29520 non-null  object        \n",
      " 6   animal_type                          29520 non-null  object        \n",
      " 7   breed                                29520 non-null  object        \n",
      " 8   color                                29520 non-null  object        \n",
      " 9   intake_condition                     29520 non-null  object        \n",
      " 10  intake_type                          29520 non-null  object        \n",
      " 11  sex_upon_intake                      29520 non-null  object        \n",
      " 12  age_upon_intake_(years)              29520 non-null  float64       \n",
      " 13  intake_datetime                      29520 non-null  datetime64[ns]\n",
      " 14  intake_month                         29520 non-null  int64         \n",
      " 15  intake_year                          29520 non-null  int64         \n",
      " 16  intake_weekday                       29520 non-null  object        \n",
      " 17  intake_hour                          29520 non-null  int64         \n",
      " 18  intake_number                        29520 non-null  float64       \n",
      " 19  time_in_shelter_days                 29520 non-null  float64       \n",
      " 20  sex_type                             29520 non-null  object        \n",
      " 21  sex                                  29520 non-null  object        \n",
      " 22  breed_new                            29520 non-null  object        \n",
      " 23  breed_2classes                       29520 non-null  object        \n",
      " 24  outcome_type_2classes                29520 non-null  object        \n",
      " 25  time_in_shelter_days_round           29520 non-null  int64         \n",
      " 26  time_in_shelter_class                29520 non-null  object        \n",
      " 27  time_in_shelter_days_round_8classes  29520 non-null  object        \n",
      " 28  time_in_shelter_days_round_2classes  29520 non-null  object        \n",
      " 29  intake_condition_2classes            29505 non-null  object        \n",
      " 30  color_3classes                       29520 non-null  object        \n",
      "dtypes: datetime64[ns](2), float64(3), int64(4), object(22)\n",
      "memory usage: 7.2+ MB\n"
     ]
    }
   ],
   "source": [
    "df_cat.info()"
   ]
  },
  {
   "attachments": {},
   "cell_type": "markdown",
   "metadata": {},
   "source": [
    "## TRAIN_TEST_DATASET"
   ]
  },
  {
   "cell_type": "code",
   "execution_count": null,
   "metadata": {},
   "outputs": [],
   "source": [
    "# Split the data into features (X) and target (y)\n",
    "\n",
    "X = df[['intake_condition_2classes', 'sex', 'sex_type',\\\n",
    "    'animal_type', 'breed_2classes', 'age_upon_intake_(years)', 'color_3classes',\\\n",
    "    'outcome_type_2classes']]\n",
    "y = df['time_in_shelter_days_round_5classes'] # next one with 'time_in_shelter_days_round_5classes', 'time_in_shelter_days_round_2classes'\n",
    "\n",
    "\n",
    "# Split the data into training and test sets\n",
    "X_train, X_test, y_train, y_test = train_test_split(X, y, test_size=0.2)"
   ]
  },
  {
   "attachments": {},
   "cell_type": "markdown",
   "metadata": {},
   "source": [
    "## Pipeline - preprocessor"
   ]
  },
  {
   "cell_type": "code",
   "execution_count": null,
   "metadata": {},
   "outputs": [],
   "source": [
    "# create a list of numerical columns and categorical columns\n",
    "from sklearn.pipeline import make_pipeline\n",
    "from sklearn.preprocessing import StandardScaler, OneHotEncoder\n",
    "from sklearn.compose import ColumnTransformer\n",
    "\n",
    "numeric_features = ['age_upon_intake_(years)']\n",
    "\n",
    "categorical_features = ['intake_condition_2classes', 'sex', 'sex_type',\\\n",
    "    'animal_type', 'breed_2classes', 'color_3classes',\\\n",
    "    'outcome_type_2classes']\n",
    "\n",
    "# create the transformer for numerical columns\n",
    "numeric_transformer = make_pipeline(StandardScaler())\n",
    "\n",
    "# create the transformer for categorical columns\n",
    "categorical_transformer = make_pipeline(OneHotEncoder(sparse=False, handle_unknown='ignore'))\n",
    "\n",
    "\n",
    "# use ColumnTransformer to specify which columns need to be preprocessed in what way\n",
    "preprocessor = ColumnTransformer([\n",
    "        ('num', numeric_transformer, numeric_features),\n",
    "        ('cat', categorical_transformer, categorical_features)])"
   ]
  },
  {
   "attachments": {},
   "cell_type": "markdown",
   "metadata": {},
   "source": [
    "## Pipeline"
   ]
  },
  {
   "cell_type": "code",
   "execution_count": null,
   "metadata": {},
   "outputs": [
    {
     "ename": "NameError",
     "evalue": "name 'make_pipeline' is not defined",
     "output_type": "error",
     "traceback": [
      "\u001b[0;31m---------------------------------------------------------------------------\u001b[0m",
      "\u001b[0;31mNameError\u001b[0m                                 Traceback (most recent call last)",
      "Cell \u001b[0;32mIn[2], line 1\u001b[0m\n\u001b[0;32m----> 1\u001b[0m pipeline \u001b[39m=\u001b[39m make_pipeline(preprocessor, RandomForestClassifier())\n\u001b[1;32m      2\u001b[0m pipeline\n",
      "\u001b[0;31mNameError\u001b[0m: name 'make_pipeline' is not defined"
     ]
    }
   ],
   "source": [
    "pipeline = make_pipeline(preprocessor, RandomForestClassifier())\n",
    "pipeline"
   ]
  },
  {
   "cell_type": "code",
   "execution_count": null,
   "metadata": {},
   "outputs": [],
   "source": [
    "pipeline.fit(X_train,y_train)"
   ]
  },
  {
   "cell_type": "code",
   "execution_count": null,
   "metadata": {},
   "outputs": [],
   "source": [
    "pipeline.predict(X_test)"
   ]
  },
  {
   "attachments": {},
   "cell_type": "markdown",
   "metadata": {},
   "source": [
    "## Accuracy"
   ]
  },
  {
   "cell_type": "code",
   "execution_count": null,
   "metadata": {},
   "outputs": [],
   "source": [
    "pipeline.predict(X_test)"
   ]
  }
 ],
 "metadata": {
  "kernelspec": {
   "display_name": "animals",
   "language": "python",
   "name": "python3"
  },
  "language_info": {
   "codemirror_mode": {
    "name": "ipython",
    "version": 3
   },
   "file_extension": ".py",
   "mimetype": "text/x-python",
   "name": "python",
   "nbconvert_exporter": "python",
   "pygments_lexer": "ipython3",
   "version": "3.10.6"
  },
  "orig_nbformat": 4
 },
 "nbformat": 4,
 "nbformat_minor": 2
}
