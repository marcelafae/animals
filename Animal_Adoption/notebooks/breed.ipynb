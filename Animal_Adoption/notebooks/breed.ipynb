{
 "cells": [
  {
   "cell_type": "code",
   "execution_count": 1,
   "metadata": {
    "tags": []
   },
   "outputs": [],
   "source": [
    "import pandas as pd\n",
    "import numpy as np\n",
    "import seaborn as sns\n",
    "import matplotlib.pyplot as plt\n",
    "import seaborn as sns"
   ]
  },
  {
   "cell_type": "code",
   "execution_count": 2,
   "metadata": {
    "tags": []
   },
   "outputs": [],
   "source": [
    "data= pd.read_csv('../../raw_data/aac_intakes_outcomes.csv')"
   ]
  },
  {
   "cell_type": "code",
   "execution_count": 3,
   "metadata": {
    "tags": []
   },
   "outputs": [],
   "source": [
    "from Animal_Adoption.preproc.data import get_breed"
   ]
  },
  {
   "cell_type": "code",
   "execution_count": 4,
   "metadata": {
    "tags": []
   },
   "outputs": [],
   "source": [
    "breed_series = get_breed(data['breed'])"
   ]
  },
  {
   "cell_type": "code",
   "execution_count": 17,
   "metadata": {
    "tags": []
   },
   "outputs": [],
   "source": [
    "def replace_breeds(breed_list: list,\n",
    "                   new_breed: str,\n",
    "                   series: pd.Series) -> pd.Series:\n",
    "    series = series.copy()\n",
    "    for breed in breed_list:\n",
    "        series = series.map(lambda x: breed if breed in x else x)\n",
    "    return series"
   ]
  },
  {
   "cell_type": "code",
   "execution_count": 20,
   "metadata": {
    "tags": []
   },
   "outputs": [],
   "source": [
    "small_dogs = [\"pit bull\", \"chihuahua\",\"terrier\", \"dachshund\", \"miniature poodle\", \"beagle\", \"miniature schnauzer\", \"bulldog\", \"shih tzu\", \"pug\", \"australian kelpie\", \"maltese\", \"chow chow\", \"spaniel\", \"cardigan welsh corgi\",\"miniature pinscher\", \"chinese sharpei\", \"queensland heeler\", \"pomeranian\", \"lhasa apso\"]"
   ]
  },
  {
   "cell_type": "code",
   "execution_count": 24,
   "metadata": {
    "tags": []
   },
   "outputs": [
    {
     "data": {
      "text/plain": [
       "0"
      ]
     },
     "execution_count": 24,
     "metadata": {},
     "output_type": "execute_result"
    }
   ],
   "source": [
    "replace_breeds(small_dogs, 'small', data.breed).str.contains('terrier').sum()"
   ]
  },
  {
   "cell_type": "code",
   "execution_count": 16,
   "metadata": {
    "tags": []
   },
   "outputs": [
    {
     "data": {
      "text/plain": [
       "array(['spinone italiano', 'dachshund', 'shetland sheepdog', ...,\n",
       "       'yorkshire terrier/dachshund', 'norfolk terrier/pug',\n",
       "       'australian big/basset big'], dtype=object)"
      ]
     },
     "execution_count": 16,
     "metadata": {},
     "output_type": "execute_result"
    }
   ],
   "source": [
    "breed_series.unique()"
   ]
  },
  {
   "cell_type": "code",
   "execution_count": 35,
   "metadata": {
    "tags": []
   },
   "outputs": [
    {
     "data": {
      "text/plain": [
       "age_upon_outcome                  0\n",
       "animal_id_outcome                 0\n",
       "date_of_birth                     0\n",
       "outcome_subtype               43324\n",
       "outcome_type                     10\n",
       "sex_upon_outcome                  1\n",
       "age_upon_outcome_(days)           0\n",
       "age_upon_outcome_(years)          0\n",
       "age_upon_outcome_age_group        0\n",
       "outcome_datetime                  0\n",
       "outcome_month                     0\n",
       "outcome_year                      0\n",
       "outcome_monthyear                 0\n",
       "outcome_weekday                   0\n",
       "outcome_hour                      0\n",
       "outcome_number                    0\n",
       "dob_year                          0\n",
       "dob_month                         0\n",
       "dob_monthyear                     0\n",
       "age_upon_intake                   0\n",
       "animal_id_intake                  0\n",
       "animal_type                       0\n",
       "breed                             0\n",
       "color                             0\n",
       "found_location                    0\n",
       "intake_condition                  0\n",
       "intake_type                       0\n",
       "sex_upon_intake                   1\n",
       "count                             0\n",
       "age_upon_intake_(days)            0\n",
       "age_upon_intake_(years)           0\n",
       "age_upon_intake_age_group         0\n",
       "intake_datetime                   0\n",
       "intake_month                      0\n",
       "intake_year                       0\n",
       "intake_monthyear                  0\n",
       "intake_weekday                    0\n",
       "intake_hour                       0\n",
       "intake_number                     0\n",
       "time_in_shelter                   0\n",
       "time_in_shelter_days              0\n",
       "dtype: int64"
      ]
     },
     "execution_count": 35,
     "metadata": {},
     "output_type": "execute_result"
    }
   ],
   "source": [
    "data.isnull().sum()"
   ]
  },
  {
   "cell_type": "code",
   "execution_count": 31,
   "metadata": {
    "tags": []
   },
   "outputs": [
    {
     "ename": "AttributeError",
     "evalue": "'float' object has no attribute 'split'",
     "output_type": "error",
     "traceback": [
      "\u001b[0;31m---------------------------------------------------------------------------\u001b[0m",
      "\u001b[0;31mAttributeError\u001b[0m                            Traceback (most recent call last)",
      "Cell \u001b[0;32mIn[31], line 1\u001b[0m\n\u001b[0;32m----> 1\u001b[0m \u001b[43mdata\u001b[49m\u001b[43m[\u001b[49m\u001b[38;5;124;43m'\u001b[39;49m\u001b[38;5;124;43msex_upon_outcome\u001b[39;49m\u001b[38;5;124;43m'\u001b[39;49m\u001b[43m]\u001b[49m\u001b[38;5;241;43m.\u001b[39;49m\u001b[43mmap\u001b[49m\u001b[43m(\u001b[49m\u001b[38;5;28;43;01mlambda\u001b[39;49;00m\u001b[43m \u001b[49m\u001b[43mx\u001b[49m\u001b[43m:\u001b[49m\u001b[43m \u001b[49m\u001b[43mx\u001b[49m\u001b[38;5;241;43m.\u001b[39;49m\u001b[43msplit\u001b[49m\u001b[43m(\u001b[49m\u001b[38;5;124;43m'\u001b[39;49m\u001b[38;5;124;43m \u001b[39;49m\u001b[38;5;124;43m'\u001b[39;49m\u001b[43m)\u001b[49m\u001b[43m[\u001b[49m\u001b[38;5;241;43m0\u001b[39;49m\u001b[43m]\u001b[49m\u001b[43m)\u001b[49m\n",
      "File \u001b[0;32m~/.pyenv/versions/3.10.6/envs/animals/lib/python3.10/site-packages/pandas/core/series.py:4539\u001b[0m, in \u001b[0;36mSeries.map\u001b[0;34m(self, arg, na_action)\u001b[0m\n\u001b[1;32m   4460\u001b[0m \u001b[38;5;28;01mdef\u001b[39;00m \u001b[38;5;21mmap\u001b[39m(\n\u001b[1;32m   4461\u001b[0m     \u001b[38;5;28mself\u001b[39m,\n\u001b[1;32m   4462\u001b[0m     arg: Callable \u001b[38;5;241m|\u001b[39m Mapping \u001b[38;5;241m|\u001b[39m Series,\n\u001b[1;32m   4463\u001b[0m     na_action: Literal[\u001b[38;5;124m\"\u001b[39m\u001b[38;5;124mignore\u001b[39m\u001b[38;5;124m\"\u001b[39m] \u001b[38;5;241m|\u001b[39m \u001b[38;5;28;01mNone\u001b[39;00m \u001b[38;5;241m=\u001b[39m \u001b[38;5;28;01mNone\u001b[39;00m,\n\u001b[1;32m   4464\u001b[0m ) \u001b[38;5;241m-\u001b[39m\u001b[38;5;241m>\u001b[39m Series:\n\u001b[1;32m   4465\u001b[0m \u001b[38;5;250m    \u001b[39m\u001b[38;5;124;03m\"\"\"\u001b[39;00m\n\u001b[1;32m   4466\u001b[0m \u001b[38;5;124;03m    Map values of Series according to an input mapping or function.\u001b[39;00m\n\u001b[1;32m   4467\u001b[0m \n\u001b[0;32m   (...)\u001b[0m\n\u001b[1;32m   4537\u001b[0m \u001b[38;5;124;03m    dtype: object\u001b[39;00m\n\u001b[1;32m   4538\u001b[0m \u001b[38;5;124;03m    \"\"\"\u001b[39;00m\n\u001b[0;32m-> 4539\u001b[0m     new_values \u001b[38;5;241m=\u001b[39m \u001b[38;5;28;43mself\u001b[39;49m\u001b[38;5;241;43m.\u001b[39;49m\u001b[43m_map_values\u001b[49m\u001b[43m(\u001b[49m\u001b[43marg\u001b[49m\u001b[43m,\u001b[49m\u001b[43m \u001b[49m\u001b[43mna_action\u001b[49m\u001b[38;5;241;43m=\u001b[39;49m\u001b[43mna_action\u001b[49m\u001b[43m)\u001b[49m\n\u001b[1;32m   4540\u001b[0m     \u001b[38;5;28;01mreturn\u001b[39;00m \u001b[38;5;28mself\u001b[39m\u001b[38;5;241m.\u001b[39m_constructor(new_values, index\u001b[38;5;241m=\u001b[39m\u001b[38;5;28mself\u001b[39m\u001b[38;5;241m.\u001b[39mindex)\u001b[38;5;241m.\u001b[39m__finalize__(\n\u001b[1;32m   4541\u001b[0m         \u001b[38;5;28mself\u001b[39m, method\u001b[38;5;241m=\u001b[39m\u001b[38;5;124m\"\u001b[39m\u001b[38;5;124mmap\u001b[39m\u001b[38;5;124m\"\u001b[39m\n\u001b[1;32m   4542\u001b[0m     )\n",
      "File \u001b[0;32m~/.pyenv/versions/3.10.6/envs/animals/lib/python3.10/site-packages/pandas/core/base.py:890\u001b[0m, in \u001b[0;36mIndexOpsMixin._map_values\u001b[0;34m(self, mapper, na_action)\u001b[0m\n\u001b[1;32m    887\u001b[0m         \u001b[38;5;28;01mraise\u001b[39;00m \u001b[38;5;167;01mValueError\u001b[39;00m(msg)\n\u001b[1;32m    889\u001b[0m \u001b[38;5;66;03m# mapper is a function\u001b[39;00m\n\u001b[0;32m--> 890\u001b[0m new_values \u001b[38;5;241m=\u001b[39m \u001b[43mmap_f\u001b[49m\u001b[43m(\u001b[49m\u001b[43mvalues\u001b[49m\u001b[43m,\u001b[49m\u001b[43m \u001b[49m\u001b[43mmapper\u001b[49m\u001b[43m)\u001b[49m\n\u001b[1;32m    892\u001b[0m \u001b[38;5;28;01mreturn\u001b[39;00m new_values\n",
      "File \u001b[0;32m~/.pyenv/versions/3.10.6/envs/animals/lib/python3.10/site-packages/pandas/_libs/lib.pyx:2924\u001b[0m, in \u001b[0;36mpandas._libs.lib.map_infer\u001b[0;34m()\u001b[0m\n",
      "Cell \u001b[0;32mIn[31], line 1\u001b[0m, in \u001b[0;36m<lambda>\u001b[0;34m(x)\u001b[0m\n\u001b[0;32m----> 1\u001b[0m data[\u001b[38;5;124m'\u001b[39m\u001b[38;5;124msex_upon_outcome\u001b[39m\u001b[38;5;124m'\u001b[39m]\u001b[38;5;241m.\u001b[39mmap(\u001b[38;5;28;01mlambda\u001b[39;00m x: \u001b[43mx\u001b[49m\u001b[38;5;241;43m.\u001b[39;49m\u001b[43msplit\u001b[49m(\u001b[38;5;124m'\u001b[39m\u001b[38;5;124m \u001b[39m\u001b[38;5;124m'\u001b[39m)[\u001b[38;5;241m0\u001b[39m])\n",
      "\u001b[0;31mAttributeError\u001b[0m: 'float' object has no attribute 'split'"
     ]
    }
   ],
   "source": [
    "data['sex_upon_outcome'].map(lambda x: x.split(' ')[0])"
   ]
  },
  {
   "cell_type": "code",
   "execution_count": 6,
   "metadata": {
    "tags": []
   },
   "outputs": [
    {
     "data": {
      "text/plain": [
       "array(['Spinone Italiano Mix', 'Dachshund', 'Shetland Sheepdog', ...,\n",
       "       'Yorkshire Terrier/Dachshund', 'Norfolk Terrier/Pug',\n",
       "       'Australian Shepherd/Basset Hound'], dtype=object)"
      ]
     },
     "execution_count": 6,
     "metadata": {},
     "output_type": "execute_result"
    }
   ],
   "source": [
    "data['breed'].unique()"
   ]
  },
  {
   "cell_type": "code",
   "execution_count": 7,
   "metadata": {
    "tags": []
   },
   "outputs": [
    {
     "data": {
      "text/plain": [
       "2155"
      ]
     },
     "execution_count": 7,
     "metadata": {},
     "output_type": "execute_result"
    }
   ],
   "source": [
    "len(data['breed'].unique())"
   ]
  },
  {
   "cell_type": "code",
   "execution_count": 3,
   "metadata": {
    "tags": []
   },
   "outputs": [],
   "source": [
    "def cleaning(sentence):\n",
    "    ## remove whitespaces\n",
    "    sentence = sentence.strip() \n",
    "    ## lowercasing \n",
    "    sentence = sentence.lower() \n",
    "    ## remove the word 'mix'-> doesn't work -> data['breed']= data.breed.str.replace('mix', '')\n",
    "    sentence = sentence.replace('mix', '')\n",
    "    return sentence"
   ]
  },
  {
   "cell_type": "code",
   "execution_count": 4,
   "metadata": {
    "tags": []
   },
   "outputs": [],
   "source": [
    "data['breed']= data['breed'].apply(cleaning)"
   ]
  },
  {
   "cell_type": "code",
   "execution_count": 10,
   "metadata": {
    "tags": []
   },
   "outputs": [
    {
     "data": {
      "text/plain": [
       "0          spinone italiano \n",
       "1          spinone italiano \n",
       "2          spinone italiano \n",
       "3                  dachshund\n",
       "4          shetland sheepdog\n",
       "                ...         \n",
       "79667    domestic shorthair \n",
       "79668                   bat \n",
       "79669                   bat \n",
       "79670    labrador retriever \n",
       "79671                 boxer \n",
       "Name: breed, Length: 79672, dtype: object"
      ]
     },
     "execution_count": 10,
     "metadata": {},
     "output_type": "execute_result"
    }
   ],
   "source": [
    "data['breed']"
   ]
  },
  {
   "cell_type": "code",
   "execution_count": 11,
   "metadata": {
    "tags": []
   },
   "outputs": [
    {
     "data": {
      "text/plain": [
       "2155"
      ]
     },
     "execution_count": 11,
     "metadata": {},
     "output_type": "execute_result"
    }
   ],
   "source": [
    "len(data['breed'].unique())"
   ]
  },
  {
   "cell_type": "code",
   "execution_count": 12,
   "metadata": {
    "tags": []
   },
   "outputs": [
    {
     "data": {
      "text/plain": [
       "array(['spinone italiano ', 'dachshund', 'shetland sheepdog', ...,\n",
       "       'yorkshire terrier/dachshund', 'norfolk terrier/pug',\n",
       "       'australian shepherd/basset hound'], dtype=object)"
      ]
     },
     "execution_count": 12,
     "metadata": {},
     "output_type": "execute_result"
    }
   ],
   "source": [
    "data['breed'].unique()"
   ]
  },
  {
   "cell_type": "code",
   "execution_count": 13,
   "metadata": {},
   "outputs": [],
   "source": [
    "# ['retriever', 'bulldog', 'pit bull', 'terrier', 'dachshund', 'collie', 'shepherd', 'spaniel', 'chihuahua']"
   ]
  },
  {
   "cell_type": "code",
   "execution_count": 5,
   "metadata": {
    "tags": []
   },
   "outputs": [],
   "source": [
    "#defining all animals with spots\n",
    "def replace_breed(in_breed: str) -> str:\n",
    "    breeds = ['retriever', 'bulldog', 'pit bull', 'hound', 'terrier', 'dachshund', 'shepherd', 'spaniel', 'chihuahua']\n",
    "    breed_list = in_breed.split(\"/\")\n",
    "    for breed in breeds:\n",
    "        for i in range(len(breed_list)):\n",
    "            if breed in breed_list[i]:\n",
    "                breed_list[i] = breed\n",
    "    return '/'.join(breed_list)"
   ]
  },
  {
   "cell_type": "code",
   "execution_count": 18,
   "metadata": {
    "tags": []
   },
   "outputs": [
    {
     "name": "stdout",
     "output_type": "stream",
     "text": [
      "20\n",
      "15\n",
      "3\n",
      "1\n",
      "2\n"
     ]
    }
   ],
   "source": [
    "for el in [[\"pit bull\", \"chihuahua\",\"terrier\", \"dachshund\", \"miniature poodle\", \"beagle\", \"miniature schnauzer\", \"bulldog\", \"shih tzu\", \"pug\", \"australian kelpie\", \"maltese\", \"chow chow\", \"spaniel\", \"cardigan welsh corgi\",\"miniature pinscher\", \"chinese sharpei\", \"queensland heeler\", \"pomeranian\", \"lhasa apso\"],\n",
    "[\"retriever\", \"shepherd\", \"australian cattle dog\", \"collie\", \"hound\", \"boxer\", \"catahoula\", \"siberian husky\", \"great pyrenees\",\"rottweiler\", \"pointer\", \"staffordshire\", \"black mouth cur\", \"doberman pinsch\", \"blue lacy\"],\n",
    "    [\"domestic shorthair\", \"american shorthair\", \"siamese\"],\n",
    "    [\"domestic medium hair\"],\n",
    "    [\"domestic longhair\", \"siamese\"]]:\n",
    "    print(len(el))"
   ]
  },
  {
   "cell_type": "code",
   "execution_count": 6,
   "metadata": {
    "tags": []
   },
   "outputs": [],
   "source": [
    "data['breed'] = data['breed'].map(replace_breed)"
   ]
  },
  {
   "cell_type": "code",
   "execution_count": 7,
   "metadata": {
    "tags": []
   },
   "outputs": [
    {
     "data": {
      "text/plain": [
       "domestic shorthair          23423\n",
       "pit bull                     6666\n",
       "chihuahua                    5422\n",
       "retriever                    5296\n",
       "terrier                      3033\n",
       "                            ...  \n",
       "hound/spaniel                   1\n",
       "great dane/staffordshire        1\n",
       "finnish spitz/dachshund         1\n",
       "great dane/boerboel             1\n",
       "pomeranian/beagle               1\n",
       "Name: breed, Length: 1498, dtype: int64"
      ]
     },
     "execution_count": 7,
     "metadata": {},
     "output_type": "execute_result"
    }
   ],
   "source": [
    "data['breed'].value_counts()"
   ]
  },
  {
   "cell_type": "code",
   "execution_count": 17,
   "metadata": {
    "tags": []
   },
   "outputs": [
    {
     "data": {
      "text/plain": [
       "'retriever/pit bull'"
      ]
     },
     "execution_count": 17,
     "metadata": {},
     "output_type": "execute_result"
    }
   ],
   "source": [
    "replace_breed(data['breed'][5])"
   ]
  },
  {
   "cell_type": "code",
   "execution_count": 8,
   "metadata": {
    "tags": []
   },
   "outputs": [
    {
     "data": {
      "text/plain": [
       "0          spinone italiano \n",
       "1          spinone italiano \n",
       "2          spinone italiano \n",
       "3                  dachshund\n",
       "4          shetland sheepdog\n",
       "                ...         \n",
       "79667    domestic shorthair \n",
       "79668                   bat \n",
       "79669                   bat \n",
       "79670              retriever\n",
       "79671                 boxer \n",
       "Name: breed, Length: 79672, dtype: object"
      ]
     },
     "execution_count": 8,
     "metadata": {},
     "output_type": "execute_result"
    }
   ],
   "source": [
    "data['breed']"
   ]
  },
  {
   "cell_type": "code",
   "execution_count": 14,
   "metadata": {
    "tags": []
   },
   "outputs": [],
   "source": [
    "# delete the separated breeds-> /\n",
    "def breeds_separated(in_breed: pd.Series) -> pd.Series:\n",
    "    breed_list = []\n",
    "    for row in in_breed:\n",
    "        breed_list += row.split('/')\n",
    "    breed_list = np.array([breed.strip() for breed in breed_list])\n",
    "    return pd.Series(breed_list)"
   ]
  },
  {
   "cell_type": "code",
   "execution_count": 17,
   "metadata": {
    "tags": []
   },
   "outputs": [
    {
     "data": {
      "text/plain": [
       "0          spinone italiano \n",
       "1          spinone italiano \n",
       "2          spinone italiano \n",
       "3                  dachshund\n",
       "4          shetland sheepdog\n",
       "                ...         \n",
       "79667    domestic shorthair \n",
       "79668                   bat \n",
       "79669                   bat \n",
       "79670              retriever\n",
       "79671                 boxer \n",
       "Name: breed, Length: 79672, dtype: object"
      ]
     },
     "execution_count": 17,
     "metadata": {},
     "output_type": "execute_result"
    }
   ],
   "source": [
    "data.breed"
   ]
  },
  {
   "cell_type": "code",
   "execution_count": 26,
   "metadata": {
    "tags": []
   },
   "outputs": [
    {
     "data": {
      "text/plain": [
       "Index(['mastiff', 'great dane', 'toy poodle', 'guinea pig', 'snowshoe',\n",
       "       'rhod ridgeback', 'chicken', 'collie smooth', 'pekingese', 'whippet',\n",
       "       ...\n",
       "       'frog', 'ringtail', 'cirneco', 'havana brown', 'goose', 'entlebucher',\n",
       "       'budgerigar', 'ocicat', 'wren', 'britannia petit'],\n",
       "      dtype='object', length=237)"
      ]
     },
     "execution_count": 26,
     "metadata": {},
     "output_type": "execute_result"
    }
   ],
   "source": [
    "breeds_separated(data['breed']).value_counts()[44:].index"
   ]
  },
  {
   "cell_type": "code",
   "execution_count": null,
   "metadata": {
    "tags": []
   },
   "outputs": [],
   "source": [
    "# delete the separated breeds-> /\n",
    "# def breeds_separated(sentence):\n",
    "breed_list = []\n",
    "for row in data['breed']:\n",
    "    breed_list += row.split('/')\n",
    "breed_list = np.array([breed.strip() for breed in breed_list])\n",
    "#return breed_list\n",
    "pd.Series(breed_list).value_counts().head(40)"
   ]
  },
  {
   "cell_type": "code",
   "execution_count": null,
   "metadata": {
    "tags": []
   },
   "outputs": [],
   "source": [
    "data['breed'].head(10)"
   ]
  },
  {
   "cell_type": "code",
   "execution_count": null,
   "metadata": {
    "tags": []
   },
   "outputs": [],
   "source": [
    "breed_series.value_counts()[uncommon].sum()"
   ]
  },
  {
   "cell_type": "code",
   "execution_count": null,
   "metadata": {
    "tags": []
   },
   "outputs": [],
   "source": [
    "breed_series = pd.Series(breed_list)\n",
    "breed_series[breed_series.str.contains('retriever')].unique()"
   ]
  },
  {
   "cell_type": "code",
   "execution_count": null,
   "metadata": {
    "tags": []
   },
   "outputs": [],
   "source": [
    "val_counts = breed_series.value_counts() < 300\n",
    "print(val_counts.sum())\n",
    "uncommon = list(val_counts[val_counts].index)"
   ]
  },
  {
   "cell_type": "code",
   "execution_count": null,
   "metadata": {},
   "outputs": [],
   "source": []
  },
  {
   "cell_type": "code",
   "execution_count": null,
   "metadata": {},
   "outputs": [],
   "source": [
    "# from nltk.tokenize import word_tokenize\n",
    "# from nltk.stem import WordNetLemmatizer\n",
    "# import string\n",
    "\n",
    "\n",
    "# def cleaning(sentence):\n",
    "#     ## remove whitespaces\n",
    "#     sentence = sentence.strip() \n",
    "#     ## lowercasing \n",
    "#     sentence = sentence.lower() \n",
    "#     ## removing punctuation\n",
    "#     for punctuation in string.punctuation:\n",
    "#         sentence = sentence.replace(punctuation, '') \n",
    "#     ## tokenizing \n",
    "#     tokenized= word_tokenize(sentence) \n",
    "#     ## Lemmatizing\n",
    "#     lemmatizer= WordNetLemmatizer()\n",
    "#     lemmatized = [lemmatizer.lemmatize(word) for word in tokenized]\n",
    "#     cleaned_sentence = \" \".join(lemmatized)\n",
    "#     return cleaned_sentence "
   ]
  },
  {
   "cell_type": "code",
   "execution_count": null,
   "metadata": {},
   "outputs": [],
   "source": [
    "# # Clean data['breed]\n",
    "# data['breed_new']= data.breed.apply(cleaning)"
   ]
  },
  {
   "cell_type": "code",
   "execution_count": null,
   "metadata": {},
   "outputs": [],
   "source": [
    "# data['breed_new'].unique()"
   ]
  },
  {
   "cell_type": "code",
   "execution_count": null,
   "metadata": {},
   "outputs": [],
   "source": [
    "# delete the value 'mix' because most of the dataset contain it\n",
    "# count_mix = 0\n",
    "# for i in range(len(data['breed_new'])):\n",
    "#     if \"mix\" in data.breed_new[i]:\n",
    "#         count_mix +=1\n",
    "# count_mix"
   ]
  },
  {
   "cell_type": "code",
   "execution_count": null,
   "metadata": {},
   "outputs": [],
   "source": [
    "# remove the word 'mix'\n",
    "# data['breed_new']= data.breed_new.str.replace('mix', '')"
   ]
  },
  {
   "cell_type": "code",
   "execution_count": null,
   "metadata": {},
   "outputs": [],
   "source": [
    "# data['breed_new']"
   ]
  },
  {
   "cell_type": "code",
   "execution_count": null,
   "metadata": {},
   "outputs": [],
   "source": [
    "# count_labrador = 0\n",
    "\n",
    "# for i in range(len(data.breed_new)):\n",
    "#     if \"labrador\" in data.breed_new[i]:\n",
    "#                count_labrador += 1\n",
    "# count_labrador"
   ]
  },
  {
   "cell_type": "code",
   "execution_count": null,
   "metadata": {},
   "outputs": [],
   "source": [
    "# count_italiano = 0\n",
    "\n",
    "# for i in range(len(data.breed_new)):\n",
    "#     if \"italiano\" in data.breed_new[i]:\n",
    "#                count_italiano += 1\n",
    "# count_italiano"
   ]
  },
  {
   "cell_type": "code",
   "execution_count": null,
   "metadata": {},
   "outputs": [],
   "source": [
    "# import re\n",
    "# for i in range(len(data.breed_new)):\n",
    "#     re.findall(^.*(\\yorkshire\\b)?.*$, data.breed_new)"
   ]
  },
  {
   "cell_type": "code",
   "execution_count": null,
   "metadata": {},
   "outputs": [],
   "source": [
    "# count_yorkshire_terrier = 0\n",
    "\n",
    "# for i in range(len(data.breed_new)):\n",
    "#     if \"italiano\" in data.breed_new[i]:\n",
    "#                count_yorkshire_terrier += 1\n",
    "# count_yorkshire_terrier\n",
    "\n",
    "# count_yorkshire_terrier"
   ]
  },
  {
   "cell_type": "code",
   "execution_count": null,
   "metadata": {},
   "outputs": [],
   "source": [
    "# data.info()"
   ]
  },
  {
   "cell_type": "code",
   "execution_count": null,
   "metadata": {},
   "outputs": [],
   "source": [
    "# from sklearn.feature_extraction.text import CountVectorizer\n",
    "\n",
    "# count_vectorizer = CountVectorizer(ngram_range= (2,2))\n",
    "# X = count_vectorizer.fit_transform(data['breed_new'])\n",
    "# X.toarray()"
   ]
  },
  {
   "cell_type": "code",
   "execution_count": null,
   "metadata": {},
   "outputs": [],
   "source": [
    "# count_vectorizer.get_feature_names_out()"
   ]
  },
  {
   "cell_type": "code",
   "execution_count": null,
   "metadata": {},
   "outputs": [],
   "source": [
    "# import pandas as pd\n",
    "\n",
    "# vectorized_texts = pd.DataFrame(\n",
    "#     X.toarray(),\n",
    "#     columns= count_vectorizer.get_feature_names_out(),\n",
    "#     index= data['breed_new']\n",
    "# )\n",
    "\n",
    "# vectorized_texts"
   ]
  },
  {
   "cell_type": "code",
   "execution_count": null,
   "metadata": {},
   "outputs": [],
   "source": [
    "# vectorized_texts.info()"
   ]
  },
  {
   "cell_type": "code",
   "execution_count": null,
   "metadata": {},
   "outputs": [],
   "source": [
    "# vectorized_texts.keys()"
   ]
  },
  {
   "cell_type": "code",
   "execution_count": null,
   "metadata": {},
   "outputs": [],
   "source": [
    "# clean the column \n",
    "def cleaning(sentence):\n",
    "    ## remove whitespaces\n",
    "    sentence = sentence.strip() \n",
    "    ## lowercasing \n",
    "    sentence = sentence.lower() \n",
    "    ## remove the word 'mix'-> doesn't work -> data['breed']= data.breed.str.replace('mix', '')\n",
    "    sentence = sentence.replace('mix', '')\n",
    "    return sentence"
   ]
  },
  {
   "cell_type": "code",
   "execution_count": null,
   "metadata": {},
   "outputs": [],
   "source": [
    "# delete the separated breeds-> /\n",
    "# def breeds_separated(sentence):"
   ]
  },
  {
   "cell_type": "code",
   "execution_count": null,
   "metadata": {},
   "outputs": [],
   "source": [
    "# #function for performing all of the above operations at once!\n",
    "def perform_all_breed_cleaning(series: pd.Series) -> pd.Series:\n",
    "    breed_map = {\n",
    "        \"small\": [\"pit bull\", \"chihuahua\",\"terrier\", \"dachshund\", \"miniature poodle\", \"beagle\", \"miniature schnauzer\", \"bulldog\", \"shih tzu\", \"pug\", \"australian kelpie\", \"maltese\", \"chow chow\", \"spaniel\", \"cardigan welsh corgi\",\"miniature pinscher\", \"chinese sharpei\", \"queensland heeler\", \"pomeranian\", \"lhasa apso\"],\n",
    "        \"big\": [\"retriever\", \"shepherd\", \"australian cattle dog\", \"collie\", \"hound\", \"boxer\", \"catahoula\", \"siberian husky\", \"great pyrenees\",\"rottweiler\", \"pointer\", \"staffordshire\", \"black mouth cur\", \"doberman pinsch\", \"blue lacy\"],\n",
    "        \"short_hair\": [\"domestic shorthair\", \"american shorthair\", \"siamese\"],\n",
    "        \"medium_hair\": [\"domestic medium hair\"],\n",
    "        \"long_hair\": [\"domestic longhair\", \"siamese\"],\n",
    "        \"uncommon\": [???],\n",
    "    }\n",
    "    for key, val in breed_map.items():\n",
    "        series = replace_colors(val, key, series)\n",
    "    series = series.map(cleaning)\n",
    "    series = series.map()\n",
    "    return series"
   ]
  },
  {
   "cell_type": "code",
   "execution_count": 25,
   "metadata": {
    "tags": []
   },
   "outputs": [
    {
     "name": "stdout",
     "output_type": "stream",
     "text": [
      "The autoreload extension is already loaded. To reload it, use:\n",
      "  %reload_ext autoreload\n"
     ]
    }
   ],
   "source": [
    "%load_ext autoreload\n",
    "%autoreload 2\n",
    "from Animal_Adoption.preproc.data import get_data, get_breed\n"
   ]
  },
  {
   "cell_type": "code",
   "execution_count": 50,
   "metadata": {
    "tags": []
   },
   "outputs": [
    {
     "name": "stdout",
     "output_type": "stream",
     "text": [
      "Index(['miniature pinscher', 'cocker spaniel', 'chinese sharpei',\n",
      "       'doberman pinsch', 'boston terrier', 'border terrier',\n",
      "       'american shorthair', 'american pit bull terrier', 'queensland heeler',\n",
      "       'pomeranian',\n",
      "       ...\n",
      "       'entlebucher', 'havana brown', 'eng toy spaniel', 'goose', 'budgerigar',\n",
      "       'nuthatch', 'bobcat', 'ocicat', 'norwegian elkhound',\n",
      "       'britannia petit'],\n",
      "      dtype='object', length=302)\n",
      "0\n",
      "0\n",
      "0\n",
      "0\n",
      "0\n",
      "0\n"
     ]
    }
   ],
   "source": [
    "breed_series = get_breed(data.breed)"
   ]
  },
  {
   "cell_type": "code",
   "execution_count": 41,
   "metadata": {
    "tags": []
   },
   "outputs": [
    {
     "data": {
      "text/plain": [
       "0"
      ]
     },
     "execution_count": 41,
     "metadata": {},
     "output_type": "execute_result"
    }
   ],
   "source": [
    "breed_series.str.contains('dachshund').sum()"
   ]
  },
  {
   "cell_type": "code",
   "execution_count": 51,
   "metadata": {
    "tags": []
   },
   "outputs": [
    {
     "data": {
      "text/plain": [
       "4208"
      ]
     },
     "execution_count": 51,
     "metadata": {},
     "output_type": "execute_result"
    }
   ],
   "source": [
    "(breed_series == 'uncommon').sum()"
   ]
  },
  {
   "cell_type": "code",
   "execution_count": 58,
   "metadata": {
    "tags": []
   },
   "outputs": [
    {
     "data": {
      "text/plain": [
       "(Int64Index([ 5659,  5908,  5909,  6943,  6944,  9847,  9868, 10211, 10212,\n",
       "             10213,\n",
       "             ...\n",
       "             77169, 77458, 77547, 77693, 77767, 77912, 77942, 78227, 78253,\n",
       "             78886],\n",
       "            dtype='int64', length=339),)"
      ]
     },
     "execution_count": 58,
     "metadata": {},
     "output_type": "execute_result"
    }
   ],
   "source": [
    "data[data['animal_type'] == 'Bird'].index,"
   ]
  },
  {
   "cell_type": "code",
   "execution_count": 73,
   "metadata": {
    "tags": []
   },
   "outputs": [],
   "source": [
    "data.drop(data[data['animal_type'] == 'Other'].index, inplace = True)"
   ]
  },
  {
   "cell_type": "code",
   "execution_count": 74,
   "metadata": {
    "tags": []
   },
   "outputs": [
    {
     "data": {
      "text/plain": [
       "0"
      ]
     },
     "execution_count": 74,
     "metadata": {},
     "output_type": "execute_result"
    }
   ],
   "source": [
    "data.breed.str.contains('Raccoon').sum()"
   ]
  },
  {
   "cell_type": "code",
   "execution_count": 70,
   "metadata": {
    "tags": []
   },
   "outputs": [
    {
     "data": {
      "text/plain": [
       "0"
      ]
     },
     "execution_count": 70,
     "metadata": {},
     "output_type": "execute_result"
    }
   ],
   "source": [
    "(data[data['animal_type'] != 'Other'].breed.str.contains('Raccoon')).sum()"
   ]
  },
  {
   "cell_type": "code",
   "execution_count": 57,
   "metadata": {
    "tags": []
   },
   "outputs": [
    {
     "data": {
      "text/plain": [
       "0"
      ]
     },
     "execution_count": 57,
     "metadata": {},
     "output_type": "execute_result"
    }
   ],
   "source": [
    "data.drop(data[data['animal_type'] == 'Bird'].index, inplace = True)"
   ]
  },
  {
   "cell_type": "code",
   "execution_count": 83,
   "metadata": {
    "tags": []
   },
   "outputs": [
    {
     "data": {
      "text/plain": [
       "1936"
      ]
     },
     "execution_count": 83,
     "metadata": {},
     "output_type": "execute_result"
    }
   ],
   "source": [
    "data.breed.str.contains('Long').sum()"
   ]
  },
  {
   "cell_type": "code",
   "execution_count": 84,
   "metadata": {
    "tags": []
   },
   "outputs": [],
   "source": [
    "cats = data[data['animal_type'] == 'Cat']"
   ]
  },
  {
   "cell_type": "code",
   "execution_count": 87,
   "metadata": {
    "tags": []
   },
   "outputs": [
    {
     "data": {
      "text/plain": [
       "Domestic Shorthair Mix                  23423\n",
       "Domestic Medium Hair Mix                 2326\n",
       "Domestic Longhair Mix                    1248\n",
       "Siamese Mix                               996\n",
       "Domestic Shorthair                        387\n",
       "                                        ...  \n",
       "Siamese/Angora                              1\n",
       "Domestic Shorthair/British Shorthair        1\n",
       "Domestic Longhair/Domestic Longhair         1\n",
       "Snowshoe/Domestic Shorthair                 1\n",
       "Scottish Fold/Domestic Shorthair            1\n",
       "Name: breed, Length: 82, dtype: int64"
      ]
     },
     "execution_count": 87,
     "metadata": {},
     "output_type": "execute_result"
    }
   ],
   "source": [
    "cats.breed.value_counts()"
   ]
  },
  {
   "cell_type": "code",
   "execution_count": 52,
   "metadata": {
    "tags": []
   },
   "outputs": [
    {
     "data": {
      "text/plain": [
       "array(['uncommon', 'small', 'long_hair', 'short_hair', 'big',\n",
       "       'medium_hair', 'rabbit sh ', 'bat ', 'raccoon ', 'raccoon',\n",
       "       'opossum ', 'bat', 'rabbit sh', 'opossum'], dtype=object)"
      ]
     },
     "execution_count": 52,
     "metadata": {},
     "output_type": "execute_result"
    }
   ],
   "source": [
    "breed_series.unique()"
   ]
  },
  {
   "cell_type": "code",
   "execution_count": 79,
   "metadata": {
    "tags": []
   },
   "outputs": [],
   "source": [
    "df = get_data()"
   ]
  },
  {
   "cell_type": "code",
   "execution_count": 88,
   "metadata": {
    "tags": []
   },
   "outputs": [
    {
     "data": {
      "text/plain": [
       "short_hair     24108\n",
       "small          21653\n",
       "big            15257\n",
       "uncommon        2590\n",
       "medium_hair     2358\n",
       "long_hair       1245\n",
       "Name: breed, dtype: int64"
      ]
     },
     "execution_count": 88,
     "metadata": {},
     "output_type": "execute_result"
    }
   ],
   "source": [
    "df['breed'].value_counts()"
   ]
  },
  {
   "cell_type": "code",
   "execution_count": null,
   "metadata": {
    "tags": []
   },
   "outputs": [],
   "source": [
    "# import pandas as pd\n",
    "\n",
    "# #color name substitution\n",
    "# def replace_breeds(breed_list: list,\n",
    "#                    new_breed: str,\n",
    "#                    series: pd.Series) -> pd.Series:\n",
    "#     series = series.copy()\n",
    "#     for breed in breed_list:\n",
    "#         series = series.str.replace(breed, new_breed)\n",
    "#     return series\n",
    "\n",
    "# #check for duplicate values separated by \"/\"\n",
    "# def is_duplicate_value(breed: str) -> str:\n",
    "#     breed_list = breed.split(\"/\")\n",
    "#     if len(breed_list) != 2:\n",
    "#         return breed\n",
    "#     if breed_list[0] == breed_list[1]:\n",
    "#         return breed_list[0]\n",
    "#     else:\n",
    "#         return breed\n",
    "\n",
    "# #defining all tricolor animals in tricolor\n",
    "# def is_tricolor(in_color: str) -> str:\n",
    "#     colors = [\"Calico\", \"Tricolor\"]\n",
    "#     color_list = \" \".join(in_color.split(\"/\")).split(\" \")\n",
    "#     for color in colors:\n",
    "#         if color in color_list:\n",
    "#             return \"Tricolor\"\n",
    "#     return in_color\n",
    "\n",
    "# #defining all animals in striped\n",
    "# def has_stripes(in_color: str) -> str:\n",
    "#     colors = [\"Torbie\", \"Striped\", \"Tabby\", \"Tortie\", \"Tiger\", \"Brindle\", \"Sable\"]\n",
    "#     color_list = \" \".join(in_color.split(\"/\")).split(\" \")\n",
    "#     for color in colors:\n",
    "#         if color in color_list:\n",
    "#             return \"Striped\"\n",
    "#     return in_color\n",
    "\n",
    "# #defining all animals with spots\n",
    "# def has_spots(in_color: str) -> str:\n",
    "#     colors = [\"Merle\", \"Spotted\"]\n",
    "#     color_list = \" \".join(in_color.split(\"/\")).split(\" \")\n",
    "#     for color in colors:\n",
    "#         if color in color_list:\n",
    "#             return \"Spotted\"\n",
    "#     return in_color\n",
    "\n",
    "# #function for performing all of the above operations at once!\n",
    "# def perform_all_color_cleaning(series: pd.Series) -> pd.Series:\n",
    "#     color_map = {\n",
    "#         \"\": [\" Tick\"],\n",
    "#         \"Brown\": [\"Chocolate\", \"Liver\", \"Ruddy\"],\n",
    "#         \"White\": [\"Flame Point\", \"Lilac Point\"],\n",
    "#         \"Beige\": [\"Buff\", \"Tan\", \"Fawn\", \"Yellow\", \"Gold\", \"Cream\", \"Seal Point\", \"Lynx Point\", \"Brown Point\", \"Apricot\", \"Pink\"],\n",
    "#         \"Orange\": [\"Orange Tabby\", \"Red\"],\n",
    "#         \"Tricolor\": [\"Tricolor\", \"Calico\"],\n",
    "#         \"Spotted\": [\"Black Merle\", \"Brown Merle\", \"Gray Merle\", \"Orange Merle\" ],\n",
    "#         \"Striped\": [\"Tiger\", \"Tabby\"],\n",
    "#         \"Gray\": [\"Black Smoke\", \"Gray Smoke\", \"Gray Point\", \"Silver Lynx Point\", \"Silver\", \"Agouti\", \"Grey\", \"Blue\", \"Gray Beige\"],\n",
    "#     }\n",
    "#     for key, val in color_map.items():\n",
    "#         series = replace_colors(val, key, series)\n",
    "#     series = series.map(is_duplicate_value)\n",
    "#     series = series.map(has_spots)\n",
    "#     series = series.map(has_stripes)\n",
    "#     series = series.map(is_tricolor)\n",
    "    return series"
   ]
  }
 ],
 "metadata": {
  "kernelspec": {
   "display_name": "Python 3 (ipykernel)",
   "language": "python",
   "name": "python3"
  },
  "language_info": {
   "codemirror_mode": {
    "name": "ipython",
    "version": 3
   },
   "file_extension": ".py",
   "mimetype": "text/x-python",
   "name": "python",
   "nbconvert_exporter": "python",
   "pygments_lexer": "ipython3",
   "version": "3.9.7"
  },
  "toc": {
   "base_numbering": 1,
   "nav_menu": {},
   "number_sections": true,
   "sideBar": true,
   "skip_h1_title": false,
   "title_cell": "Table of Contents",
   "title_sidebar": "Contents",
   "toc_cell": false,
   "toc_position": {},
   "toc_section_display": true,
   "toc_window_display": false
  }
 },
 "nbformat": 4,
 "nbformat_minor": 4
}
