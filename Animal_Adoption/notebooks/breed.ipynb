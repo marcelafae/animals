{
 "cells": [
  {
   "cell_type": "code",
   "execution_count": 1,
   "metadata": {
    "tags": []
   },
   "outputs": [],
   "source": [
    "import pandas as pd\n",
    "import numpy as np\n",
    "import seaborn as sns\n",
    "import matplotlib.pyplot as plt\n",
    "import seaborn as sns"
   ]
  },
  {
   "cell_type": "code",
   "execution_count": 2,
   "metadata": {
    "tags": []
   },
   "outputs": [],
   "source": [
    "data= pd.read_csv('data/clean_dataset.csv')"
   ]
  },
  {
   "cell_type": "code",
   "execution_count": 3,
   "metadata": {
    "tags": []
   },
   "outputs": [
    {
     "data": {
      "text/plain": [
       "array(['Spinone Italiano Mix', 'Dachshund', 'Shetland Sheepdog', ...,\n",
       "       'Yorkshire Terrier/Dachshund', 'Norfolk Terrier/Pug',\n",
       "       'Australian Shepherd/Basset Hound'], dtype=object)"
      ]
     },
     "execution_count": 3,
     "metadata": {},
     "output_type": "execute_result"
    }
   ],
   "source": [
    "data['breed'].unique()"
   ]
  },
  {
   "cell_type": "code",
   "execution_count": 4,
   "metadata": {
    "tags": []
   },
   "outputs": [
    {
     "data": {
      "text/plain": [
       "2001"
      ]
     },
     "execution_count": 4,
     "metadata": {},
     "output_type": "execute_result"
    }
   ],
   "source": [
    "len(data['breed'].unique())"
   ]
  },
  {
   "cell_type": "code",
   "execution_count": 5,
   "metadata": {
    "tags": []
   },
   "outputs": [],
   "source": [
    "def cleaning(sentence):\n",
    "    ## remove whitespaces\n",
    "    sentence = sentence.strip() \n",
    "    ## lowercasing \n",
    "    sentence = sentence.lower() \n",
    "    ## remove the word 'mix'-> doesn't work -> data['breed']= data.breed.str.replace('mix', '')\n",
    "    sentence = sentence.replace('mix', '')\n",
    "    return sentence"
   ]
  },
  {
   "cell_type": "code",
   "execution_count": 6,
   "metadata": {
    "tags": []
   },
   "outputs": [],
   "source": [
    "data['breed']= data['breed'].apply(cleaning)"
   ]
  },
  {
   "cell_type": "code",
   "execution_count": 7,
   "metadata": {
    "tags": []
   },
   "outputs": [
    {
     "data": {
      "text/plain": [
       "0          spinone italiano \n",
       "1          spinone italiano \n",
       "2          spinone italiano \n",
       "3                  dachshund\n",
       "4          shetland sheepdog\n",
       "                ...         \n",
       "74871    domestic shorthair \n",
       "74872    domestic shorthair \n",
       "74873    domestic shorthair \n",
       "74874    labrador retriever \n",
       "74875                 boxer \n",
       "Name: breed, Length: 74876, dtype: object"
      ]
     },
     "execution_count": 7,
     "metadata": {},
     "output_type": "execute_result"
    }
   ],
   "source": [
    "data['breed']"
   ]
  },
  {
   "cell_type": "code",
   "execution_count": 8,
   "metadata": {
    "tags": []
   },
   "outputs": [
    {
     "data": {
      "text/plain": [
       "2001"
      ]
     },
     "execution_count": 8,
     "metadata": {},
     "output_type": "execute_result"
    }
   ],
   "source": [
    "len(data['breed'].unique())"
   ]
  },
  {
   "cell_type": "code",
   "execution_count": 9,
   "metadata": {
    "tags": []
   },
   "outputs": [
    {
     "data": {
      "text/plain": [
       "array(['spinone italiano ', 'dachshund', 'shetland sheepdog', ...,\n",
       "       'yorkshire terrier/dachshund', 'norfolk terrier/pug',\n",
       "       'australian shepherd/basset hound'], dtype=object)"
      ]
     },
     "execution_count": 9,
     "metadata": {},
     "output_type": "execute_result"
    }
   ],
   "source": [
    "data['breed'].unique()"
   ]
  },
  {
   "cell_type": "code",
   "execution_count": 13,
   "metadata": {},
   "outputs": [],
   "source": [
    "# ['retriever', 'bulldog', 'pit bull', 'terrier', 'dachshund', 'collie', 'shepherd', 'spaniel', 'chihuahua']"
   ]
  },
  {
   "cell_type": "code",
   "execution_count": 10,
   "metadata": {
    "tags": []
   },
   "outputs": [],
   "source": [
    "#defining all animals with spots\n",
    "def replace_breed(in_breed: str) -> str:\n",
    "    breeds = ['retriever', 'bulldog', 'pit bull', 'hound', 'terrier', 'dachshund', 'shepherd', 'spaniel', 'chihuahua']\n",
    "    breed_list = in_breed.split(\"/\")\n",
    "    for breed in breeds:\n",
    "        for i in range(len(breed_list)):\n",
    "            if breed in breed_list[i]:\n",
    "                breed_list[i] = breed\n",
    "    return '/'.join(breed_list)"
   ]
  },
  {
   "cell_type": "code",
   "execution_count": 11,
   "metadata": {
    "tags": []
   },
   "outputs": [],
   "source": [
    "data['breed'] = data['breed'].map(replace_breed)"
   ]
  },
  {
   "cell_type": "code",
   "execution_count": 12,
   "metadata": {
    "tags": []
   },
   "outputs": [
    {
     "data": {
      "text/plain": [
       "domestic shorthair               23408\n",
       "pit bull                          6663\n",
       "chihuahua                         5422\n",
       "retriever                         5296\n",
       "terrier                           3030\n",
       "                                 ...  \n",
       "pembroke welsh corgi/brittany        1\n",
       "shepherd/kangal                      1\n",
       "bullmastiff/boxer                    1\n",
       "harrier/pit bull                     1\n",
       "pomeranian/beagle                    1\n",
       "Name: breed, Length: 1344, dtype: int64"
      ]
     },
     "execution_count": 12,
     "metadata": {},
     "output_type": "execute_result"
    }
   ],
   "source": [
    "data['breed'].value_counts()"
   ]
  },
  {
   "cell_type": "code",
   "execution_count": 13,
   "metadata": {
    "tags": []
   },
   "outputs": [
    {
     "data": {
      "text/plain": [
       "'retriever/pit bull'"
      ]
     },
     "execution_count": 13,
     "metadata": {},
     "output_type": "execute_result"
    }
   ],
   "source": [
    "replace_breed(data['breed'][5])"
   ]
  },
  {
   "cell_type": "code",
   "execution_count": 13,
   "metadata": {
    "tags": []
   },
   "outputs": [],
   "source": [
    "# delete the separated breeds-> /\n",
    "def breeds_separated(in_breed: str) -> str:\n",
    "    breed_list = []\n",
    "    for row in data['breed']:\n",
    "        breed_list += row.split('/')\n",
    "    breed_list = np.array([breed.strip() for breed in breed_list])\n",
    "    return pd.Series(breed_list)\n",
    "#pd.Series(breed_list).value_counts().head(40)"
   ]
  },
  {
   "cell_type": "code",
   "execution_count": null,
   "metadata": {
    "tags": []
   },
   "outputs": [],
   "source": [
    "data['breed']= data['breed'].apply(breeds_separated)"
   ]
  },
  {
   "cell_type": "code",
   "execution_count": 1,
   "metadata": {
    "tags": []
   },
   "outputs": [
    {
     "ename": "NameError",
     "evalue": "name 'data' is not defined",
     "output_type": "error",
     "traceback": [
      "\u001b[0;31m---------------------------------------------------------------------------\u001b[0m",
      "\u001b[0;31mNameError\u001b[0m                                 Traceback (most recent call last)",
      "Cell \u001b[0;32mIn[1], line 4\u001b[0m\n\u001b[1;32m      1\u001b[0m \u001b[38;5;66;03m# delete the separated breeds-> /\u001b[39;00m\n\u001b[1;32m      2\u001b[0m \u001b[38;5;66;03m# def breeds_separated(sentence):\u001b[39;00m\n\u001b[1;32m      3\u001b[0m breed_list \u001b[38;5;241m=\u001b[39m []\n\u001b[0;32m----> 4\u001b[0m \u001b[38;5;28;01mfor\u001b[39;00m row \u001b[38;5;129;01min\u001b[39;00m \u001b[43mdata\u001b[49m[\u001b[38;5;124m'\u001b[39m\u001b[38;5;124mbreed\u001b[39m\u001b[38;5;124m'\u001b[39m]:\n\u001b[1;32m      5\u001b[0m     breed_list \u001b[38;5;241m+\u001b[39m\u001b[38;5;241m=\u001b[39m row\u001b[38;5;241m.\u001b[39msplit(\u001b[38;5;124m'\u001b[39m\u001b[38;5;124m/\u001b[39m\u001b[38;5;124m'\u001b[39m)\n\u001b[1;32m      6\u001b[0m breed_list \u001b[38;5;241m=\u001b[39m np\u001b[38;5;241m.\u001b[39marray([breed\u001b[38;5;241m.\u001b[39mstrip() \u001b[38;5;28;01mfor\u001b[39;00m breed \u001b[38;5;129;01min\u001b[39;00m breed_list])\n",
      "\u001b[0;31mNameError\u001b[0m: name 'data' is not defined"
     ]
    }
   ],
   "source": [
    "# delete the separated breeds-> /\n",
    "# def breeds_separated(sentence):\n",
    "breed_list = []\n",
    "for row in data['breed']:\n",
    "    breed_list += row.split('/')\n",
    "breed_list = np.array([breed.strip() for breed in breed_list])\n",
    "#return breed_list\n",
    "pd.Series(breed_list).value_counts().head(40)"
   ]
  },
  {
   "cell_type": "code",
   "execution_count": null,
   "metadata": {
    "tags": []
   },
   "outputs": [],
   "source": [
    "data['breed'].head(10)"
   ]
  },
  {
   "cell_type": "code",
   "execution_count": 24,
   "metadata": {
    "tags": []
   },
   "outputs": [
    {
     "ename": "NameError",
     "evalue": "name 'breed_series' is not defined",
     "output_type": "error",
     "traceback": [
      "\u001b[0;31m---------------------------------------------------------------------------\u001b[0m",
      "\u001b[0;31mNameError\u001b[0m                                 Traceback (most recent call last)",
      "Cell \u001b[0;32mIn[24], line 1\u001b[0m\n\u001b[0;32m----> 1\u001b[0m \u001b[43mbreed_series\u001b[49m\u001b[38;5;241m.\u001b[39mvalue_counts()[uncommon]\u001b[38;5;241m.\u001b[39msum()\n",
      "\u001b[0;31mNameError\u001b[0m: name 'breed_series' is not defined"
     ]
    }
   ],
   "source": [
    "breed_series.value_counts()[uncommon].sum()"
   ]
  },
  {
   "cell_type": "code",
   "execution_count": null,
   "metadata": {
    "tags": []
   },
   "outputs": [],
   "source": [
    "breed_series = pd.Series(breed_list)\n",
    "breed_series[breed_series.str.contains('retriever')].unique()"
   ]
  },
  {
   "cell_type": "code",
   "execution_count": 23,
   "metadata": {
    "tags": []
   },
   "outputs": [
    {
     "ename": "NameError",
     "evalue": "name 'breed_series' is not defined",
     "output_type": "error",
     "traceback": [
      "\u001b[0;31m---------------------------------------------------------------------------\u001b[0m",
      "\u001b[0;31mNameError\u001b[0m                                 Traceback (most recent call last)",
      "Cell \u001b[0;32mIn[23], line 1\u001b[0m\n\u001b[0;32m----> 1\u001b[0m val_counts \u001b[38;5;241m=\u001b[39m \u001b[43mbreed_series\u001b[49m\u001b[38;5;241m.\u001b[39mvalue_counts() \u001b[38;5;241m<\u001b[39m \u001b[38;5;241m300\u001b[39m\n\u001b[1;32m      2\u001b[0m \u001b[38;5;28mprint\u001b[39m(val_counts\u001b[38;5;241m.\u001b[39msum())\n\u001b[1;32m      3\u001b[0m uncommon \u001b[38;5;241m=\u001b[39m \u001b[38;5;28mlist\u001b[39m(val_counts[val_counts]\u001b[38;5;241m.\u001b[39mindex)\n",
      "\u001b[0;31mNameError\u001b[0m: name 'breed_series' is not defined"
     ]
    }
   ],
   "source": [
    "val_counts = breed_series.value_counts() < 300\n",
    "print(val_counts.sum())\n",
    "uncommon = list(val_counts[val_counts].index)"
   ]
  },
  {
   "cell_type": "code",
   "execution_count": null,
   "metadata": {},
   "outputs": [],
   "source": []
  },
  {
   "cell_type": "code",
   "execution_count": null,
   "metadata": {},
   "outputs": [],
   "source": [
    "# from nltk.tokenize import word_tokenize\n",
    "# from nltk.stem import WordNetLemmatizer\n",
    "# import string\n",
    "\n",
    "\n",
    "# def cleaning(sentence):\n",
    "#     ## remove whitespaces\n",
    "#     sentence = sentence.strip() \n",
    "#     ## lowercasing \n",
    "#     sentence = sentence.lower() \n",
    "#     ## removing punctuation\n",
    "#     for punctuation in string.punctuation:\n",
    "#         sentence = sentence.replace(punctuation, '') \n",
    "#     ## tokenizing \n",
    "#     tokenized= word_tokenize(sentence) \n",
    "#     ## Lemmatizing\n",
    "#     lemmatizer= WordNetLemmatizer()\n",
    "#     lemmatized = [lemmatizer.lemmatize(word) for word in tokenized]\n",
    "#     cleaned_sentence = \" \".join(lemmatized)\n",
    "#     return cleaned_sentence "
   ]
  },
  {
   "cell_type": "code",
   "execution_count": null,
   "metadata": {},
   "outputs": [],
   "source": [
    "# # Clean data['breed]\n",
    "# data['breed_new']= data.breed.apply(cleaning)"
   ]
  },
  {
   "cell_type": "code",
   "execution_count": null,
   "metadata": {},
   "outputs": [],
   "source": [
    "# data['breed_new'].unique()"
   ]
  },
  {
   "cell_type": "code",
   "execution_count": null,
   "metadata": {},
   "outputs": [],
   "source": [
    "# delete the value 'mix' because most of the dataset contain it\n",
    "# count_mix = 0\n",
    "# for i in range(len(data['breed_new'])):\n",
    "#     if \"mix\" in data.breed_new[i]:\n",
    "#         count_mix +=1\n",
    "# count_mix"
   ]
  },
  {
   "cell_type": "code",
   "execution_count": null,
   "metadata": {},
   "outputs": [],
   "source": [
    "# remove the word 'mix'\n",
    "# data['breed_new']= data.breed_new.str.replace('mix', '')"
   ]
  },
  {
   "cell_type": "code",
   "execution_count": null,
   "metadata": {},
   "outputs": [],
   "source": [
    "# data['breed_new']"
   ]
  },
  {
   "cell_type": "code",
   "execution_count": null,
   "metadata": {},
   "outputs": [],
   "source": [
    "# count_labrador = 0\n",
    "\n",
    "# for i in range(len(data.breed_new)):\n",
    "#     if \"labrador\" in data.breed_new[i]:\n",
    "#                count_labrador += 1\n",
    "# count_labrador"
   ]
  },
  {
   "cell_type": "code",
   "execution_count": null,
   "metadata": {},
   "outputs": [],
   "source": [
    "# count_italiano = 0\n",
    "\n",
    "# for i in range(len(data.breed_new)):\n",
    "#     if \"italiano\" in data.breed_new[i]:\n",
    "#                count_italiano += 1\n",
    "# count_italiano"
   ]
  },
  {
   "cell_type": "code",
   "execution_count": null,
   "metadata": {},
   "outputs": [],
   "source": [
    "# import re\n",
    "# for i in range(len(data.breed_new)):\n",
    "#     re.findall(^.*(\\yorkshire\\b)?.*$, data.breed_new)"
   ]
  },
  {
   "cell_type": "code",
   "execution_count": null,
   "metadata": {},
   "outputs": [],
   "source": [
    "# count_yorkshire_terrier = 0\n",
    "\n",
    "# for i in range(len(data.breed_new)):\n",
    "#     if \"italiano\" in data.breed_new[i]:\n",
    "#                count_yorkshire_terrier += 1\n",
    "# count_yorkshire_terrier\n",
    "\n",
    "# count_yorkshire_terrier"
   ]
  },
  {
   "cell_type": "code",
   "execution_count": null,
   "metadata": {},
   "outputs": [],
   "source": [
    "# data.info()"
   ]
  },
  {
   "cell_type": "code",
   "execution_count": null,
   "metadata": {},
   "outputs": [],
   "source": [
    "# from sklearn.feature_extraction.text import CountVectorizer\n",
    "\n",
    "# count_vectorizer = CountVectorizer(ngram_range= (2,2))\n",
    "# X = count_vectorizer.fit_transform(data['breed_new'])\n",
    "# X.toarray()"
   ]
  },
  {
   "cell_type": "code",
   "execution_count": null,
   "metadata": {},
   "outputs": [],
   "source": [
    "# count_vectorizer.get_feature_names_out()"
   ]
  },
  {
   "cell_type": "code",
   "execution_count": null,
   "metadata": {},
   "outputs": [],
   "source": [
    "# import pandas as pd\n",
    "\n",
    "# vectorized_texts = pd.DataFrame(\n",
    "#     X.toarray(),\n",
    "#     columns= count_vectorizer.get_feature_names_out(),\n",
    "#     index= data['breed_new']\n",
    "# )\n",
    "\n",
    "# vectorized_texts"
   ]
  },
  {
   "cell_type": "code",
   "execution_count": null,
   "metadata": {},
   "outputs": [],
   "source": [
    "# vectorized_texts.info()"
   ]
  },
  {
   "cell_type": "code",
   "execution_count": null,
   "metadata": {},
   "outputs": [],
   "source": [
    "# vectorized_texts.keys()"
   ]
  },
  {
   "cell_type": "code",
   "execution_count": null,
   "metadata": {},
   "outputs": [],
   "source": [
    "# clean the column \n",
    "def cleaning(sentence):\n",
    "    ## remove whitespaces\n",
    "    sentence = sentence.strip() \n",
    "    ## lowercasing \n",
    "    sentence = sentence.lower() \n",
    "    ## remove the word 'mix'-> doesn't work -> data['breed']= data.breed.str.replace('mix', '')\n",
    "    sentence = sentence.replace('mix', '')\n",
    "    return sentence"
   ]
  },
  {
   "cell_type": "code",
   "execution_count": null,
   "metadata": {},
   "outputs": [],
   "source": [
    "# delete the separated breeds-> /\n",
    "# def breeds_separated(sentence):"
   ]
  },
  {
   "cell_type": "code",
   "execution_count": null,
   "metadata": {},
   "outputs": [],
   "source": [
    "# #function for performing all of the above operations at once!\n",
    "def perform_all_breed_cleaning(series: pd.Series) -> pd.Series:\n",
    "    breed_map = {\n",
    "        \"small\": [\"pit bull\", \"chihuahua\",\"terrier\", \"dachshund\", \"miniature poodle\", \"beagle\", \"miniature schnauzer\", \"bulldog\", \"shih tzu\", \"pug\", \"australian kelpie\", \"maltese\", \"chow chow\", \"spaniel\", \"cardigan welsh corgi\",\"miniature pinscher\", \"chinese sharpei\", \"queensland heeler\", \"pomeranian\", \"lhasa apso\"],\n",
    "        \"big\": [\"retriever\", \"shepherd\", \"australian cattle dog\", \"collie\", \"hound\", \"boxer\", \"catahoula\", \"siberian husky\", \"great pyrenees\",\"rottweiler\", \"pointer\", \"staffordshire\", \"black mouth cur\", \"doberman pinsch\", \"blue lacy\"],\n",
    "        \"short_hair\": [\"domestic shorthair\", \"american shorthair\", \"siamese\"],\n",
    "        \"medium_hair\": [\"domestic medium hair\"],\n",
    "        \"long_hair\": [\"domestic longhair\", \"siamese\"],\n",
    "        \"uncommon\": [???],\n",
    "    }\n",
    "    for key, val in breed_map.items():\n",
    "        series = replace_colors(val, key, series)\n",
    "    series = series.map(cleaning)\n",
    "    series = series.map()\n",
    "    return series"
   ]
  },
  {
   "cell_type": "code",
   "execution_count": null,
   "metadata": {
    "tags": []
   },
   "outputs": [],
   "source": [
    "# import pandas as pd\n",
    "\n",
    "# #color name substitution\n",
    "# def replace_breeds(breed_list: list,\n",
    "#                    new_breed: str,\n",
    "#                    series: pd.Series) -> pd.Series:\n",
    "#     series = series.copy()\n",
    "#     for breed in breed_list:\n",
    "#         series = series.str.replace(breed, new_breed)\n",
    "#     return series\n",
    "\n",
    "# #check for duplicate values separated by \"/\"\n",
    "# def is_duplicate_value(breed: str) -> str:\n",
    "#     breed_list = breed.split(\"/\")\n",
    "#     if len(breed_list) != 2:\n",
    "#         return breed\n",
    "#     if breed_list[0] == breed_list[1]:\n",
    "#         return breed_list[0]\n",
    "#     else:\n",
    "#         return breed\n",
    "\n",
    "# #defining all tricolor animals in tricolor\n",
    "# def is_tricolor(in_color: str) -> str:\n",
    "#     colors = [\"Calico\", \"Tricolor\"]\n",
    "#     color_list = \" \".join(in_color.split(\"/\")).split(\" \")\n",
    "#     for color in colors:\n",
    "#         if color in color_list:\n",
    "#             return \"Tricolor\"\n",
    "#     return in_color\n",
    "\n",
    "# #defining all animals in striped\n",
    "# def has_stripes(in_color: str) -> str:\n",
    "#     colors = [\"Torbie\", \"Striped\", \"Tabby\", \"Tortie\", \"Tiger\", \"Brindle\", \"Sable\"]\n",
    "#     color_list = \" \".join(in_color.split(\"/\")).split(\" \")\n",
    "#     for color in colors:\n",
    "#         if color in color_list:\n",
    "#             return \"Striped\"\n",
    "#     return in_color\n",
    "\n",
    "# #defining all animals with spots\n",
    "# def has_spots(in_color: str) -> str:\n",
    "#     colors = [\"Merle\", \"Spotted\"]\n",
    "#     color_list = \" \".join(in_color.split(\"/\")).split(\" \")\n",
    "#     for color in colors:\n",
    "#         if color in color_list:\n",
    "#             return \"Spotted\"\n",
    "#     return in_color\n",
    "\n",
    "# #function for performing all of the above operations at once!\n",
    "# def perform_all_color_cleaning(series: pd.Series) -> pd.Series:\n",
    "#     color_map = {\n",
    "#         \"\": [\" Tick\"],\n",
    "#         \"Brown\": [\"Chocolate\", \"Liver\", \"Ruddy\"],\n",
    "#         \"White\": [\"Flame Point\", \"Lilac Point\"],\n",
    "#         \"Beige\": [\"Buff\", \"Tan\", \"Fawn\", \"Yellow\", \"Gold\", \"Cream\", \"Seal Point\", \"Lynx Point\", \"Brown Point\", \"Apricot\", \"Pink\"],\n",
    "#         \"Orange\": [\"Orange Tabby\", \"Red\"],\n",
    "#         \"Tricolor\": [\"Tricolor\", \"Calico\"],\n",
    "#         \"Spotted\": [\"Black Merle\", \"Brown Merle\", \"Gray Merle\", \"Orange Merle\" ],\n",
    "#         \"Striped\": [\"Tiger\", \"Tabby\"],\n",
    "#         \"Gray\": [\"Black Smoke\", \"Gray Smoke\", \"Gray Point\", \"Silver Lynx Point\", \"Silver\", \"Agouti\", \"Grey\", \"Blue\", \"Gray Beige\"],\n",
    "#     }\n",
    "#     for key, val in color_map.items():\n",
    "#         series = replace_colors(val, key, series)\n",
    "#     series = series.map(is_duplicate_value)\n",
    "#     series = series.map(has_spots)\n",
    "#     series = series.map(has_stripes)\n",
    "#     series = series.map(is_tricolor)\n",
    "    return series"
   ]
  }
 ],
 "metadata": {
  "kernelspec": {
   "display_name": "Python 3 (ipykernel)",
   "language": "python",
   "name": "python3"
  },
  "language_info": {
   "codemirror_mode": {
    "name": "ipython",
    "version": 3
   },
   "file_extension": ".py",
   "mimetype": "text/x-python",
   "name": "python",
   "nbconvert_exporter": "python",
   "pygments_lexer": "ipython3",
   "version": "3.10.6"
  }
 },
 "nbformat": 4,
 "nbformat_minor": 4
}
