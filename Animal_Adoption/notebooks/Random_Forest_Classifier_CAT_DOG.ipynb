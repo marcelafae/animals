{
 "cells": [
  {
   "attachments": {},
   "cell_type": "markdown",
   "id": "e5107cde",
   "metadata": {},
   "source": [
    "## Random Forest Classifier CAT_DOG"
   ]
  },
  {
   "cell_type": "code",
   "execution_count": 1,
   "id": "68a66ae2",
   "metadata": {},
   "outputs": [],
   "source": [
    "%load_ext autoreload\n",
    "%autoreload 2"
   ]
  },
  {
   "cell_type": "code",
   "execution_count": 2,
   "id": "eac0585d",
   "metadata": {},
   "outputs": [
    {
     "name": "stdout",
     "output_type": "stream",
     "text": [
      "Requirement already satisfied: graphviz in /home/wiesemann/.pyenv/versions/3.10.6/envs/animals/lib/python3.10/site-packages (0.20.1)\n"
     ]
    }
   ],
   "source": [
    "! pip install graphviz"
   ]
  },
  {
   "cell_type": "code",
   "execution_count": 3,
   "id": "f12fb9a4",
   "metadata": {},
   "outputs": [],
   "source": [
    "# Data Processing\n",
    "import pandas as pd\n",
    "import numpy as np\n",
    "import seaborn as sns\n",
    "import matplotlib.pyplot as plt\n",
    "\n",
    "# Modelling\n",
    "from sklearn.ensemble import RandomForestClassifier\n",
    "from sklearn.metrics import accuracy_score, confusion_matrix, precision_score, recall_score, ConfusionMatrixDisplay\n",
    "from sklearn.model_selection import RandomizedSearchCV, train_test_split\n",
    "from scipy.stats import randint\n",
    "\n",
    "# Tree Visualisation\n",
    "from sklearn.tree import export_graphviz\n",
    "from IPython.display import Image\n",
    "import graphviz"
   ]
  },
  {
   "cell_type": "code",
   "execution_count": 4,
   "id": "f2feb83a",
   "metadata": {},
   "outputs": [],
   "source": [
    "# Import necessary libraries\n",
    "# from sklearn.ensemble import RandomForestClassifier\n",
    "# from sklearn.datasets import make_classification\n",
    "# from sklearn.model_selection import train_test_split\n",
    "# from sklearn.metrics import accuracy_score\n",
    "\n",
    "# Load libraries\n",
    "# import pandas as pd\n",
    "# from sklearn.tree import DecisionTreeClassifier # Import Decision Tree Classifier\n",
    "# from sklearn.model_selection import train_test_split # Import train_test_split function\n",
    "# from sklearn import metrics #Import scikit-learn metrics module for accuracy calculation"
   ]
  },
  {
   "cell_type": "code",
   "execution_count": 36,
   "id": "82631a16",
   "metadata": {},
   "outputs": [
    {
     "ename": "KeyError",
     "evalue": "\"['animal_type_x', 'breed_x', 'color_y', 'intake_condition', 'intake_type', 'sex_upon_intake', 'age_upon_intake_(years)', 'intake_datetime', 'time_in_shelter_days', 'sex_y', 'breed_y'] not in index\"",
     "output_type": "error",
     "traceback": [
      "\u001b[0;31m---------------------------------------------------------------------------\u001b[0m",
      "\u001b[0;31mKeyError\u001b[0m                                  Traceback (most recent call last)",
      "Cell \u001b[0;32mIn[36], line 3\u001b[0m\n\u001b[1;32m      1\u001b[0m \u001b[39m# load the datatset dog and cat\u001b[39;00m\n\u001b[1;32m      2\u001b[0m \u001b[39mfrom\u001b[39;00m \u001b[39mAnimal_Adoption\u001b[39;00m\u001b[39m.\u001b[39;00m\u001b[39mpreproc\u001b[39;00m\u001b[39m.\u001b[39;00m\u001b[39mdata_cat_or_dog\u001b[39;00m \u001b[39mimport\u001b[39;00m get_data\n\u001b[0;32m----> 3\u001b[0m df\u001b[39m=\u001b[39m get_data(\u001b[39m'\u001b[39;49m\u001b[39mCat\u001b[39;49m\u001b[39m'\u001b[39;49m)\n",
      "File \u001b[0;32m~/code/marcelafae/animals/Animal_Adoption/preproc/data_cat_or_dog.py:51\u001b[0m, in \u001b[0;36mget_data\u001b[0;34m(animal_type)\u001b[0m\n\u001b[1;32m     49\u001b[0m     data_cats\u001b[39m.\u001b[39mmerge(data, left_on\u001b[39m=\u001b[39m\u001b[39m'\u001b[39m\u001b[39manimal_id\u001b[39m\u001b[39m'\u001b[39m, right_on\u001b[39m=\u001b[39m\u001b[39m'\u001b[39m\u001b[39manimal_id_outcome\u001b[39m\u001b[39m'\u001b[39m)\n\u001b[1;32m     50\u001b[0m      \u001b[39m# call the second function 'select_and_rename_columns' into the first function\u001b[39;00m\n\u001b[0;32m---> 51\u001b[0m     data_cats \u001b[39m=\u001b[39m select_and_rename_columns(data_cats)\n\u001b[1;32m     52\u001b[0m     \u001b[39mreturn\u001b[39;00m data_cats\n\u001b[1;32m     53\u001b[0m \u001b[39melse\u001b[39;00m:\n",
      "File \u001b[0;32m~/code/marcelafae/animals/Animal_Adoption/preproc/data_cat_or_dog.py:26\u001b[0m, in \u001b[0;36mselect_and_rename_columns\u001b[0;34m(df)\u001b[0m\n\u001b[1;32m     20\u001b[0m columns_to_keep \u001b[39m=\u001b[39m [\u001b[39m'\u001b[39m\u001b[39manimal_id\u001b[39m\u001b[39m'\u001b[39m,\u001b[39m'\u001b[39m\u001b[39manimal_type_x\u001b[39m\u001b[39m'\u001b[39m, \u001b[39m'\u001b[39m\u001b[39mbreed_x\u001b[39m\u001b[39m'\u001b[39m, \u001b[39m'\u001b[39m\u001b[39mcolor_y\u001b[39m\u001b[39m'\u001b[39m, \u001b[39m'\u001b[39m\u001b[39mintake_condition\u001b[39m\u001b[39m'\u001b[39m, \u001b[39m'\u001b[39m\u001b[39mintake_type\u001b[39m\u001b[39m'\u001b[39m,\n\u001b[1;32m     21\u001b[0m                    \u001b[39m'\u001b[39m\u001b[39msex_upon_intake\u001b[39m\u001b[39m'\u001b[39m, \u001b[39m'\u001b[39m\u001b[39mage_upon_intake_(years)\u001b[39m\u001b[39m'\u001b[39m, \u001b[39m'\u001b[39m\u001b[39mintake_datetime\u001b[39m\u001b[39m'\u001b[39m,\n\u001b[1;32m     22\u001b[0m                    \u001b[39m'\u001b[39m\u001b[39mtime_in_shelter_days\u001b[39m\u001b[39m'\u001b[39m, \u001b[39m'\u001b[39m\u001b[39mCat/Kitten (outcome)\u001b[39m\u001b[39m'\u001b[39m, \u001b[39m'\u001b[39m\u001b[39mcfa_breed\u001b[39m\u001b[39m'\u001b[39m, \u001b[39m'\u001b[39m\u001b[39mdomestic_breed\u001b[39m\u001b[39m'\u001b[39m,\n\u001b[1;32m     23\u001b[0m                    \u001b[39m'\u001b[39m\u001b[39msex_y\u001b[39m\u001b[39m'\u001b[39m, \u001b[39m'\u001b[39m\u001b[39mSpay/Neuter\u001b[39m\u001b[39m'\u001b[39m, \u001b[39m'\u001b[39m\u001b[39mbreed_y\u001b[39m\u001b[39m'\u001b[39m]\n\u001b[1;32m     25\u001b[0m \u001b[39m# select columns and rename them\u001b[39;00m\n\u001b[0;32m---> 26\u001b[0m df_selected \u001b[39m=\u001b[39m df[columns_to_keep]\u001b[39m.\u001b[39mrename(columns\u001b[39m=\u001b[39m{\u001b[39m'\u001b[39m\u001b[39manimal_type_x\u001b[39m\u001b[39m'\u001b[39m: \u001b[39m'\u001b[39m\u001b[39manimal_type\u001b[39m\u001b[39m'\u001b[39m,\n\u001b[1;32m     27\u001b[0m                                                   \u001b[39m'\u001b[39m\u001b[39mcolor_y\u001b[39m\u001b[39m'\u001b[39m: \u001b[39m'\u001b[39m\u001b[39mcolor\u001b[39m\u001b[39m'\u001b[39m,\n\u001b[1;32m     28\u001b[0m                                                  \u001b[39m'\u001b[39m\u001b[39mbreed_x\u001b[39m\u001b[39m'\u001b[39m: \u001b[39m'\u001b[39m\u001b[39mbreed\u001b[39m\u001b[39m'\u001b[39m,\n\u001b[1;32m     29\u001b[0m                                                  \u001b[39m'\u001b[39m\u001b[39msex_y\u001b[39m\u001b[39m'\u001b[39m: \u001b[39m'\u001b[39m\u001b[39msex\u001b[39m\u001b[39m'\u001b[39m,\n\u001b[1;32m     30\u001b[0m                                                   \u001b[39m'\u001b[39m\u001b[39mCat/Kitten (outcome)\u001b[39m\u001b[39m'\u001b[39m: \u001b[39m'\u001b[39m\u001b[39mCat/Kitten\u001b[39m\u001b[39m'\u001b[39m,\n\u001b[1;32m     31\u001b[0m                                                   \u001b[39m'\u001b[39m\u001b[39mbreed_y\u001b[39m\u001b[39m'\u001b[39m: \u001b[39m'\u001b[39m\u001b[39mhair length\u001b[39m\u001b[39m'\u001b[39m})\n\u001b[1;32m     33\u001b[0m \u001b[39m# return new dataframe with selected and renamed columns\u001b[39;00m\n\u001b[1;32m     34\u001b[0m \u001b[39mreturn\u001b[39;00m df_selected\n",
      "File \u001b[0;32m~/.pyenv/versions/3.10.6/envs/animals/lib/python3.10/site-packages/pandas/core/frame.py:3813\u001b[0m, in \u001b[0;36mDataFrame.__getitem__\u001b[0;34m(self, key)\u001b[0m\n\u001b[1;32m   3811\u001b[0m     \u001b[39mif\u001b[39;00m is_iterator(key):\n\u001b[1;32m   3812\u001b[0m         key \u001b[39m=\u001b[39m \u001b[39mlist\u001b[39m(key)\n\u001b[0;32m-> 3813\u001b[0m     indexer \u001b[39m=\u001b[39m \u001b[39mself\u001b[39;49m\u001b[39m.\u001b[39;49mcolumns\u001b[39m.\u001b[39;49m_get_indexer_strict(key, \u001b[39m\"\u001b[39;49m\u001b[39mcolumns\u001b[39;49m\u001b[39m\"\u001b[39;49m)[\u001b[39m1\u001b[39m]\n\u001b[1;32m   3815\u001b[0m \u001b[39m# take() does not accept boolean indexers\u001b[39;00m\n\u001b[1;32m   3816\u001b[0m \u001b[39mif\u001b[39;00m \u001b[39mgetattr\u001b[39m(indexer, \u001b[39m\"\u001b[39m\u001b[39mdtype\u001b[39m\u001b[39m\"\u001b[39m, \u001b[39mNone\u001b[39;00m) \u001b[39m==\u001b[39m \u001b[39mbool\u001b[39m:\n",
      "File \u001b[0;32m~/.pyenv/versions/3.10.6/envs/animals/lib/python3.10/site-packages/pandas/core/indexes/base.py:6070\u001b[0m, in \u001b[0;36mIndex._get_indexer_strict\u001b[0;34m(self, key, axis_name)\u001b[0m\n\u001b[1;32m   6067\u001b[0m \u001b[39melse\u001b[39;00m:\n\u001b[1;32m   6068\u001b[0m     keyarr, indexer, new_indexer \u001b[39m=\u001b[39m \u001b[39mself\u001b[39m\u001b[39m.\u001b[39m_reindex_non_unique(keyarr)\n\u001b[0;32m-> 6070\u001b[0m \u001b[39mself\u001b[39;49m\u001b[39m.\u001b[39;49m_raise_if_missing(keyarr, indexer, axis_name)\n\u001b[1;32m   6072\u001b[0m keyarr \u001b[39m=\u001b[39m \u001b[39mself\u001b[39m\u001b[39m.\u001b[39mtake(indexer)\n\u001b[1;32m   6073\u001b[0m \u001b[39mif\u001b[39;00m \u001b[39misinstance\u001b[39m(key, Index):\n\u001b[1;32m   6074\u001b[0m     \u001b[39m# GH 42790 - Preserve name from an Index\u001b[39;00m\n",
      "File \u001b[0;32m~/.pyenv/versions/3.10.6/envs/animals/lib/python3.10/site-packages/pandas/core/indexes/base.py:6133\u001b[0m, in \u001b[0;36mIndex._raise_if_missing\u001b[0;34m(self, key, indexer, axis_name)\u001b[0m\n\u001b[1;32m   6130\u001b[0m     \u001b[39mraise\u001b[39;00m \u001b[39mKeyError\u001b[39;00m(\u001b[39mf\u001b[39m\u001b[39m\"\u001b[39m\u001b[39mNone of [\u001b[39m\u001b[39m{\u001b[39;00mkey\u001b[39m}\u001b[39;00m\u001b[39m] are in the [\u001b[39m\u001b[39m{\u001b[39;00maxis_name\u001b[39m}\u001b[39;00m\u001b[39m]\u001b[39m\u001b[39m\"\u001b[39m)\n\u001b[1;32m   6132\u001b[0m not_found \u001b[39m=\u001b[39m \u001b[39mlist\u001b[39m(ensure_index(key)[missing_mask\u001b[39m.\u001b[39mnonzero()[\u001b[39m0\u001b[39m]]\u001b[39m.\u001b[39munique())\n\u001b[0;32m-> 6133\u001b[0m \u001b[39mraise\u001b[39;00m \u001b[39mKeyError\u001b[39;00m(\u001b[39mf\u001b[39m\u001b[39m\"\u001b[39m\u001b[39m{\u001b[39;00mnot_found\u001b[39m}\u001b[39;00m\u001b[39m not in index\u001b[39m\u001b[39m\"\u001b[39m)\n",
      "\u001b[0;31mKeyError\u001b[0m: \"['animal_type_x', 'breed_x', 'color_y', 'intake_condition', 'intake_type', 'sex_upon_intake', 'age_upon_intake_(years)', 'intake_datetime', 'time_in_shelter_days', 'sex_y', 'breed_y'] not in index\""
     ]
    }
   ],
   "source": [
    "# load the datatset dog and cat\n",
    "from Animal_Adoption.preproc.data_cat_or_dog import get_data\n",
    "df= get_data('Cat')"
   ]
  },
  {
   "cell_type": "code",
   "execution_count": 6,
   "id": "01e0c481",
   "metadata": {},
   "outputs": [],
   "source": [
    "df.drop('time_in_shelter_days', axis=1, inplace=True)"
   ]
  },
  {
   "cell_type": "code",
   "execution_count": 7,
   "id": "c2e3a99a",
   "metadata": {},
   "outputs": [
    {
     "name": "stderr",
     "output_type": "stream",
     "text": [
      "/tmp/ipykernel_14305/2273787109.py:4: FutureWarning: The default value of numeric_only in DataFrame.corr is deprecated. In a future version, it will default to False. Select only valid columns or specify the value of numeric_only to silence this warning.\n",
      "  correlation_matrix = df.corr()\n"
     ]
    },
    {
     "data": {
      "image/png": "[encoded data removed]",
      "text/plain": [
       "<Figure size 640x480 with 2 Axes>"
      ]
     },
     "metadata": {},
     "output_type": "display_data"
    }
   ],
   "source": [
    "import seaborn as sns\n",
    "\n",
    "# Heatmap of pairwise correlations\n",
    "correlation_matrix = df.corr()\n",
    "column_names = correlation_matrix.columns\n",
    "sns.heatmap(correlation_matrix, xticklabels=column_names, yticklabels=column_names,cmap= \"bwr\");"
   ]
  },
  {
   "cell_type": "code",
   "execution_count": 8,
   "id": "0eae2162",
   "metadata": {},
   "outputs": [],
   "source": [
    "# Converting the correlation matrix into a DataFrame\n",
    "corr_df = correlation_matrix.stack().reset_index()\n",
    "\n",
    "# Renaming the columns\n",
    "corr_df.columns = ['feature_1','feature_2', 'correlation']\n",
    "\n",
    "# Remove \"self correlations\"\n",
    "no_self_correlation = (corr_df['feature_1'] != corr_df['feature_2'])\n",
    "corr_df = corr_df[no_self_correlation]"
   ]
  },
  {
   "cell_type": "code",
   "execution_count": 9,
   "id": "186f865f",
   "metadata": {},
   "outputs": [
    {
     "data": {
      "text/html": [
       "<div>\n",
       "<style scoped>\n",
       "    .dataframe tbody tr th:only-of-type {\n",
       "        vertical-align: middle;\n",
       "    }\n",
       "\n",
       "    .dataframe tbody tr th {\n",
       "        vertical-align: top;\n",
       "    }\n",
       "\n",
       "    .dataframe thead th {\n",
       "        text-align: right;\n",
       "    }\n",
       "</style>\n",
       "<table border=\"1\" class=\"dataframe\">\n",
       "  <thead>\n",
       "    <tr style=\"text-align: right;\">\n",
       "      <th></th>\n",
       "      <th>feature_1</th>\n",
       "      <th>feature_2</th>\n",
       "      <th>correlation</th>\n",
       "      <th>absolute_correlation</th>\n",
       "    </tr>\n",
       "  </thead>\n",
       "  <tbody>\n",
       "    <tr>\n",
       "      <th>8</th>\n",
       "      <td>intake_month</td>\n",
       "      <td>intake_year</td>\n",
       "      <td>-0.239546</td>\n",
       "      <td>0.239546</td>\n",
       "    </tr>\n",
       "    <tr>\n",
       "      <th>13</th>\n",
       "      <td>intake_year</td>\n",
       "      <td>intake_month</td>\n",
       "      <td>-0.239546</td>\n",
       "      <td>0.239546</td>\n",
       "    </tr>\n",
       "    <tr>\n",
       "      <th>1</th>\n",
       "      <td>age_upon_intake_(years)</td>\n",
       "      <td>intake_month</td>\n",
       "      <td>-0.032277</td>\n",
       "      <td>0.032277</td>\n",
       "    </tr>\n",
       "    <tr>\n",
       "      <th>6</th>\n",
       "      <td>intake_month</td>\n",
       "      <td>age_upon_intake_(years)</td>\n",
       "      <td>-0.032277</td>\n",
       "      <td>0.032277</td>\n",
       "    </tr>\n",
       "    <tr>\n",
       "      <th>20</th>\n",
       "      <td>intake_hour</td>\n",
       "      <td>intake_year</td>\n",
       "      <td>-0.030885</td>\n",
       "      <td>0.030885</td>\n",
       "    </tr>\n",
       "    <tr>\n",
       "      <th>15</th>\n",
       "      <td>intake_year</td>\n",
       "      <td>intake_hour</td>\n",
       "      <td>-0.030885</td>\n",
       "      <td>0.030885</td>\n",
       "    </tr>\n",
       "    <tr>\n",
       "      <th>30</th>\n",
       "      <td>time_in_shelter_days_round</td>\n",
       "      <td>age_upon_intake_(years)</td>\n",
       "      <td>0.030216</td>\n",
       "      <td>0.030216</td>\n",
       "    </tr>\n",
       "    <tr>\n",
       "      <th>5</th>\n",
       "      <td>age_upon_intake_(years)</td>\n",
       "      <td>time_in_shelter_days_round</td>\n",
       "      <td>0.030216</td>\n",
       "      <td>0.030216</td>\n",
       "    </tr>\n",
       "    <tr>\n",
       "      <th>26</th>\n",
       "      <td>intake_number</td>\n",
       "      <td>intake_year</td>\n",
       "      <td>-0.029155</td>\n",
       "      <td>0.029155</td>\n",
       "    </tr>\n",
       "    <tr>\n",
       "      <th>16</th>\n",
       "      <td>intake_year</td>\n",
       "      <td>intake_number</td>\n",
       "      <td>-0.029155</td>\n",
       "      <td>0.029155</td>\n",
       "    </tr>\n",
       "  </tbody>\n",
       "</table>\n",
       "</div>"
      ],
      "text/plain": [
       "                     feature_1                   feature_2  correlation  \\\n",
       "8                 intake_month                 intake_year    -0.239546   \n",
       "13                 intake_year                intake_month    -0.239546   \n",
       "1      age_upon_intake_(years)                intake_month    -0.032277   \n",
       "6                 intake_month     age_upon_intake_(years)    -0.032277   \n",
       "20                 intake_hour                 intake_year    -0.030885   \n",
       "15                 intake_year                 intake_hour    -0.030885   \n",
       "30  time_in_shelter_days_round     age_upon_intake_(years)     0.030216   \n",
       "5      age_upon_intake_(years)  time_in_shelter_days_round     0.030216   \n",
       "26               intake_number                 intake_year    -0.029155   \n",
       "16                 intake_year               intake_number    -0.029155   \n",
       "\n",
       "    absolute_correlation  \n",
       "8               0.239546  \n",
       "13              0.239546  \n",
       "1               0.032277  \n",
       "6               0.032277  \n",
       "20              0.030885  \n",
       "15              0.030885  \n",
       "30              0.030216  \n",
       "5               0.030216  \n",
       "26              0.029155  \n",
       "16              0.029155  "
      ]
     },
     "execution_count": 9,
     "metadata": {},
     "output_type": "execute_result"
    }
   ],
   "source": [
    "# Computing the absolute correlation\n",
    "corr_df['absolute_correlation'] = np.abs(corr_df['correlation'])\n",
    "\n",
    "# Showing the top 5 most correlated pairs of feature\n",
    "corr_df.sort_values(by=\"absolute_correlation\", ascending=False).head(5*2)"
   ]
  },
  {
   "cell_type": "code",
   "execution_count": 10,
   "id": "5372eee0",
   "metadata": {},
   "outputs": [
    {
     "name": "stdout",
     "output_type": "stream",
     "text": [
      "<class 'pandas.core.frame.DataFrame'>\n",
      "Int64Index: 74870 entries, 0 to 79671\n",
      "Data columns (total 30 columns):\n",
      " #   Column                               Non-Null Count  Dtype         \n",
      "---  ------                               --------------  -----         \n",
      " 0   animal_id_outcome                    74870 non-null  object        \n",
      " 1   date_of_birth                        74870 non-null  datetime64[ns]\n",
      " 2   outcome_type                         74870 non-null  object        \n",
      " 3   sex_upon_outcome                     74870 non-null  object        \n",
      " 4   age_upon_intake                      74870 non-null  object        \n",
      " 5   animal_id_intake                     74870 non-null  object        \n",
      " 6   animal_type                          74870 non-null  object        \n",
      " 7   breed                                74870 non-null  object        \n",
      " 8   color                                74870 non-null  object        \n",
      " 9   intake_condition                     74870 non-null  object        \n",
      " 10  intake_type                          74870 non-null  object        \n",
      " 11  sex_upon_intake                      74870 non-null  object        \n",
      " 12  age_upon_intake_(years)              74870 non-null  float64       \n",
      " 13  intake_datetime                      74870 non-null  datetime64[ns]\n",
      " 14  intake_month                         74870 non-null  int64         \n",
      " 15  intake_year                          74870 non-null  int64         \n",
      " 16  intake_weekday                       74870 non-null  object        \n",
      " 17  intake_hour                          74870 non-null  int64         \n",
      " 18  intake_number                        74870 non-null  float64       \n",
      " 19  sex_type                             74870 non-null  object        \n",
      " 20  sex                                  74870 non-null  object        \n",
      " 21  breed_new                            74870 non-null  object        \n",
      " 22  breed_2classes                       74870 non-null  object        \n",
      " 23  outcome_type_2classes                74870 non-null  object        \n",
      " 24  time_in_shelter_days_round           74870 non-null  int64         \n",
      " 25  time_in_shelter_class                74870 non-null  object        \n",
      " 26  time_in_shelter_days_round_5classes  74870 non-null  object        \n",
      " 27  time_in_shelter_days_round_2classes  74870 non-null  object        \n",
      " 28  intake_condition_2classes            74823 non-null  object        \n",
      " 29  color_3classes                       74870 non-null  object        \n",
      "dtypes: datetime64[ns](2), float64(2), int64(4), object(22)\n",
      "memory usage: 17.7+ MB\n"
     ]
    }
   ],
   "source": [
    "df.info()"
   ]
  },
  {
   "attachments": {},
   "cell_type": "markdown",
   "id": "23f11db1",
   "metadata": {},
   "source": [
    "## Vizualisation"
   ]
  },
  {
   "cell_type": "code",
   "execution_count": 11,
   "id": "a24e2707",
   "metadata": {},
   "outputs": [],
   "source": [
    "# # pairplot with hue sex\n",
    "# sns.pairplot(df, hue ='sex')\n",
    "# # to show\n",
    "# plt.show()"
   ]
  },
  {
   "cell_type": "code",
   "execution_count": 12,
   "id": "d3f0789a",
   "metadata": {},
   "outputs": [],
   "source": [
    "# # pairplot with hue sex\n",
    "# sns.pairplot(df, hue ='time_in_shelter_days_round')\n",
    "# # to show\n",
    "# plt.show()"
   ]
  },
  {
   "attachments": {},
   "cell_type": "markdown",
   "id": "99b8b075",
   "metadata": {},
   "source": [
    "## Balanced data check"
   ]
  },
  {
   "cell_type": "code",
   "execution_count": 13,
   "id": "64e91448",
   "metadata": {},
   "outputs": [
    {
     "data": {
      "text/plain": [
       "1.000000     12351\n",
       "2.000000     10682\n",
       "0.082192      7419\n",
       "3.000000      4935\n",
       "0.164384      3975\n",
       "4.000000      2995\n",
       "5.000000      2701\n",
       "0.076712      2501\n",
       "0.057534      2261\n",
       "0.328767      2000\n",
       "0.246575      1900\n",
       "6.000000      1841\n",
       "0.410959      1697\n",
       "7.000000      1567\n",
       "0.038356      1546\n",
       "8.000000      1514\n",
       "0.493151      1311\n",
       "0.019178      1172\n",
       "0.739726      1162\n",
       "10.000000     1149\n",
       "0.575342      1120\n",
       "0.657534       872\n",
       "9.000000       863\n",
       "0.821918       700\n",
       "12.000000      590\n",
       "0.904110       516\n",
       "11.000000      449\n",
       "0.000000       408\n",
       "13.000000      378\n",
       "0.008219       341\n",
       "0.002740       332\n",
       "0.005479       270\n",
       "14.000000      249\n",
       "15.000000      212\n",
       "0.095890       199\n",
       "0.016438       183\n",
       "0.010959       171\n",
       "0.013699       118\n",
       "16.000000      106\n",
       "17.000000       59\n",
       "18.000000       26\n",
       "19.000000       13\n",
       "20.000000       12\n",
       "22.000000        4\n",
       "Name: age_upon_intake_(years), dtype: int64"
      ]
     },
     "execution_count": 13,
     "metadata": {},
     "output_type": "execute_result"
    }
   ],
   "source": [
    "#balenced dataset for the column 'age_upon_intake_(years)'\n",
    "# relable the column 'age_upon_intake_(years)'\n",
    "df['age_upon_intake_(years)'].value_counts()"
   ]
  },
  {
   "cell_type": "code",
   "execution_count": 14,
   "id": "b6ca592c",
   "metadata": {},
   "outputs": [
    {
     "data": {
      "text/plain": [
       "normal        66962\n",
       "not normal     7861\n",
       "Name: intake_condition_2classes, dtype: int64"
      ]
     },
     "execution_count": 14,
     "metadata": {},
     "output_type": "execute_result"
    }
   ],
   "source": [
    "#balenced dataset for the column 'intake_condition_2classes'\n",
    "df['intake_condition_2classes'].value_counts()"
   ]
  },
  {
   "cell_type": "code",
   "execution_count": 15,
   "id": "f1c5790e",
   "metadata": {},
   "outputs": [
    {
     "data": {
      "text/plain": [
       "Male       37533\n",
       "Female     34519\n",
       "Unknown     2818\n",
       "Name: sex, dtype: int64"
      ]
     },
     "execution_count": 15,
     "metadata": {},
     "output_type": "execute_result"
    }
   ],
   "source": [
    "#balenced dataset for the column 'sex'\n",
    "df['sex'].value_counts()"
   ]
  },
  {
   "cell_type": "code",
   "execution_count": 16,
   "id": "3f46aaeb",
   "metadata": {},
   "outputs": [
    {
     "data": {
      "text/plain": [
       "Neutered    53631\n",
       "Intact      18421\n",
       "Unknown      2818\n",
       "Name: sex_type, dtype: int64"
      ]
     },
     "execution_count": 16,
     "metadata": {},
     "output_type": "execute_result"
    }
   ],
   "source": [
    "#balenced dataset for the column 'sex_type'\n",
    "df['sex_type'].value_counts()"
   ]
  },
  {
   "cell_type": "code",
   "execution_count": 17,
   "id": "2aeb37c9",
   "metadata": {},
   "outputs": [
    {
     "data": {
      "text/plain": [
       "Dog    45350\n",
       "Cat    29520\n",
       "Name: animal_type, dtype: int64"
      ]
     },
     "execution_count": 17,
     "metadata": {},
     "output_type": "execute_result"
    }
   ],
   "source": [
    "#balenced dataset for the column 'animal_type'\n",
    "df['animal_type'].value_counts()"
   ]
  },
  {
   "cell_type": "code",
   "execution_count": 18,
   "id": "692ab64d",
   "metadata": {},
   "outputs": [
    {
     "data": {
      "text/plain": [
       "mixed        71581\n",
       "not mixed     3289\n",
       "Name: breed_2classes, dtype: int64"
      ]
     },
     "execution_count": 18,
     "metadata": {},
     "output_type": "execute_result"
    }
   ],
   "source": [
    "#balenced dataset for the column 'breed_2classes'\n",
    "df['breed_2classes'].value_counts()"
   ]
  },
  {
   "cell_type": "code",
   "execution_count": 19,
   "id": "5f640831",
   "metadata": {},
   "outputs": [
    {
     "data": {
      "text/plain": [
       "Monocolor    39716\n",
       "Bicolor      31243\n",
       "Tricolor      3911\n",
       "Name: color_3classes, dtype: int64"
      ]
     },
     "execution_count": 19,
     "metadata": {},
     "output_type": "execute_result"
    }
   ],
   "source": [
    "#balenced dataset for the column 'color_3classes'\n",
    "df['color_3classes'].value_counts()"
   ]
  },
  {
   "cell_type": "code",
   "execution_count": 20,
   "id": "5b4082d0",
   "metadata": {},
   "outputs": [
    {
     "data": {
      "text/plain": [
       "adopted        56548\n",
       "not adopted    18322\n",
       "Name: outcome_type_2classes, dtype: int64"
      ]
     },
     "execution_count": 20,
     "metadata": {},
     "output_type": "execute_result"
    }
   ],
   "source": [
    "#balenced dataset for the column 'outcome_type_2classes'\n",
    "df['outcome_type_2classes'].value_counts()"
   ]
  },
  {
   "cell_type": "code",
   "execution_count": 21,
   "id": "182ab860",
   "metadata": {},
   "outputs": [
    {
     "data": {
      "text/plain": [
       "between 1 and 5 days      29492\n",
       "between 6 and 10 days     12233\n",
       "higher than 30 days       11591\n",
       "several hours              9869\n",
       "between 11 and 15 days     5295\n",
       "between 16 and 20 days     2665\n",
       "between 21 and 25 days     2002\n",
       "between 26 and 30 days     1723\n",
       "Name: time_in_shelter_days_round_5classes, dtype: int64"
      ]
     },
     "execution_count": 21,
     "metadata": {},
     "output_type": "execute_result"
    }
   ],
   "source": [
    "#balenced dataset for the column 'outcome_type_2classes'\n",
    "df['time_in_shelter_days_round_5classes'].value_counts()"
   ]
  },
  {
   "attachments": {},
   "cell_type": "markdown",
   "id": "641db5c1",
   "metadata": {},
   "source": [
    "## TRAIN_TEST_DATASET"
   ]
  },
  {
   "cell_type": "code",
   "execution_count": 22,
   "id": "e35fa7df",
   "metadata": {},
   "outputs": [],
   "source": [
    "# I have to scale them? \n",
    "\n",
    "# Split the data into features (X) and target (y)\n",
    "\n",
    "X = df[['intake_condition_2classes', 'sex', 'sex_type',\\\n",
    "    'animal_type', 'breed_2classes', 'age_upon_intake_(years)', 'color_3classes',\\\n",
    "    'outcome_type_2classes']]\n",
    "y = df['time_in_shelter_days_round_5classes'] # next one with 'time_in_shelter_days_round_5classes', 'time_in_shelter_days_round_2classes'\n",
    "\n",
    "\n",
    "# Split the data into training and test sets\n",
    "X_train, X_test, y_train, y_test = train_test_split(X, y, test_size=0.2)"
   ]
  },
  {
   "cell_type": "code",
   "execution_count": 23,
   "id": "ac31813b",
   "metadata": {},
   "outputs": [],
   "source": [
    "# recode the target in 'long' and 'not long'\n",
    "# data['time_in_shelter_bins'] = pd.cut(x = data['time_in_shelter_days_round'],\n",
    "#                                  bins=[data['time_in_shelter_days_round'].min()-1,\n",
    "#                                        data['time_in_shelter_days_round'].mean(),\n",
    "#                                        data['time_in_shelter_days_round'].max()+1], \n",
    "#                                  labels=['not long', 'long'])\n",
    "\n",
    "# data.head()"
   ]
  },
  {
   "attachments": {},
   "cell_type": "markdown",
   "id": "ad17f4a8",
   "metadata": {},
   "source": [
    "## Pipeline - preprocessor"
   ]
  },
  {
   "cell_type": "code",
   "execution_count": 24,
   "id": "fdbb6f87",
   "metadata": {},
   "outputs": [],
   "source": [
    "# create a list of numerical columns and categorical columns\n",
    "from sklearn.pipeline import make_pipeline\n",
    "from sklearn.preprocessing import StandardScaler, OneHotEncoder\n",
    "from sklearn.compose import ColumnTransformer\n",
    "\n",
    "numeric_features = ['age_upon_intake_(years)']\n",
    "\n",
    "categorical_features = ['intake_condition_2classes', 'sex', 'sex_type',\\\n",
    "    'animal_type', 'breed_2classes', 'color_3classes',\\\n",
    "    'outcome_type_2classes']\n",
    "\n",
    "# create the transformer for numerical columns\n",
    "numeric_transformer = make_pipeline(StandardScaler())\n",
    "\n",
    "# create the transformer for categorical columns\n",
    "categorical_transformer = make_pipeline(OneHotEncoder(sparse=False, handle_unknown='ignore'))\n",
    "\n",
    "\n",
    "# use ColumnTransformer to specify which columns need to be preprocessed in what way\n",
    "preprocessor = ColumnTransformer([\n",
    "        ('num', numeric_transformer, numeric_features),\n",
    "        ('cat', categorical_transformer, categorical_features)])"
   ]
  },
  {
   "cell_type": "code",
   "execution_count": 25,
   "id": "eea8b20a",
   "metadata": {},
   "outputs": [
    {
     "data": {
      "text/html": [
       "<style>#sk-container-id-1 {color: black;background-color: white;}#sk-container-id-1 pre{padding: 0;}#sk-container-id-1 div.sk-toggleable {background-color: white;}#sk-container-id-1 label.sk-toggleable__label {cursor: pointer;display: block;width: 100%;margin-bottom: 0;padding: 0.3em;box-sizing: border-box;text-align: center;}#sk-container-id-1 label.sk-toggleable__label-arrow:before {content: \"▸\";float: left;margin-right: 0.25em;color: #696969;}#sk-container-id-1 label.sk-toggleable__label-arrow:hover:before {color: black;}#sk-container-id-1 div.sk-estimator:hover label.sk-toggleable__label-arrow:before {color: black;}#sk-container-id-1 div.sk-toggleable__content {max-height: 0;max-width: 0;overflow: hidden;text-align: left;background-color: #f0f8ff;}#sk-container-id-1 div.sk-toggleable__content pre {margin: 0.2em;color: black;border-radius: 0.25em;background-color: #f0f8ff;}#sk-container-id-1 input.sk-toggleable__control:checked~div.sk-toggleable__content {max-height: 200px;max-width: 100%;overflow: auto;}#sk-container-id-1 input.sk-toggleable__control:checked~label.sk-toggleable__label-arrow:before {content: \"▾\";}#sk-container-id-1 div.sk-estimator input.sk-toggleable__control:checked~label.sk-toggleable__label {background-color: #d4ebff;}#sk-container-id-1 div.sk-label input.sk-toggleable__control:checked~label.sk-toggleable__label {background-color: #d4ebff;}#sk-container-id-1 input.sk-hidden--visually {border: 0;clip: rect(1px 1px 1px 1px);clip: rect(1px, 1px, 1px, 1px);height: 1px;margin: -1px;overflow: hidden;padding: 0;position: absolute;width: 1px;}#sk-container-id-1 div.sk-estimator {font-family: monospace;background-color: #f0f8ff;border: 1px dotted black;border-radius: 0.25em;box-sizing: border-box;margin-bottom: 0.5em;}#sk-container-id-1 div.sk-estimator:hover {background-color: #d4ebff;}#sk-container-id-1 div.sk-parallel-item::after {content: \"\";width: 100%;border-bottom: 1px solid gray;flex-grow: 1;}#sk-container-id-1 div.sk-label:hover label.sk-toggleable__label {background-color: #d4ebff;}#sk-container-id-1 div.sk-serial::before {content: \"\";position: absolute;border-left: 1px solid gray;box-sizing: border-box;top: 0;bottom: 0;left: 50%;z-index: 0;}#sk-container-id-1 div.sk-serial {display: flex;flex-direction: column;align-items: center;background-color: white;padding-right: 0.2em;padding-left: 0.2em;position: relative;}#sk-container-id-1 div.sk-item {position: relative;z-index: 1;}#sk-container-id-1 div.sk-parallel {display: flex;align-items: stretch;justify-content: center;background-color: white;position: relative;}#sk-container-id-1 div.sk-item::before, #sk-container-id-1 div.sk-parallel-item::before {content: \"\";position: absolute;border-left: 1px solid gray;box-sizing: border-box;top: 0;bottom: 0;left: 50%;z-index: -1;}#sk-container-id-1 div.sk-parallel-item {display: flex;flex-direction: column;z-index: 1;position: relative;background-color: white;}#sk-container-id-1 div.sk-parallel-item:first-child::after {align-self: flex-end;width: 50%;}#sk-container-id-1 div.sk-parallel-item:last-child::after {align-self: flex-start;width: 50%;}#sk-container-id-1 div.sk-parallel-item:only-child::after {width: 0;}#sk-container-id-1 div.sk-dashed-wrapped {border: 1px dashed gray;margin: 0 0.4em 0.5em 0.4em;box-sizing: border-box;padding-bottom: 0.4em;background-color: white;}#sk-container-id-1 div.sk-label label {font-family: monospace;font-weight: bold;display: inline-block;line-height: 1.2em;}#sk-container-id-1 div.sk-label-container {text-align: center;}#sk-container-id-1 div.sk-container {/* jupyter's `normalize.less` sets `[hidden] { display: none; }` but bootstrap.min.css set `[hidden] { display: none !important; }` so we also need the `!important` here to be able to override the default hidden behavior on the sphinx rendered scikit-learn.org. See: https://github.com/scikit-learn/scikit-learn/issues/21755 */display: inline-block !important;position: relative;}#sk-container-id-1 div.sk-text-repr-fallback {display: none;}</style><div id=\"sk-container-id-1\" class=\"sk-top-container\"><div class=\"sk-text-repr-fallback\"><pre>ColumnTransformer(transformers=[(&#x27;num&#x27;,\n",
       "                                 Pipeline(steps=[(&#x27;standardscaler&#x27;,\n",
       "                                                  StandardScaler())]),\n",
       "                                 [&#x27;age_upon_intake_(years)&#x27;]),\n",
       "                                (&#x27;cat&#x27;,\n",
       "                                 Pipeline(steps=[(&#x27;onehotencoder&#x27;,\n",
       "                                                  OneHotEncoder(handle_unknown=&#x27;ignore&#x27;,\n",
       "                                                                sparse=False))]),\n",
       "                                 [&#x27;intake_condition_2classes&#x27;, &#x27;sex&#x27;,\n",
       "                                  &#x27;sex_type&#x27;, &#x27;animal_type&#x27;, &#x27;breed_2classes&#x27;,\n",
       "                                  &#x27;color_3classes&#x27;, &#x27;outcome_type_2classes&#x27;])])</pre><b>In a Jupyter environment, please rerun this cell to show the HTML representation or trust the notebook. <br />On GitHub, the HTML representation is unable to render, please try loading this page with nbviewer.org.</b></div><div class=\"sk-container\" hidden><div class=\"sk-item sk-dashed-wrapped\"><div class=\"sk-label-container\"><div class=\"sk-label sk-toggleable\"><input class=\"sk-toggleable__control sk-hidden--visually\" id=\"sk-estimator-id-1\" type=\"checkbox\" ><label for=\"sk-estimator-id-1\" class=\"sk-toggleable__label sk-toggleable__label-arrow\">ColumnTransformer</label><div class=\"sk-toggleable__content\"><pre>ColumnTransformer(transformers=[(&#x27;num&#x27;,\n",
       "                                 Pipeline(steps=[(&#x27;standardscaler&#x27;,\n",
       "                                                  StandardScaler())]),\n",
       "                                 [&#x27;age_upon_intake_(years)&#x27;]),\n",
       "                                (&#x27;cat&#x27;,\n",
       "                                 Pipeline(steps=[(&#x27;onehotencoder&#x27;,\n",
       "                                                  OneHotEncoder(handle_unknown=&#x27;ignore&#x27;,\n",
       "                                                                sparse=False))]),\n",
       "                                 [&#x27;intake_condition_2classes&#x27;, &#x27;sex&#x27;,\n",
       "                                  &#x27;sex_type&#x27;, &#x27;animal_type&#x27;, &#x27;breed_2classes&#x27;,\n",
       "                                  &#x27;color_3classes&#x27;, &#x27;outcome_type_2classes&#x27;])])</pre></div></div></div><div class=\"sk-parallel\"><div class=\"sk-parallel-item\"><div class=\"sk-item\"><div class=\"sk-label-container\"><div class=\"sk-label sk-toggleable\"><input class=\"sk-toggleable__control sk-hidden--visually\" id=\"sk-estimator-id-2\" type=\"checkbox\" ><label for=\"sk-estimator-id-2\" class=\"sk-toggleable__label sk-toggleable__label-arrow\">num</label><div class=\"sk-toggleable__content\"><pre>[&#x27;age_upon_intake_(years)&#x27;]</pre></div></div></div><div class=\"sk-serial\"><div class=\"sk-item\"><div class=\"sk-serial\"><div class=\"sk-item\"><div class=\"sk-estimator sk-toggleable\"><input class=\"sk-toggleable__control sk-hidden--visually\" id=\"sk-estimator-id-3\" type=\"checkbox\" ><label for=\"sk-estimator-id-3\" class=\"sk-toggleable__label sk-toggleable__label-arrow\">StandardScaler</label><div class=\"sk-toggleable__content\"><pre>StandardScaler()</pre></div></div></div></div></div></div></div></div><div class=\"sk-parallel-item\"><div class=\"sk-item\"><div class=\"sk-label-container\"><div class=\"sk-label sk-toggleable\"><input class=\"sk-toggleable__control sk-hidden--visually\" id=\"sk-estimator-id-4\" type=\"checkbox\" ><label for=\"sk-estimator-id-4\" class=\"sk-toggleable__label sk-toggleable__label-arrow\">cat</label><div class=\"sk-toggleable__content\"><pre>[&#x27;intake_condition_2classes&#x27;, &#x27;sex&#x27;, &#x27;sex_type&#x27;, &#x27;animal_type&#x27;, &#x27;breed_2classes&#x27;, &#x27;color_3classes&#x27;, &#x27;outcome_type_2classes&#x27;]</pre></div></div></div><div class=\"sk-serial\"><div class=\"sk-item\"><div class=\"sk-serial\"><div class=\"sk-item\"><div class=\"sk-estimator sk-toggleable\"><input class=\"sk-toggleable__control sk-hidden--visually\" id=\"sk-estimator-id-5\" type=\"checkbox\" ><label for=\"sk-estimator-id-5\" class=\"sk-toggleable__label sk-toggleable__label-arrow\">OneHotEncoder</label><div class=\"sk-toggleable__content\"><pre>OneHotEncoder(handle_unknown=&#x27;ignore&#x27;, sparse=False)</pre></div></div></div></div></div></div></div></div></div></div></div></div>"
      ],
      "text/plain": [
       "ColumnTransformer(transformers=[('num',\n",
       "                                 Pipeline(steps=[('standardscaler',\n",
       "                                                  StandardScaler())]),\n",
       "                                 ['age_upon_intake_(years)']),\n",
       "                                ('cat',\n",
       "                                 Pipeline(steps=[('onehotencoder',\n",
       "                                                  OneHotEncoder(handle_unknown='ignore',\n",
       "                                                                sparse=False))]),\n",
       "                                 ['intake_condition_2classes', 'sex',\n",
       "                                  'sex_type', 'animal_type', 'breed_2classes',\n",
       "                                  'color_3classes', 'outcome_type_2classes'])])"
      ]
     },
     "execution_count": 25,
     "metadata": {},
     "output_type": "execute_result"
    }
   ],
   "source": [
    " # Visualizing Pipelines in HTML\n",
    "from sklearn import set_config; set_config(display='diagram')\n",
    "preprocessor"
   ]
  },
  {
   "cell_type": "code",
   "execution_count": 26,
   "id": "9878f785",
   "metadata": {},
   "outputs": [
    {
     "name": "stderr",
     "output_type": "stream",
     "text": [
      "/home/wiesemann/.pyenv/versions/3.10.6/envs/animals/lib/python3.10/site-packages/sklearn/preprocessing/_encoders.py:828: FutureWarning: `sparse` was renamed to `sparse_output` in version 1.2 and will be removed in 1.4. `sparse_output` is ignored unless you leave `sparse` to its default value.\n",
      "  warnings.warn(\n"
     ]
    },
    {
     "name": "stdout",
     "output_type": "stream",
     "text": [
      "Original training set\n"
     ]
    },
    {
     "data": {
      "text/html": [
       "<div>\n",
       "<style scoped>\n",
       "    .dataframe tbody tr th:only-of-type {\n",
       "        vertical-align: middle;\n",
       "    }\n",
       "\n",
       "    .dataframe tbody tr th {\n",
       "        vertical-align: top;\n",
       "    }\n",
       "\n",
       "    .dataframe thead th {\n",
       "        text-align: right;\n",
       "    }\n",
       "</style>\n",
       "<table border=\"1\" class=\"dataframe\">\n",
       "  <thead>\n",
       "    <tr style=\"text-align: right;\">\n",
       "      <th></th>\n",
       "      <th>intake_condition_2classes</th>\n",
       "      <th>sex</th>\n",
       "      <th>sex_type</th>\n",
       "      <th>animal_type</th>\n",
       "      <th>breed_2classes</th>\n",
       "      <th>age_upon_intake_(years)</th>\n",
       "      <th>color_3classes</th>\n",
       "      <th>outcome_type_2classes</th>\n",
       "    </tr>\n",
       "  </thead>\n",
       "  <tbody>\n",
       "    <tr>\n",
       "      <th>72128</th>\n",
       "      <td>not normal</td>\n",
       "      <td>Female</td>\n",
       "      <td>Intact</td>\n",
       "      <td>Cat</td>\n",
       "      <td>mixed</td>\n",
       "      <td>0.082192</td>\n",
       "      <td>Bicolor</td>\n",
       "      <td>adopted</td>\n",
       "    </tr>\n",
       "    <tr>\n",
       "      <th>24778</th>\n",
       "      <td>normal</td>\n",
       "      <td>Female</td>\n",
       "      <td>Neutered</td>\n",
       "      <td>Dog</td>\n",
       "      <td>mixed</td>\n",
       "      <td>4.000000</td>\n",
       "      <td>Bicolor</td>\n",
       "      <td>not adopted</td>\n",
       "    </tr>\n",
       "    <tr>\n",
       "      <th>62824</th>\n",
       "      <td>normal</td>\n",
       "      <td>Female</td>\n",
       "      <td>Neutered</td>\n",
       "      <td>Cat</td>\n",
       "      <td>mixed</td>\n",
       "      <td>2.000000</td>\n",
       "      <td>Monocolor</td>\n",
       "      <td>adopted</td>\n",
       "    </tr>\n",
       "  </tbody>\n",
       "</table>\n",
       "</div>"
      ],
      "text/plain": [
       "      intake_condition_2classes     sex  sex_type animal_type breed_2classes  \\\n",
       "72128                not normal  Female    Intact         Cat          mixed   \n",
       "24778                    normal  Female  Neutered         Dog          mixed   \n",
       "62824                    normal  Female  Neutered         Cat          mixed   \n",
       "\n",
       "       age_upon_intake_(years) color_3classes outcome_type_2classes  \n",
       "72128                 0.082192        Bicolor               adopted  \n",
       "24778                 4.000000        Bicolor           not adopted  \n",
       "62824                 2.000000      Monocolor               adopted  "
      ]
     },
     "metadata": {},
     "output_type": "display_data"
    },
    {
     "name": "stdout",
     "output_type": "stream",
     "text": [
      "Preprocessed training set\n"
     ]
    },
    {
     "data": {
      "text/html": [
       "<div>\n",
       "<style scoped>\n",
       "    .dataframe tbody tr th:only-of-type {\n",
       "        vertical-align: middle;\n",
       "    }\n",
       "\n",
       "    .dataframe tbody tr th {\n",
       "        vertical-align: top;\n",
       "    }\n",
       "\n",
       "    .dataframe thead th {\n",
       "        text-align: right;\n",
       "    }\n",
       "</style>\n",
       "<table border=\"1\" class=\"dataframe\">\n",
       "  <thead>\n",
       "    <tr style=\"text-align: right;\">\n",
       "      <th></th>\n",
       "      <th>0</th>\n",
       "      <th>1</th>\n",
       "      <th>2</th>\n",
       "      <th>3</th>\n",
       "      <th>4</th>\n",
       "      <th>5</th>\n",
       "      <th>6</th>\n",
       "      <th>7</th>\n",
       "      <th>8</th>\n",
       "      <th>9</th>\n",
       "      <th>10</th>\n",
       "      <th>11</th>\n",
       "      <th>12</th>\n",
       "      <th>13</th>\n",
       "      <th>14</th>\n",
       "      <th>15</th>\n",
       "      <th>16</th>\n",
       "      <th>17</th>\n",
       "      <th>18</th>\n",
       "    </tr>\n",
       "  </thead>\n",
       "  <tbody>\n",
       "    <tr>\n",
       "      <th>0</th>\n",
       "      <td>-0.703488</td>\n",
       "      <td>0.0</td>\n",
       "      <td>1.0</td>\n",
       "      <td>0.0</td>\n",
       "      <td>1.0</td>\n",
       "      <td>0.0</td>\n",
       "      <td>0.0</td>\n",
       "      <td>1.0</td>\n",
       "      <td>0.0</td>\n",
       "      <td>0.0</td>\n",
       "      <td>1.0</td>\n",
       "      <td>0.0</td>\n",
       "      <td>1.0</td>\n",
       "      <td>0.0</td>\n",
       "      <td>1.0</td>\n",
       "      <td>0.0</td>\n",
       "      <td>0.0</td>\n",
       "      <td>1.0</td>\n",
       "      <td>0.0</td>\n",
       "    </tr>\n",
       "    <tr>\n",
       "      <th>1</th>\n",
       "      <td>0.624207</td>\n",
       "      <td>1.0</td>\n",
       "      <td>0.0</td>\n",
       "      <td>0.0</td>\n",
       "      <td>1.0</td>\n",
       "      <td>0.0</td>\n",
       "      <td>0.0</td>\n",
       "      <td>0.0</td>\n",
       "      <td>1.0</td>\n",
       "      <td>0.0</td>\n",
       "      <td>0.0</td>\n",
       "      <td>1.0</td>\n",
       "      <td>1.0</td>\n",
       "      <td>0.0</td>\n",
       "      <td>1.0</td>\n",
       "      <td>0.0</td>\n",
       "      <td>0.0</td>\n",
       "      <td>0.0</td>\n",
       "      <td>1.0</td>\n",
       "    </tr>\n",
       "    <tr>\n",
       "      <th>2</th>\n",
       "      <td>-0.053567</td>\n",
       "      <td>1.0</td>\n",
       "      <td>0.0</td>\n",
       "      <td>0.0</td>\n",
       "      <td>1.0</td>\n",
       "      <td>0.0</td>\n",
       "      <td>0.0</td>\n",
       "      <td>0.0</td>\n",
       "      <td>1.0</td>\n",
       "      <td>0.0</td>\n",
       "      <td>1.0</td>\n",
       "      <td>0.0</td>\n",
       "      <td>1.0</td>\n",
       "      <td>0.0</td>\n",
       "      <td>0.0</td>\n",
       "      <td>1.0</td>\n",
       "      <td>0.0</td>\n",
       "      <td>1.0</td>\n",
       "      <td>0.0</td>\n",
       "    </tr>\n",
       "  </tbody>\n",
       "</table>\n",
       "</div>"
      ],
      "text/plain": [
       "         0    1    2    3    4    5    6    7    8    9    10   11   12   13  \\\n",
       "0 -0.703488  0.0  1.0  0.0  1.0  0.0  0.0  1.0  0.0  0.0  1.0  0.0  1.0  0.0   \n",
       "1  0.624207  1.0  0.0  0.0  1.0  0.0  0.0  0.0  1.0  0.0  0.0  1.0  1.0  0.0   \n",
       "2 -0.053567  1.0  0.0  0.0  1.0  0.0  0.0  0.0  1.0  0.0  1.0  0.0  1.0  0.0   \n",
       "\n",
       "    14   15   16   17   18  \n",
       "0  1.0  0.0  0.0  1.0  0.0  \n",
       "1  1.0  0.0  0.0  0.0  1.0  \n",
       "2  0.0  1.0  0.0  1.0  0.0  "
      ]
     },
     "metadata": {},
     "output_type": "display_data"
    }
   ],
   "source": [
    "X_train_transformed = preprocessor.fit_transform(X_train)\n",
    "\n",
    "print(\"Original training set\")\n",
    "display(X_train.head(3))\n",
    "\n",
    "print(\"Preprocessed training set\")\n",
    "display(pd.DataFrame(X_train_transformed).head(3))"
   ]
  },
  {
   "cell_type": "code",
   "execution_count": 27,
   "id": "e197bc5a",
   "metadata": {},
   "outputs": [
    {
     "data": {
      "text/plain": [
       "array(['num__age_upon_intake_(years)',\n",
       "       'cat__intake_condition_2classes_normal',\n",
       "       'cat__intake_condition_2classes_not normal',\n",
       "       'cat__intake_condition_2classes_nan', 'cat__sex_Female',\n",
       "       'cat__sex_Male', 'cat__sex_Unknown', 'cat__sex_type_Intact',\n",
       "       'cat__sex_type_Neutered', 'cat__sex_type_Unknown',\n",
       "       'cat__animal_type_Cat', 'cat__animal_type_Dog',\n",
       "       'cat__breed_2classes_mixed', 'cat__breed_2classes_not mixed',\n",
       "       'cat__color_3classes_Bicolor', 'cat__color_3classes_Monocolor',\n",
       "       'cat__color_3classes_Tricolor',\n",
       "       'cat__outcome_type_2classes_adopted',\n",
       "       'cat__outcome_type_2classes_not adopted'], dtype=object)"
      ]
     },
     "execution_count": 27,
     "metadata": {},
     "output_type": "execute_result"
    }
   ],
   "source": [
    "# Get your features' names\n",
    "preprocessor.get_feature_names_out()"
   ]
  },
  {
   "cell_type": "code",
   "execution_count": 28,
   "id": "bfe24b82",
   "metadata": {},
   "outputs": [
    {
     "data": {
      "text/html": [
       "<div>\n",
       "<style scoped>\n",
       "    .dataframe tbody tr th:only-of-type {\n",
       "        vertical-align: middle;\n",
       "    }\n",
       "\n",
       "    .dataframe tbody tr th {\n",
       "        vertical-align: top;\n",
       "    }\n",
       "\n",
       "    .dataframe thead th {\n",
       "        text-align: right;\n",
       "    }\n",
       "</style>\n",
       "<table border=\"1\" class=\"dataframe\">\n",
       "  <thead>\n",
       "    <tr style=\"text-align: right;\">\n",
       "      <th></th>\n",
       "      <th>num__age_upon_intake_(years)</th>\n",
       "      <th>cat__intake_condition_2classes_normal</th>\n",
       "      <th>cat__intake_condition_2classes_not normal</th>\n",
       "      <th>cat__intake_condition_2classes_nan</th>\n",
       "      <th>cat__sex_Female</th>\n",
       "      <th>cat__sex_Male</th>\n",
       "      <th>cat__sex_Unknown</th>\n",
       "      <th>cat__sex_type_Intact</th>\n",
       "      <th>cat__sex_type_Neutered</th>\n",
       "      <th>cat__sex_type_Unknown</th>\n",
       "      <th>cat__animal_type_Cat</th>\n",
       "      <th>cat__animal_type_Dog</th>\n",
       "      <th>cat__breed_2classes_mixed</th>\n",
       "      <th>cat__breed_2classes_not mixed</th>\n",
       "      <th>cat__color_3classes_Bicolor</th>\n",
       "      <th>cat__color_3classes_Monocolor</th>\n",
       "      <th>cat__color_3classes_Tricolor</th>\n",
       "      <th>cat__outcome_type_2classes_adopted</th>\n",
       "      <th>cat__outcome_type_2classes_not adopted</th>\n",
       "    </tr>\n",
       "  </thead>\n",
       "  <tbody>\n",
       "    <tr>\n",
       "      <th>0</th>\n",
       "      <td>-0.703488</td>\n",
       "      <td>0.0</td>\n",
       "      <td>1.0</td>\n",
       "      <td>0.0</td>\n",
       "      <td>1.0</td>\n",
       "      <td>0.0</td>\n",
       "      <td>0.0</td>\n",
       "      <td>1.0</td>\n",
       "      <td>0.0</td>\n",
       "      <td>0.0</td>\n",
       "      <td>1.0</td>\n",
       "      <td>0.0</td>\n",
       "      <td>1.0</td>\n",
       "      <td>0.0</td>\n",
       "      <td>1.0</td>\n",
       "      <td>0.0</td>\n",
       "      <td>0.0</td>\n",
       "      <td>1.0</td>\n",
       "      <td>0.0</td>\n",
       "    </tr>\n",
       "    <tr>\n",
       "      <th>1</th>\n",
       "      <td>0.624207</td>\n",
       "      <td>1.0</td>\n",
       "      <td>0.0</td>\n",
       "      <td>0.0</td>\n",
       "      <td>1.0</td>\n",
       "      <td>0.0</td>\n",
       "      <td>0.0</td>\n",
       "      <td>0.0</td>\n",
       "      <td>1.0</td>\n",
       "      <td>0.0</td>\n",
       "      <td>0.0</td>\n",
       "      <td>1.0</td>\n",
       "      <td>1.0</td>\n",
       "      <td>0.0</td>\n",
       "      <td>1.0</td>\n",
       "      <td>0.0</td>\n",
       "      <td>0.0</td>\n",
       "      <td>0.0</td>\n",
       "      <td>1.0</td>\n",
       "    </tr>\n",
       "    <tr>\n",
       "      <th>2</th>\n",
       "      <td>-0.053567</td>\n",
       "      <td>1.0</td>\n",
       "      <td>0.0</td>\n",
       "      <td>0.0</td>\n",
       "      <td>1.0</td>\n",
       "      <td>0.0</td>\n",
       "      <td>0.0</td>\n",
       "      <td>0.0</td>\n",
       "      <td>1.0</td>\n",
       "      <td>0.0</td>\n",
       "      <td>1.0</td>\n",
       "      <td>0.0</td>\n",
       "      <td>1.0</td>\n",
       "      <td>0.0</td>\n",
       "      <td>0.0</td>\n",
       "      <td>1.0</td>\n",
       "      <td>0.0</td>\n",
       "      <td>1.0</td>\n",
       "      <td>0.0</td>\n",
       "    </tr>\n",
       "    <tr>\n",
       "      <th>3</th>\n",
       "      <td>-0.705345</td>\n",
       "      <td>1.0</td>\n",
       "      <td>0.0</td>\n",
       "      <td>0.0</td>\n",
       "      <td>0.0</td>\n",
       "      <td>1.0</td>\n",
       "      <td>0.0</td>\n",
       "      <td>1.0</td>\n",
       "      <td>0.0</td>\n",
       "      <td>0.0</td>\n",
       "      <td>1.0</td>\n",
       "      <td>0.0</td>\n",
       "      <td>1.0</td>\n",
       "      <td>0.0</td>\n",
       "      <td>0.0</td>\n",
       "      <td>1.0</td>\n",
       "      <td>0.0</td>\n",
       "      <td>1.0</td>\n",
       "      <td>0.0</td>\n",
       "    </tr>\n",
       "    <tr>\n",
       "      <th>4</th>\n",
       "      <td>0.624207</td>\n",
       "      <td>1.0</td>\n",
       "      <td>0.0</td>\n",
       "      <td>0.0</td>\n",
       "      <td>1.0</td>\n",
       "      <td>0.0</td>\n",
       "      <td>0.0</td>\n",
       "      <td>0.0</td>\n",
       "      <td>1.0</td>\n",
       "      <td>0.0</td>\n",
       "      <td>0.0</td>\n",
       "      <td>1.0</td>\n",
       "      <td>0.0</td>\n",
       "      <td>1.0</td>\n",
       "      <td>0.0</td>\n",
       "      <td>0.0</td>\n",
       "      <td>1.0</td>\n",
       "      <td>1.0</td>\n",
       "      <td>0.0</td>\n",
       "    </tr>\n",
       "  </tbody>\n",
       "</table>\n",
       "</div>"
      ],
      "text/plain": [
       "   num__age_upon_intake_(years)  cat__intake_condition_2classes_normal  \\\n",
       "0                     -0.703488                                    0.0   \n",
       "1                      0.624207                                    1.0   \n",
       "2                     -0.053567                                    1.0   \n",
       "3                     -0.705345                                    1.0   \n",
       "4                      0.624207                                    1.0   \n",
       "\n",
       "   cat__intake_condition_2classes_not normal  \\\n",
       "0                                        1.0   \n",
       "1                                        0.0   \n",
       "2                                        0.0   \n",
       "3                                        0.0   \n",
       "4                                        0.0   \n",
       "\n",
       "   cat__intake_condition_2classes_nan  cat__sex_Female  cat__sex_Male  \\\n",
       "0                                 0.0              1.0            0.0   \n",
       "1                                 0.0              1.0            0.0   \n",
       "2                                 0.0              1.0            0.0   \n",
       "3                                 0.0              0.0            1.0   \n",
       "4                                 0.0              1.0            0.0   \n",
       "\n",
       "   cat__sex_Unknown  cat__sex_type_Intact  cat__sex_type_Neutered  \\\n",
       "0               0.0                   1.0                     0.0   \n",
       "1               0.0                   0.0                     1.0   \n",
       "2               0.0                   0.0                     1.0   \n",
       "3               0.0                   1.0                     0.0   \n",
       "4               0.0                   0.0                     1.0   \n",
       "\n",
       "   cat__sex_type_Unknown  cat__animal_type_Cat  cat__animal_type_Dog  \\\n",
       "0                    0.0                   1.0                   0.0   \n",
       "1                    0.0                   0.0                   1.0   \n",
       "2                    0.0                   1.0                   0.0   \n",
       "3                    0.0                   1.0                   0.0   \n",
       "4                    0.0                   0.0                   1.0   \n",
       "\n",
       "   cat__breed_2classes_mixed  cat__breed_2classes_not mixed  \\\n",
       "0                        1.0                            0.0   \n",
       "1                        1.0                            0.0   \n",
       "2                        1.0                            0.0   \n",
       "3                        1.0                            0.0   \n",
       "4                        0.0                            1.0   \n",
       "\n",
       "   cat__color_3classes_Bicolor  cat__color_3classes_Monocolor  \\\n",
       "0                          1.0                            0.0   \n",
       "1                          1.0                            0.0   \n",
       "2                          0.0                            1.0   \n",
       "3                          0.0                            1.0   \n",
       "4                          0.0                            0.0   \n",
       "\n",
       "   cat__color_3classes_Tricolor  cat__outcome_type_2classes_adopted  \\\n",
       "0                           0.0                                 1.0   \n",
       "1                           0.0                                 0.0   \n",
       "2                           0.0                                 1.0   \n",
       "3                           0.0                                 1.0   \n",
       "4                           1.0                                 1.0   \n",
       "\n",
       "   cat__outcome_type_2classes_not adopted  \n",
       "0                                     0.0  \n",
       "1                                     1.0  \n",
       "2                                     0.0  \n",
       "3                                     0.0  \n",
       "4                                     0.0  "
      ]
     },
     "execution_count": 28,
     "metadata": {},
     "output_type": "execute_result"
    }
   ],
   "source": [
    "pd.DataFrame(\n",
    "    X_train_transformed, \n",
    "    columns=preprocessor.get_feature_names_out()\n",
    ").head()"
   ]
  },
  {
   "attachments": {},
   "cell_type": "markdown",
   "id": "a65af598",
   "metadata": {},
   "source": [
    "## PIPELINE"
   ]
  },
  {
   "cell_type": "code",
   "execution_count": 29,
   "id": "332e35c5",
   "metadata": {},
   "outputs": [
    {
     "data": {
      "text/html": [
       "<style>#sk-container-id-2 {color: black;background-color: white;}#sk-container-id-2 pre{padding: 0;}#sk-container-id-2 div.sk-toggleable {background-color: white;}#sk-container-id-2 label.sk-toggleable__label {cursor: pointer;display: block;width: 100%;margin-bottom: 0;padding: 0.3em;box-sizing: border-box;text-align: center;}#sk-container-id-2 label.sk-toggleable__label-arrow:before {content: \"▸\";float: left;margin-right: 0.25em;color: #696969;}#sk-container-id-2 label.sk-toggleable__label-arrow:hover:before {color: black;}#sk-container-id-2 div.sk-estimator:hover label.sk-toggleable__label-arrow:before {color: black;}#sk-container-id-2 div.sk-toggleable__content {max-height: 0;max-width: 0;overflow: hidden;text-align: left;background-color: #f0f8ff;}#sk-container-id-2 div.sk-toggleable__content pre {margin: 0.2em;color: black;border-radius: 0.25em;background-color: #f0f8ff;}#sk-container-id-2 input.sk-toggleable__control:checked~div.sk-toggleable__content {max-height: 200px;max-width: 100%;overflow: auto;}#sk-container-id-2 input.sk-toggleable__control:checked~label.sk-toggleable__label-arrow:before {content: \"▾\";}#sk-container-id-2 div.sk-estimator input.sk-toggleable__control:checked~label.sk-toggleable__label {background-color: #d4ebff;}#sk-container-id-2 div.sk-label input.sk-toggleable__control:checked~label.sk-toggleable__label {background-color: #d4ebff;}#sk-container-id-2 input.sk-hidden--visually {border: 0;clip: rect(1px 1px 1px 1px);clip: rect(1px, 1px, 1px, 1px);height: 1px;margin: -1px;overflow: hidden;padding: 0;position: absolute;width: 1px;}#sk-container-id-2 div.sk-estimator {font-family: monospace;background-color: #f0f8ff;border: 1px dotted black;border-radius: 0.25em;box-sizing: border-box;margin-bottom: 0.5em;}#sk-container-id-2 div.sk-estimator:hover {background-color: #d4ebff;}#sk-container-id-2 div.sk-parallel-item::after {content: \"\";width: 100%;border-bottom: 1px solid gray;flex-grow: 1;}#sk-container-id-2 div.sk-label:hover label.sk-toggleable__label {background-color: #d4ebff;}#sk-container-id-2 div.sk-serial::before {content: \"\";position: absolute;border-left: 1px solid gray;box-sizing: border-box;top: 0;bottom: 0;left: 50%;z-index: 0;}#sk-container-id-2 div.sk-serial {display: flex;flex-direction: column;align-items: center;background-color: white;padding-right: 0.2em;padding-left: 0.2em;position: relative;}#sk-container-id-2 div.sk-item {position: relative;z-index: 1;}#sk-container-id-2 div.sk-parallel {display: flex;align-items: stretch;justify-content: center;background-color: white;position: relative;}#sk-container-id-2 div.sk-item::before, #sk-container-id-2 div.sk-parallel-item::before {content: \"\";position: absolute;border-left: 1px solid gray;box-sizing: border-box;top: 0;bottom: 0;left: 50%;z-index: -1;}#sk-container-id-2 div.sk-parallel-item {display: flex;flex-direction: column;z-index: 1;position: relative;background-color: white;}#sk-container-id-2 div.sk-parallel-item:first-child::after {align-self: flex-end;width: 50%;}#sk-container-id-2 div.sk-parallel-item:last-child::after {align-self: flex-start;width: 50%;}#sk-container-id-2 div.sk-parallel-item:only-child::after {width: 0;}#sk-container-id-2 div.sk-dashed-wrapped {border: 1px dashed gray;margin: 0 0.4em 0.5em 0.4em;box-sizing: border-box;padding-bottom: 0.4em;background-color: white;}#sk-container-id-2 div.sk-label label {font-family: monospace;font-weight: bold;display: inline-block;line-height: 1.2em;}#sk-container-id-2 div.sk-label-container {text-align: center;}#sk-container-id-2 div.sk-container {/* jupyter's `normalize.less` sets `[hidden] { display: none; }` but bootstrap.min.css set `[hidden] { display: none !important; }` so we also need the `!important` here to be able to override the default hidden behavior on the sphinx rendered scikit-learn.org. See: https://github.com/scikit-learn/scikit-learn/issues/21755 */display: inline-block !important;position: relative;}#sk-container-id-2 div.sk-text-repr-fallback {display: none;}</style><div id=\"sk-container-id-2\" class=\"sk-top-container\"><div class=\"sk-text-repr-fallback\"><pre>Pipeline(steps=[(&#x27;columntransformer&#x27;,\n",
       "                 ColumnTransformer(transformers=[(&#x27;num&#x27;,\n",
       "                                                  Pipeline(steps=[(&#x27;standardscaler&#x27;,\n",
       "                                                                   StandardScaler())]),\n",
       "                                                  [&#x27;age_upon_intake_(years)&#x27;]),\n",
       "                                                 (&#x27;cat&#x27;,\n",
       "                                                  Pipeline(steps=[(&#x27;onehotencoder&#x27;,\n",
       "                                                                   OneHotEncoder(handle_unknown=&#x27;ignore&#x27;,\n",
       "                                                                                 sparse=False))]),\n",
       "                                                  [&#x27;intake_condition_2classes&#x27;,\n",
       "                                                   &#x27;sex&#x27;, &#x27;sex_type&#x27;,\n",
       "                                                   &#x27;animal_type&#x27;,\n",
       "                                                   &#x27;breed_2classes&#x27;,\n",
       "                                                   &#x27;color_3classes&#x27;,\n",
       "                                                   &#x27;outcome_type_2classes&#x27;])])),\n",
       "                (&#x27;randomforestclassifier&#x27;, RandomForestClassifier())])</pre><b>In a Jupyter environment, please rerun this cell to show the HTML representation or trust the notebook. <br />On GitHub, the HTML representation is unable to render, please try loading this page with nbviewer.org.</b></div><div class=\"sk-container\" hidden><div class=\"sk-item sk-dashed-wrapped\"><div class=\"sk-label-container\"><div class=\"sk-label sk-toggleable\"><input class=\"sk-toggleable__control sk-hidden--visually\" id=\"sk-estimator-id-6\" type=\"checkbox\" ><label for=\"sk-estimator-id-6\" class=\"sk-toggleable__label sk-toggleable__label-arrow\">Pipeline</label><div class=\"sk-toggleable__content\"><pre>Pipeline(steps=[(&#x27;columntransformer&#x27;,\n",
       "                 ColumnTransformer(transformers=[(&#x27;num&#x27;,\n",
       "                                                  Pipeline(steps=[(&#x27;standardscaler&#x27;,\n",
       "                                                                   StandardScaler())]),\n",
       "                                                  [&#x27;age_upon_intake_(years)&#x27;]),\n",
       "                                                 (&#x27;cat&#x27;,\n",
       "                                                  Pipeline(steps=[(&#x27;onehotencoder&#x27;,\n",
       "                                                                   OneHotEncoder(handle_unknown=&#x27;ignore&#x27;,\n",
       "                                                                                 sparse=False))]),\n",
       "                                                  [&#x27;intake_condition_2classes&#x27;,\n",
       "                                                   &#x27;sex&#x27;, &#x27;sex_type&#x27;,\n",
       "                                                   &#x27;animal_type&#x27;,\n",
       "                                                   &#x27;breed_2classes&#x27;,\n",
       "                                                   &#x27;color_3classes&#x27;,\n",
       "                                                   &#x27;outcome_type_2classes&#x27;])])),\n",
       "                (&#x27;randomforestclassifier&#x27;, RandomForestClassifier())])</pre></div></div></div><div class=\"sk-serial\"><div class=\"sk-item sk-dashed-wrapped\"><div class=\"sk-label-container\"><div class=\"sk-label sk-toggleable\"><input class=\"sk-toggleable__control sk-hidden--visually\" id=\"sk-estimator-id-7\" type=\"checkbox\" ><label for=\"sk-estimator-id-7\" class=\"sk-toggleable__label sk-toggleable__label-arrow\">columntransformer: ColumnTransformer</label><div class=\"sk-toggleable__content\"><pre>ColumnTransformer(transformers=[(&#x27;num&#x27;,\n",
       "                                 Pipeline(steps=[(&#x27;standardscaler&#x27;,\n",
       "                                                  StandardScaler())]),\n",
       "                                 [&#x27;age_upon_intake_(years)&#x27;]),\n",
       "                                (&#x27;cat&#x27;,\n",
       "                                 Pipeline(steps=[(&#x27;onehotencoder&#x27;,\n",
       "                                                  OneHotEncoder(handle_unknown=&#x27;ignore&#x27;,\n",
       "                                                                sparse=False))]),\n",
       "                                 [&#x27;intake_condition_2classes&#x27;, &#x27;sex&#x27;,\n",
       "                                  &#x27;sex_type&#x27;, &#x27;animal_type&#x27;, &#x27;breed_2classes&#x27;,\n",
       "                                  &#x27;color_3classes&#x27;, &#x27;outcome_type_2classes&#x27;])])</pre></div></div></div><div class=\"sk-parallel\"><div class=\"sk-parallel-item\"><div class=\"sk-item\"><div class=\"sk-label-container\"><div class=\"sk-label sk-toggleable\"><input class=\"sk-toggleable__control sk-hidden--visually\" id=\"sk-estimator-id-8\" type=\"checkbox\" ><label for=\"sk-estimator-id-8\" class=\"sk-toggleable__label sk-toggleable__label-arrow\">num</label><div class=\"sk-toggleable__content\"><pre>[&#x27;age_upon_intake_(years)&#x27;]</pre></div></div></div><div class=\"sk-serial\"><div class=\"sk-item\"><div class=\"sk-serial\"><div class=\"sk-item\"><div class=\"sk-estimator sk-toggleable\"><input class=\"sk-toggleable__control sk-hidden--visually\" id=\"sk-estimator-id-9\" type=\"checkbox\" ><label for=\"sk-estimator-id-9\" class=\"sk-toggleable__label sk-toggleable__label-arrow\">StandardScaler</label><div class=\"sk-toggleable__content\"><pre>StandardScaler()</pre></div></div></div></div></div></div></div></div><div class=\"sk-parallel-item\"><div class=\"sk-item\"><div class=\"sk-label-container\"><div class=\"sk-label sk-toggleable\"><input class=\"sk-toggleable__control sk-hidden--visually\" id=\"sk-estimator-id-10\" type=\"checkbox\" ><label for=\"sk-estimator-id-10\" class=\"sk-toggleable__label sk-toggleable__label-arrow\">cat</label><div class=\"sk-toggleable__content\"><pre>[&#x27;intake_condition_2classes&#x27;, &#x27;sex&#x27;, &#x27;sex_type&#x27;, &#x27;animal_type&#x27;, &#x27;breed_2classes&#x27;, &#x27;color_3classes&#x27;, &#x27;outcome_type_2classes&#x27;]</pre></div></div></div><div class=\"sk-serial\"><div class=\"sk-item\"><div class=\"sk-serial\"><div class=\"sk-item\"><div class=\"sk-estimator sk-toggleable\"><input class=\"sk-toggleable__control sk-hidden--visually\" id=\"sk-estimator-id-11\" type=\"checkbox\" ><label for=\"sk-estimator-id-11\" class=\"sk-toggleable__label sk-toggleable__label-arrow\">OneHotEncoder</label><div class=\"sk-toggleable__content\"><pre>OneHotEncoder(handle_unknown=&#x27;ignore&#x27;, sparse=False)</pre></div></div></div></div></div></div></div></div></div></div><div class=\"sk-item\"><div class=\"sk-estimator sk-toggleable\"><input class=\"sk-toggleable__control sk-hidden--visually\" id=\"sk-estimator-id-12\" type=\"checkbox\" ><label for=\"sk-estimator-id-12\" class=\"sk-toggleable__label sk-toggleable__label-arrow\">RandomForestClassifier</label><div class=\"sk-toggleable__content\"><pre>RandomForestClassifier()</pre></div></div></div></div></div></div></div>"
      ],
      "text/plain": [
       "Pipeline(steps=[('columntransformer',\n",
       "                 ColumnTransformer(transformers=[('num',\n",
       "                                                  Pipeline(steps=[('standardscaler',\n",
       "                                                                   StandardScaler())]),\n",
       "                                                  ['age_upon_intake_(years)']),\n",
       "                                                 ('cat',\n",
       "                                                  Pipeline(steps=[('onehotencoder',\n",
       "                                                                   OneHotEncoder(handle_unknown='ignore',\n",
       "                                                                                 sparse=False))]),\n",
       "                                                  ['intake_condition_2classes',\n",
       "                                                   'sex', 'sex_type',\n",
       "                                                   'animal_type',\n",
       "                                                   'breed_2classes',\n",
       "                                                   'color_3classes',\n",
       "                                                   'outcome_type_2classes'])])),\n",
       "                ('randomforestclassifier', RandomForestClassifier())])"
      ]
     },
     "execution_count": 29,
     "metadata": {},
     "output_type": "execute_result"
    }
   ],
   "source": [
    "pipeline = make_pipeline(preprocessor, RandomForestClassifier())\n",
    "pipeline"
   ]
  },
  {
   "cell_type": "code",
   "execution_count": 30,
   "id": "d1413355",
   "metadata": {},
   "outputs": [
    {
     "name": "stderr",
     "output_type": "stream",
     "text": [
      "/home/wiesemann/.pyenv/versions/3.10.6/envs/animals/lib/python3.10/site-packages/sklearn/preprocessing/_encoders.py:828: FutureWarning: `sparse` was renamed to `sparse_output` in version 1.2 and will be removed in 1.4. `sparse_output` is ignored unless you leave `sparse` to its default value.\n",
      "  warnings.warn(\n"
     ]
    },
    {
     "data": {
      "text/html": [
       "<style>#sk-container-id-3 {color: black;background-color: white;}#sk-container-id-3 pre{padding: 0;}#sk-container-id-3 div.sk-toggleable {background-color: white;}#sk-container-id-3 label.sk-toggleable__label {cursor: pointer;display: block;width: 100%;margin-bottom: 0;padding: 0.3em;box-sizing: border-box;text-align: center;}#sk-container-id-3 label.sk-toggleable__label-arrow:before {content: \"▸\";float: left;margin-right: 0.25em;color: #696969;}#sk-container-id-3 label.sk-toggleable__label-arrow:hover:before {color: black;}#sk-container-id-3 div.sk-estimator:hover label.sk-toggleable__label-arrow:before {color: black;}#sk-container-id-3 div.sk-toggleable__content {max-height: 0;max-width: 0;overflow: hidden;text-align: left;background-color: #f0f8ff;}#sk-container-id-3 div.sk-toggleable__content pre {margin: 0.2em;color: black;border-radius: 0.25em;background-color: #f0f8ff;}#sk-container-id-3 input.sk-toggleable__control:checked~div.sk-toggleable__content {max-height: 200px;max-width: 100%;overflow: auto;}#sk-container-id-3 input.sk-toggleable__control:checked~label.sk-toggleable__label-arrow:before {content: \"▾\";}#sk-container-id-3 div.sk-estimator input.sk-toggleable__control:checked~label.sk-toggleable__label {background-color: #d4ebff;}#sk-container-id-3 div.sk-label input.sk-toggleable__control:checked~label.sk-toggleable__label {background-color: #d4ebff;}#sk-container-id-3 input.sk-hidden--visually {border: 0;clip: rect(1px 1px 1px 1px);clip: rect(1px, 1px, 1px, 1px);height: 1px;margin: -1px;overflow: hidden;padding: 0;position: absolute;width: 1px;}#sk-container-id-3 div.sk-estimator {font-family: monospace;background-color: #f0f8ff;border: 1px dotted black;border-radius: 0.25em;box-sizing: border-box;margin-bottom: 0.5em;}#sk-container-id-3 div.sk-estimator:hover {background-color: #d4ebff;}#sk-container-id-3 div.sk-parallel-item::after {content: \"\";width: 100%;border-bottom: 1px solid gray;flex-grow: 1;}#sk-container-id-3 div.sk-label:hover label.sk-toggleable__label {background-color: #d4ebff;}#sk-container-id-3 div.sk-serial::before {content: \"\";position: absolute;border-left: 1px solid gray;box-sizing: border-box;top: 0;bottom: 0;left: 50%;z-index: 0;}#sk-container-id-3 div.sk-serial {display: flex;flex-direction: column;align-items: center;background-color: white;padding-right: 0.2em;padding-left: 0.2em;position: relative;}#sk-container-id-3 div.sk-item {position: relative;z-index: 1;}#sk-container-id-3 div.sk-parallel {display: flex;align-items: stretch;justify-content: center;background-color: white;position: relative;}#sk-container-id-3 div.sk-item::before, #sk-container-id-3 div.sk-parallel-item::before {content: \"\";position: absolute;border-left: 1px solid gray;box-sizing: border-box;top: 0;bottom: 0;left: 50%;z-index: -1;}#sk-container-id-3 div.sk-parallel-item {display: flex;flex-direction: column;z-index: 1;position: relative;background-color: white;}#sk-container-id-3 div.sk-parallel-item:first-child::after {align-self: flex-end;width: 50%;}#sk-container-id-3 div.sk-parallel-item:last-child::after {align-self: flex-start;width: 50%;}#sk-container-id-3 div.sk-parallel-item:only-child::after {width: 0;}#sk-container-id-3 div.sk-dashed-wrapped {border: 1px dashed gray;margin: 0 0.4em 0.5em 0.4em;box-sizing: border-box;padding-bottom: 0.4em;background-color: white;}#sk-container-id-3 div.sk-label label {font-family: monospace;font-weight: bold;display: inline-block;line-height: 1.2em;}#sk-container-id-3 div.sk-label-container {text-align: center;}#sk-container-id-3 div.sk-container {/* jupyter's `normalize.less` sets `[hidden] { display: none; }` but bootstrap.min.css set `[hidden] { display: none !important; }` so we also need the `!important` here to be able to override the default hidden behavior on the sphinx rendered scikit-learn.org. See: https://github.com/scikit-learn/scikit-learn/issues/21755 */display: inline-block !important;position: relative;}#sk-container-id-3 div.sk-text-repr-fallback {display: none;}</style><div id=\"sk-container-id-3\" class=\"sk-top-container\"><div class=\"sk-text-repr-fallback\"><pre>Pipeline(steps=[(&#x27;columntransformer&#x27;,\n",
       "                 ColumnTransformer(transformers=[(&#x27;num&#x27;,\n",
       "                                                  Pipeline(steps=[(&#x27;standardscaler&#x27;,\n",
       "                                                                   StandardScaler())]),\n",
       "                                                  [&#x27;age_upon_intake_(years)&#x27;]),\n",
       "                                                 (&#x27;cat&#x27;,\n",
       "                                                  Pipeline(steps=[(&#x27;onehotencoder&#x27;,\n",
       "                                                                   OneHotEncoder(handle_unknown=&#x27;ignore&#x27;,\n",
       "                                                                                 sparse=False))]),\n",
       "                                                  [&#x27;intake_condition_2classes&#x27;,\n",
       "                                                   &#x27;sex&#x27;, &#x27;sex_type&#x27;,\n",
       "                                                   &#x27;animal_type&#x27;,\n",
       "                                                   &#x27;breed_2classes&#x27;,\n",
       "                                                   &#x27;color_3classes&#x27;,\n",
       "                                                   &#x27;outcome_type_2classes&#x27;])])),\n",
       "                (&#x27;randomforestclassifier&#x27;, RandomForestClassifier())])</pre><b>In a Jupyter environment, please rerun this cell to show the HTML representation or trust the notebook. <br />On GitHub, the HTML representation is unable to render, please try loading this page with nbviewer.org.</b></div><div class=\"sk-container\" hidden><div class=\"sk-item sk-dashed-wrapped\"><div class=\"sk-label-container\"><div class=\"sk-label sk-toggleable\"><input class=\"sk-toggleable__control sk-hidden--visually\" id=\"sk-estimator-id-13\" type=\"checkbox\" ><label for=\"sk-estimator-id-13\" class=\"sk-toggleable__label sk-toggleable__label-arrow\">Pipeline</label><div class=\"sk-toggleable__content\"><pre>Pipeline(steps=[(&#x27;columntransformer&#x27;,\n",
       "                 ColumnTransformer(transformers=[(&#x27;num&#x27;,\n",
       "                                                  Pipeline(steps=[(&#x27;standardscaler&#x27;,\n",
       "                                                                   StandardScaler())]),\n",
       "                                                  [&#x27;age_upon_intake_(years)&#x27;]),\n",
       "                                                 (&#x27;cat&#x27;,\n",
       "                                                  Pipeline(steps=[(&#x27;onehotencoder&#x27;,\n",
       "                                                                   OneHotEncoder(handle_unknown=&#x27;ignore&#x27;,\n",
       "                                                                                 sparse=False))]),\n",
       "                                                  [&#x27;intake_condition_2classes&#x27;,\n",
       "                                                   &#x27;sex&#x27;, &#x27;sex_type&#x27;,\n",
       "                                                   &#x27;animal_type&#x27;,\n",
       "                                                   &#x27;breed_2classes&#x27;,\n",
       "                                                   &#x27;color_3classes&#x27;,\n",
       "                                                   &#x27;outcome_type_2classes&#x27;])])),\n",
       "                (&#x27;randomforestclassifier&#x27;, RandomForestClassifier())])</pre></div></div></div><div class=\"sk-serial\"><div class=\"sk-item sk-dashed-wrapped\"><div class=\"sk-label-container\"><div class=\"sk-label sk-toggleable\"><input class=\"sk-toggleable__control sk-hidden--visually\" id=\"sk-estimator-id-14\" type=\"checkbox\" ><label for=\"sk-estimator-id-14\" class=\"sk-toggleable__label sk-toggleable__label-arrow\">columntransformer: ColumnTransformer</label><div class=\"sk-toggleable__content\"><pre>ColumnTransformer(transformers=[(&#x27;num&#x27;,\n",
       "                                 Pipeline(steps=[(&#x27;standardscaler&#x27;,\n",
       "                                                  StandardScaler())]),\n",
       "                                 [&#x27;age_upon_intake_(years)&#x27;]),\n",
       "                                (&#x27;cat&#x27;,\n",
       "                                 Pipeline(steps=[(&#x27;onehotencoder&#x27;,\n",
       "                                                  OneHotEncoder(handle_unknown=&#x27;ignore&#x27;,\n",
       "                                                                sparse=False))]),\n",
       "                                 [&#x27;intake_condition_2classes&#x27;, &#x27;sex&#x27;,\n",
       "                                  &#x27;sex_type&#x27;, &#x27;animal_type&#x27;, &#x27;breed_2classes&#x27;,\n",
       "                                  &#x27;color_3classes&#x27;, &#x27;outcome_type_2classes&#x27;])])</pre></div></div></div><div class=\"sk-parallel\"><div class=\"sk-parallel-item\"><div class=\"sk-item\"><div class=\"sk-label-container\"><div class=\"sk-label sk-toggleable\"><input class=\"sk-toggleable__control sk-hidden--visually\" id=\"sk-estimator-id-15\" type=\"checkbox\" ><label for=\"sk-estimator-id-15\" class=\"sk-toggleable__label sk-toggleable__label-arrow\">num</label><div class=\"sk-toggleable__content\"><pre>[&#x27;age_upon_intake_(years)&#x27;]</pre></div></div></div><div class=\"sk-serial\"><div class=\"sk-item\"><div class=\"sk-serial\"><div class=\"sk-item\"><div class=\"sk-estimator sk-toggleable\"><input class=\"sk-toggleable__control sk-hidden--visually\" id=\"sk-estimator-id-16\" type=\"checkbox\" ><label for=\"sk-estimator-id-16\" class=\"sk-toggleable__label sk-toggleable__label-arrow\">StandardScaler</label><div class=\"sk-toggleable__content\"><pre>StandardScaler()</pre></div></div></div></div></div></div></div></div><div class=\"sk-parallel-item\"><div class=\"sk-item\"><div class=\"sk-label-container\"><div class=\"sk-label sk-toggleable\"><input class=\"sk-toggleable__control sk-hidden--visually\" id=\"sk-estimator-id-17\" type=\"checkbox\" ><label for=\"sk-estimator-id-17\" class=\"sk-toggleable__label sk-toggleable__label-arrow\">cat</label><div class=\"sk-toggleable__content\"><pre>[&#x27;intake_condition_2classes&#x27;, &#x27;sex&#x27;, &#x27;sex_type&#x27;, &#x27;animal_type&#x27;, &#x27;breed_2classes&#x27;, &#x27;color_3classes&#x27;, &#x27;outcome_type_2classes&#x27;]</pre></div></div></div><div class=\"sk-serial\"><div class=\"sk-item\"><div class=\"sk-serial\"><div class=\"sk-item\"><div class=\"sk-estimator sk-toggleable\"><input class=\"sk-toggleable__control sk-hidden--visually\" id=\"sk-estimator-id-18\" type=\"checkbox\" ><label for=\"sk-estimator-id-18\" class=\"sk-toggleable__label sk-toggleable__label-arrow\">OneHotEncoder</label><div class=\"sk-toggleable__content\"><pre>OneHotEncoder(handle_unknown=&#x27;ignore&#x27;, sparse=False)</pre></div></div></div></div></div></div></div></div></div></div><div class=\"sk-item\"><div class=\"sk-estimator sk-toggleable\"><input class=\"sk-toggleable__control sk-hidden--visually\" id=\"sk-estimator-id-19\" type=\"checkbox\" ><label for=\"sk-estimator-id-19\" class=\"sk-toggleable__label sk-toggleable__label-arrow\">RandomForestClassifier</label><div class=\"sk-toggleable__content\"><pre>RandomForestClassifier()</pre></div></div></div></div></div></div></div>"
      ],
      "text/plain": [
       "Pipeline(steps=[('columntransformer',\n",
       "                 ColumnTransformer(transformers=[('num',\n",
       "                                                  Pipeline(steps=[('standardscaler',\n",
       "                                                                   StandardScaler())]),\n",
       "                                                  ['age_upon_intake_(years)']),\n",
       "                                                 ('cat',\n",
       "                                                  Pipeline(steps=[('onehotencoder',\n",
       "                                                                   OneHotEncoder(handle_unknown='ignore',\n",
       "                                                                                 sparse=False))]),\n",
       "                                                  ['intake_condition_2classes',\n",
       "                                                   'sex', 'sex_type',\n",
       "                                                   'animal_type',\n",
       "                                                   'breed_2classes',\n",
       "                                                   'color_3classes',\n",
       "                                                   'outcome_type_2classes'])])),\n",
       "                ('randomforestclassifier', RandomForestClassifier())])"
      ]
     },
     "execution_count": 30,
     "metadata": {},
     "output_type": "execute_result"
    }
   ],
   "source": [
    "pipeline.fit(X_train,y_train)"
   ]
  },
  {
   "cell_type": "code",
   "execution_count": 31,
   "id": "0533b686",
   "metadata": {},
   "outputs": [
    {
     "data": {
      "text/plain": [
       "array(['between 1 and 5 days', 'between 1 and 5 days',\n",
       "       'between 1 and 5 days', ..., 'between 1 and 5 days',\n",
       "       'between 1 and 5 days', 'between 1 and 5 days'], dtype=object)"
      ]
     },
     "execution_count": 31,
     "metadata": {},
     "output_type": "execute_result"
    }
   ],
   "source": [
    "pipeline.predict(X_test)"
   ]
  },
  {
   "attachments": {},
   "cell_type": "markdown",
   "id": "acc29ec0",
   "metadata": {},
   "source": [
    "## Accuracy"
   ]
  },
  {
   "cell_type": "code",
   "execution_count": 32,
   "id": "3265c31c",
   "metadata": {},
   "outputs": [
    {
     "data": {
      "text/plain": [
       "0.4842393482035528"
      ]
     },
     "execution_count": 32,
     "metadata": {},
     "output_type": "execute_result"
    }
   ],
   "source": [
    "pipeline.score(X_test,y_test)"
   ]
  },
  {
   "attachments": {},
   "cell_type": "markdown",
   "id": "a2effa24",
   "metadata": {},
   "source": [
    "## Cross_validation"
   ]
  },
  {
   "cell_type": "code",
   "execution_count": 33,
   "id": "505ba9c7",
   "metadata": {},
   "outputs": [
    {
     "name": "stderr",
     "output_type": "stream",
     "text": [
      "/home/wiesemann/.pyenv/versions/3.10.6/envs/animals/lib/python3.10/site-packages/sklearn/preprocessing/_encoders.py:828: FutureWarning: `sparse` was renamed to `sparse_output` in version 1.2 and will be removed in 1.4. `sparse_output` is ignored unless you leave `sparse` to its default value.\n",
      "  warnings.warn(\n",
      "/home/wiesemann/.pyenv/versions/3.10.6/envs/animals/lib/python3.10/site-packages/sklearn/preprocessing/_encoders.py:828: FutureWarning: `sparse` was renamed to `sparse_output` in version 1.2 and will be removed in 1.4. `sparse_output` is ignored unless you leave `sparse` to its default value.\n",
      "  warnings.warn(\n",
      "/home/wiesemann/.pyenv/versions/3.10.6/envs/animals/lib/python3.10/site-packages/sklearn/preprocessing/_encoders.py:828: FutureWarning: `sparse` was renamed to `sparse_output` in version 1.2 and will be removed in 1.4. `sparse_output` is ignored unless you leave `sparse` to its default value.\n",
      "  warnings.warn(\n",
      "/home/wiesemann/.pyenv/versions/3.10.6/envs/animals/lib/python3.10/site-packages/sklearn/preprocessing/_encoders.py:828: FutureWarning: `sparse` was renamed to `sparse_output` in version 1.2 and will be removed in 1.4. `sparse_output` is ignored unless you leave `sparse` to its default value.\n",
      "  warnings.warn(\n",
      "/home/wiesemann/.pyenv/versions/3.10.6/envs/animals/lib/python3.10/site-packages/sklearn/preprocessing/_encoders.py:828: FutureWarning: `sparse` was renamed to `sparse_output` in version 1.2 and will be removed in 1.4. `sparse_output` is ignored unless you leave `sparse` to its default value.\n",
      "  warnings.warn(\n"
     ]
    }
   ],
   "source": [
    "from sklearn.model_selection import cross_val_score\n",
    "scores = cross_val_score(pipeline, X_train, y_train, cv=5)\n",
    "mean_accuracy = scores.mean()"
   ]
  },
  {
   "cell_type": "code",
   "execution_count": 34,
   "id": "8dc36bb4",
   "metadata": {},
   "outputs": [
    {
     "data": {
      "text/plain": [
       "0.4815179917666155"
      ]
     },
     "execution_count": 34,
     "metadata": {},
     "output_type": "execute_result"
    }
   ],
   "source": [
    "mean_accuracy"
   ]
  },
  {
   "cell_type": "code",
   "execution_count": 35,
   "id": "1ef05d3b",
   "metadata": {},
   "outputs": [
    {
     "ename": "NameError",
     "evalue": "name 'y_pred' is not defined",
     "output_type": "error",
     "traceback": [
      "\u001b[0;31m---------------------------------------------------------------------------\u001b[0m",
      "\u001b[0;31mNameError\u001b[0m                                 Traceback (most recent call last)",
      "Cell \u001b[0;32mIn[35], line 1\u001b[0m\n\u001b[0;32m----> 1\u001b[0m accuracy \u001b[39m=\u001b[39m accuracy_score(y_test, y_pred)\n\u001b[1;32m      2\u001b[0m \u001b[39mprint\u001b[39m(\u001b[39m\"\u001b[39m\u001b[39mAccuracy:\u001b[39m\u001b[39m\"\u001b[39m, accuracy)\n",
      "\u001b[0;31mNameError\u001b[0m: name 'y_pred' is not defined"
     ]
    }
   ],
   "source": [
    "accuracy = accuracy_score(y_test, y_pred)\n",
    "print(\"Accuracy:\", accuracy)"
   ]
  },
  {
   "cell_type": "code",
   "execution_count": null,
   "id": "fea44509",
   "metadata": {},
   "outputs": [],
   "source": [
    "#Hyperparameter Tuning\n",
    "param_dist = {'n_estimators': randint(50,500),\n",
    "              'max_depth': randint(1,20)}\n",
    "\n",
    "# Create a random forest classifier\n",
    "rf = RandomForestClassifier()\n",
    "\n",
    "# Use random search to find the best hyperparameters\n",
    "rand_search = RandomizedSearchCV(rf, \n",
    "                                 param_distributions = param_dist, \n",
    "                                 n_iter=5, \n",
    "                                 cv=5)\n",
    "\n",
    "# Fit the random search object to the data\n",
    "rand_search.fit(X_train, y_train)"
   ]
  },
  {
   "attachments": {},
   "cell_type": "markdown",
   "id": "9fa9bfc5",
   "metadata": {},
   "source": [
    "## GridSearch"
   ]
  },
  {
   "cell_type": "code",
   "execution_count": null,
   "id": "65107d75",
   "metadata": {},
   "outputs": [
    {
     "ename": "ValueError",
     "evalue": "For multi-metric scoring, the parameter refit must be set to a scorer key or a callable to refit an estimator with the best parameter setting on the whole data and make the best_* attributes available for that metric. If this is not needed, refit should be set to False explicitly. True was passed.",
     "output_type": "error",
     "traceback": [
      "\u001b[0;31m---------------------------------------------------------------------------\u001b[0m",
      "\u001b[0;31mValueError\u001b[0m                                Traceback (most recent call last)",
      "Cell \u001b[0;32mIn[48], line 14\u001b[0m\n\u001b[1;32m      1\u001b[0m \u001b[39mfrom\u001b[39;00m \u001b[39msklearn\u001b[39;00m\u001b[39m.\u001b[39;00m\u001b[39mmodel_selection\u001b[39;00m \u001b[39mimport\u001b[39;00m GridSearchCV\n\u001b[1;32m      3\u001b[0m grid_search \u001b[39m=\u001b[39m GridSearchCV(\n\u001b[1;32m      4\u001b[0m     pipeline, \n\u001b[1;32m      5\u001b[0m     param_grid\u001b[39m=\u001b[39m{\n\u001b[0;32m   (...)\u001b[0m\n\u001b[1;32m     11\u001b[0m     cv\u001b[39m=\u001b[39m\u001b[39m5\u001b[39m,\n\u001b[1;32m     12\u001b[0m     scoring\u001b[39m=\u001b[39m[\u001b[39m\"\u001b[39m\u001b[39maccuracy\u001b[39m\u001b[39m\"\u001b[39m, \u001b[39m'\u001b[39m\u001b[39mprecision\u001b[39m\u001b[39m'\u001b[39m, \u001b[39m'\u001b[39m\u001b[39mrecall\u001b[39m\u001b[39m'\u001b[39m])\n\u001b[0;32m---> 14\u001b[0m grid_search\u001b[39m.\u001b[39;49mfit(X_train, y_train)\n\u001b[1;32m     16\u001b[0m grid_search\u001b[39m.\u001b[39mbest_params_\n",
      "File \u001b[0;32m~/.pyenv/versions/3.10.6/envs/animals/lib/python3.10/site-packages/sklearn/model_selection/_search.py:779\u001b[0m, in \u001b[0;36mBaseSearchCV.fit\u001b[0;34m(self, X, y, groups, **fit_params)\u001b[0m\n\u001b[1;32m    777\u001b[0m \u001b[39melse\u001b[39;00m:\n\u001b[1;32m    778\u001b[0m     scorers \u001b[39m=\u001b[39m _check_multimetric_scoring(\u001b[39mself\u001b[39m\u001b[39m.\u001b[39mestimator, \u001b[39mself\u001b[39m\u001b[39m.\u001b[39mscoring)\n\u001b[0;32m--> 779\u001b[0m     \u001b[39mself\u001b[39;49m\u001b[39m.\u001b[39;49m_check_refit_for_multimetric(scorers)\n\u001b[1;32m    780\u001b[0m     refit_metric \u001b[39m=\u001b[39m \u001b[39mself\u001b[39m\u001b[39m.\u001b[39mrefit\n\u001b[1;32m    782\u001b[0m X, y, groups \u001b[39m=\u001b[39m indexable(X, y, groups)\n",
      "File \u001b[0;32m~/.pyenv/versions/3.10.6/envs/animals/lib/python3.10/site-packages/sklearn/model_selection/_search.py:720\u001b[0m, in \u001b[0;36mBaseSearchCV._check_refit_for_multimetric\u001b[0;34m(self, scores)\u001b[0m\n\u001b[1;32m    713\u001b[0m valid_refit_dict \u001b[39m=\u001b[39m \u001b[39misinstance\u001b[39m(\u001b[39mself\u001b[39m\u001b[39m.\u001b[39mrefit, \u001b[39mstr\u001b[39m) \u001b[39mand\u001b[39;00m \u001b[39mself\u001b[39m\u001b[39m.\u001b[39mrefit \u001b[39min\u001b[39;00m scores\n\u001b[1;32m    715\u001b[0m \u001b[39mif\u001b[39;00m (\n\u001b[1;32m    716\u001b[0m     \u001b[39mself\u001b[39m\u001b[39m.\u001b[39mrefit \u001b[39mis\u001b[39;00m \u001b[39mnot\u001b[39;00m \u001b[39mFalse\u001b[39;00m\n\u001b[1;32m    717\u001b[0m     \u001b[39mand\u001b[39;00m \u001b[39mnot\u001b[39;00m valid_refit_dict\n\u001b[1;32m    718\u001b[0m     \u001b[39mand\u001b[39;00m \u001b[39mnot\u001b[39;00m callable(\u001b[39mself\u001b[39m\u001b[39m.\u001b[39mrefit)\n\u001b[1;32m    719\u001b[0m ):\n\u001b[0;32m--> 720\u001b[0m     \u001b[39mraise\u001b[39;00m \u001b[39mValueError\u001b[39;00m(multimetric_refit_msg)\n",
      "\u001b[0;31mValueError\u001b[0m: For multi-metric scoring, the parameter refit must be set to a scorer key or a callable to refit an estimator with the best parameter setting on the whole data and make the best_* attributes available for that metric. If this is not needed, refit should be set to False explicitly. True was passed."
     ]
    }
   ],
   "source": [
    "from sklearn.model_selection import GridSearchCV\n",
    "\n",
    "grid_search = GridSearchCV(\n",
    "    pipeline, \n",
    "    param_grid={\n",
    "        # Access any component of the Pipeline\n",
    "        # and any available hyperparamater you want to optimize\n",
    "        # has to be in the pipeline ## Parameters of the Decision Tree\n",
    "        # only for the parametgers of the model\n",
    "        'strategy': ['mean', 'median'],\n",
    "        #'alpha': [0.1, 0.5, 1, 5, 10]\n",
    "    },\n",
    "    cv=5,\n",
    "    scoring=[\"accuracy\", 'precision', 'recall'])\n",
    "\n",
    "grid_search.fit(X_train, y_train)\n",
    "\n",
    "grid_search.best_params_"
   ]
  },
  {
   "cell_type": "code",
   "execution_count": null,
   "id": "62b0f4cc",
   "metadata": {},
   "outputs": [],
   "source": [
    "# Generate predictions with the best model\n",
    "y_pred = best_rf.predict(X_test)\n",
    "\n",
    "# Create the confusion matrix\n",
    "cm = confusion_matrix(y_test, y_pred)\n",
    "\n",
    "ConfusionMatrixDisplay(confusion_matrix=cm).plot();"
   ]
  },
  {
   "cell_type": "code",
   "execution_count": null,
   "id": "f93a8757",
   "metadata": {},
   "outputs": [],
   "source": [
    "y_pred = knn.predict(X_test)\n",
    "\n",
    "accuracy = accuracy_score(y_test, y_pred)\n",
    "precision = precision_score(y_test, y_pred)\n",
    "recall = recall_score(y_test, y_pred)\n",
    "\n",
    "print(\"Accuracy:\", accuracy)\n",
    "print(\"Precision:\", precision)\n",
    "print(\"Recall:\", recall)"
   ]
  },
  {
   "cell_type": "code",
   "execution_count": null,
   "id": "f3fc04fe",
   "metadata": {},
   "outputs": [],
   "source": [
    "# Create a series containing feature importances from the model and feature names from the training data\n",
    "feature_importances = pd.Series(best_rf.feature_importances_, index=X_train.columns).sort_values(ascending=False)\n",
    "\n",
    "# Plot a simple bar chart\n",
    "feature_importances.plot.bar();"
   ]
  },
  {
   "cell_type": "code",
   "execution_count": null,
   "id": "f41f2f0b",
   "metadata": {},
   "outputs": [],
   "source": []
  },
  {
   "cell_type": "code",
   "execution_count": null,
   "id": "e75b455d",
   "metadata": {},
   "outputs": [],
   "source": []
  },
  {
   "cell_type": "code",
   "execution_count": null,
   "id": "05feb65c",
   "metadata": {},
   "outputs": [],
   "source": []
  },
  {
   "cell_type": "code",
   "execution_count": null,
   "id": "c1b0289d",
   "metadata": {},
   "outputs": [],
   "source": []
  },
  {
   "cell_type": "code",
   "execution_count": null,
   "id": "5c91d337",
   "metadata": {},
   "outputs": [],
   "source": []
  },
  {
   "cell_type": "code",
   "execution_count": null,
   "id": "b03b4513",
   "metadata": {},
   "outputs": [],
   "source": []
  },
  {
   "cell_type": "code",
   "execution_count": null,
   "id": "ede0ff6b",
   "metadata": {},
   "outputs": [],
   "source": []
  },
  {
   "cell_type": "code",
   "execution_count": null,
   "id": "c0b8df19",
   "metadata": {},
   "outputs": [],
   "source": [
    "# Define the features and target variable\n",
    "features = ['age_upon_intake_(years)', 'animal_type', 'breed',\n",
    "            'intake_condition', 'sex', 'sex_type', 'color']\n",
    "\n",
    "target = 'time_in_shelter_days'\n",
    "\n",
    "# Split the data into training and test sets\n",
    "X_train, X_test, y_train, y_test = train_test_split(df[features], df[target], test_size=0.2, random_state=42)"
   ]
  },
  {
   "cell_type": "code",
   "execution_count": null,
   "id": "1e8575b6",
   "metadata": {},
   "outputs": [],
   "source": []
  },
  {
   "cell_type": "code",
   "execution_count": null,
   "id": "63d16370-2a19-4457-8b8e-64d4e35b71ae",
   "metadata": {},
   "outputs": [],
   "source": [
    "## split the datatset into -> animal_type-> Cat and Dog\n",
    " "
   ]
  }
 ],
 "metadata": {
  "kernelspec": {
   "display_name": "Python 3 (ipykernel)",
   "language": "python",
   "name": "python3"
  },
  "language_info": {
   "codemirror_mode": {
    "name": "ipython",
    "version": 3
   },
   "file_extension": ".py",
   "mimetype": "text/x-python",
   "name": "python",
   "nbconvert_exporter": "python",
   "pygments_lexer": "ipython3",
   "version": "3.10.6"
  }
 },
 "nbformat": 4,
 "nbformat_minor": 5
}
