{
 "cells": [
  {
   "cell_type": "code",
   "execution_count": 1,
   "id": "5f188a04",
   "metadata": {
    "ExecuteTime": {
     "end_time": "2023-03-09T11:51:16.738260Z",
     "start_time": "2023-03-09T11:51:16.102255Z"
    },
    "tags": []
   },
   "outputs": [],
   "source": [
    "%load_ext autoreload\n",
    "%autoreload 2\n",
    "\n",
    "\n",
    "import sys\n",
    "import urllib.parse\n",
    "from Animal_Adoption.preproc import data_dog, data\n",
    "import pandas as pd\n",
    "import numpy as np\n",
    "import requests\n",
    "import matplotlib as plt\n",
    "import seaborn as sns\n",
    "pd.set_option('display.max_rows', None)"
   ]
  },
  {
   "cell_type": "code",
   "execution_count": 2,
   "id": "be46b611-32c8-4899-b982-f6069ecffd02",
   "metadata": {
    "tags": []
   },
   "outputs": [],
   "source": [
    "df = data_dog.get_data_dogs()\n"
   ]
  },
  {
   "cell_type": "code",
   "execution_count": 3,
   "id": "0b81dd80-72d9-40fe-9123-c20812d5adbf",
   "metadata": {
    "tags": []
   },
   "outputs": [
    {
     "data": {
      "text/plain": [
       "0"
      ]
     },
     "execution_count": 3,
     "metadata": {},
     "output_type": "execute_result"
    }
   ],
   "source": [
    "df['breed'].isnull().sum()"
   ]
  },
  {
   "cell_type": "code",
   "execution_count": 4,
   "id": "2c5b06f0-e522-4525-a691-ffed0a385b93",
   "metadata": {
    "tags": []
   },
   "outputs": [
    {
     "data": {
      "text/plain": [
       "(45366, 18)"
      ]
     },
     "execution_count": 4,
     "metadata": {},
     "output_type": "execute_result"
    }
   ],
   "source": [
    "df.shape"
   ]
  },
  {
   "cell_type": "markdown",
   "id": "87889176-a7d4-4b29-b433-7d859ba80825",
   "metadata": {
    "tags": []
   },
   "source": [
    "# About the API for dogs"
   ]
  },
  {
   "cell_type": "code",
   "execution_count": 5,
   "id": "959c58fa-213f-4e69-ab93-835cc692bb94",
   "metadata": {
    "jupyter": {
     "source_hidden": true
    },
    "tags": []
   },
   "outputs": [
    {
     "name": "stdout",
     "output_type": "stream",
     "text": [
      "[{\"image_link\": \"https://api-ninjas.com/images/dogs/golden_retriever.jpg\", \"good_with_children\": 5, \"good_with_other_dogs\": 5, \"shedding\": 4, \"grooming\": 2, \"drooling\": 2, \"coat_length\": 1, \"good_with_strangers\": 5, \"playfulness\": 4, \"protectiveness\": 3, \"trainability\": 5, \"energy\": 3, \"barking\": 1, \"min_life_expectancy\": 10.0, \"max_life_expectancy\": 12.0, \"max_height_male\": 24.0, \"max_height_female\": 24.0, \"max_weight_male\": 75.0, \"max_weight_female\": 65.0, \"min_height_male\": 23.0, \"min_height_female\": 23.0, \"min_weight_male\": 65.0, \"min_weight_female\": 55.0, \"name\": \"Golden Retriever\"}]\n"
     ]
    }
   ],
   "source": [
    "import requests\n",
    "name = 'golden retriever'\n",
    "api_url = 'https://api.api-ninjas.com/v1/dogs?name={}'.format(name)\n",
    "response = requests.get(api_url, headers={'X-Api-Key': 'T1uOOYf5geCLwn8dpS8SMQ==HaH3Ky5bHqTqh3IS'})\n",
    "if response.status_code == requests.codes.ok:\n",
    "    print(response.text)\n",
    "else:\n",
    "    print(\"Error:\", response.status_code, response.text)"
   ]
  },
  {
   "cell_type": "code",
   "execution_count": 6,
   "id": "c5774ddd",
   "metadata": {
    "tags": []
   },
   "outputs": [],
   "source": [
    "\n",
    "def get_breeds_info(name:str):\n",
    "    # Make a request to the API to get information about dog breeds\n",
    "    api_url = 'https://api.api-ninjas.com/v1/dogs?name={}'.format(name)\n",
    "    response = requests.get(api_url, headers={'X-Api-Key': 'T1uOOYf5geCLwn8dpS8SMQ==HaH3Ky5bHqTqh3IS'})\n",
    "    breeds_list = response.json()\n",
    "    dog_breed_dict = breeds_list\n",
    "    \n",
    "    df = pd.DataFrame.from_dict(dog_breed_dict)\n",
    "    \n",
    "    return df\n"
   ]
  },
  {
   "cell_type": "code",
   "execution_count": 7,
   "id": "b8df818a-4288-4138-b67f-2f112fb1e0ef",
   "metadata": {
    "tags": []
   },
   "outputs": [
    {
     "data": {
      "text/html": [
       "<div>\n",
       "<style scoped>\n",
       "    .dataframe tbody tr th:only-of-type {\n",
       "        vertical-align: middle;\n",
       "    }\n",
       "\n",
       "    .dataframe tbody tr th {\n",
       "        vertical-align: top;\n",
       "    }\n",
       "\n",
       "    .dataframe thead th {\n",
       "        text-align: right;\n",
       "    }\n",
       "</style>\n",
       "<table border=\"1\" class=\"dataframe\">\n",
       "  <thead>\n",
       "    <tr style=\"text-align: right;\">\n",
       "      <th></th>\n",
       "      <th>image_link</th>\n",
       "      <th>good_with_children</th>\n",
       "      <th>good_with_other_dogs</th>\n",
       "      <th>shedding</th>\n",
       "      <th>grooming</th>\n",
       "      <th>drooling</th>\n",
       "      <th>coat_length</th>\n",
       "      <th>good_with_strangers</th>\n",
       "      <th>playfulness</th>\n",
       "      <th>protectiveness</th>\n",
       "      <th>...</th>\n",
       "      <th>max_life_expectancy</th>\n",
       "      <th>max_height_male</th>\n",
       "      <th>max_height_female</th>\n",
       "      <th>max_weight_male</th>\n",
       "      <th>max_weight_female</th>\n",
       "      <th>min_height_male</th>\n",
       "      <th>min_height_female</th>\n",
       "      <th>min_weight_male</th>\n",
       "      <th>min_weight_female</th>\n",
       "      <th>name</th>\n",
       "    </tr>\n",
       "  </thead>\n",
       "  <tbody>\n",
       "    <tr>\n",
       "      <th>0</th>\n",
       "      <td>https://api-ninjas.com/images/dogs/labrador_re...</td>\n",
       "      <td>5</td>\n",
       "      <td>5</td>\n",
       "      <td>4</td>\n",
       "      <td>2</td>\n",
       "      <td>2</td>\n",
       "      <td>1</td>\n",
       "      <td>5</td>\n",
       "      <td>5</td>\n",
       "      <td>3</td>\n",
       "      <td>...</td>\n",
       "      <td>12.0</td>\n",
       "      <td>24.5</td>\n",
       "      <td>24.5</td>\n",
       "      <td>80.0</td>\n",
       "      <td>70.0</td>\n",
       "      <td>22.5</td>\n",
       "      <td>22.5</td>\n",
       "      <td>65.0</td>\n",
       "      <td>55.0</td>\n",
       "      <td>Labrador Retriever</td>\n",
       "    </tr>\n",
       "  </tbody>\n",
       "</table>\n",
       "<p>1 rows × 24 columns</p>\n",
       "</div>"
      ],
      "text/plain": [
       "                                          image_link  good_with_children  \\\n",
       "0  https://api-ninjas.com/images/dogs/labrador_re...                   5   \n",
       "\n",
       "   good_with_other_dogs  shedding  grooming  drooling  coat_length  \\\n",
       "0                     5         4         2         2            1   \n",
       "\n",
       "   good_with_strangers  playfulness  protectiveness  ...  max_life_expectancy  \\\n",
       "0                    5            5               3  ...                 12.0   \n",
       "\n",
       "   max_height_male  max_height_female  max_weight_male  max_weight_female  \\\n",
       "0             24.5               24.5             80.0               70.0   \n",
       "\n",
       "   min_height_male  min_height_female  min_weight_male  min_weight_female  \\\n",
       "0             22.5               22.5             65.0               55.0   \n",
       "\n",
       "                 name  \n",
       "0  Labrador Retriever  \n",
       "\n",
       "[1 rows x 24 columns]"
      ]
     },
     "execution_count": 7,
     "metadata": {},
     "output_type": "execute_result"
    }
   ],
   "source": [
    "get_breeds_info('labrador')"
   ]
  },
  {
   "cell_type": "code",
   "execution_count": 32,
   "id": "1ed47a4d-40cf-46c8-be81-baa2af9a4e7b",
   "metadata": {},
   "outputs": [],
   "source": [
    "def get_breeds_info_from_dataframe(df):\n",
    "    dic_breed_dic ={}\n",
    "    fail_breed_list = []\n",
    "    for breed_name in df['breed'].unique():\n",
    "        api_url = 'https://api.api-ninjas.com/v1/dogs?name={}'.format(breed_name)\n",
    "        response = requests.get(api_url, headers={'X-Api-Key': 'T1uOOYf5geCLwn8dpS8SMQ==HaH3Ky5bHqTqh3IS'})\n",
    "        response_json = response.json()\n",
    "        # print(response_json\n",
    "        # if response_json:\n",
    "        #     dic_breed_list.append(response_json[0])\n",
    "        if response_json and type(response_json) == list:\n",
    "            dic_breed_dic[breed_name] = response_json[0]\n",
    "        else:\n",
    "            #fail_breed_list.append()\n",
    "            print(fail_breed_list)\n",
    "            print(response_json)\n",
    "            print(type(response_json))\n",
    "            \n",
    "    breed_info = pd.DataFrame(dic_breed_dic.values(), index=dic_breed_dic.keys())\n",
    "    return breed_info\n",
    "\n",
    "      #  breed_info.append(response_df)\n",
    "   # print(breed_info)\n",
    "    #return breed_info"
   ]
  },
  {
   "cell_type": "code",
   "execution_count": 33,
   "id": "cc857f95-917a-404b-a4fa-766b8e4bf83b",
   "metadata": {
    "tags": []
   },
   "outputs": [
    {
     "name": "stdout",
     "output_type": "stream",
     "text": [
      "[]\n",
      "[]\n",
      "<class 'list'>\n",
      "[]\n",
      "[]\n",
      "<class 'list'>\n",
      "[]\n",
      "[]\n",
      "<class 'list'>\n",
      "[]\n",
      "[]\n",
      "<class 'list'>\n",
      "[]\n",
      "[]\n",
      "<class 'list'>\n",
      "[]\n",
      "[]\n",
      "<class 'list'>\n",
      "[]\n",
      "[]\n",
      "<class 'list'>\n",
      "[]\n",
      "[]\n",
      "<class 'list'>\n",
      "[]\n",
      "[]\n",
      "<class 'list'>\n",
      "[]\n",
      "[]\n",
      "<class 'list'>\n",
      "[]\n",
      "[]\n",
      "<class 'list'>\n",
      "[]\n",
      "[]\n",
      "<class 'list'>\n",
      "[]\n",
      "[]\n",
      "<class 'list'>\n",
      "[]\n",
      "[]\n",
      "<class 'list'>\n",
      "[]\n",
      "[]\n",
      "<class 'list'>\n",
      "[]\n",
      "[]\n",
      "<class 'list'>\n",
      "[]\n",
      "[]\n",
      "<class 'list'>\n",
      "[]\n",
      "[]\n",
      "<class 'list'>\n",
      "[]\n",
      "[]\n",
      "<class 'list'>\n",
      "[]\n",
      "[]\n",
      "<class 'list'>\n",
      "[]\n",
      "[]\n",
      "<class 'list'>\n",
      "[]\n",
      "[]\n",
      "<class 'list'>\n",
      "[]\n",
      "[]\n",
      "<class 'list'>\n",
      "[]\n",
      "[]\n",
      "<class 'list'>\n",
      "[]\n",
      "[]\n",
      "<class 'list'>\n",
      "[]\n",
      "[]\n",
      "<class 'list'>\n",
      "[]\n",
      "[]\n",
      "<class 'list'>\n",
      "[]\n",
      "[]\n",
      "<class 'list'>\n",
      "[]\n",
      "[]\n",
      "<class 'list'>\n",
      "[]\n",
      "[]\n",
      "<class 'list'>\n"
     ]
    }
   ],
   "source": [
    "#info_about_breed = get_breeds_info_from_dataframe(df)\n",
    "#takes too long to do so it is commented"
   ]
  },
  {
   "cell_type": "markdown",
   "id": "5f1bfd8a-2879-4629-b195-bf557616a00b",
   "metadata": {
    "tags": []
   },
   "source": [
    "## to save the results into a csv"
   ]
  },
  {
   "cell_type": "code",
   "execution_count": null,
   "id": "5a782e40-a523-4cba-af8d-8637f901f5c1",
   "metadata": {
    "tags": []
   },
   "outputs": [],
   "source": [
    "# try_test.to_csv('120_doggos_breed.csv', index=False)\n",
    "#test_merge.to_csv('final_info_breeds_api.csv')\n"
   ]
  },
  {
   "cell_type": "code",
   "execution_count": null,
   "id": "5b4f10e4-0719-4e49-9a23-386429493f38",
   "metadata": {
    "tags": []
   },
   "outputs": [],
   "source": [
    "# info_about_breed.to_csv('info_about_breed.csv', index=False)"
   ]
  },
  {
   "cell_type": "code",
   "execution_count": 35,
   "id": "ac427dd0-9454-44ae-87ee-d8e869fddc5c",
   "metadata": {
    "tags": []
   },
   "outputs": [
    {
     "data": {
      "text/html": [
       "<div>\n",
       "<style scoped>\n",
       "    .dataframe tbody tr th:only-of-type {\n",
       "        vertical-align: middle;\n",
       "    }\n",
       "\n",
       "    .dataframe tbody tr th {\n",
       "        vertical-align: top;\n",
       "    }\n",
       "\n",
       "    .dataframe thead th {\n",
       "        text-align: right;\n",
       "    }\n",
       "</style>\n",
       "<table border=\"1\" class=\"dataframe\">\n",
       "  <thead>\n",
       "    <tr style=\"text-align: right;\">\n",
       "      <th></th>\n",
       "      <th>image_link</th>\n",
       "      <th>good_with_children</th>\n",
       "      <th>good_with_other_dogs</th>\n",
       "      <th>shedding</th>\n",
       "      <th>grooming</th>\n",
       "      <th>drooling</th>\n",
       "      <th>coat_length</th>\n",
       "      <th>good_with_strangers</th>\n",
       "      <th>playfulness</th>\n",
       "      <th>protectiveness</th>\n",
       "      <th>...</th>\n",
       "      <th>max_life_expectancy</th>\n",
       "      <th>max_height_male</th>\n",
       "      <th>max_height_female</th>\n",
       "      <th>max_weight_male</th>\n",
       "      <th>max_weight_female</th>\n",
       "      <th>min_height_male</th>\n",
       "      <th>min_height_female</th>\n",
       "      <th>min_weight_male</th>\n",
       "      <th>min_weight_female</th>\n",
       "      <th>name</th>\n",
       "    </tr>\n",
       "  </thead>\n",
       "  <tbody>\n",
       "    <tr>\n",
       "      <th>spinone italiano</th>\n",
       "      <td>https://api-ninjas.com/images/dogs/spinone_ita...</td>\n",
       "      <td>3</td>\n",
       "      <td>4</td>\n",
       "      <td>3</td>\n",
       "      <td>2</td>\n",
       "      <td>3</td>\n",
       "      <td>1</td>\n",
       "      <td>3</td>\n",
       "      <td>3</td>\n",
       "      <td>3</td>\n",
       "      <td>...</td>\n",
       "      <td>12.0</td>\n",
       "      <td>27.0</td>\n",
       "      <td>27.0</td>\n",
       "      <td>86.0</td>\n",
       "      <td>75.0</td>\n",
       "      <td>23.0</td>\n",
       "      <td>23.0</td>\n",
       "      <td>75.0</td>\n",
       "      <td>64.0</td>\n",
       "      <td>Spinone Italiano</td>\n",
       "    </tr>\n",
       "    <tr>\n",
       "      <th>dachshund</th>\n",
       "      <td>https://api-ninjas.com/images/dogs/dachshund.jpg</td>\n",
       "      <td>3</td>\n",
       "      <td>4</td>\n",
       "      <td>2</td>\n",
       "      <td>2</td>\n",
       "      <td>2</td>\n",
       "      <td>2</td>\n",
       "      <td>4</td>\n",
       "      <td>4</td>\n",
       "      <td>4</td>\n",
       "      <td>...</td>\n",
       "      <td>16.0</td>\n",
       "      <td>9.0</td>\n",
       "      <td>9.0</td>\n",
       "      <td>32.0</td>\n",
       "      <td>32.0</td>\n",
       "      <td>8.0</td>\n",
       "      <td>8.0</td>\n",
       "      <td>16.0</td>\n",
       "      <td>16.0</td>\n",
       "      <td>Dachshund</td>\n",
       "    </tr>\n",
       "    <tr>\n",
       "      <th>shetland sheepdog</th>\n",
       "      <td>https://api-ninjas.com/images/dogs/shetland_sh...</td>\n",
       "      <td>5</td>\n",
       "      <td>5</td>\n",
       "      <td>3</td>\n",
       "      <td>3</td>\n",
       "      <td>1</td>\n",
       "      <td>1</td>\n",
       "      <td>2</td>\n",
       "      <td>5</td>\n",
       "      <td>5</td>\n",
       "      <td>...</td>\n",
       "      <td>14.0</td>\n",
       "      <td>16.0</td>\n",
       "      <td>16.0</td>\n",
       "      <td>25.0</td>\n",
       "      <td>25.0</td>\n",
       "      <td>13.0</td>\n",
       "      <td>13.0</td>\n",
       "      <td>15.0</td>\n",
       "      <td>15.0</td>\n",
       "      <td>Shetland Sheepdog</td>\n",
       "    </tr>\n",
       "    <tr>\n",
       "      <th>labrador retriever</th>\n",
       "      <td>https://api-ninjas.com/images/dogs/labrador_re...</td>\n",
       "      <td>5</td>\n",
       "      <td>5</td>\n",
       "      <td>4</td>\n",
       "      <td>2</td>\n",
       "      <td>2</td>\n",
       "      <td>1</td>\n",
       "      <td>5</td>\n",
       "      <td>5</td>\n",
       "      <td>3</td>\n",
       "      <td>...</td>\n",
       "      <td>12.0</td>\n",
       "      <td>24.5</td>\n",
       "      <td>24.5</td>\n",
       "      <td>80.0</td>\n",
       "      <td>70.0</td>\n",
       "      <td>22.5</td>\n",
       "      <td>22.5</td>\n",
       "      <td>65.0</td>\n",
       "      <td>55.0</td>\n",
       "      <td>Labrador Retriever</td>\n",
       "    </tr>\n",
       "    <tr>\n",
       "      <th>miniature schnauzer</th>\n",
       "      <td>https://api-ninjas.com/images/dogs/miniature_s...</td>\n",
       "      <td>5</td>\n",
       "      <td>3</td>\n",
       "      <td>3</td>\n",
       "      <td>4</td>\n",
       "      <td>2</td>\n",
       "      <td>1</td>\n",
       "      <td>3</td>\n",
       "      <td>4</td>\n",
       "      <td>4</td>\n",
       "      <td>...</td>\n",
       "      <td>15.0</td>\n",
       "      <td>14.0</td>\n",
       "      <td>14.0</td>\n",
       "      <td>20.0</td>\n",
       "      <td>20.0</td>\n",
       "      <td>12.0</td>\n",
       "      <td>12.0</td>\n",
       "      <td>11.0</td>\n",
       "      <td>11.0</td>\n",
       "      <td>Miniature Schnauzer</td>\n",
       "    </tr>\n",
       "  </tbody>\n",
       "</table>\n",
       "<p>5 rows × 24 columns</p>\n",
       "</div>"
      ],
      "text/plain": [
       "                                                            image_link  \\\n",
       "spinone italiano     https://api-ninjas.com/images/dogs/spinone_ita...   \n",
       "dachshund             https://api-ninjas.com/images/dogs/dachshund.jpg   \n",
       "shetland sheepdog    https://api-ninjas.com/images/dogs/shetland_sh...   \n",
       "labrador retriever   https://api-ninjas.com/images/dogs/labrador_re...   \n",
       "miniature schnauzer  https://api-ninjas.com/images/dogs/miniature_s...   \n",
       "\n",
       "                     good_with_children  good_with_other_dogs  shedding  \\\n",
       "spinone italiano                      3                     4         3   \n",
       "dachshund                             3                     4         2   \n",
       "shetland sheepdog                     5                     5         3   \n",
       "labrador retriever                    5                     5         4   \n",
       "miniature schnauzer                   5                     3         3   \n",
       "\n",
       "                     grooming  drooling  coat_length  good_with_strangers  \\\n",
       "spinone italiano            2         3            1                    3   \n",
       "dachshund                   2         2            2                    4   \n",
       "shetland sheepdog           3         1            1                    2   \n",
       "labrador retriever          2         2            1                    5   \n",
       "miniature schnauzer         4         2            1                    3   \n",
       "\n",
       "                     playfulness  protectiveness  ...  max_life_expectancy  \\\n",
       "spinone italiano               3               3  ...                 12.0   \n",
       "dachshund                      4               4  ...                 16.0   \n",
       "shetland sheepdog              5               5  ...                 14.0   \n",
       "labrador retriever             5               3  ...                 12.0   \n",
       "miniature schnauzer            4               4  ...                 15.0   \n",
       "\n",
       "                     max_height_male  max_height_female  max_weight_male  \\\n",
       "spinone italiano                27.0               27.0             86.0   \n",
       "dachshund                        9.0                9.0             32.0   \n",
       "shetland sheepdog               16.0               16.0             25.0   \n",
       "labrador retriever              24.5               24.5             80.0   \n",
       "miniature schnauzer             14.0               14.0             20.0   \n",
       "\n",
       "                     max_weight_female  min_height_male  min_height_female  \\\n",
       "spinone italiano                  75.0             23.0               23.0   \n",
       "dachshund                         32.0              8.0                8.0   \n",
       "shetland sheepdog                 25.0             13.0               13.0   \n",
       "labrador retriever                70.0             22.5               22.5   \n",
       "miniature schnauzer               20.0             12.0               12.0   \n",
       "\n",
       "                     min_weight_male  min_weight_female                 name  \n",
       "spinone italiano                75.0               64.0     Spinone Italiano  \n",
       "dachshund                       16.0               16.0            Dachshund  \n",
       "shetland sheepdog               15.0               15.0    Shetland Sheepdog  \n",
       "labrador retriever              65.0               55.0   Labrador Retriever  \n",
       "miniature schnauzer             11.0               11.0  Miniature Schnauzer  \n",
       "\n",
       "[5 rows x 24 columns]"
      ]
     },
     "execution_count": 35,
     "metadata": {},
     "output_type": "execute_result"
    }
   ],
   "source": [
    "info_about_breed.head()"
   ]
  },
  {
   "cell_type": "markdown",
   "id": "197984c1-67ce-4cec-888b-c6309db7af66",
   "metadata": {
    "tags": []
   },
   "source": [
    "## merging 2 dataframes"
   ]
  },
  {
   "cell_type": "code",
   "execution_count": 44,
   "id": "96a3c8ee-418e-4414-a7fb-fa89f0cd8438",
   "metadata": {
    "tags": []
   },
   "outputs": [],
   "source": [
    "#merged_df = pd.merge(df, info_about_breed, left_on='breed', right_index=True)\n",
    "#merged_df_w_dogbreed = df.merge(info_about_breed.reset_index(names='breed'), on='breed', how='outer')"
   ]
  },
  {
   "cell_type": "markdown",
   "id": "42b5a906-3c5f-4589-b202-f14d2003db59",
   "metadata": {},
   "source": [
    "## saving the final merged csv\n"
   ]
  },
  {
   "cell_type": "code",
   "execution_count": 43,
   "id": "51388210-e544-4bbb-9fd4-ae07d838a86a",
   "metadata": {
    "tags": []
   },
   "outputs": [],
   "source": [
    "#merged_df_w_dogbreed.to_csv('final_df_dogs_and_dogbreeds.csv')"
   ]
  }
 ],
 "metadata": {
  "kernelspec": {
   "display_name": "Python 3 (ipykernel)",
   "language": "python",
   "name": "python3"
  },
  "language_info": {
   "codemirror_mode": {
    "name": "ipython",
    "version": 3
   },
   "file_extension": ".py",
   "mimetype": "text/x-python",
   "name": "python",
   "nbconvert_exporter": "python",
   "pygments_lexer": "ipython3",
   "version": "3.10.6"
  },
  "toc": {
   "base_numbering": 1,
   "nav_menu": {},
   "number_sections": true,
   "sideBar": true,
   "skip_h1_title": false,
   "title_cell": "Table of Contents",
   "title_sidebar": "Contents",
   "toc_cell": false,
   "toc_position": {},
   "toc_section_display": true,
   "toc_window_display": false
  }
 },
 "nbformat": 4,
 "nbformat_minor": 5
}
