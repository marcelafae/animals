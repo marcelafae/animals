{
 "cells": [
  {
   "cell_type": "code",
   "execution_count": 10,
   "id": "5f188a04",
   "metadata": {
    "ExecuteTime": {
     "end_time": "2023-03-09T11:51:16.738260Z",
     "start_time": "2023-03-09T11:51:16.102255Z"
    },
    "tags": []
   },
   "outputs": [
    {
     "name": "stdout",
     "output_type": "stream",
     "text": [
      "The autoreload extension is already loaded. To reload it, use:\n",
      "  %reload_ext autoreload\n"
     ]
    }
   ],
   "source": [
    "%load_ext autoreload\n",
    "%autoreload 2\n",
    "\n",
    "\n",
    "import sys\n",
    "import urllib.parse\n",
    "from Animal_Adoption.preproc import data, data_dog\n",
    "import pandas as pd\n",
    "import numpy as np\n",
    "import requests\n",
    "import matplotlib as plt\n",
    "import seaborn as sns\n",
    "pd.set_option('display.max_rows', None)"
   ]
  },
  {
   "cell_type": "code",
   "execution_count": 11,
   "id": "be46b611-32c8-4899-b982-f6069ecffd02",
   "metadata": {
    "tags": []
   },
   "outputs": [],
   "source": [
    "df = data_dog.get_data_dogs()\n"
   ]
  },
  {
   "cell_type": "code",
   "execution_count": 12,
   "id": "0b81dd80-72d9-40fe-9123-c20812d5adbf",
   "metadata": {
    "tags": []
   },
   "outputs": [
    {
     "data": {
      "text/plain": [
       "0"
      ]
     },
     "execution_count": 12,
     "metadata": {},
     "output_type": "execute_result"
    }
   ],
   "source": [
    "df['breed'].isnull().sum()"
   ]
  },
  {
   "cell_type": "code",
   "execution_count": 19,
   "id": "2c5b06f0-e522-4525-a691-ffed0a385b93",
   "metadata": {
    "tags": []
   },
   "outputs": [
    {
     "data": {
      "text/html": [
       "<div>\n",
       "<style scoped>\n",
       "    .dataframe tbody tr th:only-of-type {\n",
       "        vertical-align: middle;\n",
       "    }\n",
       "\n",
       "    .dataframe tbody tr th {\n",
       "        vertical-align: top;\n",
       "    }\n",
       "\n",
       "    .dataframe thead th {\n",
       "        text-align: right;\n",
       "    }\n",
       "</style>\n",
       "<table border=\"1\" class=\"dataframe\">\n",
       "  <thead>\n",
       "    <tr style=\"text-align: right;\">\n",
       "      <th></th>\n",
       "      <th>date_of_birth</th>\n",
       "      <th>sex_upon_outcome</th>\n",
       "      <th>age_upon_intake</th>\n",
       "      <th>animal_type</th>\n",
       "      <th>breed</th>\n",
       "      <th>color</th>\n",
       "      <th>intake_condition</th>\n",
       "      <th>intake_type</th>\n",
       "      <th>sex_upon_intake</th>\n",
       "      <th>age_upon_intake_(years)</th>\n",
       "      <th>intake_datetime</th>\n",
       "      <th>intake_month</th>\n",
       "      <th>intake_year</th>\n",
       "      <th>intake_weekday</th>\n",
       "      <th>intake_hour</th>\n",
       "      <th>intake_number</th>\n",
       "      <th>time_in_shelter</th>\n",
       "      <th>time_in_shelter_days</th>\n",
       "    </tr>\n",
       "  </thead>\n",
       "  <tbody>\n",
       "    <tr>\n",
       "      <th>0</th>\n",
       "      <td>2007-07-09</td>\n",
       "      <td>Neutered Male</td>\n",
       "      <td>10 years</td>\n",
       "      <td>Dog</td>\n",
       "      <td>Spinone Italiano Mix</td>\n",
       "      <td>Yellow/White</td>\n",
       "      <td>Normal</td>\n",
       "      <td>Stray</td>\n",
       "      <td>Neutered Male</td>\n",
       "      <td>10.0</td>\n",
       "      <td>2017-12-07 00:00:00</td>\n",
       "      <td>12</td>\n",
       "      <td>2017</td>\n",
       "      <td>Thursday</td>\n",
       "      <td>14</td>\n",
       "      <td>1.0</td>\n",
       "      <td>0 days 14:07:00.000000000</td>\n",
       "      <td>0.588194</td>\n",
       "    </tr>\n",
       "    <tr>\n",
       "      <th>1</th>\n",
       "      <td>2007-07-09</td>\n",
       "      <td>Neutered Male</td>\n",
       "      <td>7 years</td>\n",
       "      <td>Dog</td>\n",
       "      <td>Spinone Italiano Mix</td>\n",
       "      <td>Yellow/White</td>\n",
       "      <td>Normal</td>\n",
       "      <td>Public Assist</td>\n",
       "      <td>Neutered Male</td>\n",
       "      <td>7.0</td>\n",
       "      <td>2014-12-19 10:21:00</td>\n",
       "      <td>12</td>\n",
       "      <td>2014</td>\n",
       "      <td>Friday</td>\n",
       "      <td>10</td>\n",
       "      <td>2.0</td>\n",
       "      <td>1 days 06:14:00.000000000</td>\n",
       "      <td>1.259722</td>\n",
       "    </tr>\n",
       "    <tr>\n",
       "      <th>2</th>\n",
       "      <td>2007-07-09</td>\n",
       "      <td>Neutered Male</td>\n",
       "      <td>6 years</td>\n",
       "      <td>Dog</td>\n",
       "      <td>Spinone Italiano Mix</td>\n",
       "      <td>Yellow/White</td>\n",
       "      <td>Normal</td>\n",
       "      <td>Public Assist</td>\n",
       "      <td>Neutered Male</td>\n",
       "      <td>6.0</td>\n",
       "      <td>2014-03-07 14:26:00</td>\n",
       "      <td>3</td>\n",
       "      <td>2014</td>\n",
       "      <td>Friday</td>\n",
       "      <td>14</td>\n",
       "      <td>3.0</td>\n",
       "      <td>1 days 02:44:00.000000000</td>\n",
       "      <td>1.113889</td>\n",
       "    </tr>\n",
       "    <tr>\n",
       "      <th>3</th>\n",
       "      <td>2004-04-02</td>\n",
       "      <td>Neutered Male</td>\n",
       "      <td>10 years</td>\n",
       "      <td>Dog</td>\n",
       "      <td>Dachshund</td>\n",
       "      <td>Tricolor</td>\n",
       "      <td>Normal</td>\n",
       "      <td>Owner Surrender</td>\n",
       "      <td>Neutered Male</td>\n",
       "      <td>10.0</td>\n",
       "      <td>2014-04-02 15:55:00</td>\n",
       "      <td>4</td>\n",
       "      <td>2014</td>\n",
       "      <td>Wednesday</td>\n",
       "      <td>15</td>\n",
       "      <td>1.0</td>\n",
       "      <td>4 days 23:17:00.000000000</td>\n",
       "      <td>4.970139</td>\n",
       "    </tr>\n",
       "    <tr>\n",
       "      <th>4</th>\n",
       "      <td>1997-10-16</td>\n",
       "      <td>Neutered Male</td>\n",
       "      <td>16 years</td>\n",
       "      <td>Dog</td>\n",
       "      <td>Shetland Sheepdog</td>\n",
       "      <td>Brown/White</td>\n",
       "      <td>Injured</td>\n",
       "      <td>Public Assist</td>\n",
       "      <td>Neutered Male</td>\n",
       "      <td>16.0</td>\n",
       "      <td>2013-11-16 09:02:00</td>\n",
       "      <td>11</td>\n",
       "      <td>2013</td>\n",
       "      <td>Saturday</td>\n",
       "      <td>9</td>\n",
       "      <td>1.0</td>\n",
       "      <td>0 days 02:52:00.000000000</td>\n",
       "      <td>0.119444</td>\n",
       "    </tr>\n",
       "  </tbody>\n",
       "</table>\n",
       "</div>"
      ],
      "text/plain": [
       "  date_of_birth sex_upon_outcome age_upon_intake animal_type  \\\n",
       "0    2007-07-09    Neutered Male        10 years         Dog   \n",
       "1    2007-07-09    Neutered Male         7 years         Dog   \n",
       "2    2007-07-09    Neutered Male         6 years         Dog   \n",
       "3    2004-04-02    Neutered Male        10 years         Dog   \n",
       "4    1997-10-16    Neutered Male        16 years         Dog   \n",
       "\n",
       "                  breed         color intake_condition      intake_type  \\\n",
       "0  Spinone Italiano Mix  Yellow/White           Normal            Stray   \n",
       "1  Spinone Italiano Mix  Yellow/White           Normal    Public Assist   \n",
       "2  Spinone Italiano Mix  Yellow/White           Normal    Public Assist   \n",
       "3             Dachshund      Tricolor           Normal  Owner Surrender   \n",
       "4     Shetland Sheepdog   Brown/White          Injured    Public Assist   \n",
       "\n",
       "  sex_upon_intake  age_upon_intake_(years)     intake_datetime  intake_month  \\\n",
       "0   Neutered Male                     10.0 2017-12-07 00:00:00            12   \n",
       "1   Neutered Male                      7.0 2014-12-19 10:21:00            12   \n",
       "2   Neutered Male                      6.0 2014-03-07 14:26:00             3   \n",
       "3   Neutered Male                     10.0 2014-04-02 15:55:00             4   \n",
       "4   Neutered Male                     16.0 2013-11-16 09:02:00            11   \n",
       "\n",
       "   intake_year intake_weekday  intake_hour  intake_number  \\\n",
       "0         2017       Thursday           14            1.0   \n",
       "1         2014         Friday           10            2.0   \n",
       "2         2014         Friday           14            3.0   \n",
       "3         2014      Wednesday           15            1.0   \n",
       "4         2013       Saturday            9            1.0   \n",
       "\n",
       "             time_in_shelter  time_in_shelter_days  \n",
       "0  0 days 14:07:00.000000000              0.588194  \n",
       "1  1 days 06:14:00.000000000              1.259722  \n",
       "2  1 days 02:44:00.000000000              1.113889  \n",
       "3  4 days 23:17:00.000000000              4.970139  \n",
       "4  0 days 02:52:00.000000000              0.119444  "
      ]
     },
     "execution_count": 19,
     "metadata": {},
     "output_type": "execute_result"
    }
   ],
   "source": [
    "df.head()"
   ]
  },
  {
   "cell_type": "code",
   "execution_count": 24,
   "id": "65abb43b-47f6-4e80-9d10-caa2cd2817d4",
   "metadata": {
    "tags": []
   },
   "outputs": [],
   "source": [
    "df['breed'] = data_dog.get_breed_dogs(df['breed'])"
   ]
  },
  {
   "cell_type": "code",
   "execution_count": 26,
   "id": "e461233e-476d-40e7-8281-250243f47f32",
   "metadata": {
    "tags": []
   },
   "outputs": [],
   "source": [
    "df['breed'] = df['breed'].map(data_dog.breeds_separated_dogs)"
   ]
  },
  {
   "cell_type": "code",
   "execution_count": 27,
   "id": "4c97ba2d-0a15-42d7-b728-c7240903c9ba",
   "metadata": {
    "tags": []
   },
   "outputs": [
    {
     "data": {
      "text/plain": [
       "array(['spinone italiano', 'dachshund', 'shetland sheepdog',\n",
       "       'labrador retriever', 'miniature schnauzer', 'lhasa apso',\n",
       "       'border collie', 'chihuahua', 'german shepherd', 'newfoundland',\n",
       "       'pug', 'staffordshire', 'catahoula', 'heeler', 'rottweiler',\n",
       "       'fox terrier', 'rat terrier', 'pit bull', 'bichon frise',\n",
       "       'terrier', 'harrier', 'pointer', 'american eskimo',\n",
       "       'doberman pinsch', 'parson russell terrier', 'australian shepherd',\n",
       "       'chow chow', 'australian cattle dog', 'siberian husky', 'beagle',\n",
       "       'gen retriever', 'chinese sharpei', 'cocker spaniel', 'blue lacy',\n",
       "       'bernese mountain dog', 'greyhound', 'great pyrenees',\n",
       "       'cardigan welsh corgi', 'boston terrier', 'Poodle (Miniature)',\n",
       "       'bullmastiff', 'German Shorthaired Pointer', 'weimaraner',\n",
       "       'pekingese', 'ridgeback', 'field spaniel', 'Poodle (Toy)',\n",
       "       'manchester terrier', 'pomeranian', 'miniature pinscher',\n",
       "       'shih tzu', 'collie ', 'cairn terrier', 'american bulldog',\n",
       "       'pembroke welsh corgi', 'vizsla', 'boxer', 'collie',\n",
       "       'finnish spitz', 'maltese', 'black', 'basset hound', 'chihuahua ',\n",
       "       'Catahoula', 'tibetan terrier', 'west highland',\n",
       "       'american staffordshire terrier', 'yorkshire terrier',\n",
       "       'silky terrier', 'Wire Fox Terrier', 'norwich terrier',\n",
       "       'Flat-Coated Retriever', 'australian kelpie', 'shiba inu',\n",
       "       'dogo argentino', 'basenji', 'plott hound', 'great dane',\n",
       "       'border terrier', 'st. bernard  coat', 'bull terrier', 'akita',\n",
       "       'foxhound', 'dalmatian', 'belgian malinois', 'dachshund stan',\n",
       "       'scottish terrier', 'podo pequeno', 'brittany', 'dutch shepherd',\n",
       "       'pbgv', 'bulldog', 'carolina dog', 'bruss griffon',\n",
       "       'ed pointing griffon', 'alaskan husky', 'norfolk terrier',\n",
       "       'springer spaniel', 'american pit bull terrier', 'mastiff',\n",
       "       'italian greyhound', 'coonhound', 'afghan hound',\n",
       "       'bull terrier miniature', 'boerboel', 'Bluetick Coonhound',\n",
       "       'cane corso', 'toy fox terrier', 'alaskan malamute',\n",
       "       'dogue de bordeaux', 'soft coated wheaten terrier',\n",
       "       'chesa bay retr', 'presa canario', 'shepherd', 'airedale terrier',\n",
       "       'Redbone Coonhound', 'whippet', 'irish wolfhound',\n",
       "       'Cavalier King Charles Spaniel', 'irish terrier',\n",
       "       'australian terrier', 'havanese', 'otterhound', 'swedish vallhund',\n",
       "       'patterdale Terrier', 'feist', 'standard schnauzer',\n",
       "       'dandie dinmont', 'chinese crested', 'keeshond',\n",
       "       'belgian tervuren', 'beauceron', 'american foxhound',\n",
       "       'Poodle (Standard)', 'treeing walker coonhound', 'tibetan spaniel',\n",
       "       'unknown', 'papillon', 'schipperke', 'kuvasz', 'saluki',\n",
       "       'dachshund ', 'bloodhound', 'leonberger', 'german pinscher',\n",
       "       'bedlington terr', 'ibizan hound', 'japanese chin',\n",
       "       'welsh terrier', 'skye terrier', 'setter', 'port water dog',\n",
       "       'sheepdog', 'pharaoh hound', 'toy spaniel', 'entlebucher',\n",
       "       'picardy sheepdog', 'bearded collie', 'french bulldog',\n",
       "       'Newfoundland', 'affenpinscher', 'canaan dog', 'coton de tulear',\n",
       "       'german ed pointer', 'belgian sheepdog', 'bouv flandres',\n",
       "       'swiss hound', 'welsh springer spaniel', 'boykin span',\n",
       "       'nova scotia duck tolling retriever', 'jindo', 'samoyed',\n",
       "       'greater swiss mountain dog', 'gordon setter', 'glen of imaal',\n",
       "       'treeing cur', 'Giant Schnauzer', 'irish setter', 'sealyham terr',\n",
       "       'lowchen', 'spanish mastiff', 'American Hairless Terrier',\n",
       "       'neapolitan mastiff', 'treeing tennesse brindle',\n",
       "       'norwegian elkhound', 'akbash', 'hovawart', 'sussex span',\n",
       "       'lakeland terrier', 'grand basset griffon vendeen'], dtype=object)"
      ]
     },
     "execution_count": 27,
     "metadata": {},
     "output_type": "execute_result"
    }
   ],
   "source": [
    "df[\"breed\"].unique()"
   ]
  },
  {
   "cell_type": "markdown",
   "id": "87889176-a7d4-4b29-b433-7d859ba80825",
   "metadata": {
    "tags": []
   },
   "source": [
    "# About the API for dogs"
   ]
  },
  {
   "cell_type": "code",
   "execution_count": null,
   "id": "959c58fa-213f-4e69-ab93-835cc692bb94",
   "metadata": {
    "jupyter": {
     "source_hidden": true
    },
    "tags": []
   },
   "outputs": [],
   "source": [
    "import requests\n",
    "name = 'golden retriever'\n",
    "api_url = 'https://api.api-ninjas.com/v1/dogs?name={}'.format(name)\n",
    "response = requests.get(api_url, headers={'X-Api-Key': 'T1uOOYf5geCLwn8dpS8SMQ==HaH3Ky5bHqTqh3IS'})\n",
    "if response.status_code == requests.codes.ok:\n",
    "    print(response.text)\n",
    "else:\n",
    "    print(\"Error:\", response.status_code, response.text)"
   ]
  },
  {
   "cell_type": "code",
   "execution_count": 14,
   "id": "c5774ddd",
   "metadata": {
    "tags": []
   },
   "outputs": [],
   "source": [
    "\n",
    "def get_breeds_info(name:str):\n",
    "    # Make a request to the API to get information about dog breeds\n",
    "    api_url = 'https://api.api-ninjas.com/v1/dogs?name={}'.format(name)\n",
    "    response = requests.get(api_url, headers={'X-Api-Key': 'T1uOOYf5geCLwn8dpS8SMQ==HaH3Ky5bHqTqh3IS'})\n",
    "    breeds_list = response.json()\n",
    "    dog_breed_dict = breeds_list\n",
    "    \n",
    "    df = pd.DataFrame.from_dict(dog_breed_dict)\n",
    "    \n",
    "    return df\n"
   ]
  },
  {
   "cell_type": "code",
   "execution_count": 18,
   "id": "b8df818a-4288-4138-b67f-2f112fb1e0ef",
   "metadata": {
    "tags": []
   },
   "outputs": [
    {
     "data": {
      "text/html": [
       "<div>\n",
       "<style scoped>\n",
       "    .dataframe tbody tr th:only-of-type {\n",
       "        vertical-align: middle;\n",
       "    }\n",
       "\n",
       "    .dataframe tbody tr th {\n",
       "        vertical-align: top;\n",
       "    }\n",
       "\n",
       "    .dataframe thead th {\n",
       "        text-align: right;\n",
       "    }\n",
       "</style>\n",
       "<table border=\"1\" class=\"dataframe\">\n",
       "  <thead>\n",
       "    <tr style=\"text-align: right;\">\n",
       "      <th></th>\n",
       "      <th>image_link</th>\n",
       "      <th>good_with_children</th>\n",
       "      <th>good_with_other_dogs</th>\n",
       "      <th>shedding</th>\n",
       "      <th>grooming</th>\n",
       "      <th>drooling</th>\n",
       "      <th>coat_length</th>\n",
       "      <th>good_with_strangers</th>\n",
       "      <th>playfulness</th>\n",
       "      <th>protectiveness</th>\n",
       "      <th>...</th>\n",
       "      <th>max_life_expectancy</th>\n",
       "      <th>max_height_male</th>\n",
       "      <th>max_height_female</th>\n",
       "      <th>max_weight_male</th>\n",
       "      <th>max_weight_female</th>\n",
       "      <th>min_height_male</th>\n",
       "      <th>min_height_female</th>\n",
       "      <th>min_weight_male</th>\n",
       "      <th>min_weight_female</th>\n",
       "      <th>name</th>\n",
       "    </tr>\n",
       "  </thead>\n",
       "  <tbody>\n",
       "    <tr>\n",
       "      <th>0</th>\n",
       "      <td>https://api-ninjas.com/images/dogs/labrador_re...</td>\n",
       "      <td>5</td>\n",
       "      <td>5</td>\n",
       "      <td>4</td>\n",
       "      <td>2</td>\n",
       "      <td>2</td>\n",
       "      <td>1</td>\n",
       "      <td>5</td>\n",
       "      <td>5</td>\n",
       "      <td>3</td>\n",
       "      <td>...</td>\n",
       "      <td>12.0</td>\n",
       "      <td>24.5</td>\n",
       "      <td>24.5</td>\n",
       "      <td>80.0</td>\n",
       "      <td>70.0</td>\n",
       "      <td>22.5</td>\n",
       "      <td>22.5</td>\n",
       "      <td>65.0</td>\n",
       "      <td>55.0</td>\n",
       "      <td>Labrador Retriever</td>\n",
       "    </tr>\n",
       "  </tbody>\n",
       "</table>\n",
       "<p>1 rows × 24 columns</p>\n",
       "</div>"
      ],
      "text/plain": [
       "                                          image_link  good_with_children  \\\n",
       "0  https://api-ninjas.com/images/dogs/labrador_re...                   5   \n",
       "\n",
       "   good_with_other_dogs  shedding  grooming  drooling  coat_length  \\\n",
       "0                     5         4         2         2            1   \n",
       "\n",
       "   good_with_strangers  playfulness  protectiveness  ...  max_life_expectancy  \\\n",
       "0                    5            5               3  ...                 12.0   \n",
       "\n",
       "   max_height_male  max_height_female  max_weight_male  max_weight_female  \\\n",
       "0             24.5               24.5             80.0               70.0   \n",
       "\n",
       "   min_height_male  min_height_female  min_weight_male  min_weight_female  \\\n",
       "0             22.5               22.5             65.0               55.0   \n",
       "\n",
       "                 name  \n",
       "0  Labrador Retriever  \n",
       "\n",
       "[1 rows x 24 columns]"
      ]
     },
     "execution_count": 18,
     "metadata": {},
     "output_type": "execute_result"
    }
   ],
   "source": [
    "get_breeds_info('labrador')"
   ]
  },
  {
   "cell_type": "code",
   "execution_count": 15,
   "id": "1ed47a4d-40cf-46c8-be81-baa2af9a4e7b",
   "metadata": {},
   "outputs": [],
   "source": [
    "def get_breeds_info_from_dataframe(df):\n",
    "    dic_breed_dic ={}\n",
    "    fail_breed_list = []\n",
    "    for breed_name in df['breed'].unique():\n",
    "        api_url = 'https://api.api-ninjas.com/v1/dogs?name={}'.format(breed_name)\n",
    "        response = requests.get(api_url, headers={'X-Api-Key': 'T1uOOYf5geCLwn8dpS8SMQ==HaH3Ky5bHqTqh3IS'})\n",
    "        response_json = response.json()\n",
    "        # print(response_json\n",
    "        # if response_json:\n",
    "        #     dic_breed_list.append(response_json[0])\n",
    "        if response_json and type(response_json) == list:\n",
    "            dic_breed_dic[breed_name] = response_json[0]\n",
    "        else:\n",
    "            #fail_breed_list.append()\n",
    "            print(fail_breed_list)\n",
    "            print(response_json)\n",
    "            print(type(response_json))\n",
    "            \n",
    "    breed_info = pd.DataFrame(dic_breed_dic.values(), index=dic_breed_dic.keys())\n",
    "    return breed_info\n",
    "\n",
    "      #  breed_info.append(response_df)\n",
    "   # print(breed_info)\n",
    "    #return breed_info"
   ]
  },
  {
   "cell_type": "code",
   "execution_count": 21,
   "id": "f4fc4aec-9693-4238-a2a0-b455e283d46f",
   "metadata": {
    "tags": []
   },
   "outputs": [
    {
     "data": {
      "text/plain": [
       "array(['Spinone Italiano Mix', 'Dachshund', 'Shetland Sheepdog', ...,\n",
       "       'Yorkshire Terrier/Dachshund', 'Norfolk Terrier/Pug',\n",
       "       'Australian Shepherd/Basset Hound'], dtype=object)"
      ]
     },
     "execution_count": 21,
     "metadata": {},
     "output_type": "execute_result"
    }
   ],
   "source": [
    "df['breed']"
   ]
  },
  {
   "cell_type": "code",
   "execution_count": 28,
   "id": "cc857f95-917a-404b-a4fa-766b8e4bf83b",
   "metadata": {
    "tags": []
   },
   "outputs": [
    {
     "name": "stdout",
     "output_type": "stream",
     "text": [
      "[]\n",
      "[]\n",
      "<class 'list'>\n",
      "[]\n",
      "[]\n",
      "<class 'list'>\n",
      "[]\n",
      "[]\n",
      "<class 'list'>\n",
      "[]\n",
      "[]\n",
      "<class 'list'>\n",
      "[]\n",
      "[]\n",
      "<class 'list'>\n",
      "[]\n",
      "[]\n",
      "<class 'list'>\n",
      "[]\n",
      "[]\n",
      "<class 'list'>\n",
      "[]\n",
      "[]\n",
      "<class 'list'>\n",
      "[]\n",
      "[]\n",
      "<class 'list'>\n",
      "[]\n",
      "[]\n",
      "<class 'list'>\n",
      "[]\n",
      "[]\n",
      "<class 'list'>\n",
      "[]\n",
      "[]\n",
      "<class 'list'>\n",
      "[]\n",
      "[]\n",
      "<class 'list'>\n",
      "[]\n",
      "[]\n",
      "<class 'list'>\n",
      "[]\n",
      "[]\n",
      "<class 'list'>\n",
      "[]\n",
      "[]\n",
      "<class 'list'>\n",
      "[]\n",
      "[]\n",
      "<class 'list'>\n",
      "[]\n",
      "[]\n",
      "<class 'list'>\n",
      "[]\n",
      "[]\n",
      "<class 'list'>\n",
      "[]\n",
      "[]\n",
      "<class 'list'>\n",
      "[]\n",
      "[]\n",
      "<class 'list'>\n",
      "[]\n",
      "[]\n",
      "<class 'list'>\n",
      "[]\n",
      "[]\n",
      "<class 'list'>\n",
      "[]\n",
      "[]\n",
      "<class 'list'>\n",
      "[]\n",
      "[]\n",
      "<class 'list'>\n",
      "[]\n",
      "[]\n",
      "<class 'list'>\n",
      "[]\n",
      "[]\n",
      "<class 'list'>\n",
      "[]\n",
      "[]\n",
      "<class 'list'>\n",
      "[]\n",
      "[]\n",
      "<class 'list'>\n",
      "[]\n",
      "[]\n",
      "<class 'list'>\n"
     ]
    }
   ],
   "source": [
    "info_about_breed = get_breeds_info_from_dataframe(df)\n",
    "#takes too long to do so it is commented"
   ]
  },
  {
   "cell_type": "markdown",
   "id": "5f1bfd8a-2879-4629-b195-bf557616a00b",
   "metadata": {
    "tags": []
   },
   "source": [
    "## to save the results into a csv"
   ]
  },
  {
   "cell_type": "code",
   "execution_count": null,
   "id": "5a782e40-a523-4cba-af8d-8637f901f5c1",
   "metadata": {
    "jupyter": {
     "source_hidden": true
    },
    "tags": []
   },
   "outputs": [],
   "source": [
    "# try_test.to_csv('120_doggos_breed.csv', index=False)\n",
    "#test_merge.to_csv('final_info_breeds_api.csv')\n"
   ]
  },
  {
   "cell_type": "code",
   "execution_count": 30,
   "id": "5b4f10e4-0719-4e49-9a23-386429493f38",
   "metadata": {
    "tags": []
   },
   "outputs": [],
   "source": [
    "info_about_breed.to_csv('breeds.csv', index=True)"
   ]
  },
  {
   "cell_type": "code",
   "execution_count": 29,
   "id": "ac427dd0-9454-44ae-87ee-d8e869fddc5c",
   "metadata": {
    "tags": []
   },
   "outputs": [
    {
     "data": {
      "text/html": [
       "<div>\n",
       "<style scoped>\n",
       "    .dataframe tbody tr th:only-of-type {\n",
       "        vertical-align: middle;\n",
       "    }\n",
       "\n",
       "    .dataframe tbody tr th {\n",
       "        vertical-align: top;\n",
       "    }\n",
       "\n",
       "    .dataframe thead th {\n",
       "        text-align: right;\n",
       "    }\n",
       "</style>\n",
       "<table border=\"1\" class=\"dataframe\">\n",
       "  <thead>\n",
       "    <tr style=\"text-align: right;\">\n",
       "      <th></th>\n",
       "      <th>image_link</th>\n",
       "      <th>good_with_children</th>\n",
       "      <th>good_with_other_dogs</th>\n",
       "      <th>shedding</th>\n",
       "      <th>grooming</th>\n",
       "      <th>drooling</th>\n",
       "      <th>coat_length</th>\n",
       "      <th>good_with_strangers</th>\n",
       "      <th>playfulness</th>\n",
       "      <th>protectiveness</th>\n",
       "      <th>...</th>\n",
       "      <th>max_life_expectancy</th>\n",
       "      <th>max_height_male</th>\n",
       "      <th>max_height_female</th>\n",
       "      <th>max_weight_male</th>\n",
       "      <th>max_weight_female</th>\n",
       "      <th>min_height_male</th>\n",
       "      <th>min_height_female</th>\n",
       "      <th>min_weight_male</th>\n",
       "      <th>min_weight_female</th>\n",
       "      <th>name</th>\n",
       "    </tr>\n",
       "  </thead>\n",
       "  <tbody>\n",
       "    <tr>\n",
       "      <th>spinone italiano</th>\n",
       "      <td>https://api-ninjas.com/images/dogs/spinone_ita...</td>\n",
       "      <td>3</td>\n",
       "      <td>4</td>\n",
       "      <td>3</td>\n",
       "      <td>2</td>\n",
       "      <td>3</td>\n",
       "      <td>1</td>\n",
       "      <td>3</td>\n",
       "      <td>3</td>\n",
       "      <td>3</td>\n",
       "      <td>...</td>\n",
       "      <td>12.0</td>\n",
       "      <td>27.0</td>\n",
       "      <td>27.0</td>\n",
       "      <td>86.0</td>\n",
       "      <td>75.0</td>\n",
       "      <td>23.0</td>\n",
       "      <td>23.0</td>\n",
       "      <td>75.0</td>\n",
       "      <td>64.0</td>\n",
       "      <td>Spinone Italiano</td>\n",
       "    </tr>\n",
       "    <tr>\n",
       "      <th>dachshund</th>\n",
       "      <td>https://api-ninjas.com/images/dogs/dachshund.jpg</td>\n",
       "      <td>3</td>\n",
       "      <td>4</td>\n",
       "      <td>2</td>\n",
       "      <td>2</td>\n",
       "      <td>2</td>\n",
       "      <td>2</td>\n",
       "      <td>4</td>\n",
       "      <td>4</td>\n",
       "      <td>4</td>\n",
       "      <td>...</td>\n",
       "      <td>16.0</td>\n",
       "      <td>9.0</td>\n",
       "      <td>9.0</td>\n",
       "      <td>32.0</td>\n",
       "      <td>32.0</td>\n",
       "      <td>8.0</td>\n",
       "      <td>8.0</td>\n",
       "      <td>16.0</td>\n",
       "      <td>16.0</td>\n",
       "      <td>Dachshund</td>\n",
       "    </tr>\n",
       "    <tr>\n",
       "      <th>shetland sheepdog</th>\n",
       "      <td>https://api-ninjas.com/images/dogs/shetland_sh...</td>\n",
       "      <td>5</td>\n",
       "      <td>5</td>\n",
       "      <td>3</td>\n",
       "      <td>3</td>\n",
       "      <td>1</td>\n",
       "      <td>1</td>\n",
       "      <td>2</td>\n",
       "      <td>5</td>\n",
       "      <td>5</td>\n",
       "      <td>...</td>\n",
       "      <td>14.0</td>\n",
       "      <td>16.0</td>\n",
       "      <td>16.0</td>\n",
       "      <td>25.0</td>\n",
       "      <td>25.0</td>\n",
       "      <td>13.0</td>\n",
       "      <td>13.0</td>\n",
       "      <td>15.0</td>\n",
       "      <td>15.0</td>\n",
       "      <td>Shetland Sheepdog</td>\n",
       "    </tr>\n",
       "    <tr>\n",
       "      <th>labrador retriever</th>\n",
       "      <td>https://api-ninjas.com/images/dogs/labrador_re...</td>\n",
       "      <td>5</td>\n",
       "      <td>5</td>\n",
       "      <td>4</td>\n",
       "      <td>2</td>\n",
       "      <td>2</td>\n",
       "      <td>1</td>\n",
       "      <td>5</td>\n",
       "      <td>5</td>\n",
       "      <td>3</td>\n",
       "      <td>...</td>\n",
       "      <td>12.0</td>\n",
       "      <td>24.5</td>\n",
       "      <td>24.5</td>\n",
       "      <td>80.0</td>\n",
       "      <td>70.0</td>\n",
       "      <td>22.5</td>\n",
       "      <td>22.5</td>\n",
       "      <td>65.0</td>\n",
       "      <td>55.0</td>\n",
       "      <td>Labrador Retriever</td>\n",
       "    </tr>\n",
       "    <tr>\n",
       "      <th>miniature schnauzer</th>\n",
       "      <td>https://api-ninjas.com/images/dogs/miniature_s...</td>\n",
       "      <td>5</td>\n",
       "      <td>3</td>\n",
       "      <td>3</td>\n",
       "      <td>4</td>\n",
       "      <td>2</td>\n",
       "      <td>1</td>\n",
       "      <td>3</td>\n",
       "      <td>4</td>\n",
       "      <td>4</td>\n",
       "      <td>...</td>\n",
       "      <td>15.0</td>\n",
       "      <td>14.0</td>\n",
       "      <td>14.0</td>\n",
       "      <td>20.0</td>\n",
       "      <td>20.0</td>\n",
       "      <td>12.0</td>\n",
       "      <td>12.0</td>\n",
       "      <td>11.0</td>\n",
       "      <td>11.0</td>\n",
       "      <td>Miniature Schnauzer</td>\n",
       "    </tr>\n",
       "  </tbody>\n",
       "</table>\n",
       "<p>5 rows × 24 columns</p>\n",
       "</div>"
      ],
      "text/plain": [
       "                                                            image_link  \\\n",
       "spinone italiano     https://api-ninjas.com/images/dogs/spinone_ita...   \n",
       "dachshund             https://api-ninjas.com/images/dogs/dachshund.jpg   \n",
       "shetland sheepdog    https://api-ninjas.com/images/dogs/shetland_sh...   \n",
       "labrador retriever   https://api-ninjas.com/images/dogs/labrador_re...   \n",
       "miniature schnauzer  https://api-ninjas.com/images/dogs/miniature_s...   \n",
       "\n",
       "                     good_with_children  good_with_other_dogs  shedding  \\\n",
       "spinone italiano                      3                     4         3   \n",
       "dachshund                             3                     4         2   \n",
       "shetland sheepdog                     5                     5         3   \n",
       "labrador retriever                    5                     5         4   \n",
       "miniature schnauzer                   5                     3         3   \n",
       "\n",
       "                     grooming  drooling  coat_length  good_with_strangers  \\\n",
       "spinone italiano            2         3            1                    3   \n",
       "dachshund                   2         2            2                    4   \n",
       "shetland sheepdog           3         1            1                    2   \n",
       "labrador retriever          2         2            1                    5   \n",
       "miniature schnauzer         4         2            1                    3   \n",
       "\n",
       "                     playfulness  protectiveness  ...  max_life_expectancy  \\\n",
       "spinone italiano               3               3  ...                 12.0   \n",
       "dachshund                      4               4  ...                 16.0   \n",
       "shetland sheepdog              5               5  ...                 14.0   \n",
       "labrador retriever             5               3  ...                 12.0   \n",
       "miniature schnauzer            4               4  ...                 15.0   \n",
       "\n",
       "                     max_height_male  max_height_female  max_weight_male  \\\n",
       "spinone italiano                27.0               27.0             86.0   \n",
       "dachshund                        9.0                9.0             32.0   \n",
       "shetland sheepdog               16.0               16.0             25.0   \n",
       "labrador retriever              24.5               24.5             80.0   \n",
       "miniature schnauzer             14.0               14.0             20.0   \n",
       "\n",
       "                     max_weight_female  min_height_male  min_height_female  \\\n",
       "spinone italiano                  75.0             23.0               23.0   \n",
       "dachshund                         32.0              8.0                8.0   \n",
       "shetland sheepdog                 25.0             13.0               13.0   \n",
       "labrador retriever                70.0             22.5               22.5   \n",
       "miniature schnauzer               20.0             12.0               12.0   \n",
       "\n",
       "                     min_weight_male  min_weight_female                 name  \n",
       "spinone italiano                75.0               64.0     Spinone Italiano  \n",
       "dachshund                       16.0               16.0            Dachshund  \n",
       "shetland sheepdog               15.0               15.0    Shetland Sheepdog  \n",
       "labrador retriever              65.0               55.0   Labrador Retriever  \n",
       "miniature schnauzer             11.0               11.0  Miniature Schnauzer  \n",
       "\n",
       "[5 rows x 24 columns]"
      ]
     },
     "execution_count": 29,
     "metadata": {},
     "output_type": "execute_result"
    }
   ],
   "source": [
    "info_about_breed.head()"
   ]
  },
  {
   "cell_type": "markdown",
   "id": "197984c1-67ce-4cec-888b-c6309db7af66",
   "metadata": {
    "tags": []
   },
   "source": [
    "## merging 2 dataframes"
   ]
  },
  {
   "cell_type": "code",
   "execution_count": null,
   "id": "96a3c8ee-418e-4414-a7fb-fa89f0cd8438",
   "metadata": {
    "tags": []
   },
   "outputs": [],
   "source": [
    "#merged_df = pd.merge(df, info_about_breed, left_on='breed', right_index=True)\n",
    "#"
   ]
  },
  {
   "cell_type": "markdown",
   "id": "42b5a906-3c5f-4589-b202-f14d2003db59",
   "metadata": {},
   "source": [
    "## saving the final merged csv\n"
   ]
  },
  {
   "cell_type": "code",
   "execution_count": null,
   "id": "51388210-e544-4bbb-9fd4-ae07d838a86a",
   "metadata": {
    "tags": []
   },
   "outputs": [],
   "source": [
    "#merged_df_w_dogbreed.to_csv('final_df_dogs_and_dogbreeds.csv')"
   ]
  },
  {
   "cell_type": "code",
   "execution_count": null,
   "id": "8051f1e8-578b-407c-a32f-9a8b98d3d93a",
   "metadata": {
    "tags": []
   },
   "outputs": [],
   "source": [
    "#taking the final_df_dogs_and_dogbreeds.csv\n",
    "\n",
    "final_df_dogs_and_dogbreeds = pd.read_csv('/Users/marcela/code/marcelafae/animals/raw_data/final_df_dogs_and_dogbreeds.csv')"
   ]
  },
  {
   "cell_type": "code",
   "execution_count": null,
   "id": "5dbb87e0-732c-471d-9d95-9666f35dad82",
   "metadata": {
    "tags": []
   },
   "outputs": [],
   "source": [
    "final_df_dogs_and_dogbreeds['breed'].value_counts()[:6].sum()"
   ]
  },
  {
   "cell_type": "code",
   "execution_count": null,
   "id": "4861ff56-e108-4a8b-8088-934ee246d12c",
   "metadata": {
    "tags": []
   },
   "outputs": [],
   "source": [
    "final_df_dogs_and_dogbreeds['breed'].value_counts()[6:].sum()"
   ]
  },
  {
   "cell_type": "code",
   "execution_count": null,
   "id": "0e8ddd0e-137c-4442-abbe-27a00afd308f",
   "metadata": {
    "tags": []
   },
   "outputs": [],
   "source": [
    "def replace_breed_values(df):\n",
    "    \"\"\"\n",
    "    This function takes our final df as input and replaces the 6 most common values of the 'breed'\n",
    "    column with the string 'common breed', and all other values with the string 'uncommon breed' - like richard suggested\n",
    "    \"\"\"\n",
    "    breed_counts = df['breed'].value_counts()\n",
    "    common_breeds = []\n",
    "    uncommon_breeds = []\n",
    "    for breed in breed_counts.index:\n",
    "        if breed_counts[breed] >= 6:\n",
    "            common_breeds.append(breed)\n",
    "        else:\n",
    "            uncommon_breeds.append(breed)\n",
    "    for i in df.index:\n",
    "        if df.at[i, 'breed'] in common_breeds:\n",
    "            df.at[i, 'breed'] = 'common breed'\n",
    "        else:\n",
    "            df.at[i, 'breed'] = 'uncommon breed'\n",
    "    return df"
   ]
  },
  {
   "cell_type": "code",
   "execution_count": null,
   "id": "e31e9eb2-0180-445c-ba99-e87caad1798e",
   "metadata": {
    "tags": []
   },
   "outputs": [],
   "source": [
    "uncommon_common_breed = replace_breed_values(final_df_dogs_and_dogbreeds)"
   ]
  },
  {
   "cell_type": "code",
   "execution_count": null,
   "id": "24f0e580-28b1-4d3a-bc65-de231b384141",
   "metadata": {
    "tags": []
   },
   "outputs": [],
   "source": []
  },
  {
   "cell_type": "code",
   "execution_count": null,
   "id": "4df53384-3cb6-46ac-8822-3aa9547a6500",
   "metadata": {
    "tags": []
   },
   "outputs": [],
   "source": [
    "\n",
    "def replace_breed_values_(df):\n",
    "    \"\"\"\n",
    "    This function takes our final df as input and replaces the 6 most common values of the 'breed'\n",
    "    column with the string 'common breed', and all other values with the string 'uncommon breed' in a separated column- like richard suggested\n",
    "    \"\"\"\n",
    "    breed_counts = df['breed'].value_counts()\n",
    "    common_breeds = []\n",
    "    uncommon_breeds = []\n",
    "    for breed in breed_counts.index:\n",
    "        if breed_counts[breed] >= 6:\n",
    "            common_breeds.append(breed)\n",
    "        else:\n",
    "            uncommon_breeds.append(breed)\n",
    "    breed_type = []\n",
    "    for breed in df['breed']:\n",
    "        if breed in common_breeds:\n",
    "            breed_type.append('common breed')\n",
    "        else:\n",
    "            breed_type.append('uncommon breed')\n",
    "    df['breed_type'] = breed_type\n",
    "    return df"
   ]
  },
  {
   "cell_type": "code",
   "execution_count": null,
   "id": "721fc257-032d-4909-b8b7-bacf154d0e71",
   "metadata": {},
   "outputs": [],
   "source": [
    "uncommon_common_breed_ = replace_breed_values_(final_df_dogs_and_dogbreeds)"
   ]
  },
  {
   "cell_type": "code",
   "execution_count": null,
   "id": "4b6a6cba-3ef8-48f6-a35a-a5e9ea6dbfb2",
   "metadata": {},
   "outputs": [],
   "source": [
    "uncommon_common_breed_['breed_type'].isnull().sum()"
   ]
  },
  {
   "cell_type": "code",
   "execution_count": 31,
   "id": "2a653c27-2b1d-482c-adaf-7405675f9758",
   "metadata": {
    "tags": []
   },
   "outputs": [],
   "source": [
    "from Animal_Adoption.preproc.transformers import ColorTransformer"
   ]
  },
  {
   "cell_type": "code",
   "execution_count": 32,
   "id": "565d6f6c-238a-4d39-aa17-9b76ce3f787c",
   "metadata": {
    "tags": []
   },
   "outputs": [
    {
     "data": {
      "text/html": [
       "<style>#sk-container-id-1 {color: black;background-color: white;}#sk-container-id-1 pre{padding: 0;}#sk-container-id-1 div.sk-toggleable {background-color: white;}#sk-container-id-1 label.sk-toggleable__label {cursor: pointer;display: block;width: 100%;margin-bottom: 0;padding: 0.3em;box-sizing: border-box;text-align: center;}#sk-container-id-1 label.sk-toggleable__label-arrow:before {content: \"▸\";float: left;margin-right: 0.25em;color: #696969;}#sk-container-id-1 label.sk-toggleable__label-arrow:hover:before {color: black;}#sk-container-id-1 div.sk-estimator:hover label.sk-toggleable__label-arrow:before {color: black;}#sk-container-id-1 div.sk-toggleable__content {max-height: 0;max-width: 0;overflow: hidden;text-align: left;background-color: #f0f8ff;}#sk-container-id-1 div.sk-toggleable__content pre {margin: 0.2em;color: black;border-radius: 0.25em;background-color: #f0f8ff;}#sk-container-id-1 input.sk-toggleable__control:checked~div.sk-toggleable__content {max-height: 200px;max-width: 100%;overflow: auto;}#sk-container-id-1 input.sk-toggleable__control:checked~label.sk-toggleable__label-arrow:before {content: \"▾\";}#sk-container-id-1 div.sk-estimator input.sk-toggleable__control:checked~label.sk-toggleable__label {background-color: #d4ebff;}#sk-container-id-1 div.sk-label input.sk-toggleable__control:checked~label.sk-toggleable__label {background-color: #d4ebff;}#sk-container-id-1 input.sk-hidden--visually {border: 0;clip: rect(1px 1px 1px 1px);clip: rect(1px, 1px, 1px, 1px);height: 1px;margin: -1px;overflow: hidden;padding: 0;position: absolute;width: 1px;}#sk-container-id-1 div.sk-estimator {font-family: monospace;background-color: #f0f8ff;border: 1px dotted black;border-radius: 0.25em;box-sizing: border-box;margin-bottom: 0.5em;}#sk-container-id-1 div.sk-estimator:hover {background-color: #d4ebff;}#sk-container-id-1 div.sk-parallel-item::after {content: \"\";width: 100%;border-bottom: 1px solid gray;flex-grow: 1;}#sk-container-id-1 div.sk-label:hover label.sk-toggleable__label {background-color: #d4ebff;}#sk-container-id-1 div.sk-serial::before {content: \"\";position: absolute;border-left: 1px solid gray;box-sizing: border-box;top: 0;bottom: 0;left: 50%;z-index: 0;}#sk-container-id-1 div.sk-serial {display: flex;flex-direction: column;align-items: center;background-color: white;padding-right: 0.2em;padding-left: 0.2em;position: relative;}#sk-container-id-1 div.sk-item {position: relative;z-index: 1;}#sk-container-id-1 div.sk-parallel {display: flex;align-items: stretch;justify-content: center;background-color: white;position: relative;}#sk-container-id-1 div.sk-item::before, #sk-container-id-1 div.sk-parallel-item::before {content: \"\";position: absolute;border-left: 1px solid gray;box-sizing: border-box;top: 0;bottom: 0;left: 50%;z-index: -1;}#sk-container-id-1 div.sk-parallel-item {display: flex;flex-direction: column;z-index: 1;position: relative;background-color: white;}#sk-container-id-1 div.sk-parallel-item:first-child::after {align-self: flex-end;width: 50%;}#sk-container-id-1 div.sk-parallel-item:last-child::after {align-self: flex-start;width: 50%;}#sk-container-id-1 div.sk-parallel-item:only-child::after {width: 0;}#sk-container-id-1 div.sk-dashed-wrapped {border: 1px dashed gray;margin: 0 0.4em 0.5em 0.4em;box-sizing: border-box;padding-bottom: 0.4em;background-color: white;}#sk-container-id-1 div.sk-label label {font-family: monospace;font-weight: bold;display: inline-block;line-height: 1.2em;}#sk-container-id-1 div.sk-label-container {text-align: center;}#sk-container-id-1 div.sk-container {/* jupyter's `normalize.less` sets `[hidden] { display: none; }` but bootstrap.min.css set `[hidden] { display: none !important; }` so we also need the `!important` here to be able to override the default hidden behavior on the sphinx rendered scikit-learn.org. See: https://github.com/scikit-learn/scikit-learn/issues/21755 */display: inline-block !important;position: relative;}#sk-container-id-1 div.sk-text-repr-fallback {display: none;}</style><div id=\"sk-container-id-1\" class=\"sk-top-container\"><div class=\"sk-text-repr-fallback\"><pre>ColorTransformer()</pre><b>In a Jupyter environment, please rerun this cell to show the HTML representation or trust the notebook. <br />On GitHub, the HTML representation is unable to render, please try loading this page with nbviewer.org.</b></div><div class=\"sk-container\" hidden><div class=\"sk-item\"><div class=\"sk-estimator sk-toggleable\"><input class=\"sk-toggleable__control sk-hidden--visually\" id=\"sk-estimator-id-1\" type=\"checkbox\" checked><label for=\"sk-estimator-id-1\" class=\"sk-toggleable__label sk-toggleable__label-arrow\">ColorTransformer</label><div class=\"sk-toggleable__content\"><pre>ColorTransformer()</pre></div></div></div></div></div>"
      ],
      "text/plain": [
       "ColorTransformer()"
      ]
     },
     "execution_count": 32,
     "metadata": {},
     "output_type": "execute_result"
    }
   ],
   "source": [
    "ColorTransformer()"
   ]
  },
  {
   "cell_type": "code",
   "execution_count": 33,
   "id": "f37f8cf5-1fa0-4671-9871-1d4d1c11733c",
   "metadata": {},
   "outputs": [],
   "source": [
    "import pickle\n",
    "file = open('../api/pipeline_best_model.pkl','rb')\n",
    "pipeline = pickle.load(file)"
   ]
  },
  {
   "cell_type": "code",
   "execution_count": 34,
   "id": "654750ea-67f7-48df-9b4c-989fb76d23af",
   "metadata": {
    "tags": []
   },
   "outputs": [
    {
     "data": {
      "text/plain": [
       "{'preprocessor': ColumnTransformer(transformers=[('num',\n",
       "                                  Pipeline(steps=[('standardscaler',\n",
       "                                                   StandardScaler())]),\n",
       "                                  ['age_upon_intake_(years)']),\n",
       "                                 ('cat',\n",
       "                                  Pipeline(steps=[('onehotencoder',\n",
       "                                                   OneHotEncoder(handle_unknown='ignore',\n",
       "                                                                 sparse=False))]),\n",
       "                                  ['animal_type', 'breed', 'intake_condition',\n",
       "                                   'sex', 'sex_type'])]),\n",
       " 'regressor': GradientBoostingRegressor(max_depth=8, min_samples_split=12, n_estimators=150)}"
      ]
     },
     "execution_count": 34,
     "metadata": {},
     "output_type": "execute_result"
    }
   ],
   "source": [
    "pipeline.named_steps"
   ]
  },
  {
   "cell_type": "code",
   "execution_count": 35,
   "id": "aae9c0b5-4d20-4583-a79e-4a59abc8ebeb",
   "metadata": {
    "tags": []
   },
   "outputs": [
    {
     "data": {
      "text/plain": [
       "array(['age_upon_intake_(years)', 'animal_type', 'breed',\n",
       "       'intake_condition', 'sex', 'sex_type', 'beige', 'black', 'brown',\n",
       "       'gray', 'orange', 'point', 'smoke', 'spotted', 'striped',\n",
       "       'tricolor', 'white'], dtype=object)"
      ]
     },
     "execution_count": 35,
     "metadata": {},
     "output_type": "execute_result"
    }
   ],
   "source": [
    "pipeline.feature_names_in_"
   ]
  },
  {
   "cell_type": "code",
   "execution_count": 38,
   "id": "a8bad420-5970-4448-842d-c03264af46cf",
   "metadata": {},
   "outputs": [
    {
     "data": {
      "text/plain": [
       "<bound method Pipeline.get_params of Pipeline(steps=[('preprocessor',\n",
       "                 ColumnTransformer(transformers=[('num',\n",
       "                                                  Pipeline(steps=[('standardscaler',\n",
       "                                                                   StandardScaler())]),\n",
       "                                                  ['age_upon_intake_(years)']),\n",
       "                                                 ('cat',\n",
       "                                                  Pipeline(steps=[('onehotencoder',\n",
       "                                                                   OneHotEncoder(handle_unknown='ignore',\n",
       "                                                                                 sparse=False))]),\n",
       "                                                  ['animal_type', 'breed',\n",
       "                                                   'intake_condition', 'sex',\n",
       "                                                   'sex_type'])])),\n",
       "                ('regressor',\n",
       "                 GradientBoostingRegressor(max_depth=8, min_samples_split=12,\n",
       "                                           n_estimators=150))])>"
      ]
     },
     "execution_count": 38,
     "metadata": {},
     "output_type": "execute_result"
    }
   ],
   "source": [
    "pipeline.get_params"
   ]
  },
  {
   "cell_type": "code",
   "execution_count": 39,
   "id": "a71b6a26-9b22-4ec3-b0a6-8e375600203c",
   "metadata": {
    "tags": []
   },
   "outputs": [
    {
     "data": {
      "text/plain": [
       "<bound method Pipeline.fit_transform of Pipeline(steps=[('preprocessor',\n",
       "                 ColumnTransformer(transformers=[('num',\n",
       "                                                  Pipeline(steps=[('standardscaler',\n",
       "                                                                   StandardScaler())]),\n",
       "                                                  ['age_upon_intake_(years)']),\n",
       "                                                 ('cat',\n",
       "                                                  Pipeline(steps=[('onehotencoder',\n",
       "                                                                   OneHotEncoder(handle_unknown='ignore',\n",
       "                                                                                 sparse=False))]),\n",
       "                                                  ['animal_type', 'breed',\n",
       "                                                   'intake_condition', 'sex',\n",
       "                                                   'sex_type'])])),\n",
       "                ('regressor',\n",
       "                 GradientBoostingRegressor(max_depth=8, min_samples_split=12,\n",
       "                                           n_estimators=150))])>"
      ]
     },
     "execution_count": 39,
     "metadata": {},
     "output_type": "execute_result"
    }
   ],
   "source": [
    "pipeline.fit_transform\n"
   ]
  },
  {
   "cell_type": "code",
   "execution_count": 40,
   "id": "4e7e2d39-7d8c-4889-8894-d38f26d8b63a",
   "metadata": {
    "tags": []
   },
   "outputs": [
    {
     "data": {
      "text/plain": [
       "<bound method Pipeline.predict of Pipeline(steps=[('preprocessor',\n",
       "                 ColumnTransformer(transformers=[('num',\n",
       "                                                  Pipeline(steps=[('standardscaler',\n",
       "                                                                   StandardScaler())]),\n",
       "                                                  ['age_upon_intake_(years)']),\n",
       "                                                 ('cat',\n",
       "                                                  Pipeline(steps=[('onehotencoder',\n",
       "                                                                   OneHotEncoder(handle_unknown='ignore',\n",
       "                                                                                 sparse=False))]),\n",
       "                                                  ['animal_type', 'breed',\n",
       "                                                   'intake_condition', 'sex',\n",
       "                                                   'sex_type'])])),\n",
       "                ('regressor',\n",
       "                 GradientBoostingRegressor(max_depth=8, min_samples_split=12,\n",
       "                                           n_estimators=150))])>"
      ]
     },
     "execution_count": 40,
     "metadata": {},
     "output_type": "execute_result"
    }
   ],
   "source": [
    "pipeline.predict\n"
   ]
  },
  {
   "cell_type": "code",
   "execution_count": 41,
   "id": "fb8ec746-d67b-47f8-a714-c4dcc872ca2a",
   "metadata": {
    "tags": []
   },
   "outputs": [
    {
     "data": {
      "text/plain": [
       "<bound method Pipeline.score of Pipeline(steps=[('preprocessor',\n",
       "                 ColumnTransformer(transformers=[('num',\n",
       "                                                  Pipeline(steps=[('standardscaler',\n",
       "                                                                   StandardScaler())]),\n",
       "                                                  ['age_upon_intake_(years)']),\n",
       "                                                 ('cat',\n",
       "                                                  Pipeline(steps=[('onehotencoder',\n",
       "                                                                   OneHotEncoder(handle_unknown='ignore',\n",
       "                                                                                 sparse=False))]),\n",
       "                                                  ['animal_type', 'breed',\n",
       "                                                   'intake_condition', 'sex',\n",
       "                                                   'sex_type'])])),\n",
       "                ('regressor',\n",
       "                 GradientBoostingRegressor(max_depth=8, min_samples_split=12,\n",
       "                                           n_estimators=150))])>"
      ]
     },
     "execution_count": 41,
     "metadata": {},
     "output_type": "execute_result"
    }
   ],
   "source": [
    "pipeline.score\n"
   ]
  },
  {
   "cell_type": "code",
   "execution_count": null,
   "id": "775011d2-591f-4b42-acca-63a9b9e11030",
   "metadata": {},
   "outputs": [],
   "source": []
  }
 ],
 "metadata": {
  "kernelspec": {
   "display_name": "Python 3 (ipykernel)",
   "language": "python",
   "name": "python3"
  },
  "language_info": {
   "codemirror_mode": {
    "name": "ipython",
    "version": 3
   },
   "file_extension": ".py",
   "mimetype": "text/x-python",
   "name": "python",
   "nbconvert_exporter": "python",
   "pygments_lexer": "ipython3",
   "version": "3.10.6"
  },
  "toc": {
   "base_numbering": 1,
   "nav_menu": {},
   "number_sections": true,
   "sideBar": true,
   "skip_h1_title": false,
   "title_cell": "Table of Contents",
   "title_sidebar": "Contents",
   "toc_cell": false,
   "toc_position": {},
   "toc_section_display": true,
   "toc_window_display": false
  }
 },
 "nbformat": 4,
 "nbformat_minor": 5
}
