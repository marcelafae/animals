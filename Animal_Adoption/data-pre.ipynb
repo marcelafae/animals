{
 "cells": [
  {
   "cell_type": "markdown",
   "id": "15f83198-e658-40f8-8094-bbc5f6de641e",
   "metadata": {},
   "source": [
    "## data preprocessing \n"
   ]
  },
  {
   "cell_type": "code",
   "execution_count": 1,
   "id": "400e075f-4968-405d-974f-1b322dd99720",
   "metadata": {
    "tags": []
   },
   "outputs": [],
   "source": [
    "import pandas as pd\n",
    "import sqlite3\n",
    "pd.set_option('display.max_rows', None)\n"
   ]
  },
  {
   "cell_type": "markdown",
   "id": "ec7df9e9-8cbd-49f4-aff7-7a550eb29e50",
   "metadata": {},
   "source": [
    "## Import the data"
   ]
  },
  {
   "cell_type": "code",
   "execution_count": 2,
   "id": "8699b1e0-0484-4933-93b7-62ac5cabde38",
   "metadata": {
    "tags": []
   },
   "outputs": [],
   "source": [
    "data_acc_intakes = pd.read_csv('data/animal_data_8_24/aac_intakes.csv')\n"
   ]
  },
  {
   "cell_type": "code",
   "execution_count": 3,
   "id": "91334cb7",
   "metadata": {
    "tags": []
   },
   "outputs": [
    {
     "data": {
      "text/html": [
       "<div>\n",
       "<style scoped>\n",
       "    .dataframe tbody tr th:only-of-type {\n",
       "        vertical-align: middle;\n",
       "    }\n",
       "\n",
       "    .dataframe tbody tr th {\n",
       "        vertical-align: top;\n",
       "    }\n",
       "\n",
       "    .dataframe thead th {\n",
       "        text-align: right;\n",
       "    }\n",
       "</style>\n",
       "<table border=\"1\" class=\"dataframe\">\n",
       "  <thead>\n",
       "    <tr style=\"text-align: right;\">\n",
       "      <th></th>\n",
       "      <th>age_upon_intake</th>\n",
       "      <th>animal_id</th>\n",
       "      <th>animal_type</th>\n",
       "      <th>breed</th>\n",
       "      <th>color</th>\n",
       "      <th>datetime</th>\n",
       "      <th>datetime2</th>\n",
       "      <th>found_location</th>\n",
       "      <th>intake_condition</th>\n",
       "      <th>intake_type</th>\n",
       "      <th>name</th>\n",
       "      <th>sex_upon_intake</th>\n",
       "    </tr>\n",
       "  </thead>\n",
       "  <tbody>\n",
       "    <tr>\n",
       "      <th>0</th>\n",
       "      <td>8 years</td>\n",
       "      <td>A706918</td>\n",
       "      <td>Dog</td>\n",
       "      <td>English Springer Spaniel</td>\n",
       "      <td>White/Liver</td>\n",
       "      <td>2015-07-05T12:59:00.000</td>\n",
       "      <td>2015-07-05T12:59:00.000</td>\n",
       "      <td>9409 Bluegrass Dr in Austin (TX)</td>\n",
       "      <td>Normal</td>\n",
       "      <td>Stray</td>\n",
       "      <td>Belle</td>\n",
       "      <td>Spayed Female</td>\n",
       "    </tr>\n",
       "    <tr>\n",
       "      <th>1</th>\n",
       "      <td>11 months</td>\n",
       "      <td>A724273</td>\n",
       "      <td>Dog</td>\n",
       "      <td>Basenji Mix</td>\n",
       "      <td>Sable/White</td>\n",
       "      <td>2016-04-14T18:43:00.000</td>\n",
       "      <td>2016-04-14T18:43:00.000</td>\n",
       "      <td>2818 Palomino Trail in Austin (TX)</td>\n",
       "      <td>Normal</td>\n",
       "      <td>Stray</td>\n",
       "      <td>Runster</td>\n",
       "      <td>Intact Male</td>\n",
       "    </tr>\n",
       "    <tr>\n",
       "      <th>2</th>\n",
       "      <td>4 weeks</td>\n",
       "      <td>A665644</td>\n",
       "      <td>Cat</td>\n",
       "      <td>Domestic Shorthair Mix</td>\n",
       "      <td>Calico</td>\n",
       "      <td>2013-10-21T07:59:00.000</td>\n",
       "      <td>2013-10-21T07:59:00.000</td>\n",
       "      <td>Austin (TX)</td>\n",
       "      <td>Sick</td>\n",
       "      <td>Stray</td>\n",
       "      <td>NaN</td>\n",
       "      <td>Intact Female</td>\n",
       "    </tr>\n",
       "    <tr>\n",
       "      <th>3</th>\n",
       "      <td>4 years</td>\n",
       "      <td>A682524</td>\n",
       "      <td>Dog</td>\n",
       "      <td>Doberman Pinsch/Australian Cattle Dog</td>\n",
       "      <td>Tan/Gray</td>\n",
       "      <td>2014-06-29T10:38:00.000</td>\n",
       "      <td>2014-06-29T10:38:00.000</td>\n",
       "      <td>800 Grove Blvd in Austin (TX)</td>\n",
       "      <td>Normal</td>\n",
       "      <td>Stray</td>\n",
       "      <td>Rio</td>\n",
       "      <td>Neutered Male</td>\n",
       "    </tr>\n",
       "    <tr>\n",
       "      <th>4</th>\n",
       "      <td>2 years</td>\n",
       "      <td>A743852</td>\n",
       "      <td>Dog</td>\n",
       "      <td>Labrador Retriever Mix</td>\n",
       "      <td>Chocolate</td>\n",
       "      <td>2017-02-18T12:46:00.000</td>\n",
       "      <td>2017-02-18T12:46:00.000</td>\n",
       "      <td>Austin (TX)</td>\n",
       "      <td>Normal</td>\n",
       "      <td>Owner Surrender</td>\n",
       "      <td>Odin</td>\n",
       "      <td>Neutered Male</td>\n",
       "    </tr>\n",
       "  </tbody>\n",
       "</table>\n",
       "</div>"
      ],
      "text/plain": [
       "  age_upon_intake animal_id animal_type  \\\n",
       "0         8 years   A706918         Dog   \n",
       "1       11 months   A724273         Dog   \n",
       "2         4 weeks   A665644         Cat   \n",
       "3         4 years   A682524         Dog   \n",
       "4         2 years   A743852         Dog   \n",
       "\n",
       "                                   breed        color  \\\n",
       "0               English Springer Spaniel  White/Liver   \n",
       "1                            Basenji Mix  Sable/White   \n",
       "2                 Domestic Shorthair Mix       Calico   \n",
       "3  Doberman Pinsch/Australian Cattle Dog     Tan/Gray   \n",
       "4                 Labrador Retriever Mix    Chocolate   \n",
       "\n",
       "                  datetime                datetime2  \\\n",
       "0  2015-07-05T12:59:00.000  2015-07-05T12:59:00.000   \n",
       "1  2016-04-14T18:43:00.000  2016-04-14T18:43:00.000   \n",
       "2  2013-10-21T07:59:00.000  2013-10-21T07:59:00.000   \n",
       "3  2014-06-29T10:38:00.000  2014-06-29T10:38:00.000   \n",
       "4  2017-02-18T12:46:00.000  2017-02-18T12:46:00.000   \n",
       "\n",
       "                       found_location intake_condition      intake_type  \\\n",
       "0    9409 Bluegrass Dr in Austin (TX)           Normal            Stray   \n",
       "1  2818 Palomino Trail in Austin (TX)           Normal            Stray   \n",
       "2                         Austin (TX)             Sick            Stray   \n",
       "3       800 Grove Blvd in Austin (TX)           Normal            Stray   \n",
       "4                         Austin (TX)           Normal  Owner Surrender   \n",
       "\n",
       "      name sex_upon_intake  \n",
       "0    Belle   Spayed Female  \n",
       "1  Runster     Intact Male  \n",
       "2      NaN   Intact Female  \n",
       "3      Rio   Neutered Male  \n",
       "4     Odin   Neutered Male  "
      ]
     },
     "execution_count": 3,
     "metadata": {},
     "output_type": "execute_result"
    }
   ],
   "source": [
    "data_acc_intakes.head(\n",
    ")"
   ]
  },
  {
   "cell_type": "code",
   "execution_count": null,
   "id": "71c81534-4565-4ce4-8081-13db6f6d0680",
   "metadata": {
    "tags": []
   },
   "outputs": [],
   "source": []
  },
  {
   "cell_type": "code",
   "execution_count": 4,
   "id": "99b821ee-03a1-4e9f-8793-8af4ad5f213f",
   "metadata": {
    "tags": []
   },
   "outputs": [
    {
     "data": {
      "text/plain": [
       "Dog    45743\n",
       "Cat    29659\n",
       "Name: animal_type, dtype: int64"
      ]
     },
     "execution_count": 4,
     "metadata": {},
     "output_type": "execute_result"
    }
   ],
   "source": [
    "data_acc_intakes = data_acc_intakes[data_acc_intakes['animal_type'].str.contains('Bird') == False]\n",
    "data_acc_intakes = data_acc_intakes[data_acc_intakes['animal_type'].str.contains('Other') == False]\n",
    "data_acc_intakes = data_acc_intakes[data_acc_intakes['animal_type'].str.contains('Livestock') == False]\n",
    "\n",
    "data_acc_intakes['animal_type'].value_counts()"
   ]
  },
  {
   "cell_type": "code",
   "execution_count": 5,
   "id": "d03b0d3b-715e-40ea-9448-8aad26f9c8ac",
   "metadata": {
    "tags": []
   },
   "outputs": [],
   "source": [
    "all_color = data_acc_intakes['color']\n",
    "all_color = pd.DataFrame(all_color)"
   ]
  },
  {
   "cell_type": "markdown",
   "id": "ef3ca931-6f0a-4bac-b71a-e291ae1d4191",
   "metadata": {},
   "source": [
    "## Define preprocessing functions"
   ]
  },
  {
   "cell_type": "code",
   "execution_count": 6,
   "id": "08a64c47-f864-4f4a-b80d-b508326b412c",
   "metadata": {
    "tags": []
   },
   "outputs": [],
   "source": [
    "#color name substitution \n",
    "def replace_colors(color_list, new_color, series):\n",
    "    series = series.copy()\n",
    "    for color in color_list:\n",
    "        series = series.str.replace(color, new_color)\n",
    "    return series"
   ]
  },
  {
   "cell_type": "code",
   "execution_count": 7,
   "id": "6da8fa12-df15-4db3-8ed7-619330014156",
   "metadata": {
    "tags": []
   },
   "outputs": [],
   "source": [
    "#check for duplicate values separated by \"/\"\n",
    "\n",
    "def is_duplicate_value(color):\n",
    "    color_list = color.split(\"/\")\n",
    "    if len(color_list) != 2:\n",
    "        return color\n",
    "    if color_list[0] == color_list[1]:\n",
    "        return color_list[0]\n",
    "    else:\n",
    "        return color"
   ]
  },
  {
   "cell_type": "code",
   "execution_count": 8,
   "id": "10f429b9-3633-4aa2-9545-adb287413678",
   "metadata": {
    "tags": []
   },
   "outputs": [],
   "source": [
    "#defining all tricolor animals in tricolor\n",
    "def is_tricolor(in_color):\n",
    "    colors = [\"Calico\", \"Tricolor\"]\n",
    "    color_list = \" \".join(in_color.split(\"/\")).split(\" \")\n",
    "    for color in colors:\n",
    "        if color in color_list:\n",
    "            return \"Tricolor\"\n",
    "    return in_color"
   ]
  },
  {
   "cell_type": "code",
   "execution_count": 9,
   "id": "5c131bf8-67f6-47a7-b7dd-ad5ffa7fde10",
   "metadata": {
    "tags": []
   },
   "outputs": [],
   "source": [
    "#defining all animals in striped\n",
    "def has_stripes(in_color):\n",
    "    colors = [\"Torbie\", \"Striped\", \"Tabby\", \"Tortie\", \"Tiger\", \"Brindle\", \"Sable\"]\n",
    "    color_list = \" \".join(in_color.split(\"/\")).split(\" \")\n",
    "    for color in colors:\n",
    "        if color in color_list:\n",
    "            return \"Striped\"\n",
    "    return in_color"
   ]
  },
  {
   "cell_type": "code",
   "execution_count": 10,
   "id": "99e11507-0778-4068-acd4-b1adb738fbc7",
   "metadata": {
    "tags": []
   },
   "outputs": [],
   "source": [
    "#defining all animals with spots\n",
    "def has_spots(in_color):\n",
    "    colors = [\"Merle\", \"Spotted\"]\n",
    "    color_list = \" \".join(in_color.split(\"/\")).split(\" \")\n",
    "    for color in colors:\n",
    "        if color in color_list:\n",
    "            return \"Spotted\"\n",
    "    return in_color"
   ]
  },
  {
   "cell_type": "markdown",
   "id": "969477b6-514c-4d68-9230-525edae58c8b",
   "metadata": {},
   "source": [
    "## Call cleaning functions"
   ]
  },
  {
   "cell_type": "code",
   "execution_count": 35,
   "id": "3fadc259",
   "metadata": {
    "tags": []
   },
   "outputs": [],
   "source": []
  },
  {
   "cell_type": "code",
   "execution_count": 38,
   "id": "ba29bddc-1e7b-46b2-bd68-54404a73e49b",
   "metadata": {
    "tags": []
   },
   "outputs": [],
   "source": [
    "#function for performing all of the above operations at once!\n",
    "def perform_all_color_cleaning(series):\n",
    "    color_map = {\n",
    "        \"\": [\" Tick\"],\n",
    "        \"Brown\": [\"Chocolate\", \"Liver\", \"Ruddy\"], \n",
    "        \"White\": [\"Flame Point\", \"Lilac Point\"], \n",
    "        \"Beige\": [\"Buff\", \"Tan\", \"Fawn\", \"Yellow\", \"Gold\", \"Cream\", \"Seal Point\", \"Lynx Point\", \"Brown Point\", \"Apricot\", \"Pink\"],\n",
    "        \"Orange\": [\"Orange Tabby\", \"Red\"], \n",
    "        \"Tricolor\": [\"Tricolor\", \"Calico\"], \n",
    "        \"Spotted\": [\"Black Merle\", \"Brown Merle\", \"Gray Merle\", \"Orange Merle\" ], \n",
    "        \"Striped\": [\"Tiger\", \"Tabby\"],\n",
    "        \"Gray\": [\"Black Smoke\", \"Gray Smoke\", \"Gray Point\", \"Silver Lynx Point\", \"Silver\", \"Agouti\", \"Grey\", \"Blue\", \"Gray Beige\"],\n",
    "    }\n",
    "    for key, val in color_map.items():\n",
    "        series = replace_colors(val, key, series)\n",
    "    series = series.map(is_duplicate_value)\n",
    "    series = series.map(has_spots)\n",
    "    series = series.map(has_stripes)\n",
    "    series = series.map(is_tricolor)\n",
    "    return series"
   ]
  },
  {
   "cell_type": "code",
   "execution_count": 39,
   "id": "c3b44f89-a444-4ccb-862b-280683331cca",
   "metadata": {
    "tags": []
   },
   "outputs": [
    {
     "data": {
      "text/plain": [
       "pandas.core.series.Series"
      ]
     },
     "execution_count": 39,
     "metadata": {},
     "output_type": "execute_result"
    }
   ],
   "source": [
    "type(all_color[\"color\"])"
   ]
  },
  {
   "cell_type": "code",
   "execution_count": 36,
   "id": "faf30ac3-c41c-413b-8c63-7d3e958bdee0",
   "metadata": {
    "tags": []
   },
   "outputs": [
    {
     "data": {
      "text/plain": [
       "['Spotted',\n",
       " 'Gray',\n",
       " 'Brown',\n",
       " 'Black',\n",
       " 'White',\n",
       " 'Tricolor',\n",
       " 'Orange',\n",
       " 'Beige',\n",
       " 'Striped']"
      ]
     },
     "execution_count": 36,
     "metadata": {},
     "output_type": "execute_result"
    }
   ],
   "source": [
    "final = []\n",
    "for el in [color.split(\"/\") for color in colors]:\n",
    "    final += el\n",
    "list(set(final))"
   ]
  },
  {
   "cell_type": "code",
   "execution_count": 37,
   "id": "91bb8092-76bb-47a1-86d7-161059670030",
   "metadata": {
    "tags": []
   },
   "outputs": [
    {
     "data": {
      "text/plain": [
       "39"
      ]
     },
     "execution_count": 37,
     "metadata": {},
     "output_type": "execute_result"
    }
   ],
   "source": [
    "len(colors)"
   ]
  },
  {
   "cell_type": "code",
   "execution_count": 16,
   "id": "ca023464-74b3-42cf-b692-90fb25f16230",
   "metadata": {
    "tags": []
   },
   "outputs": [
    {
     "data": {
      "text/plain": [
       "'Gray Point/Beige'"
      ]
     },
     "execution_count": 16,
     "metadata": {},
     "output_type": "execute_result"
    }
   ],
   "source": [
    "colors[-1].replace(\"Gray Tick\", \"Gray\")"
   ]
  },
  {
   "cell_type": "markdown",
   "id": "6f999c7d-d132-4f5c-a220-508f24d39c52",
   "metadata": {},
   "source": [
    "## Old unused code"
   ]
  },
  {
   "cell_type": "code",
   "execution_count": 17,
   "id": "4831587f-7057-4784-a734-6e454193dede",
   "metadata": {},
   "outputs": [],
   "source": [
    "#complex colors\n",
    "# all_color = replace_colors([\"Torbie\", \"Tabby\", \"Tortie\", \"Blue Striped\", \"Brown Striped\", \"Brindle\", \"Black Striped\" ], \"Striped\", all_color[\"color\"]) #preliminary striped\n",
    "\n",
    "# def is_striped(color):\n",
    "#     colors = [\"Striped\"]\n",
    "#     color_list = \" \".join(color.split(\"/\")).split(\" \")\n",
    "#     for color in colors:\n",
    "#         if color in color_list:\n",
    "#             return True\n",
    "#     return False\n",
    "\n",
    "\n",
    "# all_color = all_color.replace(to_replace=['Black/Black Tabby','White/Black Tabby','Black Tabby/White','Black Tabby/Black', 'Brown/Black Tabby',\n",
    "#                                          'Black Tabby/Orange', 'Black Tabby/Gray Tabby', 'Black Tabby/Gray', 'Black Tabby', \n",
    "#                                          'Black Brindle/White', 'Black Brindle', 'White/Black Brindle', 'Black Brindle/Brown', 'Black/Black Brindle',\n",
    "#                                           'Black Brindle/Black', 'Brown/Black Brindle', 'Brown Tabby/Black Brindle', 'Black Brindle/Blue',\n",
    "#                                           'Black Brindle/Blue Tick', 'Black Brindle/Brown Brindle', 'Brown Brindle/White',\n",
    "#                                           'Brown Brindle', 'White/Brown Brindle', 'Black/Brown Brindle', 'Brown Brindle/Black', 'Tricolor/Brown Brindle',\n",
    "#                                           'Brown Brindle/Tan', 'Brown Brindle/Brown', 'Blue/Brown Brindle', 'Brown/Brown Brindle',\n",
    "#                                           'Brown Brindle/Red Tick', 'Fawn/Brown Brindle', 'Brown Brindle/Blue Tick',\n",
    "#                                           'Chocolate/Brown Brindle', 'Tan/Brown Brindle', 'Blue Tick/Brown Brindle', 'Brown Striped', 'Brown Brindle/Blue',\n",
    "#                                           'Brown Brindle/Blue Cream', 'Brown Brindle/Brown Brindle', 'Brown Brindle/Brown Merle',\n",
    "#                                           'Brown Brindle/Gray', 'Black Brindle/Brown Brindle', 'Blue Merle/Brown Brindle',\n",
    "#                                           'Yellow Brindle/White', 'Yellow Brindle', 'White/Yellow Brindle', 'Sable/Brown',\n",
    "#                                           'Black/Yellow Brindle', 'Blue/Yellow Brindle', 'Tan/Yellow Brindle', 'Yellow Brindle/Blue', 'Torbie', 'Tabby'], value= 'Striped')"
   ]
  }
 ],
 "metadata": {
  "kernelspec": {
   "display_name": "Python 3 (ipykernel)",
   "language": "python",
   "name": "python3"
  },
  "language_info": {
   "codemirror_mode": {
    "name": "ipython",
    "version": 3
   },
   "file_extension": ".py",
   "mimetype": "text/x-python",
   "name": "python",
   "nbconvert_exporter": "python",
   "pygments_lexer": "ipython3",
   "version": "3.10.6"
  },
  "vscode": {
   "interpreter": {
    "hash": "dd56538736ad7b003df3ecc66df3a2c8ca81e3b624717e6dfe5a53e68fae20f7"
   }
  }
 },
 "nbformat": 4,
 "nbformat_minor": 5
}
