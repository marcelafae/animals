{
 "cells": [
  {
   "cell_type": "markdown",
   "id": "57be2312",
   "metadata": {},
   "source": [
    "Animals project"
   ]
  },
  {
   "cell_type": "code",
   "execution_count": 1,
   "id": "13c47b85",
   "metadata": {},
   "outputs": [],
   "source": [
    "import numpy as np\n",
    "import pandas as pd\n",
    "import matplotlib"
   ]
  },
  {
   "cell_type": "code",
   "execution_count": 2,
   "id": "20f33cb1",
   "metadata": {},
   "outputs": [
    {
     "name": "stdout",
     "output_type": "stream",
     "text": [
      "  age_upon_outcome animal_id_outcome        date_of_birth     outcome_type  \\\n",
      "0         10 years           A006100  2007-07-09 00:00:00  Return to Owner   \n",
      "1          7 years           A006100  2007-07-09 00:00:00  Return to Owner   \n",
      "2          6 years           A006100  2007-07-09 00:00:00  Return to Owner   \n",
      "3         10 years           A047759  2004-04-02 00:00:00         Transfer   \n",
      "4         16 years           A134067  1997-10-16 00:00:00  Return to Owner   \n",
      "\n",
      "  sex_upon_outcome  age_upon_outcome_(days)  age_upon_outcome_(years)  \\\n",
      "0    Neutered Male                     3650                      10.0   \n",
      "1    Neutered Male                     2555                       7.0   \n",
      "2    Neutered Male                     2190                       6.0   \n",
      "3    Neutered Male                     3650                      10.0   \n",
      "4    Neutered Male                     5840                      16.0   \n",
      "\n",
      "      outcome_datetime  outcome_month  outcome_year  ...  \\\n",
      "0  2017-12-07 14:07:00             12          2017  ...   \n",
      "1  2014-12-20 16:35:00             12          2014  ...   \n",
      "2  2014-03-08 17:10:00              3          2014  ...   \n",
      "3  2014-04-07 15:12:00              4          2014  ...   \n",
      "4  2013-11-16 11:54:00             11          2013  ...   \n",
      "\n",
      "  age_upon_intake_(days) age_upon_intake_(years)  age_upon_intake_age_group  \\\n",
      "0                   3650                    10.0                (7.5, 10.0]   \n",
      "1                   2555                     7.0                 (5.0, 7.5]   \n",
      "2                   2190                     6.0                 (5.0, 7.5]   \n",
      "3                   3650                    10.0                (7.5, 10.0]   \n",
      "4                   5840                    16.0               (15.0, 17.5]   \n",
      "\n",
      "       intake_datetime intake_month intake_year intake_monthyear  \\\n",
      "0  2017-12-07 00:00:00           12        2017          2017-12   \n",
      "1  2014-12-19 10:21:00           12        2014          2014-12   \n",
      "2  2014-03-07 14:26:00            3        2014          2014-03   \n",
      "3  2014-04-02 15:55:00            4        2014          2014-04   \n",
      "4  2013-11-16 09:02:00           11        2013          2013-11   \n",
      "\n",
      "  intake_weekday intake_hour intake_number  \n",
      "0       Thursday          14           1.0  \n",
      "1         Friday          10           2.0  \n",
      "2         Friday          14           3.0  \n",
      "3      Wednesday          15           1.0  \n",
      "4       Saturday           9           1.0  \n",
      "\n",
      "[5 rows x 31 columns]\n"
     ]
    }
   ],
   "source": [
    "# Import dataframe from aac_intakes_outcomes.csv\n",
    "csv_file_path = \"/home/john/code/joagap/animals/clean_dataset.csv\"\n",
    "df = pd.read_csv(csv_file_path)\n",
    "print(df.head())"
   ]
  },
  {
   "cell_type": "code",
   "execution_count": 3,
   "id": "12d3198c",
   "metadata": {},
   "outputs": [
    {
     "data": {
      "text/plain": [
       "67212"
      ]
     },
     "execution_count": 3,
     "metadata": {},
     "output_type": "execute_result"
    }
   ],
   "source": [
    "# Check unique ids\n",
    "unique_ids = df[\"animal_id_outcome\"].nunique()\n",
    "unique_ids"
   ]
  },
  {
   "cell_type": "code",
   "execution_count": 4,
   "id": "46a89fb3",
   "metadata": {},
   "outputs": [
    {
     "data": {
      "text/plain": [
       "array(['A006100', 'A245945', 'A282897', ..., 'A768473', 'A768566',\n",
       "       'A768895'], dtype=object)"
      ]
     },
     "execution_count": 4,
     "metadata": {},
     "output_type": "execute_result"
    }
   ],
   "source": [
    "duplicate_ids = df[df[\"animal_id_outcome\"].duplicated()][\"animal_id_outcome\"].unique()\n",
    "duplicate_ids"
   ]
  },
  {
   "cell_type": "code",
   "execution_count": 5,
   "id": "abe847ef",
   "metadata": {},
   "outputs": [
    {
     "data": {
      "text/plain": [
       "6038"
      ]
     },
     "execution_count": 5,
     "metadata": {},
     "output_type": "execute_result"
    }
   ],
   "source": [
    "len(duplicate_ids)"
   ]
  },
  {
   "cell_type": "code",
   "execution_count": 6,
   "id": "737feccf",
   "metadata": {},
   "outputs": [
    {
     "data": {
      "text/plain": [
       "8.98351484853895"
      ]
     },
     "execution_count": 6,
     "metadata": {},
     "output_type": "execute_result"
    }
   ],
   "source": [
    "len(duplicate_ids)/unique_ids * 100"
   ]
  },
  {
   "cell_type": "code",
   "execution_count": 7,
   "id": "f6d90d75",
   "metadata": {},
   "outputs": [],
   "source": [
    "# How to remove unique ids (df clean)\n",
    "df.drop_duplicates(subset=[\"animal_id_outcome\"], keep=\"first\", inplace=True)"
   ]
  },
  {
   "cell_type": "code",
   "execution_count": 8,
   "id": "b5c28ea1",
   "metadata": {},
   "outputs": [
    {
     "data": {
      "text/plain": [
       "array([], dtype=object)"
      ]
     },
     "execution_count": 8,
     "metadata": {},
     "output_type": "execute_result"
    }
   ],
   "source": [
    "df[df[\"animal_id_outcome\"].duplicated()][\"animal_id_outcome\"].unique()"
   ]
  },
  {
   "cell_type": "code",
   "execution_count": 9,
   "id": "0b3bce0e",
   "metadata": {},
   "outputs": [
    {
     "name": "stdout",
     "output_type": "stream",
     "text": [
      "<class 'pandas.core.frame.DataFrame'>\n",
      "Int64Index: 67212 entries, 0 to 74875\n",
      "Data columns (total 31 columns):\n",
      " #   Column                     Non-Null Count  Dtype  \n",
      "---  ------                     --------------  -----  \n",
      " 0   age_upon_outcome           67212 non-null  object \n",
      " 1   animal_id_outcome          67212 non-null  object \n",
      " 2   date_of_birth              67212 non-null  object \n",
      " 3   outcome_type               67211 non-null  object \n",
      " 4   sex_upon_outcome           67211 non-null  object \n",
      " 5   age_upon_outcome_(days)    67212 non-null  int64  \n",
      " 6   age_upon_outcome_(years)   67212 non-null  float64\n",
      " 7   outcome_datetime           67212 non-null  object \n",
      " 8   outcome_month              67212 non-null  int64  \n",
      " 9   outcome_year               67212 non-null  int64  \n",
      " 10  outcome_monthyear          67212 non-null  object \n",
      " 11  outcome_weekday            67212 non-null  object \n",
      " 12  outcome_hour               67212 non-null  int64  \n",
      " 13  age_upon_intake            67212 non-null  object \n",
      " 14  animal_id_intake           67212 non-null  object \n",
      " 15  animal_type                67212 non-null  object \n",
      " 16  breed                      67212 non-null  object \n",
      " 17  color                      67212 non-null  object \n",
      " 18  intake_condition           67212 non-null  object \n",
      " 19  sex_upon_intake            67211 non-null  object \n",
      " 20  count                      67212 non-null  int64  \n",
      " 21  age_upon_intake_(days)     67212 non-null  int64  \n",
      " 22  age_upon_intake_(years)    67212 non-null  float64\n",
      " 23  age_upon_intake_age_group  67212 non-null  object \n",
      " 24  intake_datetime            67212 non-null  object \n",
      " 25  intake_month               67212 non-null  int64  \n",
      " 26  intake_year                67212 non-null  int64  \n",
      " 27  intake_monthyear           67212 non-null  object \n",
      " 28  intake_weekday             67212 non-null  object \n",
      " 29  intake_hour                67212 non-null  int64  \n",
      " 30  intake_number              67212 non-null  float64\n",
      "dtypes: float64(3), int64(9), object(19)\n",
      "memory usage: 16.4+ MB\n"
     ]
    }
   ],
   "source": [
    "df.info()"
   ]
  },
  {
   "cell_type": "code",
   "execution_count": 10,
   "id": "e873c8b9",
   "metadata": {},
   "outputs": [
    {
     "data": {
      "text/plain": [
       "Index(['age_upon_outcome', 'animal_id_outcome', 'date_of_birth',\n",
       "       'outcome_type', 'sex_upon_outcome', 'age_upon_outcome_(days)',\n",
       "       'age_upon_outcome_(years)', 'outcome_datetime', 'outcome_month',\n",
       "       'outcome_year', 'outcome_monthyear', 'outcome_weekday', 'outcome_hour',\n",
       "       'age_upon_intake', 'animal_id_intake', 'animal_type', 'breed', 'color',\n",
       "       'intake_condition', 'sex_upon_intake', 'count',\n",
       "       'age_upon_intake_(days)', 'age_upon_intake_(years)',\n",
       "       'age_upon_intake_age_group', 'intake_datetime', 'intake_month',\n",
       "       'intake_year', 'intake_monthyear', 'intake_weekday', 'intake_hour',\n",
       "       'intake_number'],\n",
       "      dtype='object')"
      ]
     },
     "execution_count": 10,
     "metadata": {},
     "output_type": "execute_result"
    }
   ],
   "source": [
    "df.columns"
   ]
  },
  {
   "cell_type": "code",
   "execution_count": 11,
   "id": "dea46e17",
   "metadata": {},
   "outputs": [
    {
     "name": "stderr",
     "output_type": "stream",
     "text": [
      "/tmp/ipykernel_284796/2186747525.py:7: FutureWarning: The default value of numeric_only in DataFrame.corr is deprecated. In a future version, it will default to False. Select only valid columns or specify the value of numeric_only to silence this warning.\n",
      "  corr_matrix = df.corr()\n"
     ]
    },
    {
     "data": {
      "image/png": "[encoded data removed]",
      "text/plain": [
       "<Figure size 432x288 with 2 Axes>"
      ]
     },
     "metadata": {
      "needs_background": "light"
     },
     "output_type": "display_data"
    }
   ],
   "source": [
    "# Correlations\n",
    "import pandas as pd\n",
    "import seaborn as sns\n",
    "import matplotlib.pyplot as plt\n",
    "\n",
    "# assuming \"df\" is the name of your pandas dataframe\n",
    "corr_matrix = df.corr()\n",
    "\n",
    "# create a heatmap of the correlations\n",
    "sns.heatmap(corr_matrix, cmap=\"YlGnBu\")\n",
    "\n",
    "# show the plot\n",
    "plt.show()"
   ]
  },
  {
   "cell_type": "code",
   "execution_count": 12,
   "id": "23470db7",
   "metadata": {},
   "outputs": [
    {
     "data": {
      "image/png": "[encoded data removed]",
      "text/plain": [
       "<Figure size 432x288 with 1 Axes>"
      ]
     },
     "metadata": {
      "needs_background": "light"
     },
     "output_type": "display_data"
    }
   ],
   "source": [
    "import matplotlib.pyplot as plt\n",
    "df[\"age_upon_outcome_(years)\"].plot(kind=\"hist\", bins=20)\n",
    "plt.xlabel(\"Age (years)\")\n",
    "plt.ylabel(\"Frequency\")\n",
    "plt.title(\"Histogram of Age Upon Outcome (Years)\")\n",
    "plt.show()"
   ]
  },
  {
   "cell_type": "code",
   "execution_count": 13,
   "id": "0e718b51",
   "metadata": {},
   "outputs": [
    {
     "data": {
      "image/png": "[encoded data removed]",
      "text/plain": [
       "<Figure size 432x288 with 1 Axes>"
      ]
     },
     "metadata": {
      "needs_background": "light"
     },
     "output_type": "display_data"
    }
   ],
   "source": [
    "outcome_counts = df[\"outcome_type\"].value_counts()\n",
    "outcome_counts.plot(kind=\"bar\")\n",
    "plt.xlabel(\"Outcome Type\")\n",
    "plt.ylabel(\"Count\")\n",
    "plt.title(\"Counts of Outcome Types\")\n",
    "plt.show()"
   ]
  },
  {
   "cell_type": "code",
   "execution_count": 14,
   "id": "139859ee",
   "metadata": {},
   "outputs": [
    {
     "data": {
      "image/png": "[encoded data removed]",
      "text/plain": [
       "<Figure size 432x288 with 1 Axes>"
      ]
     },
     "metadata": {
      "needs_background": "light"
     },
     "output_type": "display_data"
    }
   ],
   "source": [
    "import matplotlib.pyplot as plt\n",
    "import seaborn as sns\n",
    "\n",
    "# create a scatter plot between intake_condition and age upon outcome\n",
    "sns.scatterplot(data=df, x='intake_condition', y='age_upon_outcome_(days)')\n",
    "\n",
    "# set labels and title\n",
    "plt.xlabel('Intake Condition')\n",
    "plt.ylabel('age upon outcome days')\n",
    "plt.title('Scatter Plot of Intake Condition vs. age upon outcome days')\n",
    "\n",
    "# display the plot\n",
    "plt.show()"
   ]
  },
  {
   "cell_type": "code",
   "execution_count": 15,
   "id": "6d61bbd7",
   "metadata": {},
   "outputs": [
    {
     "data": {
      "text/plain": [
       "Normal      59638\n",
       "Injured      3110\n",
       "Sick         2097\n",
       "Nursing      1815\n",
       "Aged          292\n",
       "Other         132\n",
       "Feral          87\n",
       "Pregnant       41\n",
       "Name: intake_condition, dtype: int64"
      ]
     },
     "execution_count": 15,
     "metadata": {},
     "output_type": "execute_result"
    }
   ],
   "source": [
    "df[\"intake_condition\"].value_counts()"
   ]
  },
  {
   "cell_type": "code",
   "execution_count": 16,
   "id": "1e695140",
   "metadata": {},
   "outputs": [
    {
     "data": {
      "text/plain": [
       "<function matplotlib.pyplot.show(close=None, block=None)>"
      ]
     },
     "execution_count": 16,
     "metadata": {},
     "output_type": "execute_result"
    },
    {
     "data": {
      "image/png": "[encoded data removed]",
      "text/plain": [
       "<Figure size 432x288 with 1 Axes>"
      ]
     },
     "metadata": {
      "needs_background": "light"
     },
     "output_type": "display_data"
    }
   ],
   "source": [
    "# create a bar chart of animal types\n",
    "df['animal_type'].value_counts().plot.bar()\n",
    "plt.title('Animal Types')\n",
    "plt.xlabel('Animal Type')\n",
    "plt.ylabel('Count')\n",
    "plt.show"
   ]
  },
  {
   "cell_type": "code",
   "execution_count": 17,
   "id": "83ea0622",
   "metadata": {},
   "outputs": [
    {
     "data": {
      "image/png": "[encoded data removed]",
      "text/plain": [
       "<Figure size 432x288 with 1 Axes>"
      ]
     },
     "metadata": {
      "needs_background": "light"
     },
     "output_type": "display_data"
    }
   ],
   "source": [
    "df.plot(kind=\"scatter\", x=\"age_upon_intake_(days)\", y=\"age_upon_outcome\")\n",
    "plt.xlabel(\"Age Upon Intake (Days)\")\n",
    "plt.ylabel(\"Time in Shelter (Days)\")\n",
    "plt.title(\"Scatter Plot of Age Upon Intake vs. Time in Shelter\")\n",
    "plt.show()"
   ]
  },
  {
   "cell_type": "code",
   "execution_count": 18,
   "id": "1eb1b9eb",
   "metadata": {},
   "outputs": [
    {
     "data": {
      "image/png": "[encoded data removed]",
      "text/plain": [
       "<Figure size 432x288 with 1 Axes>"
      ]
     },
     "metadata": {
      "needs_background": "light"
     },
     "output_type": "display_data"
    }
   ],
   "source": [
    "import seaborn as sns\n",
    "\n",
    "sns.scatterplot(data=df, x=\"age_upon_intake_(days)\", y=\"age_upon_outcome\", hue=\"animal_type\")\n",
    "plt.xlabel(\"Age Upon Intake (Days)\")\n",
    "plt.ylabel(\"Time in Shelter (Days)\")\n",
    "plt.title(\"Scatter Plot of Age Upon Intake vs. Time in Shelter by Animal Type\")\n",
    "plt.show()"
   ]
  },
  {
   "cell_type": "code",
   "execution_count": 19,
   "id": "7fbe35da",
   "metadata": {},
   "outputs": [],
   "source": [
    "# Calculate the time_in_shelter_days and create a new column\n",
    "import pandas as pd\n",
    "\n",
    "# Convert the 'intake_datetime' and 'outcome_datetime' columns to datetime format\n",
    "df['intake_datetime'] = pd.to_datetime(df['intake_datetime'])\n",
    "df['outcome_datetime'] = pd.to_datetime(df['outcome_datetime'])\n",
    "\n",
    "# Calculate the difference between 'outcome_datetime' and 'intake_datetime' and convert it to days\n",
    "df['time_in_shelter_days'] = (df['outcome_datetime'] - df['intake_datetime']).dt.days"
   ]
  },
  {
   "cell_type": "code",
   "execution_count": 20,
   "id": "5d34599c",
   "metadata": {},
   "outputs": [
    {
     "data": {
      "text/html": [
       "<div>\n",
       "<style scoped>\n",
       "    .dataframe tbody tr th:only-of-type {\n",
       "        vertical-align: middle;\n",
       "    }\n",
       "\n",
       "    .dataframe tbody tr th {\n",
       "        vertical-align: top;\n",
       "    }\n",
       "\n",
       "    .dataframe thead th {\n",
       "        text-align: right;\n",
       "    }\n",
       "</style>\n",
       "<table border=\"1\" class=\"dataframe\">\n",
       "  <thead>\n",
       "    <tr style=\"text-align: right;\">\n",
       "      <th></th>\n",
       "      <th>age_upon_outcome</th>\n",
       "      <th>animal_id_outcome</th>\n",
       "      <th>date_of_birth</th>\n",
       "      <th>outcome_type</th>\n",
       "      <th>sex_upon_outcome</th>\n",
       "      <th>age_upon_outcome_(days)</th>\n",
       "      <th>age_upon_outcome_(years)</th>\n",
       "      <th>outcome_datetime</th>\n",
       "      <th>outcome_month</th>\n",
       "      <th>outcome_year</th>\n",
       "      <th>...</th>\n",
       "      <th>age_upon_intake_(years)</th>\n",
       "      <th>age_upon_intake_age_group</th>\n",
       "      <th>intake_datetime</th>\n",
       "      <th>intake_month</th>\n",
       "      <th>intake_year</th>\n",
       "      <th>intake_monthyear</th>\n",
       "      <th>intake_weekday</th>\n",
       "      <th>intake_hour</th>\n",
       "      <th>intake_number</th>\n",
       "      <th>time_in_shelter_days</th>\n",
       "    </tr>\n",
       "  </thead>\n",
       "  <tbody>\n",
       "    <tr>\n",
       "      <th>0</th>\n",
       "      <td>10 years</td>\n",
       "      <td>A006100</td>\n",
       "      <td>2007-07-09 00:00:00</td>\n",
       "      <td>Return to Owner</td>\n",
       "      <td>Neutered Male</td>\n",
       "      <td>3650</td>\n",
       "      <td>10.000000</td>\n",
       "      <td>2017-12-07 14:07:00</td>\n",
       "      <td>12</td>\n",
       "      <td>2017</td>\n",
       "      <td>...</td>\n",
       "      <td>10.000000</td>\n",
       "      <td>(7.5, 10.0]</td>\n",
       "      <td>2017-12-07 00:00:00</td>\n",
       "      <td>12</td>\n",
       "      <td>2017</td>\n",
       "      <td>2017-12</td>\n",
       "      <td>Thursday</td>\n",
       "      <td>14</td>\n",
       "      <td>1.0</td>\n",
       "      <td>0</td>\n",
       "    </tr>\n",
       "    <tr>\n",
       "      <th>3</th>\n",
       "      <td>10 years</td>\n",
       "      <td>A047759</td>\n",
       "      <td>2004-04-02 00:00:00</td>\n",
       "      <td>Transfer</td>\n",
       "      <td>Neutered Male</td>\n",
       "      <td>3650</td>\n",
       "      <td>10.000000</td>\n",
       "      <td>2014-04-07 15:12:00</td>\n",
       "      <td>4</td>\n",
       "      <td>2014</td>\n",
       "      <td>...</td>\n",
       "      <td>10.000000</td>\n",
       "      <td>(7.5, 10.0]</td>\n",
       "      <td>2014-04-02 15:55:00</td>\n",
       "      <td>4</td>\n",
       "      <td>2014</td>\n",
       "      <td>2014-04</td>\n",
       "      <td>Wednesday</td>\n",
       "      <td>15</td>\n",
       "      <td>1.0</td>\n",
       "      <td>4</td>\n",
       "    </tr>\n",
       "    <tr>\n",
       "      <th>4</th>\n",
       "      <td>16 years</td>\n",
       "      <td>A134067</td>\n",
       "      <td>1997-10-16 00:00:00</td>\n",
       "      <td>Return to Owner</td>\n",
       "      <td>Neutered Male</td>\n",
       "      <td>5840</td>\n",
       "      <td>16.000000</td>\n",
       "      <td>2013-11-16 11:54:00</td>\n",
       "      <td>11</td>\n",
       "      <td>2013</td>\n",
       "      <td>...</td>\n",
       "      <td>16.000000</td>\n",
       "      <td>(15.0, 17.5]</td>\n",
       "      <td>2013-11-16 09:02:00</td>\n",
       "      <td>11</td>\n",
       "      <td>2013</td>\n",
       "      <td>2013-11</td>\n",
       "      <td>Saturday</td>\n",
       "      <td>9</td>\n",
       "      <td>1.0</td>\n",
       "      <td>0</td>\n",
       "    </tr>\n",
       "    <tr>\n",
       "      <th>5</th>\n",
       "      <td>15 years</td>\n",
       "      <td>A141142</td>\n",
       "      <td>1998-06-01 00:00:00</td>\n",
       "      <td>Return to Owner</td>\n",
       "      <td>Spayed Female</td>\n",
       "      <td>5475</td>\n",
       "      <td>15.000000</td>\n",
       "      <td>2013-11-17 11:40:00</td>\n",
       "      <td>11</td>\n",
       "      <td>2013</td>\n",
       "      <td>...</td>\n",
       "      <td>15.000000</td>\n",
       "      <td>(12.5, 15.0]</td>\n",
       "      <td>2013-11-16 14:46:00</td>\n",
       "      <td>11</td>\n",
       "      <td>2013</td>\n",
       "      <td>2013-11</td>\n",
       "      <td>Saturday</td>\n",
       "      <td>14</td>\n",
       "      <td>1.0</td>\n",
       "      <td>0</td>\n",
       "    </tr>\n",
       "    <tr>\n",
       "      <th>6</th>\n",
       "      <td>15 years</td>\n",
       "      <td>A163459</td>\n",
       "      <td>1999-10-19 00:00:00</td>\n",
       "      <td>Return to Owner</td>\n",
       "      <td>Intact Female</td>\n",
       "      <td>5475</td>\n",
       "      <td>15.000000</td>\n",
       "      <td>2014-11-14 19:28:00</td>\n",
       "      <td>11</td>\n",
       "      <td>2014</td>\n",
       "      <td>...</td>\n",
       "      <td>15.000000</td>\n",
       "      <td>(12.5, 15.0]</td>\n",
       "      <td>2014-11-14 15:11:00</td>\n",
       "      <td>11</td>\n",
       "      <td>2014</td>\n",
       "      <td>2014-11</td>\n",
       "      <td>Friday</td>\n",
       "      <td>15</td>\n",
       "      <td>1.0</td>\n",
       "      <td>0</td>\n",
       "    </tr>\n",
       "    <tr>\n",
       "      <th>...</th>\n",
       "      <td>...</td>\n",
       "      <td>...</td>\n",
       "      <td>...</td>\n",
       "      <td>...</td>\n",
       "      <td>...</td>\n",
       "      <td>...</td>\n",
       "      <td>...</td>\n",
       "      <td>...</td>\n",
       "      <td>...</td>\n",
       "      <td>...</td>\n",
       "      <td>...</td>\n",
       "      <td>...</td>\n",
       "      <td>...</td>\n",
       "      <td>...</td>\n",
       "      <td>...</td>\n",
       "      <td>...</td>\n",
       "      <td>...</td>\n",
       "      <td>...</td>\n",
       "      <td>...</td>\n",
       "      <td>...</td>\n",
       "      <td>...</td>\n",
       "    </tr>\n",
       "    <tr>\n",
       "      <th>74871</th>\n",
       "      <td>2 weeks</td>\n",
       "      <td>A769058</td>\n",
       "      <td>2018-03-14 00:00:00</td>\n",
       "      <td>Transfer</td>\n",
       "      <td>Unknown</td>\n",
       "      <td>14</td>\n",
       "      <td>0.038356</td>\n",
       "      <td>2018-03-29 18:13:00</td>\n",
       "      <td>3</td>\n",
       "      <td>2018</td>\n",
       "      <td>...</td>\n",
       "      <td>0.038356</td>\n",
       "      <td>(-0.025, 2.5]</td>\n",
       "      <td>2018-03-29 16:23:00</td>\n",
       "      <td>3</td>\n",
       "      <td>2018</td>\n",
       "      <td>2018-03</td>\n",
       "      <td>Thursday</td>\n",
       "      <td>16</td>\n",
       "      <td>1.0</td>\n",
       "      <td>0</td>\n",
       "    </tr>\n",
       "    <tr>\n",
       "      <th>74872</th>\n",
       "      <td>2 weeks</td>\n",
       "      <td>A769059</td>\n",
       "      <td>2018-03-14 00:00:00</td>\n",
       "      <td>Transfer</td>\n",
       "      <td>Unknown</td>\n",
       "      <td>14</td>\n",
       "      <td>0.038356</td>\n",
       "      <td>2018-03-30 09:23:00</td>\n",
       "      <td>3</td>\n",
       "      <td>2018</td>\n",
       "      <td>...</td>\n",
       "      <td>0.038356</td>\n",
       "      <td>(-0.025, 2.5]</td>\n",
       "      <td>2018-03-29 16:23:00</td>\n",
       "      <td>3</td>\n",
       "      <td>2018</td>\n",
       "      <td>2018-03</td>\n",
       "      <td>Thursday</td>\n",
       "      <td>16</td>\n",
       "      <td>1.0</td>\n",
       "      <td>0</td>\n",
       "    </tr>\n",
       "    <tr>\n",
       "      <th>74873</th>\n",
       "      <td>2 weeks</td>\n",
       "      <td>A769060</td>\n",
       "      <td>2018-03-14 00:00:00</td>\n",
       "      <td>Transfer</td>\n",
       "      <td>Unknown</td>\n",
       "      <td>14</td>\n",
       "      <td>0.038356</td>\n",
       "      <td>2018-03-29 18:14:00</td>\n",
       "      <td>3</td>\n",
       "      <td>2018</td>\n",
       "      <td>...</td>\n",
       "      <td>0.038356</td>\n",
       "      <td>(-0.025, 2.5]</td>\n",
       "      <td>2018-03-29 16:23:00</td>\n",
       "      <td>3</td>\n",
       "      <td>2018</td>\n",
       "      <td>2018-03</td>\n",
       "      <td>Thursday</td>\n",
       "      <td>16</td>\n",
       "      <td>1.0</td>\n",
       "      <td>0</td>\n",
       "    </tr>\n",
       "    <tr>\n",
       "      <th>74874</th>\n",
       "      <td>10 months</td>\n",
       "      <td>A769066</td>\n",
       "      <td>2017-05-01 00:00:00</td>\n",
       "      <td>Return to Owner</td>\n",
       "      <td>Intact Male</td>\n",
       "      <td>300</td>\n",
       "      <td>0.821918</td>\n",
       "      <td>2018-03-31 12:37:00</td>\n",
       "      <td>3</td>\n",
       "      <td>2018</td>\n",
       "      <td>...</td>\n",
       "      <td>0.410959</td>\n",
       "      <td>(-0.025, 2.5]</td>\n",
       "      <td>2018-03-29 18:19:00</td>\n",
       "      <td>3</td>\n",
       "      <td>2018</td>\n",
       "      <td>2018-03</td>\n",
       "      <td>Thursday</td>\n",
       "      <td>18</td>\n",
       "      <td>1.0</td>\n",
       "      <td>1</td>\n",
       "    </tr>\n",
       "    <tr>\n",
       "      <th>74875</th>\n",
       "      <td>10 years</td>\n",
       "      <td>A769067</td>\n",
       "      <td>2008-03-29 00:00:00</td>\n",
       "      <td>Euthanasia</td>\n",
       "      <td>Spayed Female</td>\n",
       "      <td>3650</td>\n",
       "      <td>10.000000</td>\n",
       "      <td>2018-03-30 13:52:00</td>\n",
       "      <td>3</td>\n",
       "      <td>2018</td>\n",
       "      <td>...</td>\n",
       "      <td>10.000000</td>\n",
       "      <td>(7.5, 10.0]</td>\n",
       "      <td>2018-03-29 18:20:00</td>\n",
       "      <td>3</td>\n",
       "      <td>2018</td>\n",
       "      <td>2018-03</td>\n",
       "      <td>Thursday</td>\n",
       "      <td>18</td>\n",
       "      <td>1.0</td>\n",
       "      <td>0</td>\n",
       "    </tr>\n",
       "  </tbody>\n",
       "</table>\n",
       "<p>67212 rows × 32 columns</p>\n",
       "</div>"
      ],
      "text/plain": [
       "      age_upon_outcome animal_id_outcome        date_of_birth  \\\n",
       "0             10 years           A006100  2007-07-09 00:00:00   \n",
       "3             10 years           A047759  2004-04-02 00:00:00   \n",
       "4             16 years           A134067  1997-10-16 00:00:00   \n",
       "5             15 years           A141142  1998-06-01 00:00:00   \n",
       "6             15 years           A163459  1999-10-19 00:00:00   \n",
       "...                ...               ...                  ...   \n",
       "74871          2 weeks           A769058  2018-03-14 00:00:00   \n",
       "74872          2 weeks           A769059  2018-03-14 00:00:00   \n",
       "74873          2 weeks           A769060  2018-03-14 00:00:00   \n",
       "74874        10 months           A769066  2017-05-01 00:00:00   \n",
       "74875         10 years           A769067  2008-03-29 00:00:00   \n",
       "\n",
       "          outcome_type sex_upon_outcome  age_upon_outcome_(days)  \\\n",
       "0      Return to Owner    Neutered Male                     3650   \n",
       "3             Transfer    Neutered Male                     3650   \n",
       "4      Return to Owner    Neutered Male                     5840   \n",
       "5      Return to Owner    Spayed Female                     5475   \n",
       "6      Return to Owner    Intact Female                     5475   \n",
       "...                ...              ...                      ...   \n",
       "74871         Transfer          Unknown                       14   \n",
       "74872         Transfer          Unknown                       14   \n",
       "74873         Transfer          Unknown                       14   \n",
       "74874  Return to Owner      Intact Male                      300   \n",
       "74875       Euthanasia    Spayed Female                     3650   \n",
       "\n",
       "       age_upon_outcome_(years)    outcome_datetime  outcome_month  \\\n",
       "0                     10.000000 2017-12-07 14:07:00             12   \n",
       "3                     10.000000 2014-04-07 15:12:00              4   \n",
       "4                     16.000000 2013-11-16 11:54:00             11   \n",
       "5                     15.000000 2013-11-17 11:40:00             11   \n",
       "6                     15.000000 2014-11-14 19:28:00             11   \n",
       "...                         ...                 ...            ...   \n",
       "74871                  0.038356 2018-03-29 18:13:00              3   \n",
       "74872                  0.038356 2018-03-30 09:23:00              3   \n",
       "74873                  0.038356 2018-03-29 18:14:00              3   \n",
       "74874                  0.821918 2018-03-31 12:37:00              3   \n",
       "74875                 10.000000 2018-03-30 13:52:00              3   \n",
       "\n",
       "       outcome_year  ... age_upon_intake_(years) age_upon_intake_age_group  \\\n",
       "0              2017  ...               10.000000               (7.5, 10.0]   \n",
       "3              2014  ...               10.000000               (7.5, 10.0]   \n",
       "4              2013  ...               16.000000              (15.0, 17.5]   \n",
       "5              2013  ...               15.000000              (12.5, 15.0]   \n",
       "6              2014  ...               15.000000              (12.5, 15.0]   \n",
       "...             ...  ...                     ...                       ...   \n",
       "74871          2018  ...                0.038356             (-0.025, 2.5]   \n",
       "74872          2018  ...                0.038356             (-0.025, 2.5]   \n",
       "74873          2018  ...                0.038356             (-0.025, 2.5]   \n",
       "74874          2018  ...                0.410959             (-0.025, 2.5]   \n",
       "74875          2018  ...               10.000000               (7.5, 10.0]   \n",
       "\n",
       "          intake_datetime intake_month intake_year intake_monthyear  \\\n",
       "0     2017-12-07 00:00:00           12        2017          2017-12   \n",
       "3     2014-04-02 15:55:00            4        2014          2014-04   \n",
       "4     2013-11-16 09:02:00           11        2013          2013-11   \n",
       "5     2013-11-16 14:46:00           11        2013          2013-11   \n",
       "6     2014-11-14 15:11:00           11        2014          2014-11   \n",
       "...                   ...          ...         ...              ...   \n",
       "74871 2018-03-29 16:23:00            3        2018          2018-03   \n",
       "74872 2018-03-29 16:23:00            3        2018          2018-03   \n",
       "74873 2018-03-29 16:23:00            3        2018          2018-03   \n",
       "74874 2018-03-29 18:19:00            3        2018          2018-03   \n",
       "74875 2018-03-29 18:20:00            3        2018          2018-03   \n",
       "\n",
       "      intake_weekday intake_hour intake_number time_in_shelter_days  \n",
       "0           Thursday          14           1.0                    0  \n",
       "3          Wednesday          15           1.0                    4  \n",
       "4           Saturday           9           1.0                    0  \n",
       "5           Saturday          14           1.0                    0  \n",
       "6             Friday          15           1.0                    0  \n",
       "...              ...         ...           ...                  ...  \n",
       "74871       Thursday          16           1.0                    0  \n",
       "74872       Thursday          16           1.0                    0  \n",
       "74873       Thursday          16           1.0                    0  \n",
       "74874       Thursday          18           1.0                    1  \n",
       "74875       Thursday          18           1.0                    0  \n",
       "\n",
       "[67212 rows x 32 columns]"
      ]
     },
     "execution_count": 20,
     "metadata": {},
     "output_type": "execute_result"
    }
   ],
   "source": [
    "df"
   ]
  },
  {
   "cell_type": "markdown",
   "id": "70eedb01",
   "metadata": {},
   "source": [
    "PIPELINE TO PREPARE THE DATA FOR LR"
   ]
  },
  {
   "cell_type": "code",
   "execution_count": 21,
   "id": "c218c60f",
   "metadata": {},
   "outputs": [
    {
     "name": "stdout",
     "output_type": "stream",
     "text": [
      "Index(['age_upon_outcome', 'animal_id_outcome', 'date_of_birth',\n",
      "       'outcome_type', 'sex_upon_outcome', 'age_upon_outcome_(days)',\n",
      "       'age_upon_outcome_(years)', 'outcome_datetime', 'outcome_month',\n",
      "       'outcome_year', 'outcome_monthyear', 'outcome_weekday', 'outcome_hour',\n",
      "       'age_upon_intake', 'animal_id_intake', 'animal_type', 'breed', 'color',\n",
      "       'intake_condition', 'sex_upon_intake', 'count',\n",
      "       'age_upon_intake_(days)', 'age_upon_intake_(years)',\n",
      "       'age_upon_intake_age_group', 'intake_datetime', 'intake_month',\n",
      "       'intake_year', 'intake_monthyear', 'intake_weekday', 'intake_hour',\n",
      "       'intake_number', 'time_in_shelter_days'],\n",
      "      dtype='object')\n"
     ]
    }
   ],
   "source": [
    "print(df.columns)"
   ]
  },
  {
   "cell_type": "code",
   "execution_count": 22,
   "id": "924fdefd",
   "metadata": {},
   "outputs": [],
   "source": [
    "from sklearn.pipeline import make_pipeline, Pipeline\n",
    "from sklearn.impute import SimpleImputer\n",
    "from sklearn.compose import ColumnTransformer\n",
    "from sklearn.preprocessing import OneHotEncoder, StandardScaler\n",
    "from sklearn.linear_model import LinearRegression\n",
    "from sklearn.model_selection import train_test_split"
   ]
  },
  {
   "cell_type": "code",
   "execution_count": 23,
   "id": "eb7c430c",
   "metadata": {},
   "outputs": [],
   "source": [
    "# Define the features and target variable\n",
    "features = ['age_upon_outcome_(days)', 'animal_type', 'color', 'intake_condition', \n",
    "            'sex_upon_intake','age_upon_intake_age_group']\n",
    "\n",
    "target = 'time_in_shelter_days'\n",
    "\n",
    "# Split the data into training and test sets\n",
    "X_train, X_test, y_train, y_test = train_test_split(df[features], df[target], test_size=0.2, random_state=42)"
   ]
  },
  {
   "cell_type": "code",
   "execution_count": 24,
   "id": "2dc6051b",
   "metadata": {},
   "outputs": [
    {
     "name": "stdout",
     "output_type": "stream",
     "text": [
      "Shape of X_train: (53769, 6)\n",
      "Shape of y_train: (53769,)\n",
      "Shape of X_test: (13443, 6)\n",
      "Shape of y_test: (13443,)\n"
     ]
    }
   ],
   "source": [
    "# Ensure that the shapes are correct\n",
    "print(\"Shape of X_train:\", X_train.shape)\n",
    "print(\"Shape of y_train:\", y_train.shape)\n",
    "print(\"Shape of X_test:\", X_test.shape)\n",
    "print(\"Shape of y_test:\", y_test.shape)"
   ]
  },
  {
   "cell_type": "code",
   "execution_count": 25,
   "id": "85f6c41f",
   "metadata": {},
   "outputs": [],
   "source": [
    "# create a list of numerical columns and categorical columns\n",
    "numeric_features = ['age_upon_outcome_(days)']\n",
    "\n",
    "categorical_features = ['age_upon_intake_age_group', 'animal_type', 'color', 'intake_condition', \n",
    "            'sex_upon_intake']\n",
    "\n",
    "# create the transformer for numerical columns\n",
    "numeric_transformer = make_pipeline(StandardScaler())\n",
    "\n",
    "# create the transformer for categorical columns\n",
    "categorical_transformer = make_pipeline(OneHotEncoder(sparse=False, handle_unknown='ignore'))\n",
    "\n",
    "\n",
    "# use ColumnTransformer to specify which columns need to be preprocessed in what way\n",
    "preprocessor = ColumnTransformer(\n",
    "    transformers=[\n",
    "        ('num', numeric_transformer, numeric_features),\n",
    "        ('cat', categorical_transformer, categorical_features)])"
   ]
  },
  {
   "cell_type": "code",
   "execution_count": 26,
   "id": "fea96aa3",
   "metadata": {},
   "outputs": [],
   "source": [
    "# create the pipeline for linear regression with preprocessor\n",
    "pipeline = make_pipeline(preprocessor)"
   ]
  },
  {
   "cell_type": "code",
   "execution_count": 27,
   "id": "dadaa667",
   "metadata": {},
   "outputs": [
    {
     "data": {
      "text/html": [
       "<style>#sk-container-id-1 {color: black;background-color: white;}#sk-container-id-1 pre{padding: 0;}#sk-container-id-1 div.sk-toggleable {background-color: white;}#sk-container-id-1 label.sk-toggleable__label {cursor: pointer;display: block;width: 100%;margin-bottom: 0;padding: 0.3em;box-sizing: border-box;text-align: center;}#sk-container-id-1 label.sk-toggleable__label-arrow:before {content: \"▸\";float: left;margin-right: 0.25em;color: #696969;}#sk-container-id-1 label.sk-toggleable__label-arrow:hover:before {color: black;}#sk-container-id-1 div.sk-estimator:hover label.sk-toggleable__label-arrow:before {color: black;}#sk-container-id-1 div.sk-toggleable__content {max-height: 0;max-width: 0;overflow: hidden;text-align: left;background-color: #f0f8ff;}#sk-container-id-1 div.sk-toggleable__content pre {margin: 0.2em;color: black;border-radius: 0.25em;background-color: #f0f8ff;}#sk-container-id-1 input.sk-toggleable__control:checked~div.sk-toggleable__content {max-height: 200px;max-width: 100%;overflow: auto;}#sk-container-id-1 input.sk-toggleable__control:checked~label.sk-toggleable__label-arrow:before {content: \"▾\";}#sk-container-id-1 div.sk-estimator input.sk-toggleable__control:checked~label.sk-toggleable__label {background-color: #d4ebff;}#sk-container-id-1 div.sk-label input.sk-toggleable__control:checked~label.sk-toggleable__label {background-color: #d4ebff;}#sk-container-id-1 input.sk-hidden--visually {border: 0;clip: rect(1px 1px 1px 1px);clip: rect(1px, 1px, 1px, 1px);height: 1px;margin: -1px;overflow: hidden;padding: 0;position: absolute;width: 1px;}#sk-container-id-1 div.sk-estimator {font-family: monospace;background-color: #f0f8ff;border: 1px dotted black;border-radius: 0.25em;box-sizing: border-box;margin-bottom: 0.5em;}#sk-container-id-1 div.sk-estimator:hover {background-color: #d4ebff;}#sk-container-id-1 div.sk-parallel-item::after {content: \"\";width: 100%;border-bottom: 1px solid gray;flex-grow: 1;}#sk-container-id-1 div.sk-label:hover label.sk-toggleable__label {background-color: #d4ebff;}#sk-container-id-1 div.sk-serial::before {content: \"\";position: absolute;border-left: 1px solid gray;box-sizing: border-box;top: 0;bottom: 0;left: 50%;z-index: 0;}#sk-container-id-1 div.sk-serial {display: flex;flex-direction: column;align-items: center;background-color: white;padding-right: 0.2em;padding-left: 0.2em;position: relative;}#sk-container-id-1 div.sk-item {position: relative;z-index: 1;}#sk-container-id-1 div.sk-parallel {display: flex;align-items: stretch;justify-content: center;background-color: white;position: relative;}#sk-container-id-1 div.sk-item::before, #sk-container-id-1 div.sk-parallel-item::before {content: \"\";position: absolute;border-left: 1px solid gray;box-sizing: border-box;top: 0;bottom: 0;left: 50%;z-index: -1;}#sk-container-id-1 div.sk-parallel-item {display: flex;flex-direction: column;z-index: 1;position: relative;background-color: white;}#sk-container-id-1 div.sk-parallel-item:first-child::after {align-self: flex-end;width: 50%;}#sk-container-id-1 div.sk-parallel-item:last-child::after {align-self: flex-start;width: 50%;}#sk-container-id-1 div.sk-parallel-item:only-child::after {width: 0;}#sk-container-id-1 div.sk-dashed-wrapped {border: 1px dashed gray;margin: 0 0.4em 0.5em 0.4em;box-sizing: border-box;padding-bottom: 0.4em;background-color: white;}#sk-container-id-1 div.sk-label label {font-family: monospace;font-weight: bold;display: inline-block;line-height: 1.2em;}#sk-container-id-1 div.sk-label-container {text-align: center;}#sk-container-id-1 div.sk-container {/* jupyter's `normalize.less` sets `[hidden] { display: none; }` but bootstrap.min.css set `[hidden] { display: none !important; }` so we also need the `!important` here to be able to override the default hidden behavior on the sphinx rendered scikit-learn.org. See: https://github.com/scikit-learn/scikit-learn/issues/21755 */display: inline-block !important;position: relative;}#sk-container-id-1 div.sk-text-repr-fallback {display: none;}</style><div id=\"sk-container-id-1\" class=\"sk-top-container\"><div class=\"sk-text-repr-fallback\"><pre>Pipeline(steps=[(&#x27;columntransformer&#x27;,\n",
       "                 ColumnTransformer(transformers=[(&#x27;num&#x27;,\n",
       "                                                  Pipeline(steps=[(&#x27;standardscaler&#x27;,\n",
       "                                                                   StandardScaler())]),\n",
       "                                                  [&#x27;age_upon_outcome_(days)&#x27;]),\n",
       "                                                 (&#x27;cat&#x27;,\n",
       "                                                  Pipeline(steps=[(&#x27;onehotencoder&#x27;,\n",
       "                                                                   OneHotEncoder(handle_unknown=&#x27;ignore&#x27;,\n",
       "                                                                                 sparse=False))]),\n",
       "                                                  [&#x27;age_upon_intake_age_group&#x27;,\n",
       "                                                   &#x27;animal_type&#x27;, &#x27;color&#x27;,\n",
       "                                                   &#x27;intake_condition&#x27;,\n",
       "                                                   &#x27;sex_upon_intake&#x27;])]))])</pre><b>In a Jupyter environment, please rerun this cell to show the HTML representation or trust the notebook. <br />On GitHub, the HTML representation is unable to render, please try loading this page with nbviewer.org.</b></div><div class=\"sk-container\" hidden><div class=\"sk-item sk-dashed-wrapped\"><div class=\"sk-label-container\"><div class=\"sk-label sk-toggleable\"><input class=\"sk-toggleable__control sk-hidden--visually\" id=\"sk-estimator-id-1\" type=\"checkbox\" ><label for=\"sk-estimator-id-1\" class=\"sk-toggleable__label sk-toggleable__label-arrow\">Pipeline</label><div class=\"sk-toggleable__content\"><pre>Pipeline(steps=[(&#x27;columntransformer&#x27;,\n",
       "                 ColumnTransformer(transformers=[(&#x27;num&#x27;,\n",
       "                                                  Pipeline(steps=[(&#x27;standardscaler&#x27;,\n",
       "                                                                   StandardScaler())]),\n",
       "                                                  [&#x27;age_upon_outcome_(days)&#x27;]),\n",
       "                                                 (&#x27;cat&#x27;,\n",
       "                                                  Pipeline(steps=[(&#x27;onehotencoder&#x27;,\n",
       "                                                                   OneHotEncoder(handle_unknown=&#x27;ignore&#x27;,\n",
       "                                                                                 sparse=False))]),\n",
       "                                                  [&#x27;age_upon_intake_age_group&#x27;,\n",
       "                                                   &#x27;animal_type&#x27;, &#x27;color&#x27;,\n",
       "                                                   &#x27;intake_condition&#x27;,\n",
       "                                                   &#x27;sex_upon_intake&#x27;])]))])</pre></div></div></div><div class=\"sk-serial\"><div class=\"sk-item sk-dashed-wrapped\"><div class=\"sk-label-container\"><div class=\"sk-label sk-toggleable\"><input class=\"sk-toggleable__control sk-hidden--visually\" id=\"sk-estimator-id-2\" type=\"checkbox\" ><label for=\"sk-estimator-id-2\" class=\"sk-toggleable__label sk-toggleable__label-arrow\">columntransformer: ColumnTransformer</label><div class=\"sk-toggleable__content\"><pre>ColumnTransformer(transformers=[(&#x27;num&#x27;,\n",
       "                                 Pipeline(steps=[(&#x27;standardscaler&#x27;,\n",
       "                                                  StandardScaler())]),\n",
       "                                 [&#x27;age_upon_outcome_(days)&#x27;]),\n",
       "                                (&#x27;cat&#x27;,\n",
       "                                 Pipeline(steps=[(&#x27;onehotencoder&#x27;,\n",
       "                                                  OneHotEncoder(handle_unknown=&#x27;ignore&#x27;,\n",
       "                                                                sparse=False))]),\n",
       "                                 [&#x27;age_upon_intake_age_group&#x27;, &#x27;animal_type&#x27;,\n",
       "                                  &#x27;color&#x27;, &#x27;intake_condition&#x27;,\n",
       "                                  &#x27;sex_upon_intake&#x27;])])</pre></div></div></div><div class=\"sk-parallel\"><div class=\"sk-parallel-item\"><div class=\"sk-item\"><div class=\"sk-label-container\"><div class=\"sk-label sk-toggleable\"><input class=\"sk-toggleable__control sk-hidden--visually\" id=\"sk-estimator-id-3\" type=\"checkbox\" ><label for=\"sk-estimator-id-3\" class=\"sk-toggleable__label sk-toggleable__label-arrow\">num</label><div class=\"sk-toggleable__content\"><pre>[&#x27;age_upon_outcome_(days)&#x27;]</pre></div></div></div><div class=\"sk-serial\"><div class=\"sk-item\"><div class=\"sk-serial\"><div class=\"sk-item\"><div class=\"sk-estimator sk-toggleable\"><input class=\"sk-toggleable__control sk-hidden--visually\" id=\"sk-estimator-id-4\" type=\"checkbox\" ><label for=\"sk-estimator-id-4\" class=\"sk-toggleable__label sk-toggleable__label-arrow\">StandardScaler</label><div class=\"sk-toggleable__content\"><pre>StandardScaler()</pre></div></div></div></div></div></div></div></div><div class=\"sk-parallel-item\"><div class=\"sk-item\"><div class=\"sk-label-container\"><div class=\"sk-label sk-toggleable\"><input class=\"sk-toggleable__control sk-hidden--visually\" id=\"sk-estimator-id-5\" type=\"checkbox\" ><label for=\"sk-estimator-id-5\" class=\"sk-toggleable__label sk-toggleable__label-arrow\">cat</label><div class=\"sk-toggleable__content\"><pre>[&#x27;age_upon_intake_age_group&#x27;, &#x27;animal_type&#x27;, &#x27;color&#x27;, &#x27;intake_condition&#x27;, &#x27;sex_upon_intake&#x27;]</pre></div></div></div><div class=\"sk-serial\"><div class=\"sk-item\"><div class=\"sk-serial\"><div class=\"sk-item\"><div class=\"sk-estimator sk-toggleable\"><input class=\"sk-toggleable__control sk-hidden--visually\" id=\"sk-estimator-id-6\" type=\"checkbox\" ><label for=\"sk-estimator-id-6\" class=\"sk-toggleable__label sk-toggleable__label-arrow\">OneHotEncoder</label><div class=\"sk-toggleable__content\"><pre>OneHotEncoder(handle_unknown=&#x27;ignore&#x27;, sparse=False)</pre></div></div></div></div></div></div></div></div></div></div></div></div></div></div>"
      ],
      "text/plain": [
       "Pipeline(steps=[('columntransformer',\n",
       "                 ColumnTransformer(transformers=[('num',\n",
       "                                                  Pipeline(steps=[('standardscaler',\n",
       "                                                                   StandardScaler())]),\n",
       "                                                  ['age_upon_outcome_(days)']),\n",
       "                                                 ('cat',\n",
       "                                                  Pipeline(steps=[('onehotencoder',\n",
       "                                                                   OneHotEncoder(handle_unknown='ignore',\n",
       "                                                                                 sparse=False))]),\n",
       "                                                  ['age_upon_intake_age_group',\n",
       "                                                   'animal_type', 'color',\n",
       "                                                   'intake_condition',\n",
       "                                                   'sex_upon_intake'])]))])"
      ]
     },
     "execution_count": 27,
     "metadata": {},
     "output_type": "execute_result"
    }
   ],
   "source": [
    "pipeline"
   ]
  },
  {
   "cell_type": "code",
   "execution_count": 28,
   "id": "5fad3d63",
   "metadata": {},
   "outputs": [
    {
     "name": "stderr",
     "output_type": "stream",
     "text": [
      "/home/john/anaconda3/lib/python3.9/site-packages/sklearn/preprocessing/_encoders.py:828: FutureWarning: `sparse` was renamed to `sparse_output` in version 1.2 and will be removed in 1.4. `sparse_output` is ignored unless you leave `sparse` to its default value.\n",
      "  warnings.warn(\n"
     ]
    },
    {
     "data": {
      "text/html": [
       "<div>\n",
       "<style scoped>\n",
       "    .dataframe tbody tr th:only-of-type {\n",
       "        vertical-align: middle;\n",
       "    }\n",
       "\n",
       "    .dataframe tbody tr th {\n",
       "        vertical-align: top;\n",
       "    }\n",
       "\n",
       "    .dataframe thead th {\n",
       "        text-align: right;\n",
       "    }\n",
       "</style>\n",
       "<table border=\"1\" class=\"dataframe\">\n",
       "  <thead>\n",
       "    <tr style=\"text-align: right;\">\n",
       "      <th></th>\n",
       "      <th>0</th>\n",
       "      <th>1</th>\n",
       "      <th>2</th>\n",
       "      <th>3</th>\n",
       "      <th>4</th>\n",
       "      <th>5</th>\n",
       "      <th>6</th>\n",
       "      <th>7</th>\n",
       "      <th>8</th>\n",
       "      <th>9</th>\n",
       "      <th>...</th>\n",
       "      <th>478</th>\n",
       "      <th>479</th>\n",
       "      <th>480</th>\n",
       "      <th>481</th>\n",
       "      <th>482</th>\n",
       "      <th>483</th>\n",
       "      <th>484</th>\n",
       "      <th>485</th>\n",
       "      <th>486</th>\n",
       "      <th>487</th>\n",
       "    </tr>\n",
       "  </thead>\n",
       "  <tbody>\n",
       "    <tr>\n",
       "      <th>0</th>\n",
       "      <td>-0.390393</td>\n",
       "      <td>1.0</td>\n",
       "      <td>0.0</td>\n",
       "      <td>0.0</td>\n",
       "      <td>0.0</td>\n",
       "      <td>0.0</td>\n",
       "      <td>0.0</td>\n",
       "      <td>0.0</td>\n",
       "      <td>0.0</td>\n",
       "      <td>0.0</td>\n",
       "      <td>...</td>\n",
       "      <td>0.0</td>\n",
       "      <td>0.0</td>\n",
       "      <td>0.0</td>\n",
       "      <td>0.0</td>\n",
       "      <td>1.0</td>\n",
       "      <td>1.0</td>\n",
       "      <td>0.0</td>\n",
       "      <td>0.0</td>\n",
       "      <td>0.0</td>\n",
       "      <td>0.0</td>\n",
       "    </tr>\n",
       "    <tr>\n",
       "      <th>1</th>\n",
       "      <td>-0.390393</td>\n",
       "      <td>1.0</td>\n",
       "      <td>0.0</td>\n",
       "      <td>0.0</td>\n",
       "      <td>0.0</td>\n",
       "      <td>0.0</td>\n",
       "      <td>0.0</td>\n",
       "      <td>0.0</td>\n",
       "      <td>0.0</td>\n",
       "      <td>0.0</td>\n",
       "      <td>...</td>\n",
       "      <td>1.0</td>\n",
       "      <td>0.0</td>\n",
       "      <td>0.0</td>\n",
       "      <td>0.0</td>\n",
       "      <td>0.0</td>\n",
       "      <td>0.0</td>\n",
       "      <td>1.0</td>\n",
       "      <td>0.0</td>\n",
       "      <td>0.0</td>\n",
       "      <td>0.0</td>\n",
       "    </tr>\n",
       "    <tr>\n",
       "      <th>2</th>\n",
       "      <td>-0.390393</td>\n",
       "      <td>1.0</td>\n",
       "      <td>0.0</td>\n",
       "      <td>0.0</td>\n",
       "      <td>0.0</td>\n",
       "      <td>0.0</td>\n",
       "      <td>0.0</td>\n",
       "      <td>0.0</td>\n",
       "      <td>0.0</td>\n",
       "      <td>0.0</td>\n",
       "      <td>...</td>\n",
       "      <td>1.0</td>\n",
       "      <td>0.0</td>\n",
       "      <td>0.0</td>\n",
       "      <td>0.0</td>\n",
       "      <td>0.0</td>\n",
       "      <td>0.0</td>\n",
       "      <td>1.0</td>\n",
       "      <td>0.0</td>\n",
       "      <td>0.0</td>\n",
       "      <td>0.0</td>\n",
       "    </tr>\n",
       "    <tr>\n",
       "      <th>3</th>\n",
       "      <td>0.274405</td>\n",
       "      <td>0.0</td>\n",
       "      <td>0.0</td>\n",
       "      <td>0.0</td>\n",
       "      <td>0.0</td>\n",
       "      <td>0.0</td>\n",
       "      <td>1.0</td>\n",
       "      <td>0.0</td>\n",
       "      <td>0.0</td>\n",
       "      <td>0.0</td>\n",
       "      <td>...</td>\n",
       "      <td>1.0</td>\n",
       "      <td>0.0</td>\n",
       "      <td>0.0</td>\n",
       "      <td>0.0</td>\n",
       "      <td>0.0</td>\n",
       "      <td>0.0</td>\n",
       "      <td>0.0</td>\n",
       "      <td>1.0</td>\n",
       "      <td>0.0</td>\n",
       "      <td>0.0</td>\n",
       "    </tr>\n",
       "    <tr>\n",
       "      <th>4</th>\n",
       "      <td>-0.390393</td>\n",
       "      <td>1.0</td>\n",
       "      <td>0.0</td>\n",
       "      <td>0.0</td>\n",
       "      <td>0.0</td>\n",
       "      <td>0.0</td>\n",
       "      <td>0.0</td>\n",
       "      <td>0.0</td>\n",
       "      <td>0.0</td>\n",
       "      <td>0.0</td>\n",
       "      <td>...</td>\n",
       "      <td>1.0</td>\n",
       "      <td>0.0</td>\n",
       "      <td>0.0</td>\n",
       "      <td>0.0</td>\n",
       "      <td>0.0</td>\n",
       "      <td>0.0</td>\n",
       "      <td>0.0</td>\n",
       "      <td>1.0</td>\n",
       "      <td>0.0</td>\n",
       "      <td>0.0</td>\n",
       "    </tr>\n",
       "    <tr>\n",
       "      <th>...</th>\n",
       "      <td>...</td>\n",
       "      <td>...</td>\n",
       "      <td>...</td>\n",
       "      <td>...</td>\n",
       "      <td>...</td>\n",
       "      <td>...</td>\n",
       "      <td>...</td>\n",
       "      <td>...</td>\n",
       "      <td>...</td>\n",
       "      <td>...</td>\n",
       "      <td>...</td>\n",
       "      <td>...</td>\n",
       "      <td>...</td>\n",
       "      <td>...</td>\n",
       "      <td>...</td>\n",
       "      <td>...</td>\n",
       "      <td>...</td>\n",
       "      <td>...</td>\n",
       "      <td>...</td>\n",
       "      <td>...</td>\n",
       "      <td>...</td>\n",
       "    </tr>\n",
       "    <tr>\n",
       "      <th>53764</th>\n",
       "      <td>-0.057994</td>\n",
       "      <td>1.0</td>\n",
       "      <td>0.0</td>\n",
       "      <td>0.0</td>\n",
       "      <td>0.0</td>\n",
       "      <td>0.0</td>\n",
       "      <td>0.0</td>\n",
       "      <td>0.0</td>\n",
       "      <td>0.0</td>\n",
       "      <td>0.0</td>\n",
       "      <td>...</td>\n",
       "      <td>1.0</td>\n",
       "      <td>0.0</td>\n",
       "      <td>0.0</td>\n",
       "      <td>0.0</td>\n",
       "      <td>0.0</td>\n",
       "      <td>1.0</td>\n",
       "      <td>0.0</td>\n",
       "      <td>0.0</td>\n",
       "      <td>0.0</td>\n",
       "      <td>0.0</td>\n",
       "    </tr>\n",
       "    <tr>\n",
       "      <th>53765</th>\n",
       "      <td>2.601196</td>\n",
       "      <td>0.0</td>\n",
       "      <td>0.0</td>\n",
       "      <td>0.0</td>\n",
       "      <td>0.0</td>\n",
       "      <td>0.0</td>\n",
       "      <td>0.0</td>\n",
       "      <td>0.0</td>\n",
       "      <td>0.0</td>\n",
       "      <td>1.0</td>\n",
       "      <td>...</td>\n",
       "      <td>1.0</td>\n",
       "      <td>0.0</td>\n",
       "      <td>0.0</td>\n",
       "      <td>0.0</td>\n",
       "      <td>0.0</td>\n",
       "      <td>1.0</td>\n",
       "      <td>0.0</td>\n",
       "      <td>0.0</td>\n",
       "      <td>0.0</td>\n",
       "      <td>0.0</td>\n",
       "    </tr>\n",
       "    <tr>\n",
       "      <th>53766</th>\n",
       "      <td>-0.390393</td>\n",
       "      <td>1.0</td>\n",
       "      <td>0.0</td>\n",
       "      <td>0.0</td>\n",
       "      <td>0.0</td>\n",
       "      <td>0.0</td>\n",
       "      <td>0.0</td>\n",
       "      <td>0.0</td>\n",
       "      <td>0.0</td>\n",
       "      <td>0.0</td>\n",
       "      <td>...</td>\n",
       "      <td>1.0</td>\n",
       "      <td>0.0</td>\n",
       "      <td>0.0</td>\n",
       "      <td>0.0</td>\n",
       "      <td>0.0</td>\n",
       "      <td>0.0</td>\n",
       "      <td>0.0</td>\n",
       "      <td>0.0</td>\n",
       "      <td>1.0</td>\n",
       "      <td>0.0</td>\n",
       "    </tr>\n",
       "    <tr>\n",
       "      <th>53767</th>\n",
       "      <td>2.268797</td>\n",
       "      <td>0.0</td>\n",
       "      <td>0.0</td>\n",
       "      <td>0.0</td>\n",
       "      <td>0.0</td>\n",
       "      <td>0.0</td>\n",
       "      <td>0.0</td>\n",
       "      <td>0.0</td>\n",
       "      <td>0.0</td>\n",
       "      <td>1.0</td>\n",
       "      <td>...</td>\n",
       "      <td>1.0</td>\n",
       "      <td>0.0</td>\n",
       "      <td>0.0</td>\n",
       "      <td>0.0</td>\n",
       "      <td>0.0</td>\n",
       "      <td>0.0</td>\n",
       "      <td>0.0</td>\n",
       "      <td>0.0</td>\n",
       "      <td>1.0</td>\n",
       "      <td>0.0</td>\n",
       "    </tr>\n",
       "    <tr>\n",
       "      <th>53768</th>\n",
       "      <td>-0.716417</td>\n",
       "      <td>1.0</td>\n",
       "      <td>0.0</td>\n",
       "      <td>0.0</td>\n",
       "      <td>0.0</td>\n",
       "      <td>0.0</td>\n",
       "      <td>0.0</td>\n",
       "      <td>0.0</td>\n",
       "      <td>0.0</td>\n",
       "      <td>0.0</td>\n",
       "      <td>...</td>\n",
       "      <td>1.0</td>\n",
       "      <td>0.0</td>\n",
       "      <td>0.0</td>\n",
       "      <td>0.0</td>\n",
       "      <td>0.0</td>\n",
       "      <td>1.0</td>\n",
       "      <td>0.0</td>\n",
       "      <td>0.0</td>\n",
       "      <td>0.0</td>\n",
       "      <td>0.0</td>\n",
       "    </tr>\n",
       "  </tbody>\n",
       "</table>\n",
       "<p>53769 rows × 488 columns</p>\n",
       "</div>"
      ],
      "text/plain": [
       "            0    1    2    3    4    5    6    7    8    9    ...  478  479  \\\n",
       "0     -0.390393  1.0  0.0  0.0  0.0  0.0  0.0  0.0  0.0  0.0  ...  0.0  0.0   \n",
       "1     -0.390393  1.0  0.0  0.0  0.0  0.0  0.0  0.0  0.0  0.0  ...  1.0  0.0   \n",
       "2     -0.390393  1.0  0.0  0.0  0.0  0.0  0.0  0.0  0.0  0.0  ...  1.0  0.0   \n",
       "3      0.274405  0.0  0.0  0.0  0.0  0.0  1.0  0.0  0.0  0.0  ...  1.0  0.0   \n",
       "4     -0.390393  1.0  0.0  0.0  0.0  0.0  0.0  0.0  0.0  0.0  ...  1.0  0.0   \n",
       "...         ...  ...  ...  ...  ...  ...  ...  ...  ...  ...  ...  ...  ...   \n",
       "53764 -0.057994  1.0  0.0  0.0  0.0  0.0  0.0  0.0  0.0  0.0  ...  1.0  0.0   \n",
       "53765  2.601196  0.0  0.0  0.0  0.0  0.0  0.0  0.0  0.0  1.0  ...  1.0  0.0   \n",
       "53766 -0.390393  1.0  0.0  0.0  0.0  0.0  0.0  0.0  0.0  0.0  ...  1.0  0.0   \n",
       "53767  2.268797  0.0  0.0  0.0  0.0  0.0  0.0  0.0  0.0  1.0  ...  1.0  0.0   \n",
       "53768 -0.716417  1.0  0.0  0.0  0.0  0.0  0.0  0.0  0.0  0.0  ...  1.0  0.0   \n",
       "\n",
       "       480  481  482  483  484  485  486  487  \n",
       "0      0.0  0.0  1.0  1.0  0.0  0.0  0.0  0.0  \n",
       "1      0.0  0.0  0.0  0.0  1.0  0.0  0.0  0.0  \n",
       "2      0.0  0.0  0.0  0.0  1.0  0.0  0.0  0.0  \n",
       "3      0.0  0.0  0.0  0.0  0.0  1.0  0.0  0.0  \n",
       "4      0.0  0.0  0.0  0.0  0.0  1.0  0.0  0.0  \n",
       "...    ...  ...  ...  ...  ...  ...  ...  ...  \n",
       "53764  0.0  0.0  0.0  1.0  0.0  0.0  0.0  0.0  \n",
       "53765  0.0  0.0  0.0  1.0  0.0  0.0  0.0  0.0  \n",
       "53766  0.0  0.0  0.0  0.0  0.0  0.0  1.0  0.0  \n",
       "53767  0.0  0.0  0.0  0.0  0.0  0.0  1.0  0.0  \n",
       "53768  0.0  0.0  0.0  1.0  0.0  0.0  0.0  0.0  \n",
       "\n",
       "[53769 rows x 488 columns]"
      ]
     },
     "execution_count": 28,
     "metadata": {},
     "output_type": "execute_result"
    }
   ],
   "source": [
    "# Fit the pipeline on the training data\n",
    "pipeline.fit(X_train, y_train)\n",
    "\n",
    "# Transform\n",
    "X_train_transformed = pd.DataFrame(pipeline.transform(X_train))\n",
    "X_train_transformed"
   ]
  },
  {
   "cell_type": "code",
   "execution_count": 29,
   "id": "0978f5b7",
   "metadata": {},
   "outputs": [],
   "source": [
    "# Add LinearRegression() to the pipeline\n",
    "model_pipeline = Pipeline([\n",
    "    ('preprocessor', preprocessor),\n",
    "    ('regressor', LinearRegression())\n",
    "])"
   ]
  },
  {
   "cell_type": "code",
   "execution_count": 30,
   "id": "3ed06318",
   "metadata": {},
   "outputs": [
    {
     "data": {
      "text/html": [
       "<style>#sk-container-id-2 {color: black;background-color: white;}#sk-container-id-2 pre{padding: 0;}#sk-container-id-2 div.sk-toggleable {background-color: white;}#sk-container-id-2 label.sk-toggleable__label {cursor: pointer;display: block;width: 100%;margin-bottom: 0;padding: 0.3em;box-sizing: border-box;text-align: center;}#sk-container-id-2 label.sk-toggleable__label-arrow:before {content: \"▸\";float: left;margin-right: 0.25em;color: #696969;}#sk-container-id-2 label.sk-toggleable__label-arrow:hover:before {color: black;}#sk-container-id-2 div.sk-estimator:hover label.sk-toggleable__label-arrow:before {color: black;}#sk-container-id-2 div.sk-toggleable__content {max-height: 0;max-width: 0;overflow: hidden;text-align: left;background-color: #f0f8ff;}#sk-container-id-2 div.sk-toggleable__content pre {margin: 0.2em;color: black;border-radius: 0.25em;background-color: #f0f8ff;}#sk-container-id-2 input.sk-toggleable__control:checked~div.sk-toggleable__content {max-height: 200px;max-width: 100%;overflow: auto;}#sk-container-id-2 input.sk-toggleable__control:checked~label.sk-toggleable__label-arrow:before {content: \"▾\";}#sk-container-id-2 div.sk-estimator input.sk-toggleable__control:checked~label.sk-toggleable__label {background-color: #d4ebff;}#sk-container-id-2 div.sk-label input.sk-toggleable__control:checked~label.sk-toggleable__label {background-color: #d4ebff;}#sk-container-id-2 input.sk-hidden--visually {border: 0;clip: rect(1px 1px 1px 1px);clip: rect(1px, 1px, 1px, 1px);height: 1px;margin: -1px;overflow: hidden;padding: 0;position: absolute;width: 1px;}#sk-container-id-2 div.sk-estimator {font-family: monospace;background-color: #f0f8ff;border: 1px dotted black;border-radius: 0.25em;box-sizing: border-box;margin-bottom: 0.5em;}#sk-container-id-2 div.sk-estimator:hover {background-color: #d4ebff;}#sk-container-id-2 div.sk-parallel-item::after {content: \"\";width: 100%;border-bottom: 1px solid gray;flex-grow: 1;}#sk-container-id-2 div.sk-label:hover label.sk-toggleable__label {background-color: #d4ebff;}#sk-container-id-2 div.sk-serial::before {content: \"\";position: absolute;border-left: 1px solid gray;box-sizing: border-box;top: 0;bottom: 0;left: 50%;z-index: 0;}#sk-container-id-2 div.sk-serial {display: flex;flex-direction: column;align-items: center;background-color: white;padding-right: 0.2em;padding-left: 0.2em;position: relative;}#sk-container-id-2 div.sk-item {position: relative;z-index: 1;}#sk-container-id-2 div.sk-parallel {display: flex;align-items: stretch;justify-content: center;background-color: white;position: relative;}#sk-container-id-2 div.sk-item::before, #sk-container-id-2 div.sk-parallel-item::before {content: \"\";position: absolute;border-left: 1px solid gray;box-sizing: border-box;top: 0;bottom: 0;left: 50%;z-index: -1;}#sk-container-id-2 div.sk-parallel-item {display: flex;flex-direction: column;z-index: 1;position: relative;background-color: white;}#sk-container-id-2 div.sk-parallel-item:first-child::after {align-self: flex-end;width: 50%;}#sk-container-id-2 div.sk-parallel-item:last-child::after {align-self: flex-start;width: 50%;}#sk-container-id-2 div.sk-parallel-item:only-child::after {width: 0;}#sk-container-id-2 div.sk-dashed-wrapped {border: 1px dashed gray;margin: 0 0.4em 0.5em 0.4em;box-sizing: border-box;padding-bottom: 0.4em;background-color: white;}#sk-container-id-2 div.sk-label label {font-family: monospace;font-weight: bold;display: inline-block;line-height: 1.2em;}#sk-container-id-2 div.sk-label-container {text-align: center;}#sk-container-id-2 div.sk-container {/* jupyter's `normalize.less` sets `[hidden] { display: none; }` but bootstrap.min.css set `[hidden] { display: none !important; }` so we also need the `!important` here to be able to override the default hidden behavior on the sphinx rendered scikit-learn.org. See: https://github.com/scikit-learn/scikit-learn/issues/21755 */display: inline-block !important;position: relative;}#sk-container-id-2 div.sk-text-repr-fallback {display: none;}</style><div id=\"sk-container-id-2\" class=\"sk-top-container\"><div class=\"sk-text-repr-fallback\"><pre>Pipeline(steps=[(&#x27;preprocessor&#x27;,\n",
       "                 ColumnTransformer(transformers=[(&#x27;num&#x27;,\n",
       "                                                  Pipeline(steps=[(&#x27;standardscaler&#x27;,\n",
       "                                                                   StandardScaler())]),\n",
       "                                                  [&#x27;age_upon_outcome_(days)&#x27;]),\n",
       "                                                 (&#x27;cat&#x27;,\n",
       "                                                  Pipeline(steps=[(&#x27;onehotencoder&#x27;,\n",
       "                                                                   OneHotEncoder(handle_unknown=&#x27;ignore&#x27;,\n",
       "                                                                                 sparse=False))]),\n",
       "                                                  [&#x27;age_upon_intake_age_group&#x27;,\n",
       "                                                   &#x27;animal_type&#x27;, &#x27;color&#x27;,\n",
       "                                                   &#x27;intake_condition&#x27;,\n",
       "                                                   &#x27;sex_upon_intake&#x27;])])),\n",
       "                (&#x27;regressor&#x27;, LinearRegression())])</pre><b>In a Jupyter environment, please rerun this cell to show the HTML representation or trust the notebook. <br />On GitHub, the HTML representation is unable to render, please try loading this page with nbviewer.org.</b></div><div class=\"sk-container\" hidden><div class=\"sk-item sk-dashed-wrapped\"><div class=\"sk-label-container\"><div class=\"sk-label sk-toggleable\"><input class=\"sk-toggleable__control sk-hidden--visually\" id=\"sk-estimator-id-7\" type=\"checkbox\" ><label for=\"sk-estimator-id-7\" class=\"sk-toggleable__label sk-toggleable__label-arrow\">Pipeline</label><div class=\"sk-toggleable__content\"><pre>Pipeline(steps=[(&#x27;preprocessor&#x27;,\n",
       "                 ColumnTransformer(transformers=[(&#x27;num&#x27;,\n",
       "                                                  Pipeline(steps=[(&#x27;standardscaler&#x27;,\n",
       "                                                                   StandardScaler())]),\n",
       "                                                  [&#x27;age_upon_outcome_(days)&#x27;]),\n",
       "                                                 (&#x27;cat&#x27;,\n",
       "                                                  Pipeline(steps=[(&#x27;onehotencoder&#x27;,\n",
       "                                                                   OneHotEncoder(handle_unknown=&#x27;ignore&#x27;,\n",
       "                                                                                 sparse=False))]),\n",
       "                                                  [&#x27;age_upon_intake_age_group&#x27;,\n",
       "                                                   &#x27;animal_type&#x27;, &#x27;color&#x27;,\n",
       "                                                   &#x27;intake_condition&#x27;,\n",
       "                                                   &#x27;sex_upon_intake&#x27;])])),\n",
       "                (&#x27;regressor&#x27;, LinearRegression())])</pre></div></div></div><div class=\"sk-serial\"><div class=\"sk-item sk-dashed-wrapped\"><div class=\"sk-label-container\"><div class=\"sk-label sk-toggleable\"><input class=\"sk-toggleable__control sk-hidden--visually\" id=\"sk-estimator-id-8\" type=\"checkbox\" ><label for=\"sk-estimator-id-8\" class=\"sk-toggleable__label sk-toggleable__label-arrow\">preprocessor: ColumnTransformer</label><div class=\"sk-toggleable__content\"><pre>ColumnTransformer(transformers=[(&#x27;num&#x27;,\n",
       "                                 Pipeline(steps=[(&#x27;standardscaler&#x27;,\n",
       "                                                  StandardScaler())]),\n",
       "                                 [&#x27;age_upon_outcome_(days)&#x27;]),\n",
       "                                (&#x27;cat&#x27;,\n",
       "                                 Pipeline(steps=[(&#x27;onehotencoder&#x27;,\n",
       "                                                  OneHotEncoder(handle_unknown=&#x27;ignore&#x27;,\n",
       "                                                                sparse=False))]),\n",
       "                                 [&#x27;age_upon_intake_age_group&#x27;, &#x27;animal_type&#x27;,\n",
       "                                  &#x27;color&#x27;, &#x27;intake_condition&#x27;,\n",
       "                                  &#x27;sex_upon_intake&#x27;])])</pre></div></div></div><div class=\"sk-parallel\"><div class=\"sk-parallel-item\"><div class=\"sk-item\"><div class=\"sk-label-container\"><div class=\"sk-label sk-toggleable\"><input class=\"sk-toggleable__control sk-hidden--visually\" id=\"sk-estimator-id-9\" type=\"checkbox\" ><label for=\"sk-estimator-id-9\" class=\"sk-toggleable__label sk-toggleable__label-arrow\">num</label><div class=\"sk-toggleable__content\"><pre>[&#x27;age_upon_outcome_(days)&#x27;]</pre></div></div></div><div class=\"sk-serial\"><div class=\"sk-item\"><div class=\"sk-serial\"><div class=\"sk-item\"><div class=\"sk-estimator sk-toggleable\"><input class=\"sk-toggleable__control sk-hidden--visually\" id=\"sk-estimator-id-10\" type=\"checkbox\" ><label for=\"sk-estimator-id-10\" class=\"sk-toggleable__label sk-toggleable__label-arrow\">StandardScaler</label><div class=\"sk-toggleable__content\"><pre>StandardScaler()</pre></div></div></div></div></div></div></div></div><div class=\"sk-parallel-item\"><div class=\"sk-item\"><div class=\"sk-label-container\"><div class=\"sk-label sk-toggleable\"><input class=\"sk-toggleable__control sk-hidden--visually\" id=\"sk-estimator-id-11\" type=\"checkbox\" ><label for=\"sk-estimator-id-11\" class=\"sk-toggleable__label sk-toggleable__label-arrow\">cat</label><div class=\"sk-toggleable__content\"><pre>[&#x27;age_upon_intake_age_group&#x27;, &#x27;animal_type&#x27;, &#x27;color&#x27;, &#x27;intake_condition&#x27;, &#x27;sex_upon_intake&#x27;]</pre></div></div></div><div class=\"sk-serial\"><div class=\"sk-item\"><div class=\"sk-serial\"><div class=\"sk-item\"><div class=\"sk-estimator sk-toggleable\"><input class=\"sk-toggleable__control sk-hidden--visually\" id=\"sk-estimator-id-12\" type=\"checkbox\" ><label for=\"sk-estimator-id-12\" class=\"sk-toggleable__label sk-toggleable__label-arrow\">OneHotEncoder</label><div class=\"sk-toggleable__content\"><pre>OneHotEncoder(handle_unknown=&#x27;ignore&#x27;, sparse=False)</pre></div></div></div></div></div></div></div></div></div></div><div class=\"sk-item\"><div class=\"sk-estimator sk-toggleable\"><input class=\"sk-toggleable__control sk-hidden--visually\" id=\"sk-estimator-id-13\" type=\"checkbox\" ><label for=\"sk-estimator-id-13\" class=\"sk-toggleable__label sk-toggleable__label-arrow\">LinearRegression</label><div class=\"sk-toggleable__content\"><pre>LinearRegression()</pre></div></div></div></div></div></div></div>"
      ],
      "text/plain": [
       "Pipeline(steps=[('preprocessor',\n",
       "                 ColumnTransformer(transformers=[('num',\n",
       "                                                  Pipeline(steps=[('standardscaler',\n",
       "                                                                   StandardScaler())]),\n",
       "                                                  ['age_upon_outcome_(days)']),\n",
       "                                                 ('cat',\n",
       "                                                  Pipeline(steps=[('onehotencoder',\n",
       "                                                                   OneHotEncoder(handle_unknown='ignore',\n",
       "                                                                                 sparse=False))]),\n",
       "                                                  ['age_upon_intake_age_group',\n",
       "                                                   'animal_type', 'color',\n",
       "                                                   'intake_condition',\n",
       "                                                   'sex_upon_intake'])])),\n",
       "                ('regressor', LinearRegression())])"
      ]
     },
     "execution_count": 30,
     "metadata": {},
     "output_type": "execute_result"
    }
   ],
   "source": [
    "model_pipeline"
   ]
  },
  {
   "cell_type": "markdown",
   "id": "dac058ef",
   "metadata": {},
   "source": [
    "LINEAR REGRESION"
   ]
  },
  {
   "cell_type": "code",
   "execution_count": 31,
   "id": "91f2c17e",
   "metadata": {},
   "outputs": [
    {
     "data": {
      "text/plain": [
       "{'memory': None,\n",
       " 'steps': [('preprocessor',\n",
       "   ColumnTransformer(transformers=[('num',\n",
       "                                    Pipeline(steps=[('standardscaler',\n",
       "                                                     StandardScaler())]),\n",
       "                                    ['age_upon_outcome_(days)']),\n",
       "                                   ('cat',\n",
       "                                    Pipeline(steps=[('onehotencoder',\n",
       "                                                     OneHotEncoder(handle_unknown='ignore',\n",
       "                                                                   sparse=False))]),\n",
       "                                    ['age_upon_intake_age_group', 'animal_type',\n",
       "                                     'color', 'intake_condition',\n",
       "                                     'sex_upon_intake'])])),\n",
       "  ('regressor', LinearRegression())],\n",
       " 'verbose': False,\n",
       " 'preprocessor': ColumnTransformer(transformers=[('num',\n",
       "                                  Pipeline(steps=[('standardscaler',\n",
       "                                                   StandardScaler())]),\n",
       "                                  ['age_upon_outcome_(days)']),\n",
       "                                 ('cat',\n",
       "                                  Pipeline(steps=[('onehotencoder',\n",
       "                                                   OneHotEncoder(handle_unknown='ignore',\n",
       "                                                                 sparse=False))]),\n",
       "                                  ['age_upon_intake_age_group', 'animal_type',\n",
       "                                   'color', 'intake_condition',\n",
       "                                   'sex_upon_intake'])]),\n",
       " 'regressor': LinearRegression(),\n",
       " 'preprocessor__n_jobs': None,\n",
       " 'preprocessor__remainder': 'drop',\n",
       " 'preprocessor__sparse_threshold': 0.3,\n",
       " 'preprocessor__transformer_weights': None,\n",
       " 'preprocessor__transformers': [('num',\n",
       "   Pipeline(steps=[('standardscaler', StandardScaler())]),\n",
       "   ['age_upon_outcome_(days)']),\n",
       "  ('cat',\n",
       "   Pipeline(steps=[('onehotencoder',\n",
       "                    OneHotEncoder(handle_unknown='ignore', sparse=False))]),\n",
       "   ['age_upon_intake_age_group',\n",
       "    'animal_type',\n",
       "    'color',\n",
       "    'intake_condition',\n",
       "    'sex_upon_intake'])],\n",
       " 'preprocessor__verbose': False,\n",
       " 'preprocessor__verbose_feature_names_out': True,\n",
       " 'preprocessor__num': Pipeline(steps=[('standardscaler', StandardScaler())]),\n",
       " 'preprocessor__cat': Pipeline(steps=[('onehotencoder',\n",
       "                  OneHotEncoder(handle_unknown='ignore', sparse=False))]),\n",
       " 'preprocessor__num__memory': None,\n",
       " 'preprocessor__num__steps': [('standardscaler', StandardScaler())],\n",
       " 'preprocessor__num__verbose': False,\n",
       " 'preprocessor__num__standardscaler': StandardScaler(),\n",
       " 'preprocessor__num__standardscaler__copy': True,\n",
       " 'preprocessor__num__standardscaler__with_mean': True,\n",
       " 'preprocessor__num__standardscaler__with_std': True,\n",
       " 'preprocessor__cat__memory': None,\n",
       " 'preprocessor__cat__steps': [('onehotencoder',\n",
       "   OneHotEncoder(handle_unknown='ignore', sparse=False))],\n",
       " 'preprocessor__cat__verbose': False,\n",
       " 'preprocessor__cat__onehotencoder': OneHotEncoder(handle_unknown='ignore', sparse=False),\n",
       " 'preprocessor__cat__onehotencoder__categories': 'auto',\n",
       " 'preprocessor__cat__onehotencoder__drop': None,\n",
       " 'preprocessor__cat__onehotencoder__dtype': numpy.float64,\n",
       " 'preprocessor__cat__onehotencoder__handle_unknown': 'ignore',\n",
       " 'preprocessor__cat__onehotencoder__max_categories': None,\n",
       " 'preprocessor__cat__onehotencoder__min_frequency': None,\n",
       " 'preprocessor__cat__onehotencoder__sparse': False,\n",
       " 'preprocessor__cat__onehotencoder__sparse_output': True,\n",
       " 'regressor__copy_X': True,\n",
       " 'regressor__fit_intercept': True,\n",
       " 'regressor__n_jobs': None,\n",
       " 'regressor__positive': False}"
      ]
     },
     "execution_count": 31,
     "metadata": {},
     "output_type": "execute_result"
    }
   ],
   "source": [
    "model_pipeline.get_params()"
   ]
  },
  {
   "cell_type": "code",
   "execution_count": 32,
   "id": "d34dd569",
   "metadata": {},
   "outputs": [
    {
     "name": "stderr",
     "output_type": "stream",
     "text": [
      "/home/john/anaconda3/lib/python3.9/site-packages/sklearn/preprocessing/_encoders.py:828: FutureWarning: `sparse` was renamed to `sparse_output` in version 1.2 and will be removed in 1.4. `sparse_output` is ignored unless you leave `sparse` to its default value.\n",
      "  warnings.warn(\n"
     ]
    },
    {
     "data": {
      "text/html": [
       "<style>#sk-container-id-3 {color: black;background-color: white;}#sk-container-id-3 pre{padding: 0;}#sk-container-id-3 div.sk-toggleable {background-color: white;}#sk-container-id-3 label.sk-toggleable__label {cursor: pointer;display: block;width: 100%;margin-bottom: 0;padding: 0.3em;box-sizing: border-box;text-align: center;}#sk-container-id-3 label.sk-toggleable__label-arrow:before {content: \"▸\";float: left;margin-right: 0.25em;color: #696969;}#sk-container-id-3 label.sk-toggleable__label-arrow:hover:before {color: black;}#sk-container-id-3 div.sk-estimator:hover label.sk-toggleable__label-arrow:before {color: black;}#sk-container-id-3 div.sk-toggleable__content {max-height: 0;max-width: 0;overflow: hidden;text-align: left;background-color: #f0f8ff;}#sk-container-id-3 div.sk-toggleable__content pre {margin: 0.2em;color: black;border-radius: 0.25em;background-color: #f0f8ff;}#sk-container-id-3 input.sk-toggleable__control:checked~div.sk-toggleable__content {max-height: 200px;max-width: 100%;overflow: auto;}#sk-container-id-3 input.sk-toggleable__control:checked~label.sk-toggleable__label-arrow:before {content: \"▾\";}#sk-container-id-3 div.sk-estimator input.sk-toggleable__control:checked~label.sk-toggleable__label {background-color: #d4ebff;}#sk-container-id-3 div.sk-label input.sk-toggleable__control:checked~label.sk-toggleable__label {background-color: #d4ebff;}#sk-container-id-3 input.sk-hidden--visually {border: 0;clip: rect(1px 1px 1px 1px);clip: rect(1px, 1px, 1px, 1px);height: 1px;margin: -1px;overflow: hidden;padding: 0;position: absolute;width: 1px;}#sk-container-id-3 div.sk-estimator {font-family: monospace;background-color: #f0f8ff;border: 1px dotted black;border-radius: 0.25em;box-sizing: border-box;margin-bottom: 0.5em;}#sk-container-id-3 div.sk-estimator:hover {background-color: #d4ebff;}#sk-container-id-3 div.sk-parallel-item::after {content: \"\";width: 100%;border-bottom: 1px solid gray;flex-grow: 1;}#sk-container-id-3 div.sk-label:hover label.sk-toggleable__label {background-color: #d4ebff;}#sk-container-id-3 div.sk-serial::before {content: \"\";position: absolute;border-left: 1px solid gray;box-sizing: border-box;top: 0;bottom: 0;left: 50%;z-index: 0;}#sk-container-id-3 div.sk-serial {display: flex;flex-direction: column;align-items: center;background-color: white;padding-right: 0.2em;padding-left: 0.2em;position: relative;}#sk-container-id-3 div.sk-item {position: relative;z-index: 1;}#sk-container-id-3 div.sk-parallel {display: flex;align-items: stretch;justify-content: center;background-color: white;position: relative;}#sk-container-id-3 div.sk-item::before, #sk-container-id-3 div.sk-parallel-item::before {content: \"\";position: absolute;border-left: 1px solid gray;box-sizing: border-box;top: 0;bottom: 0;left: 50%;z-index: -1;}#sk-container-id-3 div.sk-parallel-item {display: flex;flex-direction: column;z-index: 1;position: relative;background-color: white;}#sk-container-id-3 div.sk-parallel-item:first-child::after {align-self: flex-end;width: 50%;}#sk-container-id-3 div.sk-parallel-item:last-child::after {align-self: flex-start;width: 50%;}#sk-container-id-3 div.sk-parallel-item:only-child::after {width: 0;}#sk-container-id-3 div.sk-dashed-wrapped {border: 1px dashed gray;margin: 0 0.4em 0.5em 0.4em;box-sizing: border-box;padding-bottom: 0.4em;background-color: white;}#sk-container-id-3 div.sk-label label {font-family: monospace;font-weight: bold;display: inline-block;line-height: 1.2em;}#sk-container-id-3 div.sk-label-container {text-align: center;}#sk-container-id-3 div.sk-container {/* jupyter's `normalize.less` sets `[hidden] { display: none; }` but bootstrap.min.css set `[hidden] { display: none !important; }` so we also need the `!important` here to be able to override the default hidden behavior on the sphinx rendered scikit-learn.org. See: https://github.com/scikit-learn/scikit-learn/issues/21755 */display: inline-block !important;position: relative;}#sk-container-id-3 div.sk-text-repr-fallback {display: none;}</style><div id=\"sk-container-id-3\" class=\"sk-top-container\"><div class=\"sk-text-repr-fallback\"><pre>Pipeline(steps=[(&#x27;preprocessor&#x27;,\n",
       "                 ColumnTransformer(transformers=[(&#x27;num&#x27;,\n",
       "                                                  Pipeline(steps=[(&#x27;standardscaler&#x27;,\n",
       "                                                                   StandardScaler())]),\n",
       "                                                  [&#x27;age_upon_outcome_(days)&#x27;]),\n",
       "                                                 (&#x27;cat&#x27;,\n",
       "                                                  Pipeline(steps=[(&#x27;onehotencoder&#x27;,\n",
       "                                                                   OneHotEncoder(handle_unknown=&#x27;ignore&#x27;,\n",
       "                                                                                 sparse=False))]),\n",
       "                                                  [&#x27;age_upon_intake_age_group&#x27;,\n",
       "                                                   &#x27;animal_type&#x27;, &#x27;color&#x27;,\n",
       "                                                   &#x27;intake_condition&#x27;,\n",
       "                                                   &#x27;sex_upon_intake&#x27;])])),\n",
       "                (&#x27;regressor&#x27;, LinearRegression())])</pre><b>In a Jupyter environment, please rerun this cell to show the HTML representation or trust the notebook. <br />On GitHub, the HTML representation is unable to render, please try loading this page with nbviewer.org.</b></div><div class=\"sk-container\" hidden><div class=\"sk-item sk-dashed-wrapped\"><div class=\"sk-label-container\"><div class=\"sk-label sk-toggleable\"><input class=\"sk-toggleable__control sk-hidden--visually\" id=\"sk-estimator-id-14\" type=\"checkbox\" ><label for=\"sk-estimator-id-14\" class=\"sk-toggleable__label sk-toggleable__label-arrow\">Pipeline</label><div class=\"sk-toggleable__content\"><pre>Pipeline(steps=[(&#x27;preprocessor&#x27;,\n",
       "                 ColumnTransformer(transformers=[(&#x27;num&#x27;,\n",
       "                                                  Pipeline(steps=[(&#x27;standardscaler&#x27;,\n",
       "                                                                   StandardScaler())]),\n",
       "                                                  [&#x27;age_upon_outcome_(days)&#x27;]),\n",
       "                                                 (&#x27;cat&#x27;,\n",
       "                                                  Pipeline(steps=[(&#x27;onehotencoder&#x27;,\n",
       "                                                                   OneHotEncoder(handle_unknown=&#x27;ignore&#x27;,\n",
       "                                                                                 sparse=False))]),\n",
       "                                                  [&#x27;age_upon_intake_age_group&#x27;,\n",
       "                                                   &#x27;animal_type&#x27;, &#x27;color&#x27;,\n",
       "                                                   &#x27;intake_condition&#x27;,\n",
       "                                                   &#x27;sex_upon_intake&#x27;])])),\n",
       "                (&#x27;regressor&#x27;, LinearRegression())])</pre></div></div></div><div class=\"sk-serial\"><div class=\"sk-item sk-dashed-wrapped\"><div class=\"sk-label-container\"><div class=\"sk-label sk-toggleable\"><input class=\"sk-toggleable__control sk-hidden--visually\" id=\"sk-estimator-id-15\" type=\"checkbox\" ><label for=\"sk-estimator-id-15\" class=\"sk-toggleable__label sk-toggleable__label-arrow\">preprocessor: ColumnTransformer</label><div class=\"sk-toggleable__content\"><pre>ColumnTransformer(transformers=[(&#x27;num&#x27;,\n",
       "                                 Pipeline(steps=[(&#x27;standardscaler&#x27;,\n",
       "                                                  StandardScaler())]),\n",
       "                                 [&#x27;age_upon_outcome_(days)&#x27;]),\n",
       "                                (&#x27;cat&#x27;,\n",
       "                                 Pipeline(steps=[(&#x27;onehotencoder&#x27;,\n",
       "                                                  OneHotEncoder(handle_unknown=&#x27;ignore&#x27;,\n",
       "                                                                sparse=False))]),\n",
       "                                 [&#x27;age_upon_intake_age_group&#x27;, &#x27;animal_type&#x27;,\n",
       "                                  &#x27;color&#x27;, &#x27;intake_condition&#x27;,\n",
       "                                  &#x27;sex_upon_intake&#x27;])])</pre></div></div></div><div class=\"sk-parallel\"><div class=\"sk-parallel-item\"><div class=\"sk-item\"><div class=\"sk-label-container\"><div class=\"sk-label sk-toggleable\"><input class=\"sk-toggleable__control sk-hidden--visually\" id=\"sk-estimator-id-16\" type=\"checkbox\" ><label for=\"sk-estimator-id-16\" class=\"sk-toggleable__label sk-toggleable__label-arrow\">num</label><div class=\"sk-toggleable__content\"><pre>[&#x27;age_upon_outcome_(days)&#x27;]</pre></div></div></div><div class=\"sk-serial\"><div class=\"sk-item\"><div class=\"sk-serial\"><div class=\"sk-item\"><div class=\"sk-estimator sk-toggleable\"><input class=\"sk-toggleable__control sk-hidden--visually\" id=\"sk-estimator-id-17\" type=\"checkbox\" ><label for=\"sk-estimator-id-17\" class=\"sk-toggleable__label sk-toggleable__label-arrow\">StandardScaler</label><div class=\"sk-toggleable__content\"><pre>StandardScaler()</pre></div></div></div></div></div></div></div></div><div class=\"sk-parallel-item\"><div class=\"sk-item\"><div class=\"sk-label-container\"><div class=\"sk-label sk-toggleable\"><input class=\"sk-toggleable__control sk-hidden--visually\" id=\"sk-estimator-id-18\" type=\"checkbox\" ><label for=\"sk-estimator-id-18\" class=\"sk-toggleable__label sk-toggleable__label-arrow\">cat</label><div class=\"sk-toggleable__content\"><pre>[&#x27;age_upon_intake_age_group&#x27;, &#x27;animal_type&#x27;, &#x27;color&#x27;, &#x27;intake_condition&#x27;, &#x27;sex_upon_intake&#x27;]</pre></div></div></div><div class=\"sk-serial\"><div class=\"sk-item\"><div class=\"sk-serial\"><div class=\"sk-item\"><div class=\"sk-estimator sk-toggleable\"><input class=\"sk-toggleable__control sk-hidden--visually\" id=\"sk-estimator-id-19\" type=\"checkbox\" ><label for=\"sk-estimator-id-19\" class=\"sk-toggleable__label sk-toggleable__label-arrow\">OneHotEncoder</label><div class=\"sk-toggleable__content\"><pre>OneHotEncoder(handle_unknown=&#x27;ignore&#x27;, sparse=False)</pre></div></div></div></div></div></div></div></div></div></div><div class=\"sk-item\"><div class=\"sk-estimator sk-toggleable\"><input class=\"sk-toggleable__control sk-hidden--visually\" id=\"sk-estimator-id-20\" type=\"checkbox\" ><label for=\"sk-estimator-id-20\" class=\"sk-toggleable__label sk-toggleable__label-arrow\">LinearRegression</label><div class=\"sk-toggleable__content\"><pre>LinearRegression()</pre></div></div></div></div></div></div></div>"
      ],
      "text/plain": [
       "Pipeline(steps=[('preprocessor',\n",
       "                 ColumnTransformer(transformers=[('num',\n",
       "                                                  Pipeline(steps=[('standardscaler',\n",
       "                                                                   StandardScaler())]),\n",
       "                                                  ['age_upon_outcome_(days)']),\n",
       "                                                 ('cat',\n",
       "                                                  Pipeline(steps=[('onehotencoder',\n",
       "                                                                   OneHotEncoder(handle_unknown='ignore',\n",
       "                                                                                 sparse=False))]),\n",
       "                                                  ['age_upon_intake_age_group',\n",
       "                                                   'animal_type', 'color',\n",
       "                                                   'intake_condition',\n",
       "                                                   'sex_upon_intake'])])),\n",
       "                ('regressor', LinearRegression())])"
      ]
     },
     "execution_count": 32,
     "metadata": {},
     "output_type": "execute_result"
    }
   ],
   "source": [
    "# Fit the pipeline on the training data\n",
    "model_pipeline.fit(X_train, y_train)"
   ]
  },
  {
   "cell_type": "code",
   "execution_count": 33,
   "id": "f8e706eb",
   "metadata": {
    "scrolled": false
   },
   "outputs": [],
   "source": [
    "# make predictions on the test set\n",
    "y_pred = model_pipeline.predict(X_test)"
   ]
  },
  {
   "cell_type": "code",
   "execution_count": 34,
   "id": "a2cc2630",
   "metadata": {},
   "outputs": [
    {
     "data": {
      "text/plain": [
       "array([18.40625   , 13.625     , 16.7578125 , ...,  5.02734375,\n",
       "       13.796875  , 31.41796875])"
      ]
     },
     "execution_count": 34,
     "metadata": {},
     "output_type": "execute_result"
    }
   ],
   "source": [
    "y_pred"
   ]
  },
  {
   "cell_type": "code",
   "execution_count": 35,
   "id": "30086ba9",
   "metadata": {},
   "outputs": [
    {
     "name": "stdout",
     "output_type": "stream",
     "text": [
      "Mean Squared Error: 5.723607376099182e+21\n"
     ]
    }
   ],
   "source": [
    "# Evaluate the model using mean squared error\n",
    "from sklearn.metrics import mean_squared_error\n",
    "mse = mean_squared_error(y_test, y_pred)\n",
    "print(\"Mean Squared Error:\", mse)"
   ]
  },
  {
   "cell_type": "code",
   "execution_count": 36,
   "id": "07b3445b",
   "metadata": {},
   "outputs": [
    {
     "name": "stdout",
     "output_type": "stream",
     "text": [
      "R-squared: -3.9820450269991404e+18\n"
     ]
    }
   ],
   "source": [
    "# Calculate evaluation metrics r2\n",
    "from sklearn.metrics import r2_score\n",
    "r2 = r2_score(y_test, y_pred)\n",
    "print('R-squared:', r2)"
   ]
  },
  {
   "cell_type": "code",
   "execution_count": 37,
   "id": "6d80eecb",
   "metadata": {},
   "outputs": [
    {
     "data": {
      "text/html": [
       "<style>#sk-container-id-4 {color: black;background-color: white;}#sk-container-id-4 pre{padding: 0;}#sk-container-id-4 div.sk-toggleable {background-color: white;}#sk-container-id-4 label.sk-toggleable__label {cursor: pointer;display: block;width: 100%;margin-bottom: 0;padding: 0.3em;box-sizing: border-box;text-align: center;}#sk-container-id-4 label.sk-toggleable__label-arrow:before {content: \"▸\";float: left;margin-right: 0.25em;color: #696969;}#sk-container-id-4 label.sk-toggleable__label-arrow:hover:before {color: black;}#sk-container-id-4 div.sk-estimator:hover label.sk-toggleable__label-arrow:before {color: black;}#sk-container-id-4 div.sk-toggleable__content {max-height: 0;max-width: 0;overflow: hidden;text-align: left;background-color: #f0f8ff;}#sk-container-id-4 div.sk-toggleable__content pre {margin: 0.2em;color: black;border-radius: 0.25em;background-color: #f0f8ff;}#sk-container-id-4 input.sk-toggleable__control:checked~div.sk-toggleable__content {max-height: 200px;max-width: 100%;overflow: auto;}#sk-container-id-4 input.sk-toggleable__control:checked~label.sk-toggleable__label-arrow:before {content: \"▾\";}#sk-container-id-4 div.sk-estimator input.sk-toggleable__control:checked~label.sk-toggleable__label {background-color: #d4ebff;}#sk-container-id-4 div.sk-label input.sk-toggleable__control:checked~label.sk-toggleable__label {background-color: #d4ebff;}#sk-container-id-4 input.sk-hidden--visually {border: 0;clip: rect(1px 1px 1px 1px);clip: rect(1px, 1px, 1px, 1px);height: 1px;margin: -1px;overflow: hidden;padding: 0;position: absolute;width: 1px;}#sk-container-id-4 div.sk-estimator {font-family: monospace;background-color: #f0f8ff;border: 1px dotted black;border-radius: 0.25em;box-sizing: border-box;margin-bottom: 0.5em;}#sk-container-id-4 div.sk-estimator:hover {background-color: #d4ebff;}#sk-container-id-4 div.sk-parallel-item::after {content: \"\";width: 100%;border-bottom: 1px solid gray;flex-grow: 1;}#sk-container-id-4 div.sk-label:hover label.sk-toggleable__label {background-color: #d4ebff;}#sk-container-id-4 div.sk-serial::before {content: \"\";position: absolute;border-left: 1px solid gray;box-sizing: border-box;top: 0;bottom: 0;left: 50%;z-index: 0;}#sk-container-id-4 div.sk-serial {display: flex;flex-direction: column;align-items: center;background-color: white;padding-right: 0.2em;padding-left: 0.2em;position: relative;}#sk-container-id-4 div.sk-item {position: relative;z-index: 1;}#sk-container-id-4 div.sk-parallel {display: flex;align-items: stretch;justify-content: center;background-color: white;position: relative;}#sk-container-id-4 div.sk-item::before, #sk-container-id-4 div.sk-parallel-item::before {content: \"\";position: absolute;border-left: 1px solid gray;box-sizing: border-box;top: 0;bottom: 0;left: 50%;z-index: -1;}#sk-container-id-4 div.sk-parallel-item {display: flex;flex-direction: column;z-index: 1;position: relative;background-color: white;}#sk-container-id-4 div.sk-parallel-item:first-child::after {align-self: flex-end;width: 50%;}#sk-container-id-4 div.sk-parallel-item:last-child::after {align-self: flex-start;width: 50%;}#sk-container-id-4 div.sk-parallel-item:only-child::after {width: 0;}#sk-container-id-4 div.sk-dashed-wrapped {border: 1px dashed gray;margin: 0 0.4em 0.5em 0.4em;box-sizing: border-box;padding-bottom: 0.4em;background-color: white;}#sk-container-id-4 div.sk-label label {font-family: monospace;font-weight: bold;display: inline-block;line-height: 1.2em;}#sk-container-id-4 div.sk-label-container {text-align: center;}#sk-container-id-4 div.sk-container {/* jupyter's `normalize.less` sets `[hidden] { display: none; }` but bootstrap.min.css set `[hidden] { display: none !important; }` so we also need the `!important` here to be able to override the default hidden behavior on the sphinx rendered scikit-learn.org. See: https://github.com/scikit-learn/scikit-learn/issues/21755 */display: inline-block !important;position: relative;}#sk-container-id-4 div.sk-text-repr-fallback {display: none;}</style><div id=\"sk-container-id-4\" class=\"sk-top-container\"><div class=\"sk-text-repr-fallback\"><pre>LinearRegression()</pre><b>In a Jupyter environment, please rerun this cell to show the HTML representation or trust the notebook. <br />On GitHub, the HTML representation is unable to render, please try loading this page with nbviewer.org.</b></div><div class=\"sk-container\" hidden><div class=\"sk-item\"><div class=\"sk-estimator sk-toggleable\"><input class=\"sk-toggleable__control sk-hidden--visually\" id=\"sk-estimator-id-21\" type=\"checkbox\" checked><label for=\"sk-estimator-id-21\" class=\"sk-toggleable__label sk-toggleable__label-arrow\">LinearRegression</label><div class=\"sk-toggleable__content\"><pre>LinearRegression()</pre></div></div></div></div></div>"
      ],
      "text/plain": [
       "LinearRegression()"
      ]
     },
     "execution_count": 37,
     "metadata": {},
     "output_type": "execute_result"
    }
   ],
   "source": [
    "model_pipeline.steps[1][1]"
   ]
  },
  {
   "cell_type": "code",
   "execution_count": 38,
   "id": "23998e7a",
   "metadata": {},
   "outputs": [
    {
     "name": "stdout",
     "output_type": "stream",
     "text": [
      "Coefficient values: [ 1.15534030e+01 -8.88265959e+12 -8.88265959e+12 -8.88265959e+12\n",
      " -8.88265959e+12 -8.88265959e+12 -8.88265959e+12 -8.88265959e+12\n",
      " -8.88265959e+12 -8.88265959e+12 -1.01294696e+13 -1.01294696e+13\n",
      "  2.36340802e+11  2.36340802e+11  2.36340802e+11  2.36340802e+11\n",
      "  2.36340802e+11  2.36340802e+11  2.36340802e+11  2.36340802e+11\n",
      "  2.36340802e+11  2.36340802e+11  2.36340802e+11  2.36340802e+11\n",
      "  2.36340802e+11  2.36340802e+11  2.36340802e+11  2.36340802e+11\n",
      "  2.36340802e+11  2.36340802e+11  2.36340802e+11  2.36340802e+11\n",
      "  2.36340802e+11  2.36340802e+11  2.36340802e+11  2.36340802e+11\n",
      "  2.36340802e+11  2.36340802e+11  2.36340802e+11  2.36340802e+11\n",
      "  2.36340802e+11  2.36340802e+11  2.36340802e+11  2.36340802e+11\n",
      "  2.36340802e+11  2.36340802e+11  2.36340802e+11  2.36340802e+11\n",
      "  2.36340802e+11  2.36340802e+11  2.36340802e+11  2.36340802e+11\n",
      "  2.36340802e+11  2.36340802e+11  2.36340802e+11  2.36340802e+11\n",
      "  2.36340802e+11  2.36340802e+11  2.36340802e+11  2.36340802e+11\n",
      "  2.36340802e+11  2.36340802e+11  2.36340802e+11  2.36340802e+11\n",
      "  2.36340802e+11  2.36340802e+11  2.36340802e+11  2.36340802e+11\n",
      "  2.36340802e+11  2.36340802e+11  2.36340802e+11  2.36340802e+11\n",
      "  2.36340802e+11  2.36340802e+11  2.36340802e+11  2.36340802e+11\n",
      "  2.36340802e+11  2.36340802e+11  2.36340802e+11  2.36340802e+11\n",
      "  2.36340802e+11  2.36340802e+11  2.36340802e+11  2.36340802e+11\n",
      "  2.36340802e+11  2.36340802e+11  2.36340802e+11  2.36340802e+11\n",
      "  2.36340802e+11  2.36340802e+11  2.36340802e+11  2.36340802e+11\n",
      "  2.36340802e+11  2.36340802e+11  2.36340802e+11  2.36340802e+11\n",
      "  2.36340802e+11  2.36340802e+11  2.36340802e+11  2.36340802e+11\n",
      "  2.36340802e+11  2.36340802e+11  2.36340802e+11  2.36340802e+11\n",
      "  2.36340802e+11  2.36340802e+11  2.36340802e+11  2.36340802e+11\n",
      "  2.36340802e+11  2.36340802e+11  2.36340802e+11  2.36340802e+11\n",
      "  2.36340802e+11  2.36340802e+11  2.36340802e+11  2.36340802e+11\n",
      "  2.36340802e+11  2.36340802e+11  2.36340802e+11  2.36340802e+11\n",
      "  2.36340802e+11  2.36340802e+11  2.36340802e+11  2.36340802e+11\n",
      "  2.36340802e+11  2.36340802e+11  2.36340802e+11  2.36340802e+11\n",
      "  2.36340802e+11  2.36340802e+11  2.36340802e+11  2.36340802e+11\n",
      "  2.36340802e+11  2.36340802e+11  2.36340802e+11  2.36340802e+11\n",
      "  2.36340802e+11  2.36340802e+11  2.36340802e+11  2.36340802e+11\n",
      "  2.36340802e+11  2.36340802e+11  2.36340802e+11  2.36340802e+11\n",
      "  2.36340802e+11  2.36340802e+11  2.36340802e+11  2.36340802e+11\n",
      "  2.36340802e+11  2.36340802e+11  2.36340802e+11  2.36340802e+11\n",
      "  2.36340802e+11  2.36340802e+11  2.36340802e+11  2.36340802e+11\n",
      "  2.36340802e+11  2.36340802e+11  2.36340802e+11  2.36340802e+11\n",
      "  2.36340802e+11  2.36340802e+11  2.36340802e+11  2.36340802e+11\n",
      "  2.36340802e+11  2.36340802e+11  2.36340802e+11  2.36340802e+11\n",
      "  2.36340802e+11  2.36340802e+11  2.36340802e+11  2.36340802e+11\n",
      "  2.36340802e+11  2.36340802e+11  2.36340802e+11  2.36340802e+11\n",
      "  2.36340802e+11  2.36340802e+11  2.36340802e+11  2.36340802e+11\n",
      "  2.36340802e+11  2.36340802e+11  2.36340802e+11  2.36340802e+11\n",
      "  2.36340802e+11  2.36340802e+11  2.36340802e+11  2.36340802e+11\n",
      "  2.36340802e+11  2.36340802e+11  2.36340802e+11  2.36340802e+11\n",
      "  2.36340802e+11  2.36340802e+11  2.36340802e+11  2.36340802e+11\n",
      "  2.36340802e+11  2.36340802e+11  2.36340802e+11  2.36340802e+11\n",
      "  2.36340802e+11  2.36340802e+11  2.36340802e+11  2.36340802e+11\n",
      "  2.36340802e+11  2.36340802e+11  2.36340802e+11  2.36340802e+11\n",
      "  2.36340802e+11  2.36340802e+11  2.36340802e+11  2.36340802e+11\n",
      "  2.36340802e+11  2.36340802e+11  2.36340802e+11  2.36340802e+11\n",
      "  2.36340802e+11  2.36340802e+11  2.36340802e+11  2.36340802e+11\n",
      "  2.36340802e+11  2.36340802e+11  2.36340802e+11  2.36340802e+11\n",
      "  2.36340802e+11  2.36340802e+11  2.36340802e+11  2.36340802e+11\n",
      "  2.36340802e+11  2.36340802e+11  2.36340802e+11  2.36340802e+11\n",
      "  2.36340802e+11  2.36340802e+11  2.36340802e+11  2.36340802e+11\n",
      "  2.36340802e+11  2.36340802e+11  2.36340802e+11  2.36340802e+11\n",
      "  2.36340802e+11  2.36340802e+11  2.36340802e+11  2.36340802e+11\n",
      "  2.36340802e+11  2.36340802e+11  2.36340802e+11  2.36340802e+11\n",
      "  2.36340802e+11  2.36340802e+11  2.36340802e+11  2.36340802e+11\n",
      "  2.36340802e+11  2.36340802e+11  2.36340802e+11  2.36340802e+11\n",
      "  2.36340802e+11  2.36340802e+11  2.36340802e+11  2.36340802e+11\n",
      "  2.36340802e+11  2.36340802e+11  2.36340802e+11  2.36340802e+11\n",
      "  2.36340802e+11  2.36340802e+11  2.36340802e+11  2.36340802e+11\n",
      "  2.36340802e+11  2.36340802e+11  2.36340802e+11  2.36340802e+11\n",
      "  2.36340802e+11  2.36340802e+11  2.36340802e+11  2.36340802e+11\n",
      "  2.36340802e+11  2.36340802e+11  2.36340802e+11  2.36340802e+11\n",
      "  2.36340802e+11  2.36340802e+11  2.36340802e+11  2.36340802e+11\n",
      "  2.36340802e+11  2.36340802e+11  2.36340802e+11  2.36340802e+11\n",
      "  2.36340802e+11  2.36340802e+11  2.36340802e+11  2.36340802e+11\n",
      "  2.36340802e+11  2.36340802e+11  2.36340802e+11  2.36340802e+11\n",
      "  2.36340802e+11  2.36340802e+11  2.36340802e+11  2.36340802e+11\n",
      "  2.36340802e+11  2.36340802e+11  2.36340802e+11  2.36340802e+11\n",
      "  2.36340802e+11  2.36340802e+11  2.36340802e+11  2.36340802e+11\n",
      "  2.36340802e+11  2.36340802e+11  2.36340802e+11  2.36340802e+11\n",
      "  2.36340802e+11  2.36340802e+11  2.36340802e+11  2.36340802e+11\n",
      "  2.36340802e+11  2.36340802e+11  2.36340802e+11  2.36340802e+11\n",
      "  2.36340802e+11  2.36340802e+11  2.36340802e+11  2.36340802e+11\n",
      "  2.36340802e+11  2.36340802e+11  2.36340802e+11  2.36340802e+11\n",
      "  2.36340802e+11  2.36340802e+11  2.36340802e+11  2.36340802e+11\n",
      "  2.36340802e+11  2.36340802e+11  2.36340802e+11  2.36340802e+11\n",
      "  2.36340802e+11  2.36340802e+11  2.36340802e+11  2.36340802e+11\n",
      "  2.36340802e+11  2.36340802e+11  2.36340802e+11  2.36340802e+11\n",
      "  2.36340802e+11  2.36340802e+11  2.36340802e+11  2.36340802e+11\n",
      "  2.36340802e+11  2.36340802e+11  2.36340802e+11  2.36340802e+11\n",
      "  2.36340802e+11  2.36340802e+11  2.36340802e+11  2.36340802e+11\n",
      "  2.36340802e+11  2.36340802e+11  2.36340802e+11  2.36340802e+11\n",
      "  2.36340802e+11  2.36340802e+11  2.36340802e+11  2.36340802e+11\n",
      "  2.36340802e+11  2.36340802e+11  2.36340802e+11  2.36340802e+11\n",
      "  2.36340802e+11  2.36340802e+11  2.36340802e+11  2.36340802e+11\n",
      "  2.36340802e+11  2.36340802e+11  2.36340802e+11  2.36340802e+11\n",
      "  2.36340802e+11  2.36340802e+11  2.36340802e+11  2.36340802e+11\n",
      "  2.36340802e+11  2.36340802e+11  2.36340802e+11  2.36340802e+11\n",
      "  2.36340802e+11  2.36340802e+11  2.36340802e+11  2.36340802e+11\n",
      "  2.36340802e+11  2.36340802e+11  2.36340802e+11  2.36340802e+11\n",
      "  2.36340802e+11  2.36340802e+11  2.36340802e+11  2.36340802e+11\n",
      "  2.36340802e+11  2.36340802e+11  2.36340802e+11  2.36340802e+11\n",
      "  2.36340802e+11  2.36340802e+11  2.36340802e+11  2.36340802e+11\n",
      "  2.36340802e+11  2.36340802e+11  2.36340802e+11  2.36340802e+11\n",
      "  2.36340802e+11  2.36340802e+11  2.36340802e+11  2.36340802e+11\n",
      "  2.36340802e+11  2.36340802e+11  2.36340802e+11  2.36340802e+11\n",
      "  2.36340802e+11  2.36340802e+11  2.36340802e+11  2.36340802e+11\n",
      "  2.36340802e+11  2.36340802e+11  2.36340802e+11  2.36340802e+11\n",
      "  2.36340802e+11  2.36340802e+11  2.36340802e+11  2.36340802e+11\n",
      "  2.36340802e+11  2.36340802e+11  2.36340802e+11  2.36340802e+11\n",
      "  2.36340802e+11  2.36340802e+11  2.36340802e+11  2.36340802e+11\n",
      "  2.36340802e+11  2.36340802e+11  2.36340802e+11  2.36340802e+11\n",
      "  2.36340802e+11  2.36340802e+11  2.36340802e+11  2.36340802e+11\n",
      "  2.36340802e+11  2.36340802e+11  2.36340802e+11  2.36340802e+11\n",
      "  2.36340802e+11  2.36340802e+11  2.36340802e+11  2.36340802e+11\n",
      "  2.36340802e+11  2.36340802e+11  2.36340802e+11  2.36340802e+11\n",
      "  2.36340802e+11  2.36340802e+11  2.36340802e+11  2.36340802e+11\n",
      "  2.36340802e+11  2.36340802e+11  2.36340802e+11  2.36340802e+11\n",
      "  2.36340802e+11  2.36340802e+11  2.36340802e+11  2.36340802e+11\n",
      "  2.36340802e+11  2.36340802e+11  2.36340802e+11  2.36340802e+11\n",
      "  2.36340802e+11  2.36340802e+11  2.36340802e+11 -4.80798566e+11\n",
      " -4.80798566e+11 -4.80798566e+11 -4.80798566e+11 -4.80798566e+11\n",
      " -4.80798566e+11 -4.80798566e+11 -4.80798566e+11 -8.64661968e+12\n",
      " -8.64661968e+12 -8.64661968e+12 -8.64661968e+12 -8.64661968e+12]\n",
      "Intercept value: 27903206685467.67\n"
     ]
    }
   ],
   "source": [
    "# Get the coefficient values\n",
    "coef = model_pipeline.named_steps['regressor'].coef_\n",
    "\n",
    "# Get the intercept value\n",
    "intercept = model_pipeline.named_steps['regressor'].intercept_\n",
    "\n",
    "# Print the summary\n",
    "print(\"Coefficient values:\", coef)\n",
    "print(\"Intercept value:\", intercept)"
   ]
  },
  {
   "cell_type": "code",
   "execution_count": null,
   "id": "65781e09",
   "metadata": {},
   "outputs": [],
   "source": []
  },
  {
   "cell_type": "code",
   "execution_count": null,
   "id": "28212e0b",
   "metadata": {},
   "outputs": [],
   "source": []
  },
  {
   "cell_type": "code",
   "execution_count": null,
   "id": "20b60e0d",
   "metadata": {},
   "outputs": [],
   "source": []
  },
  {
   "cell_type": "code",
   "execution_count": null,
   "id": "93ee66a0",
   "metadata": {},
   "outputs": [],
   "source": []
  },
  {
   "cell_type": "code",
   "execution_count": null,
   "id": "5bcfa948",
   "metadata": {},
   "outputs": [],
   "source": []
  },
  {
   "cell_type": "code",
   "execution_count": null,
   "id": "b20bc7ae",
   "metadata": {},
   "outputs": [],
   "source": []
  },
  {
   "cell_type": "code",
   "execution_count": null,
   "id": "e8892ce5",
   "metadata": {},
   "outputs": [],
   "source": []
  },
  {
   "cell_type": "code",
   "execution_count": null,
   "id": "747197bf",
   "metadata": {},
   "outputs": [],
   "source": []
  },
  {
   "cell_type": "code",
   "execution_count": null,
   "id": "9d0e0205",
   "metadata": {},
   "outputs": [],
   "source": []
  },
  {
   "cell_type": "code",
   "execution_count": null,
   "id": "045053f8",
   "metadata": {},
   "outputs": [],
   "source": []
  },
  {
   "cell_type": "code",
   "execution_count": null,
   "id": "e16e812c",
   "metadata": {},
   "outputs": [],
   "source": []
  },
  {
   "cell_type": "code",
   "execution_count": null,
   "id": "27b1fb43",
   "metadata": {},
   "outputs": [],
   "source": []
  }
 ],
 "metadata": {
  "kernelspec": {
   "display_name": "Python 3 (ipykernel)",
   "language": "python",
   "name": "python3"
  },
  "language_info": {
   "codemirror_mode": {
    "name": "ipython",
    "version": 3
   },
   "file_extension": ".py",
   "mimetype": "text/x-python",
   "name": "python",
   "nbconvert_exporter": "python",
   "pygments_lexer": "ipython3",
   "version": "3.9.7"
  },
  "toc": {
   "base_numbering": 1,
   "nav_menu": {},
   "number_sections": true,
   "sideBar": true,
   "skip_h1_title": false,
   "title_cell": "Table of Contents",
   "title_sidebar": "Contents",
   "toc_cell": false,
   "toc_position": {},
   "toc_section_display": true,
   "toc_window_display": false
  }
 },
 "nbformat": 4,
 "nbformat_minor": 5
}
